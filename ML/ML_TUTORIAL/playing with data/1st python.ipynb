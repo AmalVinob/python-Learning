{
 "cells": [
  {
   "cell_type": "code",
   "execution_count": 5,
   "id": "16d9c68f",
   "metadata": {},
   "outputs": [
    {
     "name": "stdout",
     "output_type": "stream",
     "text": [
      "1. kerala\n",
      "2. karnataka\n",
      "3. goa\n",
      "4. TN\n"
     ]
    }
   ],
   "source": [
    "state_id = [1,2,3,4]\n",
    "state = ['kerala','karnataka', \"goa\", 'TN']\n",
    "\n",
    "for i,j in zip(state_id, state):\n",
    "    print(f'{i}. {j}')"
   ]
  },
  {
   "cell_type": "code",
   "execution_count": 6,
   "id": "ae56721f",
   "metadata": {},
   "outputs": [
    {
     "name": "stdout",
     "output_type": "stream",
     "text": [
      "1\n",
      "2\n",
      "5\n"
     ]
    }
   ],
   "source": [
    "g = (1,2,\"djfkh\",5,\"refkhd\",\"fjhsekrfh\")\n",
    "for i in g:\n",
    "    if type(i) == int:\n",
    "        print(i)\n",
    "    "
   ]
  },
  {
   "cell_type": "code",
   "execution_count": 8,
   "id": "ea055393",
   "metadata": {},
   "outputs": [
    {
     "name": "stdout",
     "output_type": "stream",
     "text": [
      "djfkh\n",
      "refkhd\n",
      "fjhsekrfh\n"
     ]
    }
   ],
   "source": [
    "g = (1,2,\"djfkh\",5,\"refkhd\",\"fjhsekrfh\")\n",
    "for i in g:\n",
    "        if type(i) == str:\n",
    "            print(i)"
   ]
  },
  {
   "cell_type": "code",
   "execution_count": 10,
   "id": "b4cf6a3f",
   "metadata": {},
   "outputs": [
    {
     "name": "stdout",
     "output_type": "stream",
     "text": [
      "[1, 3, 5]\n",
      "[2, 4, 6]\n"
     ]
    }
   ],
   "source": [
    "list_typ = [(1,2),(3,4),(5,6)]\n",
    "\n",
    "list1= []\n",
    "list2= []\n",
    "\n",
    "for i,j in list_typ:\n",
    "    list1.append(i)\n",
    "    list2.append(j)\n",
    "print(list1)\n",
    "print(list2)"
   ]
  },
  {
   "cell_type": "code",
   "execution_count": 12,
   "id": "d6f0fba1",
   "metadata": {},
   "outputs": [],
   "source": [
    "list_typ.append((1,2))"
   ]
  },
  {
   "cell_type": "code",
   "execution_count": 14,
   "id": "61768e46",
   "metadata": {},
   "outputs": [
    {
     "data": {
      "text/plain": [
       "[(1, 2), (3, 4), (5, 6), (1, 2)]"
      ]
     },
     "execution_count": 14,
     "metadata": {},
     "output_type": "execute_result"
    }
   ],
   "source": [
    "list_typ"
   ]
  },
  {
   "cell_type": "code",
   "execution_count": 15,
   "id": "5ef225b4",
   "metadata": {},
   "outputs": [
    {
     "ename": "ValueError",
     "evalue": "too many values to unpack (expected 2)",
     "output_type": "error",
     "traceback": [
      "\u001b[1;31m---------------------------------------------------------------------------\u001b[0m",
      "\u001b[1;31mValueError\u001b[0m                                Traceback (most recent call last)",
      "\u001b[1;32m~\\AppData\\Local\\Temp\\ipykernel_24220\\3457083859.py\u001b[0m in \u001b[0;36m<module>\u001b[1;34m\u001b[0m\n\u001b[1;32m----> 1\u001b[1;33m \u001b[1;32mfor\u001b[0m \u001b[0mi\u001b[0m\u001b[1;33m,\u001b[0m\u001b[0mj\u001b[0m \u001b[1;32min\u001b[0m \u001b[0mlist_typ\u001b[0m\u001b[1;33m:\u001b[0m\u001b[1;33m\u001b[0m\u001b[1;33m\u001b[0m\u001b[0m\n\u001b[0m\u001b[0;32m      2\u001b[0m     \u001b[0mlist_typ\u001b[0m\u001b[1;33m.\u001b[0m\u001b[0mappend\u001b[0m\u001b[1;33m(\u001b[0m\u001b[1;33m(\u001b[0m\u001b[1;36m1\u001b[0m\u001b[1;33m,\u001b[0m\u001b[1;36m2\u001b[0m\u001b[1;33m,\u001b[0m\u001b[1;36m3\u001b[0m\u001b[1;33m)\u001b[0m\u001b[1;33m)\u001b[0m\u001b[1;33m\u001b[0m\u001b[1;33m\u001b[0m\u001b[0m\n",
      "\u001b[1;31mValueError\u001b[0m: too many values to unpack (expected 2)"
     ]
    }
   ],
   "source": [
    "for i,j in list_typ:\n",
    "    list_typ.append((1,2,3))"
   ]
  },
  {
   "cell_type": "code",
   "execution_count": null,
   "id": "58c80998",
   "metadata": {},
   "outputs": [],
   "source": [
    "lis = list()\n",
    "delete last elemrnt from list"
   ]
  },
  {
   "cell_type": "markdown",
   "id": "dd90ff51",
   "metadata": {},
   "source": [
    "# enumarate"
   ]
  },
  {
   "cell_type": "code",
   "execution_count": 16,
   "id": "b61d7de2",
   "metadata": {},
   "outputs": [
    {
     "name": "stdout",
     "output_type": "stream",
     "text": [
      "1 apple\n",
      "2 orange\n",
      "3 banana\n"
     ]
    }
   ],
   "source": [
    "my_typ = ('apple', 'orange', 'banana')\n",
    "for i,j in enumerate(my_typ, start=1):\n",
    "    print(i,j)"
   ]
  },
  {
   "cell_type": "code",
   "execution_count": 17,
   "id": "23c37458",
   "metadata": {},
   "outputs": [
    {
     "name": "stdout",
     "output_type": "stream",
     "text": [
      "1 apple\n",
      "2 orange\n",
      "3 banana\n"
     ]
    }
   ],
   "source": [
    "my_typ = ['apple', 'orange', 'banana']\n",
    "for i,j in enumerate(my_typ, start=1):\n",
    "    print(i,j)"
   ]
  },
  {
   "cell_type": "markdown",
   "id": "8de83c3d",
   "metadata": {},
   "source": [
    "# dictonary"
   ]
  },
  {
   "cell_type": "code",
   "execution_count": 18,
   "id": "588c62f8",
   "metadata": {},
   "outputs": [
    {
     "data": {
      "text/plain": [
       "dict_keys(['apple', 'orange', 'babana'])"
      ]
     },
     "execution_count": 18,
     "metadata": {},
     "output_type": "execute_result"
    }
   ],
   "source": [
    "a = {\"apple\" : 2.50, \"orange\" : 1.99, \"babana\" : .59}\n",
    "a.keys()"
   ]
  },
  {
   "cell_type": "code",
   "execution_count": 19,
   "id": "7c41854e",
   "metadata": {},
   "outputs": [
    {
     "name": "stdout",
     "output_type": "stream",
     "text": [
      "apple\n",
      "orange\n",
      "babana\n"
     ]
    }
   ],
   "source": [
    "for i in a.keys():\n",
    "    print(i)"
   ]
  },
  {
   "cell_type": "code",
   "execution_count": 20,
   "id": "8ed9d33f",
   "metadata": {},
   "outputs": [
    {
     "data": {
      "text/plain": [
       "dict_values([2.5, 1.99, 0.59])"
      ]
     },
     "execution_count": 20,
     "metadata": {},
     "output_type": "execute_result"
    }
   ],
   "source": [
    "a.values()"
   ]
  },
  {
   "cell_type": "code",
   "execution_count": 21,
   "id": "c0ecf230",
   "metadata": {},
   "outputs": [],
   "source": [
    "# interchange keys and values of a dictonary\n",
    "# hw"
   ]
  },
  {
   "cell_type": "code",
   "execution_count": 23,
   "id": "afefd32e",
   "metadata": {},
   "outputs": [
    {
     "name": "stdout",
     "output_type": "stream",
     "text": [
      "keys :  apple\n",
      "values :  2.5\n",
      "keys :  orange\n",
      "values :  1.99\n",
      "keys :  babana\n",
      "values :  0.59\n"
     ]
    }
   ],
   "source": [
    "#  how to access both thekeys and values together from a dictonary\n",
    "\n",
    "for i,j in a.items():\n",
    "    print(\"keys : \", i)\n",
    "    print(f\"values :  {j}\")\n"
   ]
  },
  {
   "cell_type": "code",
   "execution_count": 26,
   "id": "3d5e3c22",
   "metadata": {},
   "outputs": [
    {
     "name": "stdout",
     "output_type": "stream",
     "text": [
      "average of values :1.6933333333333334\n"
     ]
    }
   ],
   "source": [
    "# find an average of values in a dictinory\n",
    "values=[]\n",
    "for i in a.values():\n",
    "    values.append(i)\n",
    "average = sum(values)/len(values)\n",
    "print(f'average of values :{average}')"
   ]
  },
  {
   "cell_type": "code",
   "execution_count": 28,
   "id": "e4015486",
   "metadata": {},
   "outputs": [
    {
     "name": "stdout",
     "output_type": "stream",
     "text": [
      "The Zen of Python, by Tim Peters\n",
      "\n",
      "Beautiful is better than ugly.\n",
      "Explicit is better than implicit.\n",
      "Simple is better than complex.\n",
      "Complex is better than complicated.\n",
      "Flat is better than nested.\n",
      "Sparse is better than dense.\n",
      "Readability counts.\n",
      "Special cases aren't special enough to break the rules.\n",
      "Although practicality beats purity.\n",
      "Errors should never pass silently.\n",
      "Unless explicitly silenced.\n",
      "In the face of ambiguity, refuse the temptation to guess.\n",
      "There should be one-- and preferably only one --obvious way to do it.\n",
      "Although that way may not be obvious at first unless you're Dutch.\n",
      "Now is better than never.\n",
      "Although never is often better than *right* now.\n",
      "If the implementation is hard to explain, it's a bad idea.\n",
      "If the implementation is easy to explain, it may be a good idea.\n",
      "Namespaces are one honking great idea -- let's do more of those!\n"
     ]
    }
   ],
   "source": [
    "import this"
   ]
  },
  {
   "cell_type": "code",
   "execution_count": null,
   "id": "d552d883",
   "metadata": {},
   "outputs": [],
   "source": [
    "how to update values in dict\n",
    "offere 25 % on all fruits\n",
    "\n",
    "print each word in the given sentence\n",
    "split the sentence in words"
   ]
  }
 ],
 "metadata": {
  "kernelspec": {
   "display_name": "Python 3 (ipykernel)",
   "language": "python",
   "name": "python3"
  },
  "language_info": {
   "codemirror_mode": {
    "name": "ipython",
    "version": 3
   },
   "file_extension": ".py",
   "mimetype": "text/x-python",
   "name": "python",
   "nbconvert_exporter": "python",
   "pygments_lexer": "ipython3",
   "version": "3.9.13"
  }
 },
 "nbformat": 4,
 "nbformat_minor": 5
}
