{
 "cells": [
  {
   "cell_type": "code",
   "execution_count": 3,
   "id": "b625753d",
   "metadata": {},
   "outputs": [],
   "source": [
    "# eulers toller  function theorm "
   ]
  },
  {
   "cell_type": "code",
   "execution_count": 5,
   "id": "3a232646",
   "metadata": {},
   "outputs": [],
   "source": [
    "\n",
    "a = [ 1,2,3,4,1]\n",
    "a.remove(1)"
   ]
  },
  {
   "cell_type": "code",
   "execution_count": 6,
   "id": "2668cd13",
   "metadata": {},
   "outputs": [
    {
     "data": {
      "text/plain": [
       "[2, 3, 4, 1]"
      ]
     },
     "execution_count": 6,
     "metadata": {},
     "output_type": "execute_result"
    }
   ],
   "source": [
    "a"
   ]
  },
  {
   "cell_type": "code",
   "execution_count": 7,
   "id": "0b366626",
   "metadata": {},
   "outputs": [
    {
     "data": {
      "text/plain": [
       "4"
      ]
     },
     "execution_count": 7,
     "metadata": {},
     "output_type": "execute_result"
    }
   ],
   "source": [
    "a.pop(2)"
   ]
  },
  {
   "cell_type": "code",
   "execution_count": 8,
   "id": "73a76d4f",
   "metadata": {},
   "outputs": [
    {
     "data": {
      "text/plain": [
       "[2, 3, 1]"
      ]
     },
     "execution_count": 8,
     "metadata": {},
     "output_type": "execute_result"
    }
   ],
   "source": [
    "a"
   ]
  },
  {
   "cell_type": "code",
   "execution_count": 10,
   "id": "7e4d8095",
   "metadata": {},
   "outputs": [],
   "source": [
    "def grade(n):\n",
    "    if(n>=90):\n",
    "        print(f\"you got A + grade\")\n",
    "    elif(n>=80):\n",
    "        print(f\"you got b + grade\")\n",
    "    elif(n>=70):\n",
    "        print(f\"you got c + grade\")\n",
    "    elif(n>=60):\n",
    "        print(f\"you got d + grade\")\n",
    "    else:\n",
    "        print(\"you failed\")\n"
   ]
  },
  {
   "cell_type": "code",
   "execution_count": 13,
   "id": "5887d9fb",
   "metadata": {},
   "outputs": [
    {
     "name": "stdout",
     "output_type": "stream",
     "text": [
      "you failed\n"
     ]
    }
   ],
   "source": [
    "grade(50)"
   ]
  },
  {
   "cell_type": "code",
   "execution_count": 14,
   "id": "4e849556",
   "metadata": {},
   "outputs": [],
   "source": [
    "a = {\"apple\" : 2.50, \"orange\" : 1.99, \"babana\" : .59}"
   ]
  },
  {
   "cell_type": "code",
   "execution_count": 15,
   "id": "7b3595db",
   "metadata": {},
   "outputs": [],
   "source": [
    "sent = 'today is a great day'"
   ]
  },
  {
   "cell_type": "code",
   "execution_count": 22,
   "id": "ba97f573",
   "metadata": {},
   "outputs": [
    {
     "data": {
      "text/plain": [
       "['today', 'is', 'a', 'great', 'day']"
      ]
     },
     "execution_count": 22,
     "metadata": {},
     "output_type": "execute_result"
    }
   ],
   "source": [
    "sent.split()\n"
   ]
  },
  {
   "cell_type": "code",
   "execution_count": 21,
   "id": "b35a5186",
   "metadata": {},
   "outputs": [
    {
     "data": {
      "text/plain": [
       "'TODAY IS A GREAT DAY'"
      ]
     },
     "execution_count": 21,
     "metadata": {},
     "output_type": "execute_result"
    }
   ],
   "source": [
    "sent.swapcase()"
   ]
  },
  {
   "cell_type": "code",
   "execution_count": 24,
   "id": "0954450b",
   "metadata": {},
   "outputs": [],
   "source": [
    "# # hw - 10 words create sentence\n",
    "# ///sr = ['a','babana','banana']\n"
   ]
  },
  {
   "cell_type": "code",
   "execution_count": 26,
   "id": "0ff4c39b",
   "metadata": {},
   "outputs": [
    {
     "name": "stdout",
     "output_type": "stream",
     "text": [
      "0\n",
      "1\n",
      "2\n",
      "3\n",
      "4\n",
      "5\n",
      "6\n",
      "7\n",
      "8\n",
      "9\n"
     ]
    }
   ],
   "source": [
    "# while loop\n",
    "# -------------------\n",
    "\n",
    "i = 0\n",
    "while(i<10):\n",
    "    print(i)\n",
    "    i+=1\n",
    "    \n",
    "    "
   ]
  },
  {
   "cell_type": "code",
   "execution_count": 1,
   "id": "ee6280a4",
   "metadata": {},
   "outputs": [
    {
     "name": "stdout",
     "output_type": "stream",
     "text": [
      "1\n",
      "3\n",
      "5\n",
      "7\n",
      "9\n",
      "11\n",
      "13\n",
      "15\n"
     ]
    }
   ],
   "source": [
    "i = 1\n",
    "while i < 16:\n",
    "    print(i)\n",
    "    i = i+2"
   ]
  },
  {
   "cell_type": "code",
   "execution_count": 4,
   "id": "49863bc2",
   "metadata": {},
   "outputs": [
    {
     "name": "stdout",
     "output_type": "stream",
     "text": [
      "0\n",
      "1\n",
      "2\n",
      "3\n",
      "4\n",
      "5\n"
     ]
    }
   ],
   "source": [
    "\n",
    "i = 0\n",
    "while i<10:\n",
    "    print(i)\n",
    "    if i == 5:\n",
    "        break\n",
    "    i+=1"
   ]
  },
  {
   "cell_type": "code",
   "execution_count": 5,
   "id": "8b364ebe",
   "metadata": {},
   "outputs": [],
   "source": [
    "def rect(l,b):\n",
    "    return(f\"area = {l * b}\")"
   ]
  },
  {
   "cell_type": "code",
   "execution_count": 6,
   "id": "422c59ad",
   "metadata": {},
   "outputs": [
    {
     "data": {
      "text/plain": [
       "'area = 30'"
      ]
     },
     "execution_count": 6,
     "metadata": {},
     "output_type": "execute_result"
    }
   ],
   "source": [
    "rect(5,6)"
   ]
  },
  {
   "cell_type": "code",
   "execution_count": 12,
   "id": "f80dff43",
   "metadata": {},
   "outputs": [
    {
     "name": "stdout",
     "output_type": "stream",
     "text": [
      "item found at : 2\n"
     ]
    }
   ],
   "source": [
    "# mlist = [1,2,3]\n",
    "# return which position\n",
    "\n",
    "mlist = [1,2,3,4,5,6]\n",
    "for i in mlist:\n",
    "    if i == 3:\n",
    "        print(\"item found at :\",mlist[i-2])\n"
   ]
  },
  {
   "cell_type": "code",
   "execution_count": 16,
   "id": "bcff5548",
   "metadata": {},
   "outputs": [],
   "source": [
    "def sod(n):\n",
    "    num = abs(n)\n",
    "    total = 0\n",
    "    while num>=1:\n",
    "        total = total + (num%10)\n",
    "        num = num // 10\n",
    "    return total"
   ]
  },
  {
   "cell_type": "code",
   "execution_count": 17,
   "id": "fd965909",
   "metadata": {},
   "outputs": [
    {
     "data": {
      "text/plain": [
       "9"
      ]
     },
     "execution_count": 17,
     "metadata": {},
     "output_type": "execute_result"
    }
   ],
   "source": [
    "sod(144)"
   ]
  },
  {
   "cell_type": "code",
   "execution_count": 20,
   "id": "c529797d",
   "metadata": {},
   "outputs": [
    {
     "name": "stdout",
     "output_type": "stream",
     "text": [
      "*\n",
      "**\n",
      "***\n",
      "****\n",
      "*****\n",
      "******\n",
      "*******\n",
      "********\n",
      "*********\n"
     ]
    }
   ],
   "source": [
    "for i in range(1,10):\n",
    "    print(\"*\" * i)"
   ]
  },
  {
   "cell_type": "code",
   "execution_count": 25,
   "id": "09ee7358",
   "metadata": {},
   "outputs": [
    {
     "name": "stdout",
     "output_type": "stream",
     "text": [
      "362880\n"
     ]
    }
   ],
   "source": [
    "fact = 1\n",
    "for i in range(1,10):\n",
    "    fact = fact * i\n",
    "print(fact)"
   ]
  },
  {
   "cell_type": "code",
   "execution_count": 26,
   "id": "3b0c9c38",
   "metadata": {},
   "outputs": [],
   "source": [
    "#  list comprehension\n"
   ]
  },
  {
   "cell_type": "code",
   "execution_count": 27,
   "id": "a0e34377",
   "metadata": {},
   "outputs": [],
   "source": [
    "x = [i for i in range(5)]"
   ]
  },
  {
   "cell_type": "code",
   "execution_count": 28,
   "id": "9f4af3e7",
   "metadata": {},
   "outputs": [
    {
     "data": {
      "text/plain": [
       "[0, 1, 2, 3, 4]"
      ]
     },
     "execution_count": 28,
     "metadata": {},
     "output_type": "execute_result"
    }
   ],
   "source": [
    "x"
   ]
  },
  {
   "cell_type": "code",
   "execution_count": 33,
   "id": "672d786d",
   "metadata": {},
   "outputs": [],
   "source": [
    "x =['1','2','3','4','5']\n",
    "y = [int(i) for i in x]"
   ]
  },
  {
   "cell_type": "code",
   "execution_count": 34,
   "id": "da6bcd4b",
   "metadata": {},
   "outputs": [
    {
     "data": {
      "text/plain": [
       "[1, 2, 3, 4, 5]"
      ]
     },
     "execution_count": 34,
     "metadata": {},
     "output_type": "execute_result"
    }
   ],
   "source": [
    "y"
   ]
  },
  {
   "cell_type": "code",
   "execution_count": 37,
   "id": "3951fb59",
   "metadata": {},
   "outputs": [
    {
     "data": {
      "text/plain": [
       "[1, 2, 3, 4, 5, 6, 7, 8, 9]"
      ]
     },
     "execution_count": 37,
     "metadata": {},
     "output_type": "execute_result"
    }
   ],
   "source": [
    "vec = [[1,2,3],[4,5,6],[7,8,9]]\n",
    "[num for elem in vec for num in elem]\n"
   ]
  },
  {
   "cell_type": "code",
   "execution_count": 38,
   "id": "cec04dcf",
   "metadata": {},
   "outputs": [
    {
     "name": "stdout",
     "output_type": "stream",
     "text": [
      "{0: '0', 1: '1', 2: '2', 3: '3', 4: '4'}\n"
     ]
    }
   ],
   "source": [
    "vec = [[1,2,3],[4,5,6],[7,8,9]]\n",
    "[num for elem in vec for num in elem]\n",
    "print({i: str(i) for i in range(5)})\n"
   ]
  },
  {
   "cell_type": "code",
   "execution_count": 39,
   "id": "e11b349d",
   "metadata": {},
   "outputs": [
    {
     "name": "stdout",
     "output_type": "stream",
     "text": [
      "{'dog': 1, 'cat': 2, 'hamster': 3}\n"
     ]
    }
   ],
   "source": [
    "m_d = {1:'dog', 2:'cat', 3:'hamster'}\n",
    "print({value:key for key, value in m_d.items()})"
   ]
  },
  {
   "cell_type": "code",
   "execution_count": 40,
   "id": "fef8654a",
   "metadata": {},
   "outputs": [
    {
     "data": {
      "text/plain": [
       "{1: 'dog', 2: 'cat', 3: 'hamster'}"
      ]
     },
     "execution_count": 40,
     "metadata": {},
     "output_type": "execute_result"
    }
   ],
   "source": [
    "m_d"
   ]
  },
  {
   "cell_type": "code",
   "execution_count": 41,
   "id": "db2499ca",
   "metadata": {},
   "outputs": [
    {
     "name": "stdout",
     "output_type": "stream",
     "text": [
      "1\n",
      "2\n",
      "3\n",
      "1\n",
      "2\n",
      "3\n",
      "1\n",
      "2\n",
      "3\n"
     ]
    }
   ],
   "source": [
    "for i in range(1,4):\n",
    "    for j in range(1,4):\n",
    "        print(j)"
   ]
  },
  {
   "cell_type": "code",
   "execution_count": 45,
   "id": "e87b749c",
   "metadata": {},
   "outputs": [
    {
     "name": "stdout",
     "output_type": "stream",
     "text": [
      "\n",
      "1\n",
      "12\n",
      "123\n",
      "1234\n"
     ]
    }
   ],
   "source": [
    "for i in range(1,6):\n",
    "    for j in range(1,i):\n",
    "        print(j,end = \"\")\n",
    "    print()"
   ]
  },
  {
   "cell_type": "code",
   "execution_count": 48,
   "id": "a8441949",
   "metadata": {},
   "outputs": [
    {
     "name": "stdout",
     "output_type": "stream",
     "text": [
      "1\n",
      "2\n",
      "3\n",
      "4\n",
      "1234"
     ]
    }
   ],
   "source": [
    "for i in range(1,5):\n",
    "    print(i)\n",
    "\n",
    "for i in range(1,5):\n",
    "    print(i, end=\"\")"
   ]
  },
  {
   "cell_type": "code",
   "execution_count": null,
   "id": "f30ce0cc",
   "metadata": {},
   "outputs": [],
   "source": []
  }
 ],
 "metadata": {
  "kernelspec": {
   "display_name": "Python 3 (ipykernel)",
   "language": "python",
   "name": "python3"
  },
  "language_info": {
   "codemirror_mode": {
    "name": "ipython",
    "version": 3
   },
   "file_extension": ".py",
   "mimetype": "text/x-python",
   "name": "python",
   "nbconvert_exporter": "python",
   "pygments_lexer": "ipython3",
   "version": "3.9.13"
  }
 },
 "nbformat": 4,
 "nbformat_minor": 5
}
