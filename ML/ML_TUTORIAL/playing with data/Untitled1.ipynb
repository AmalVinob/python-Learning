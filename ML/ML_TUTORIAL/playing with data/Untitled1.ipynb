{
 "cells": [
  {
   "cell_type": "code",
   "execution_count": 5,
   "id": "6b5ac2c2",
   "metadata": {},
   "outputs": [
    {
     "name": "stdout",
     "output_type": "stream",
     "text": [
      "6 is the gcd(24,6)\n"
     ]
    }
   ],
   "source": [
    "def gcd(a,b):\n",
    "    if a<b :\n",
    "        a,b = b,a\n",
    "    else:\n",
    "        rem = a%b\n",
    "        if rem == 0:\n",
    "            print(f\"{b} is the gcd({a},{b})\")\n",
    "        else:\n",
    "            gcd(a,rem)\n",
    "gcd(24,6)"
   ]
  },
  {
   "cell_type": "code",
   "execution_count": null,
   "id": "943d59f3",
   "metadata": {},
   "outputs": [],
   "source": [
    "find lcm of a,b\n",
    "ab = lcm * gcd"
   ]
  }
 ],
 "metadata": {
  "kernelspec": {
   "display_name": "Python 3 (ipykernel)",
   "language": "python",
   "name": "python3"
  },
  "language_info": {
   "codemirror_mode": {
    "name": "ipython",
    "version": 3
   },
   "file_extension": ".py",
   "mimetype": "text/x-python",
   "name": "python",
   "nbconvert_exporter": "python",
   "pygments_lexer": "ipython3",
   "version": "3.9.13"
  }
 },
 "nbformat": 4,
 "nbformat_minor": 5
}
