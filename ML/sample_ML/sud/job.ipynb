{
 "cells": [
  {
   "cell_type": "code",
   "execution_count": 44,
   "id": "0f954da7",
   "metadata": {},
   "outputs": [],
   "source": [
    "import numpy as np\n",
    "import seaborn as sns\n",
    "import matplotlib.pyplot as plt \n",
    "import pandas as pd \n",
    "\n",
    "%matplotlib inline"
   ]
  },
  {
   "cell_type": "code",
   "execution_count": 45,
   "id": "5a84ebbc",
   "metadata": {},
   "outputs": [
    {
     "data": {
      "text/html": [
       "<div>\n",
       "<style scoped>\n",
       "    .dataframe tbody tr th:only-of-type {\n",
       "        vertical-align: middle;\n",
       "    }\n",
       "\n",
       "    .dataframe tbody tr th {\n",
       "        vertical-align: top;\n",
       "    }\n",
       "\n",
       "    .dataframe thead th {\n",
       "        text-align: right;\n",
       "    }\n",
       "</style>\n",
       "<table border=\"1\" class=\"dataframe\">\n",
       "  <thead>\n",
       "    <tr style=\"text-align: right;\">\n",
       "      <th></th>\n",
       "      <th>Title</th>\n",
       "      <th>Company</th>\n",
       "      <th>Location</th>\n",
       "      <th>Salary</th>\n",
       "      <th>Job Type</th>\n",
       "      <th>Date Posted</th>\n",
       "      <th>Summary</th>\n",
       "    </tr>\n",
       "  </thead>\n",
       "  <tbody>\n",
       "    <tr>\n",
       "      <th>0</th>\n",
       "      <td>PO, Research &amp; Data Analyst</td>\n",
       "      <td>The Elevation Church</td>\n",
       "      <td>Nigeria</td>\n",
       "      <td>NaN</td>\n",
       "      <td>Full-time</td>\n",
       "      <td>PostedJust posted</td>\n",
       "      <td>Train volunteers on the use of M&amp;E frameworks ...</td>\n",
       "    </tr>\n",
       "    <tr>\n",
       "      <th>1</th>\n",
       "      <td>QA Tester - Intern</td>\n",
       "      <td>mDoc Healthcare</td>\n",
       "      <td>Lagos</td>\n",
       "      <td>NaN</td>\n",
       "      <td>NaN</td>\n",
       "      <td>EmployerActive 6 days ago</td>\n",
       "      <td>Advanced knowledge of data security and encryp...</td>\n",
       "    </tr>\n",
       "    <tr>\n",
       "      <th>2</th>\n",
       "      <td>Data Analyst - Healthcare</td>\n",
       "      <td>eMedicStore</td>\n",
       "      <td>Lagos</td>\n",
       "      <td>NaN</td>\n",
       "      <td>NaN</td>\n",
       "      <td>EmployerActive 5 days ago</td>\n",
       "      <td>Implement new data analysis methodologies and ...</td>\n",
       "    </tr>\n",
       "    <tr>\n",
       "      <th>3</th>\n",
       "      <td>HR Analyst</td>\n",
       "      <td>Jobrole Consulting Limited</td>\n",
       "      <td>Ikeja</td>\n",
       "      <td>₦150,000 - ₦200,000 a month</td>\n",
       "      <td>Full-time</td>\n",
       "      <td>PostedPosted 2 days ago</td>\n",
       "      <td>Analyze and interpret data to generate actiona...</td>\n",
       "    </tr>\n",
       "    <tr>\n",
       "      <th>4</th>\n",
       "      <td>Business Intelligence Analyst</td>\n",
       "      <td>TSL Metroline Limited</td>\n",
       "      <td>Lagos</td>\n",
       "      <td>NaN</td>\n",
       "      <td>NaN</td>\n",
       "      <td>PostedPosted 1 day ago</td>\n",
       "      <td>Analyse business information/ data to identify...</td>\n",
       "    </tr>\n",
       "  </tbody>\n",
       "</table>\n",
       "</div>"
      ],
      "text/plain": [
       "                           Title                     Company Location  \\\n",
       "0    PO, Research & Data Analyst        The Elevation Church  Nigeria   \n",
       "1             QA Tester - Intern             mDoc Healthcare    Lagos   \n",
       "2      Data Analyst - Healthcare                 eMedicStore    Lagos   \n",
       "3                     HR Analyst  Jobrole Consulting Limited    Ikeja   \n",
       "4  Business Intelligence Analyst       TSL Metroline Limited    Lagos   \n",
       "\n",
       "                        Salary   Job Type                Date Posted  \\\n",
       "0                          NaN  Full-time          PostedJust posted   \n",
       "1                          NaN        NaN  EmployerActive 6 days ago   \n",
       "2                          NaN        NaN  EmployerActive 5 days ago   \n",
       "3  ₦150,000 - ₦200,000 a month  Full-time    PostedPosted 2 days ago   \n",
       "4                          NaN        NaN     PostedPosted 1 day ago   \n",
       "\n",
       "                                             Summary  \n",
       "0  Train volunteers on the use of M&E frameworks ...  \n",
       "1  Advanced knowledge of data security and encryp...  \n",
       "2  Implement new data analysis methodologies and ...  \n",
       "3  Analyze and interpret data to generate actiona...  \n",
       "4  Analyse business information/ data to identify...  "
      ]
     },
     "execution_count": 45,
     "metadata": {},
     "output_type": "execute_result"
    }
   ],
   "source": [
    "df = pd.read_csv(\"./indeed_job_data.csv\")\n",
    "df.head()"
   ]
  },
  {
   "cell_type": "code",
   "execution_count": 46,
   "id": "b1b17ab6",
   "metadata": {},
   "outputs": [
    {
     "data": {
      "text/plain": [
       "(203, 7)"
      ]
     },
     "execution_count": 46,
     "metadata": {},
     "output_type": "execute_result"
    }
   ],
   "source": [
    "df.shape"
   ]
  },
  {
   "cell_type": "code",
   "execution_count": 47,
   "id": "f8c693b1",
   "metadata": {},
   "outputs": [
    {
     "name": "stdout",
     "output_type": "stream",
     "text": [
      "<class 'pandas.core.frame.DataFrame'>\n",
      "RangeIndex: 203 entries, 0 to 202\n",
      "Data columns (total 7 columns):\n",
      " #   Column       Non-Null Count  Dtype \n",
      "---  ------       --------------  ----- \n",
      " 0   Title        203 non-null    object\n",
      " 1   Company      200 non-null    object\n",
      " 2   Location     203 non-null    object\n",
      " 3   Salary       15 non-null     object\n",
      " 4   Job Type     101 non-null    object\n",
      " 5   Date Posted  203 non-null    object\n",
      " 6   Summary      203 non-null    object\n",
      "dtypes: object(7)\n",
      "memory usage: 11.2+ KB\n"
     ]
    }
   ],
   "source": [
    "df.info()"
   ]
  },
  {
   "cell_type": "markdown",
   "id": "666d8d03",
   "metadata": {},
   "source": [
    "null values are there "
   ]
  },
  {
   "cell_type": "code",
   "execution_count": 48,
   "id": "e6874d8c",
   "metadata": {},
   "outputs": [
    {
     "data": {
      "text/plain": [
       "Title            0\n",
       "Company          3\n",
       "Location         0\n",
       "Salary         188\n",
       "Job Type       102\n",
       "Date Posted      0\n",
       "Summary          0\n",
       "dtype: int64"
      ]
     },
     "execution_count": 48,
     "metadata": {},
     "output_type": "execute_result"
    }
   ],
   "source": [
    "df.isnull().sum()"
   ]
  },
  {
   "cell_type": "code",
   "execution_count": 49,
   "id": "41247faa",
   "metadata": {},
   "outputs": [],
   "source": [
    "df['Company'].fillna(\"unknown\", inplace= True)\n",
    "df['Job Type'].fillna(\"unknown\", inplace = True)"
   ]
  },
  {
   "cell_type": "code",
   "execution_count": 50,
   "id": "62bed5df",
   "metadata": {},
   "outputs": [
    {
     "data": {
      "text/plain": [
       "array([nan, '₦150,000 - ₦200,000 a month', '₦100,000 - ₦150,000 a month',\n",
       "       '₦200,000 a month', '₦70,000 - ₦150,000 a month',\n",
       "       '₦90,000 - ₦130,000 a month', '₦300,000 - ₦350,000 a month',\n",
       "       '₦450,000 - ₦600,000 a month', '₦200,000 - ₦250,000 a month',\n",
       "       '₦220,000 a month', '₦60,000 - ₦80,000 a month'], dtype=object)"
      ]
     },
     "execution_count": 50,
     "metadata": {},
     "output_type": "execute_result"
    }
   ],
   "source": [
    "df['Salary'].unique()"
   ]
  },
  {
   "cell_type": "code",
   "execution_count": 51,
   "id": "bcb18eaf",
   "metadata": {},
   "outputs": [
    {
     "data": {
      "text/plain": [
       "array([nan, '150000-200000', '100000-150000', '200000', '70000-150000',\n",
       "       '90000-130000', '300000-350000', '450000-600000', '200000-250000',\n",
       "       '220000', '60000-80000'], dtype=object)"
      ]
     },
     "execution_count": 51,
     "metadata": {},
     "output_type": "execute_result"
    }
   ],
   "source": [
    "df['Salary'] = df['Salary'].str.replace('[₦,a-zA-Z\\s]','',regex = True)\n",
    "df['Salary'].unique()"
   ]
  },
  {
   "cell_type": "code",
   "execution_count": 52,
   "id": "704a256c",
   "metadata": {},
   "outputs": [
    {
     "data": {
      "text/plain": [
       "5.5"
      ]
     },
     "execution_count": 52,
     "metadata": {},
     "output_type": "execute_result"
    }
   ],
   "source": [
    "a = '5-6'\n",
    "def type_covert(a):\n",
    "    if isinstance(a, str) and '-' in a:\n",
    "        lower, upper = map(int, a.split('-'))\n",
    "        return (lower+upper)/2\n",
    "    else :\n",
    "        return a\n",
    "a = type_covert(a)\n",
    "a"
   ]
  },
  {
   "cell_type": "code",
   "execution_count": 53,
   "id": "5ee8e41b",
   "metadata": {},
   "outputs": [],
   "source": [
    "def salary_convert(salary):\n",
    "    if isinstance(salary, str) and '-' in salary:\n",
    "        lower, upper = map(int, salary.split('-'))\n",
    "        return (upper + lower)/2\n",
    "    else:\n",
    "        return salary\n",
    "\n",
    "df['Salary'] = df['Salary'].apply(salary_convert)"
   ]
  },
  {
   "cell_type": "code",
   "execution_count": 54,
   "id": "d8c9d8e8",
   "metadata": {},
   "outputs": [
    {
     "data": {
      "text/plain": [
       "array([175000., 125000., 200000., 110000., 325000., 525000., 225000.,\n",
       "       220000.,  70000.])"
      ]
     },
     "execution_count": 54,
     "metadata": {},
     "output_type": "execute_result"
    }
   ],
   "source": [
    "df['Salary'] = df['Salary'].astype(float)\n",
    "df['Salary'].fillna(df['Salary'].median(), inplace=True)\n",
    "df['Salary'].unique()"
   ]
  },
  {
   "cell_type": "code",
   "execution_count": 55,
   "id": "d262bed8",
   "metadata": {},
   "outputs": [
    {
     "data": {
      "text/plain": [
       "Title          0\n",
       "Company        0\n",
       "Location       0\n",
       "Salary         0\n",
       "Job Type       0\n",
       "Date Posted    0\n",
       "Summary        0\n",
       "dtype: int64"
      ]
     },
     "execution_count": 55,
     "metadata": {},
     "output_type": "execute_result"
    }
   ],
   "source": [
    "df.isnull().sum()"
   ]
  },
  {
   "cell_type": "code",
   "execution_count": 56,
   "id": "ff56ab6a",
   "metadata": {},
   "outputs": [
    {
     "data": {
      "text/plain": [
       "array(['Full-time', 'unknown', 'Temporary', 'Full-time +1', 'Contract',\n",
       "       'Permanent'], dtype=object)"
      ]
     },
     "execution_count": 56,
     "metadata": {},
     "output_type": "execute_result"
    }
   ],
   "source": [
    "df['Job Type'].unique()"
   ]
  },
  {
   "cell_type": "code",
   "execution_count": 57,
   "id": "c6ed9f71",
   "metadata": {},
   "outputs": [
    {
     "data": {
      "text/plain": [
       "array(['Fulltime', 'unknown', 'Temporary', 'Contract', 'Permanent'],\n",
       "      dtype=object)"
      ]
     },
     "execution_count": 57,
     "metadata": {},
     "output_type": "execute_result"
    }
   ],
   "source": [
    "df['Job Type'] = df['Job Type'].replace({'Full-time' : 'Fulltime', 'Full-time +1' : 'Fulltime'})\n",
    "df['Job Type'].unique()"
   ]
  },
  {
   "cell_type": "markdown",
   "id": "0c28d480",
   "metadata": {},
   "source": [
    "# parse date"
   ]
  },
  {
   "cell_type": "code",
   "execution_count": 58,
   "id": "a81cdba6",
   "metadata": {},
   "outputs": [
    {
     "data": {
      "text/plain": [
       "array(['PostedJust posted', 'EmployerActive 6 days ago',\n",
       "       'EmployerActive 5 days ago', 'PostedPosted 2 days ago',\n",
       "       'PostedPosted 1 day ago', 'PostedPosted 6 days ago',\n",
       "       'PostedPosted 30+ days ago', 'PostedPosted 26 days ago',\n",
       "       'PostedPosted 12 days ago', 'EmployerActive 24 days ago',\n",
       "       'EmployerActive 7 days ago', 'PostedPosted 7 days ago',\n",
       "       'EmployerActive 19 days ago', 'PostedPosted 18 days ago',\n",
       "       'PostedPosted 25 days ago', 'PostedPosted 13 days ago',\n",
       "       'PostedPosted 19 days ago', 'PostedPosted 20 days ago',\n",
       "       'PostedPosted 8 days ago', 'PostedPosted 14 days ago',\n",
       "       'PostedPosted 11 days ago', 'PostedPosted 4 days ago',\n",
       "       'PostedToday', 'PostedPosted 29 days ago',\n",
       "       'EmployerActive 20 days ago', 'PostedPosted 28 days ago',\n",
       "       'PostedPosted 10 days ago', 'PostedPosted 21 days ago',\n",
       "       'PostedPosted 27 days ago', 'EmployerActive 15 days ago',\n",
       "       'PostedPosted 15 days ago', 'PostedPosted 3 days ago',\n",
       "       'EmployerActive 8 days ago', 'PostedPosted 9 days ago',\n",
       "       'EmployerActive 12 days ago', 'PostedPosted 16 days ago',\n",
       "       'PostedPosted 22 days ago', 'EmployerActive 4 days ago',\n",
       "       'EmployerActive 9 days ago'], dtype=object)"
      ]
     },
     "execution_count": 58,
     "metadata": {},
     "output_type": "execute_result"
    }
   ],
   "source": [
    "df['Date Posted'].unique()"
   ]
  },
  {
   "cell_type": "code",
   "execution_count": 59,
   "id": "853069e1",
   "metadata": {},
   "outputs": [
    {
     "data": {
      "text/plain": [
       "array(['Just posted', ' 6 days ago', ' 5 days ago', ' 2 days ago',\n",
       "       ' 1 day ago', ' 30+ days ago', ' 26 days ago', ' 12 days ago',\n",
       "       ' 24 days ago', ' 7 days ago', ' 19 days ago', ' 18 days ago',\n",
       "       ' 25 days ago', ' 13 days ago', ' 20 days ago', ' 8 days ago',\n",
       "       ' 14 days ago', ' 11 days ago', ' 4 days ago', 'Today',\n",
       "       ' 29 days ago', ' 28 days ago', ' 10 days ago', ' 21 days ago',\n",
       "       ' 27 days ago', ' 15 days ago', ' 3 days ago', ' 9 days ago',\n",
       "       ' 16 days ago', ' 22 days ago'], dtype=object)"
      ]
     },
     "execution_count": 59,
     "metadata": {},
     "output_type": "execute_result"
    }
   ],
   "source": [
    "df['Date Posted'] = df['Date Posted'].str.replace(\"Posted\",\"\")\n",
    "df['Date Posted'] =df['Date Posted'].str.replace(\"EmployerActive\",\"\")\n",
    "df['Date Posted'].unique()"
   ]
  },
  {
   "cell_type": "code",
   "execution_count": 60,
   "id": "2f3f8ee0",
   "metadata": {},
   "outputs": [],
   "source": [
    "df['Date Posted'] = df['Date Posted'].str.replace('Today', '0 days ago')  # Replace \"Today\" with \"0 days ago\"\n",
    "df['Date Posted'] = df['Date Posted'].str.replace('PostedJust ', '0 days ago')  # Replace \"PostedJust \" with \"0 days ago\"\n",
    "df['Date Posted'] = df['Date Posted'].str.replace('postedPosted', '')  # Remove \"postedposted\"\n",
    "df['Date Posted'] = df['Date Posted'].str.replace('Just posted', '0 days ago')"
   ]
  },
  {
   "cell_type": "code",
   "execution_count": 61,
   "id": "1f6b6745",
   "metadata": {},
   "outputs": [],
   "source": [
    "df['Date Posted'] = df['Date Posted'].str.replace('PostedPosted', '')\n",
    "df['Date Posted'] = df['Date Posted'].str.replace(\"Posted\",\"\")"
   ]
  },
  {
   "cell_type": "code",
   "execution_count": 62,
   "id": "a39e9387",
   "metadata": {},
   "outputs": [
    {
     "data": {
      "text/plain": [
       "array(['0 days ago', ' 6 days ago', ' 5 days ago', ' 2 days ago',\n",
       "       ' 1 day ago', ' 30+ days ago', ' 26 days ago', ' 12 days ago',\n",
       "       ' 24 days ago', ' 7 days ago', ' 19 days ago', ' 18 days ago',\n",
       "       ' 25 days ago', ' 13 days ago', ' 20 days ago', ' 8 days ago',\n",
       "       ' 14 days ago', ' 11 days ago', ' 4 days ago', ' 29 days ago',\n",
       "       ' 28 days ago', ' 10 days ago', ' 21 days ago', ' 27 days ago',\n",
       "       ' 15 days ago', ' 3 days ago', ' 9 days ago', ' 16 days ago',\n",
       "       ' 22 days ago'], dtype=object)"
      ]
     },
     "execution_count": 62,
     "metadata": {},
     "output_type": "execute_result"
    }
   ],
   "source": [
    "df['Date Posted'].unique()"
   ]
  },
  {
   "cell_type": "code",
   "execution_count": 63,
   "id": "6607bf34",
   "metadata": {},
   "outputs": [
    {
     "name": "stdout",
     "output_type": "stream",
     "text": [
      "Current Timestamp: 2024-05-25 11:37:45.654574\n",
      "Normalized Timestamp: 2024-05-25 00:00:00\n"
     ]
    }
   ],
   "source": [
    "import pandas as pd\n",
    "\n",
    "# Get the current date and time\n",
    "current_timestamp = pd.Timestamp.now()\n",
    "print(\"Current Timestamp:\", current_timestamp)\n",
    "\n",
    "# Normalize the timestamp to midnight of the same date\n",
    "normalized_timestamp = current_timestamp.normalize()\n",
    "print(\"Normalized Timestamp:\", normalized_timestamp)\n"
   ]
  },
  {
   "cell_type": "code",
   "execution_count": 64,
   "id": "92f6ecd8",
   "metadata": {},
   "outputs": [],
   "source": [
    "def date_parse(date):\n",
    "    if '+' in date:\n",
    "        return pd.Timestamp.now().normalize() - pd.Timedelta(days = 30)\n",
    "    else:\n",
    "        return pd.Timestamp.now().normalize() - pd.Timedelta(days = int(date.split()[0]))"
   ]
  },
  {
   "cell_type": "code",
   "execution_count": 65,
   "id": "a8d3308e",
   "metadata": {},
   "outputs": [],
   "source": [
    "df['Date Posted'] = df['Date Posted'].apply(date_parse)"
   ]
  },
  {
   "cell_type": "code",
   "execution_count": 66,
   "id": "97e3fb9d",
   "metadata": {},
   "outputs": [
    {
     "data": {
      "text/plain": [
       "array(['2024-05-25T00:00:00.000000000', '2024-05-19T00:00:00.000000000',\n",
       "       '2024-05-20T00:00:00.000000000', '2024-05-23T00:00:00.000000000',\n",
       "       '2024-05-24T00:00:00.000000000', '2024-04-25T00:00:00.000000000',\n",
       "       '2024-04-29T00:00:00.000000000', '2024-05-13T00:00:00.000000000',\n",
       "       '2024-05-01T00:00:00.000000000', '2024-05-18T00:00:00.000000000',\n",
       "       '2024-05-06T00:00:00.000000000', '2024-05-07T00:00:00.000000000',\n",
       "       '2024-04-30T00:00:00.000000000', '2024-05-12T00:00:00.000000000',\n",
       "       '2024-05-05T00:00:00.000000000', '2024-05-17T00:00:00.000000000',\n",
       "       '2024-05-11T00:00:00.000000000', '2024-05-14T00:00:00.000000000',\n",
       "       '2024-05-21T00:00:00.000000000', '2024-04-26T00:00:00.000000000',\n",
       "       '2024-04-27T00:00:00.000000000', '2024-05-15T00:00:00.000000000',\n",
       "       '2024-05-04T00:00:00.000000000', '2024-04-28T00:00:00.000000000',\n",
       "       '2024-05-10T00:00:00.000000000', '2024-05-22T00:00:00.000000000',\n",
       "       '2024-05-16T00:00:00.000000000', '2024-05-09T00:00:00.000000000',\n",
       "       '2024-05-03T00:00:00.000000000'], dtype='datetime64[ns]')"
      ]
     },
     "execution_count": 66,
     "metadata": {},
     "output_type": "execute_result"
    }
   ],
   "source": [
    "df['Date Posted'].unique()"
   ]
  },
  {
   "cell_type": "code",
   "execution_count": 67,
   "id": "f42df363",
   "metadata": {},
   "outputs": [
    {
     "name": "stdout",
     "output_type": "stream",
     "text": [
      "<class 'pandas.core.frame.DataFrame'>\n",
      "RangeIndex: 203 entries, 0 to 202\n",
      "Data columns (total 7 columns):\n",
      " #   Column       Non-Null Count  Dtype         \n",
      "---  ------       --------------  -----         \n",
      " 0   Title        203 non-null    object        \n",
      " 1   Company      203 non-null    object        \n",
      " 2   Location     203 non-null    object        \n",
      " 3   Salary       203 non-null    float64       \n",
      " 4   Job Type     203 non-null    object        \n",
      " 5   Date Posted  203 non-null    datetime64[ns]\n",
      " 6   Summary      203 non-null    object        \n",
      "dtypes: datetime64[ns](1), float64(1), object(5)\n",
      "memory usage: 11.2+ KB\n"
     ]
    }
   ],
   "source": [
    "df.info()"
   ]
  },
  {
   "cell_type": "code",
   "execution_count": 68,
   "id": "e2bb4beb",
   "metadata": {},
   "outputs": [
    {
     "data": {
      "text/plain": [
       "['Minimum of 3 years working experience as a data analyst or business data analyst.\\nAcquire data from primary or secondary data sources and maintain databases…']"
      ]
     },
     "execution_count": 68,
     "metadata": {},
     "output_type": "execute_result"
    }
   ],
   "source": [
    "a = df['Summary'].sample().tolist()\n",
    "a"
   ]
  },
  {
   "cell_type": "code",
   "execution_count": 69,
   "id": "fc41bc09",
   "metadata": {},
   "outputs": [],
   "source": [
    "import re\n",
    "\n",
    "def clean_summary(data):\n",
    "    if not isinstance(data, str):\n",
    "        data = str(data)\n",
    "    clean_data = re.sub(\"[^a-zA-Z\\s,.!?]\", \"\", data)\n",
    "    clean_data = \" \".join(clean_data.split())\n",
    "    return clean_data\n",
    "    \n",
    "df['Summary'] = df['Summary'].apply(clean_summary)"
   ]
  },
  {
   "cell_type": "code",
   "execution_count": 70,
   "id": "ecd56dbd",
   "metadata": {},
   "outputs": [
    {
     "data": {
      "text/plain": [
       "['Business Analysis Instructor Nigeria Remote. The Business Analysis School was founded by Eno Eka, an accountant who successfully transitioned into Business']"
      ]
     },
     "execution_count": 70,
     "metadata": {},
     "output_type": "execute_result"
    }
   ],
   "source": [
    "a = df['Summary'].sample().tolist()\n",
    "a"
   ]
  },
  {
   "cell_type": "markdown",
   "id": "405af9dc",
   "metadata": {},
   "source": [
    "# EDA"
   ]
  },
  {
   "cell_type": "markdown",
   "id": "a0a9b504",
   "metadata": {},
   "source": [
    "# Visualisation"
   ]
  },
  {
   "cell_type": "code",
   "execution_count": 71,
   "id": "e6f7adb5",
   "metadata": {},
   "outputs": [
    {
     "data": {
      "text/html": [
       "<div>\n",
       "<style scoped>\n",
       "    .dataframe tbody tr th:only-of-type {\n",
       "        vertical-align: middle;\n",
       "    }\n",
       "\n",
       "    .dataframe tbody tr th {\n",
       "        vertical-align: top;\n",
       "    }\n",
       "\n",
       "    .dataframe thead th {\n",
       "        text-align: right;\n",
       "    }\n",
       "</style>\n",
       "<table border=\"1\" class=\"dataframe\">\n",
       "  <thead>\n",
       "    <tr style=\"text-align: right;\">\n",
       "      <th></th>\n",
       "      <th>Title</th>\n",
       "      <th>Company</th>\n",
       "      <th>Location</th>\n",
       "      <th>Salary</th>\n",
       "      <th>Job Type</th>\n",
       "      <th>Date Posted</th>\n",
       "      <th>Summary</th>\n",
       "    </tr>\n",
       "  </thead>\n",
       "  <tbody>\n",
       "    <tr>\n",
       "      <th>0</th>\n",
       "      <td>PO, Research &amp; Data Analyst</td>\n",
       "      <td>The Elevation Church</td>\n",
       "      <td>Nigeria</td>\n",
       "      <td>175000.0</td>\n",
       "      <td>Fulltime</td>\n",
       "      <td>2024-05-25</td>\n",
       "      <td>Train volunteers on the use of ME frameworks a...</td>\n",
       "    </tr>\n",
       "    <tr>\n",
       "      <th>1</th>\n",
       "      <td>QA Tester - Intern</td>\n",
       "      <td>mDoc Healthcare</td>\n",
       "      <td>Lagos</td>\n",
       "      <td>175000.0</td>\n",
       "      <td>unknown</td>\n",
       "      <td>2024-05-19</td>\n",
       "      <td>Advanced knowledge of data security and encryp...</td>\n",
       "    </tr>\n",
       "    <tr>\n",
       "      <th>2</th>\n",
       "      <td>Data Analyst - Healthcare</td>\n",
       "      <td>eMedicStore</td>\n",
       "      <td>Lagos</td>\n",
       "      <td>175000.0</td>\n",
       "      <td>unknown</td>\n",
       "      <td>2024-05-20</td>\n",
       "      <td>Implement new data analysis methodologies and ...</td>\n",
       "    </tr>\n",
       "    <tr>\n",
       "      <th>3</th>\n",
       "      <td>HR Analyst</td>\n",
       "      <td>Jobrole Consulting Limited</td>\n",
       "      <td>Ikeja</td>\n",
       "      <td>175000.0</td>\n",
       "      <td>Fulltime</td>\n",
       "      <td>2024-05-23</td>\n",
       "      <td>Analyze and interpret data to generate actiona...</td>\n",
       "    </tr>\n",
       "    <tr>\n",
       "      <th>4</th>\n",
       "      <td>Business Intelligence Analyst</td>\n",
       "      <td>TSL Metroline Limited</td>\n",
       "      <td>Lagos</td>\n",
       "      <td>175000.0</td>\n",
       "      <td>unknown</td>\n",
       "      <td>2024-05-24</td>\n",
       "      <td>Analyse business information data to identify ...</td>\n",
       "    </tr>\n",
       "  </tbody>\n",
       "</table>\n",
       "</div>"
      ],
      "text/plain": [
       "                           Title                     Company Location  \\\n",
       "0    PO, Research & Data Analyst        The Elevation Church  Nigeria   \n",
       "1             QA Tester - Intern             mDoc Healthcare    Lagos   \n",
       "2      Data Analyst - Healthcare                 eMedicStore    Lagos   \n",
       "3                     HR Analyst  Jobrole Consulting Limited    Ikeja   \n",
       "4  Business Intelligence Analyst       TSL Metroline Limited    Lagos   \n",
       "\n",
       "     Salary  Job Type Date Posted  \\\n",
       "0  175000.0  Fulltime  2024-05-25   \n",
       "1  175000.0   unknown  2024-05-19   \n",
       "2  175000.0   unknown  2024-05-20   \n",
       "3  175000.0  Fulltime  2024-05-23   \n",
       "4  175000.0   unknown  2024-05-24   \n",
       "\n",
       "                                             Summary  \n",
       "0  Train volunteers on the use of ME frameworks a...  \n",
       "1  Advanced knowledge of data security and encryp...  \n",
       "2  Implement new data analysis methodologies and ...  \n",
       "3  Analyze and interpret data to generate actiona...  \n",
       "4  Analyse business information data to identify ...  "
      ]
     },
     "execution_count": 71,
     "metadata": {},
     "output_type": "execute_result"
    }
   ],
   "source": [
    "df.head()"
   ]
  },
  {
   "cell_type": "code",
   "execution_count": 73,
   "id": "328f23a8",
   "metadata": {},
   "outputs": [
    {
     "data": {
      "text/plain": [
       "array(['Nigeria', 'Lagos', 'Ikeja', 'Shagamu', 'Abuja', 'Sokoto',\n",
       "       'Zamfara', 'Abeokuta', 'Cross River', 'Yaba', 'Gombe', 'Plateau',\n",
       "       'Ibadan', 'Kebbi', 'Oyo', 'Ogun', 'Benin City', 'Osogbo'],\n",
       "      dtype=object)"
      ]
     },
     "execution_count": 73,
     "metadata": {},
     "output_type": "execute_result"
    }
   ],
   "source": [
    "df['Location'].unique()"
   ]
  },
  {
   "cell_type": "code",
   "execution_count": null,
   "id": "fde21c01",
   "metadata": {},
   "outputs": [],
   "source": []
  }
 ],
 "metadata": {
  "kernelspec": {
   "display_name": "Python 3 (ipykernel)",
   "language": "python",
   "name": "python3"
  },
  "language_info": {
   "codemirror_mode": {
    "name": "ipython",
    "version": 3
   },
   "file_extension": ".py",
   "mimetype": "text/x-python",
   "name": "python",
   "nbconvert_exporter": "python",
   "pygments_lexer": "ipython3",
   "version": "3.9.13"
  }
 },
 "nbformat": 4,
 "nbformat_minor": 5
}
