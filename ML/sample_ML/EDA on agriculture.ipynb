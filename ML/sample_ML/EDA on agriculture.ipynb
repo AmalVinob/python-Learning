{
 "cells": [
  {
   "cell_type": "code",
   "execution_count": 46,
   "id": "90d9c368",
   "metadata": {},
   "outputs": [],
   "source": [
    "# steps for EDA\n",
    "# -----------------\n",
    "\n",
    "\n",
    "# 1. Understanding the data\n",
    "# 2. looking at the data\n",
    "# 3. visualising the data\n",
    "# 4. dealing with outliers\n",
    "# 5. dealing with missing values\n",
    "# 6. doing the data standarisation"
   ]
  },
  {
   "cell_type": "code",
   "execution_count": 7,
   "id": "cda0df21",
   "metadata": {},
   "outputs": [],
   "source": [
    "import pandas as pd\n",
    "import numpy as np\n",
    "import matplotlib.pyplot as plt\n",
    "import seaborn as sns"
   ]
  },
  {
   "cell_type": "code",
   "execution_count": 8,
   "id": "748fc854",
   "metadata": {},
   "outputs": [
    {
     "data": {
      "text/html": [
       "<div>\n",
       "<style scoped>\n",
       "    .dataframe tbody tr th:only-of-type {\n",
       "        vertical-align: middle;\n",
       "    }\n",
       "\n",
       "    .dataframe tbody tr th {\n",
       "        vertical-align: top;\n",
       "    }\n",
       "\n",
       "    .dataframe thead th {\n",
       "        text-align: right;\n",
       "    }\n",
       "</style>\n",
       "<table border=\"1\" class=\"dataframe\">\n",
       "  <thead>\n",
       "    <tr style=\"text-align: right;\">\n",
       "      <th></th>\n",
       "      <th>Year</th>\n",
       "      <th>Groundnut</th>\n",
       "      <th>Rapeseed &amp; Mustard</th>\n",
       "      <th>Soyabean</th>\n",
       "      <th>Total Oilseeds</th>\n",
       "      <th>Coffee</th>\n",
       "      <th>Cotton (Lint)</th>\n",
       "      <th>Raw Jute &amp; Mesta</th>\n",
       "      <th>Sugarcane</th>\n",
       "      <th>Tea</th>\n",
       "      <th>Tobacco</th>\n",
       "    </tr>\n",
       "  </thead>\n",
       "  <tbody>\n",
       "    <tr>\n",
       "      <th>0</th>\n",
       "      <td>1950-1951</td>\n",
       "      <td>35.0</td>\n",
       "      <td>8.0</td>\n",
       "      <td>NaN</td>\n",
       "      <td>52.0</td>\n",
       "      <td>NaN</td>\n",
       "      <td>30.0</td>\n",
       "      <td>33.0</td>\n",
       "      <td>571.0</td>\n",
       "      <td>NaN</td>\n",
       "      <td>3</td>\n",
       "    </tr>\n",
       "    <tr>\n",
       "      <th>1</th>\n",
       "      <td>1951-1952</td>\n",
       "      <td>32.0</td>\n",
       "      <td>9.0</td>\n",
       "      <td>NaN</td>\n",
       "      <td>50.0</td>\n",
       "      <td>NaN</td>\n",
       "      <td>33.0</td>\n",
       "      <td>47.0</td>\n",
       "      <td>616.0</td>\n",
       "      <td>NaN</td>\n",
       "      <td>2</td>\n",
       "    </tr>\n",
       "    <tr>\n",
       "      <th>2</th>\n",
       "      <td>1952-1953</td>\n",
       "      <td>29.0</td>\n",
       "      <td>9.0</td>\n",
       "      <td>NaN</td>\n",
       "      <td>47.0</td>\n",
       "      <td>NaN</td>\n",
       "      <td>33.0</td>\n",
       "      <td>53.0</td>\n",
       "      <td>510.0</td>\n",
       "      <td>NaN</td>\n",
       "      <td>3</td>\n",
       "    </tr>\n",
       "    <tr>\n",
       "      <th>3</th>\n",
       "      <td>1953-1954</td>\n",
       "      <td>35.0</td>\n",
       "      <td>9.0</td>\n",
       "      <td>NaN</td>\n",
       "      <td>54.0</td>\n",
       "      <td>NaN</td>\n",
       "      <td>41.0</td>\n",
       "      <td>38.0</td>\n",
       "      <td>444.0</td>\n",
       "      <td>NaN</td>\n",
       "      <td>3</td>\n",
       "    </tr>\n",
       "    <tr>\n",
       "      <th>4</th>\n",
       "      <td>1954-1955</td>\n",
       "      <td>43.0</td>\n",
       "      <td>10.0</td>\n",
       "      <td>NaN</td>\n",
       "      <td>64.0</td>\n",
       "      <td>NaN</td>\n",
       "      <td>45.0</td>\n",
       "      <td>39.0</td>\n",
       "      <td>587.0</td>\n",
       "      <td>NaN</td>\n",
       "      <td>3</td>\n",
       "    </tr>\n",
       "    <tr>\n",
       "      <th>...</th>\n",
       "      <td>...</td>\n",
       "      <td>...</td>\n",
       "      <td>...</td>\n",
       "      <td>...</td>\n",
       "      <td>...</td>\n",
       "      <td>...</td>\n",
       "      <td>...</td>\n",
       "      <td>...</td>\n",
       "      <td>...</td>\n",
       "      <td>...</td>\n",
       "      <td>...</td>\n",
       "    </tr>\n",
       "    <tr>\n",
       "      <th>69</th>\n",
       "      <td>2019-2020</td>\n",
       "      <td>99.5</td>\n",
       "      <td>91.2</td>\n",
       "      <td>112.3</td>\n",
       "      <td>332.2</td>\n",
       "      <td>2980</td>\n",
       "      <td>360.7</td>\n",
       "      <td>98.8</td>\n",
       "      <td>3705.0</td>\n",
       "      <td>13608.1</td>\n",
       "      <td>8</td>\n",
       "    </tr>\n",
       "    <tr>\n",
       "      <th>70</th>\n",
       "      <td>2020-2021</td>\n",
       "      <td>102.4</td>\n",
       "      <td>102.1</td>\n",
       "      <td>126.1</td>\n",
       "      <td>359.5</td>\n",
       "      <td>3340</td>\n",
       "      <td>352.5</td>\n",
       "      <td>93.5</td>\n",
       "      <td>4054.0</td>\n",
       "      <td>12803.3</td>\n",
       "      <td>7.6</td>\n",
       "    </tr>\n",
       "    <tr>\n",
       "      <th>71</th>\n",
       "      <td>2021-2022</td>\n",
       "      <td>101.4</td>\n",
       "      <td>119.6</td>\n",
       "      <td>129.9</td>\n",
       "      <td>379.6</td>\n",
       "      <td>3420.02</td>\n",
       "      <td>311.2</td>\n",
       "      <td>101.5</td>\n",
       "      <td>4394.3</td>\n",
       "      <td>13444.02</td>\n",
       "      <td>-</td>\n",
       "    </tr>\n",
       "    <tr>\n",
       "      <th>72</th>\n",
       "      <td>2022-2023 (Target)</td>\n",
       "      <td>104.1</td>\n",
       "      <td>121.0</td>\n",
       "      <td>147.7</td>\n",
       "      <td>413.5</td>\n",
       "      <td>-</td>\n",
       "      <td>370.0</td>\n",
       "      <td>105.0</td>\n",
       "      <td>4150.0</td>\n",
       "      <td>-</td>\n",
       "      <td>-</td>\n",
       "    </tr>\n",
       "    <tr>\n",
       "      <th>73</th>\n",
       "      <td>2022-20231</td>\n",
       "      <td>102.8</td>\n",
       "      <td>124.9</td>\n",
       "      <td>149.8</td>\n",
       "      <td>410.0</td>\n",
       "      <td>-</td>\n",
       "      <td>343.5</td>\n",
       "      <td>94.9</td>\n",
       "      <td>4942.3</td>\n",
       "      <td>-</td>\n",
       "      <td>-</td>\n",
       "    </tr>\n",
       "  </tbody>\n",
       "</table>\n",
       "<p>74 rows × 11 columns</p>\n",
       "</div>"
      ],
      "text/plain": [
       "                  Year  Groundnut  Rapeseed & Mustard  Soyabean  \\\n",
       "0         1950-1951          35.0                 8.0       NaN   \n",
       "1         1951-1952          32.0                 9.0       NaN   \n",
       "2         1952-1953          29.0                 9.0       NaN   \n",
       "3         1953-1954          35.0                 9.0       NaN   \n",
       "4         1954-1955          43.0                10.0       NaN   \n",
       "..                 ...        ...                 ...       ...   \n",
       "69           2019-2020       99.5                91.2     112.3   \n",
       "70           2020-2021      102.4               102.1     126.1   \n",
       "71           2021-2022      101.4               119.6     129.9   \n",
       "72  2022-2023 (Target)      104.1               121.0     147.7   \n",
       "73          2022-20231      102.8               124.9     149.8   \n",
       "\n",
       "    Total Oilseeds   Coffee  Cotton (Lint)  Raw Jute & Mesta  Sugarcane  \\\n",
       "0             52.0      NaN           30.0              33.0      571.0   \n",
       "1             50.0      NaN           33.0              47.0      616.0   \n",
       "2             47.0      NaN           33.0              53.0      510.0   \n",
       "3             54.0      NaN           41.0              38.0      444.0   \n",
       "4             64.0      NaN           45.0              39.0      587.0   \n",
       "..             ...      ...            ...               ...        ...   \n",
       "69           332.2     2980          360.7              98.8     3705.0   \n",
       "70           359.5     3340          352.5              93.5     4054.0   \n",
       "71           379.6  3420.02          311.2             101.5     4394.3   \n",
       "72           413.5        -          370.0             105.0     4150.0   \n",
       "73           410.0        -          343.5              94.9     4942.3   \n",
       "\n",
       "         Tea Tobacco  \n",
       "0        NaN       3  \n",
       "1        NaN       2  \n",
       "2        NaN       3  \n",
       "3        NaN       3  \n",
       "4        NaN       3  \n",
       "..       ...     ...  \n",
       "69   13608.1       8  \n",
       "70   12803.3     7.6  \n",
       "71  13444.02       -  \n",
       "72         -       -  \n",
       "73         -       -  \n",
       "\n",
       "[74 rows x 11 columns]"
      ]
     },
     "execution_count": 8,
     "metadata": {},
     "output_type": "execute_result"
    }
   ],
   "source": [
    "agriculture = pd.read_csv(\"./agr.csv\")\n",
    "agriculture"
   ]
  },
  {
   "cell_type": "code",
   "execution_count": 3,
   "id": "b5d57619",
   "metadata": {},
   "outputs": [
    {
     "data": {
      "text/plain": [
       "(74, 11)"
      ]
     },
     "execution_count": 3,
     "metadata": {},
     "output_type": "execute_result"
    }
   ],
   "source": [
    "agriculture.shape"
   ]
  },
  {
   "cell_type": "code",
   "execution_count": 4,
   "id": "1b90de72",
   "metadata": {},
   "outputs": [
    {
     "name": "stdout",
     "output_type": "stream",
     "text": [
      "<class 'pandas.core.frame.DataFrame'>\n",
      "RangeIndex: 74 entries, 0 to 73\n",
      "Data columns (total 11 columns):\n",
      " #   Column              Non-Null Count  Dtype  \n",
      "---  ------              --------------  -----  \n",
      " 0   Year                74 non-null     object \n",
      " 1   Groundnut           74 non-null     float64\n",
      " 2   Rapeseed & Mustard  74 non-null     float64\n",
      " 3   Soyabean            54 non-null     float64\n",
      " 4   Total Oilseeds      74 non-null     float64\n",
      " 5   Coffee              54 non-null     object \n",
      " 6   Cotton (Lint)       74 non-null     float64\n",
      " 7   Raw Jute & Mesta    74 non-null     float64\n",
      " 8   Sugarcane           74 non-null     float64\n",
      " 9   Tea                 54 non-null     object \n",
      " 10  Tobacco             74 non-null     object \n",
      "dtypes: float64(7), object(4)\n",
      "memory usage: 6.5+ KB\n"
     ]
    }
   ],
   "source": [
    "agriculture.info()"
   ]
  },
  {
   "cell_type": "code",
   "execution_count": 5,
   "id": "30464e96",
   "metadata": {},
   "outputs": [
    {
     "data": {
      "text/html": [
       "<div>\n",
       "<style scoped>\n",
       "    .dataframe tbody tr th:only-of-type {\n",
       "        vertical-align: middle;\n",
       "    }\n",
       "\n",
       "    .dataframe tbody tr th {\n",
       "        vertical-align: top;\n",
       "    }\n",
       "\n",
       "    .dataframe thead th {\n",
       "        text-align: right;\n",
       "    }\n",
       "</style>\n",
       "<table border=\"1\" class=\"dataframe\">\n",
       "  <thead>\n",
       "    <tr style=\"text-align: right;\">\n",
       "      <th></th>\n",
       "      <th>Year</th>\n",
       "      <th>Groundnut</th>\n",
       "      <th>Rapeseed &amp; Mustard</th>\n",
       "      <th>Soyabean</th>\n",
       "      <th>Total Oilseeds</th>\n",
       "      <th>Coffee</th>\n",
       "      <th>Cotton (Lint)</th>\n",
       "      <th>Raw Jute &amp; Mesta</th>\n",
       "      <th>Sugarcane</th>\n",
       "      <th>Tea</th>\n",
       "      <th>Tobacco</th>\n",
       "    </tr>\n",
       "  </thead>\n",
       "  <tbody>\n",
       "    <tr>\n",
       "      <th>0</th>\n",
       "      <td>1950-1951</td>\n",
       "      <td>35.0</td>\n",
       "      <td>8.0</td>\n",
       "      <td>NaN</td>\n",
       "      <td>52.0</td>\n",
       "      <td>NaN</td>\n",
       "      <td>30.0</td>\n",
       "      <td>33.0</td>\n",
       "      <td>571.0</td>\n",
       "      <td>NaN</td>\n",
       "      <td>3</td>\n",
       "    </tr>\n",
       "    <tr>\n",
       "      <th>1</th>\n",
       "      <td>1951-1952</td>\n",
       "      <td>32.0</td>\n",
       "      <td>9.0</td>\n",
       "      <td>NaN</td>\n",
       "      <td>50.0</td>\n",
       "      <td>NaN</td>\n",
       "      <td>33.0</td>\n",
       "      <td>47.0</td>\n",
       "      <td>616.0</td>\n",
       "      <td>NaN</td>\n",
       "      <td>2</td>\n",
       "    </tr>\n",
       "    <tr>\n",
       "      <th>2</th>\n",
       "      <td>1952-1953</td>\n",
       "      <td>29.0</td>\n",
       "      <td>9.0</td>\n",
       "      <td>NaN</td>\n",
       "      <td>47.0</td>\n",
       "      <td>NaN</td>\n",
       "      <td>33.0</td>\n",
       "      <td>53.0</td>\n",
       "      <td>510.0</td>\n",
       "      <td>NaN</td>\n",
       "      <td>3</td>\n",
       "    </tr>\n",
       "    <tr>\n",
       "      <th>3</th>\n",
       "      <td>1953-1954</td>\n",
       "      <td>35.0</td>\n",
       "      <td>9.0</td>\n",
       "      <td>NaN</td>\n",
       "      <td>54.0</td>\n",
       "      <td>NaN</td>\n",
       "      <td>41.0</td>\n",
       "      <td>38.0</td>\n",
       "      <td>444.0</td>\n",
       "      <td>NaN</td>\n",
       "      <td>3</td>\n",
       "    </tr>\n",
       "    <tr>\n",
       "      <th>4</th>\n",
       "      <td>1954-1955</td>\n",
       "      <td>43.0</td>\n",
       "      <td>10.0</td>\n",
       "      <td>NaN</td>\n",
       "      <td>64.0</td>\n",
       "      <td>NaN</td>\n",
       "      <td>45.0</td>\n",
       "      <td>39.0</td>\n",
       "      <td>587.0</td>\n",
       "      <td>NaN</td>\n",
       "      <td>3</td>\n",
       "    </tr>\n",
       "  </tbody>\n",
       "</table>\n",
       "</div>"
      ],
      "text/plain": [
       "           Year  Groundnut  Rapeseed & Mustard  Soyabean  Total Oilseeds  \\\n",
       "0  1950-1951          35.0                 8.0       NaN            52.0   \n",
       "1  1951-1952          32.0                 9.0       NaN            50.0   \n",
       "2  1952-1953          29.0                 9.0       NaN            47.0   \n",
       "3  1953-1954          35.0                 9.0       NaN            54.0   \n",
       "4  1954-1955          43.0                10.0       NaN            64.0   \n",
       "\n",
       "  Coffee  Cotton (Lint)  Raw Jute & Mesta  Sugarcane  Tea Tobacco  \n",
       "0    NaN           30.0              33.0      571.0  NaN       3  \n",
       "1    NaN           33.0              47.0      616.0  NaN       2  \n",
       "2    NaN           33.0              53.0      510.0  NaN       3  \n",
       "3    NaN           41.0              38.0      444.0  NaN       3  \n",
       "4    NaN           45.0              39.0      587.0  NaN       3  "
      ]
     },
     "execution_count": 5,
     "metadata": {},
     "output_type": "execute_result"
    }
   ],
   "source": [
    "agriculture.head()"
   ]
  },
  {
   "cell_type": "code",
   "execution_count": 6,
   "id": "fdb018e8",
   "metadata": {},
   "outputs": [
    {
     "data": {
      "text/plain": [
       "Index(['Year', 'Groundnut', 'Rapeseed & Mustard', 'Soyabean', 'Total Oilseeds',\n",
       "       'Coffee', 'Cotton (Lint)', 'Raw Jute & Mesta', 'Sugarcane', 'Tea',\n",
       "       'Tobacco'],\n",
       "      dtype='object')"
      ]
     },
     "execution_count": 6,
     "metadata": {},
     "output_type": "execute_result"
    }
   ],
   "source": [
    "agriculture.columns"
   ]
  },
  {
   "cell_type": "code",
   "execution_count": 7,
   "id": "921c2a2d",
   "metadata": {},
   "outputs": [
    {
     "data": {
      "text/plain": [
       "Year                   0\n",
       "Groundnut              0\n",
       "Rapeseed & Mustard     0\n",
       "Soyabean              20\n",
       "Total Oilseeds         0\n",
       "Coffee                20\n",
       "Cotton (Lint)          0\n",
       "Raw Jute & Mesta       0\n",
       "Sugarcane              0\n",
       "Tea                   20\n",
       "Tobacco                0\n",
       "dtype: int64"
      ]
     },
     "execution_count": 7,
     "metadata": {},
     "output_type": "execute_result"
    }
   ],
   "source": [
    "agriculture.isna().sum()"
   ]
  },
  {
   "cell_type": "code",
   "execution_count": 8,
   "id": "ee7b4ce7",
   "metadata": {},
   "outputs": [
    {
     "data": {
      "text/html": [
       "<div>\n",
       "<style scoped>\n",
       "    .dataframe tbody tr th:only-of-type {\n",
       "        vertical-align: middle;\n",
       "    }\n",
       "\n",
       "    .dataframe tbody tr th {\n",
       "        vertical-align: top;\n",
       "    }\n",
       "\n",
       "    .dataframe thead th {\n",
       "        text-align: right;\n",
       "    }\n",
       "</style>\n",
       "<table border=\"1\" class=\"dataframe\">\n",
       "  <thead>\n",
       "    <tr style=\"text-align: right;\">\n",
       "      <th></th>\n",
       "      <th>Groundnut</th>\n",
       "      <th>Rapeseed &amp; Mustard</th>\n",
       "      <th>Soyabean</th>\n",
       "      <th>Total Oilseeds</th>\n",
       "      <th>Cotton (Lint)</th>\n",
       "      <th>Raw Jute &amp; Mesta</th>\n",
       "      <th>Sugarcane</th>\n",
       "    </tr>\n",
       "  </thead>\n",
       "  <tbody>\n",
       "    <tr>\n",
       "      <th>count</th>\n",
       "      <td>74.000000</td>\n",
       "      <td>74.000000</td>\n",
       "      <td>54.000000</td>\n",
       "      <td>74.000000</td>\n",
       "      <td>74.000000</td>\n",
       "      <td>74.000000</td>\n",
       "      <td>74.000000</td>\n",
       "    </tr>\n",
       "    <tr>\n",
       "      <th>mean</th>\n",
       "      <td>64.312162</td>\n",
       "      <td>42.377027</td>\n",
       "      <td>57.659259</td>\n",
       "      <td>170.509459</td>\n",
       "      <td>134.855405</td>\n",
       "      <td>84.241892</td>\n",
       "      <td>2145.698649</td>\n",
       "    </tr>\n",
       "    <tr>\n",
       "      <th>std</th>\n",
       "      <td>18.949883</td>\n",
       "      <td>31.409206</td>\n",
       "      <td>50.410120</td>\n",
       "      <td>103.188042</td>\n",
       "      <td>108.912295</td>\n",
       "      <td>23.083588</td>\n",
       "      <td>1129.931194</td>\n",
       "    </tr>\n",
       "    <tr>\n",
       "      <th>min</th>\n",
       "      <td>29.000000</td>\n",
       "      <td>8.000000</td>\n",
       "      <td>0.100000</td>\n",
       "      <td>47.000000</td>\n",
       "      <td>30.000000</td>\n",
       "      <td>33.000000</td>\n",
       "      <td>444.000000</td>\n",
       "    </tr>\n",
       "    <tr>\n",
       "      <th>25%</th>\n",
       "      <td>50.325000</td>\n",
       "      <td>14.400000</td>\n",
       "      <td>6.800000</td>\n",
       "      <td>78.725000</td>\n",
       "      <td>57.425000</td>\n",
       "      <td>68.025000</td>\n",
       "      <td>1241.625000</td>\n",
       "    </tr>\n",
       "    <tr>\n",
       "      <th>50%</th>\n",
       "      <td>61.450000</td>\n",
       "      <td>32.600000</td>\n",
       "      <td>51.900000</td>\n",
       "      <td>128.200000</td>\n",
       "      <td>85.650000</td>\n",
       "      <td>83.500000</td>\n",
       "      <td>1931.250000</td>\n",
       "    </tr>\n",
       "    <tr>\n",
       "      <th>75%</th>\n",
       "      <td>75.625000</td>\n",
       "      <td>65.225000</td>\n",
       "      <td>102.675000</td>\n",
       "      <td>246.575000</td>\n",
       "      <td>179.825000</td>\n",
       "      <td>105.150000</td>\n",
       "      <td>2950.450000</td>\n",
       "    </tr>\n",
       "    <tr>\n",
       "      <th>max</th>\n",
       "      <td>104.100000</td>\n",
       "      <td>124.900000</td>\n",
       "      <td>149.800000</td>\n",
       "      <td>413.500000</td>\n",
       "      <td>370.000000</td>\n",
       "      <td>126.500000</td>\n",
       "      <td>4942.300000</td>\n",
       "    </tr>\n",
       "  </tbody>\n",
       "</table>\n",
       "</div>"
      ],
      "text/plain": [
       "        Groundnut  Rapeseed & Mustard    Soyabean  Total Oilseeds  \\\n",
       "count   74.000000           74.000000   54.000000       74.000000   \n",
       "mean    64.312162           42.377027   57.659259      170.509459   \n",
       "std     18.949883           31.409206   50.410120      103.188042   \n",
       "min     29.000000            8.000000    0.100000       47.000000   \n",
       "25%     50.325000           14.400000    6.800000       78.725000   \n",
       "50%     61.450000           32.600000   51.900000      128.200000   \n",
       "75%     75.625000           65.225000  102.675000      246.575000   \n",
       "max    104.100000          124.900000  149.800000      413.500000   \n",
       "\n",
       "       Cotton (Lint)  Raw Jute & Mesta    Sugarcane  \n",
       "count      74.000000         74.000000    74.000000  \n",
       "mean      134.855405         84.241892  2145.698649  \n",
       "std       108.912295         23.083588  1129.931194  \n",
       "min        30.000000         33.000000   444.000000  \n",
       "25%        57.425000         68.025000  1241.625000  \n",
       "50%        85.650000         83.500000  1931.250000  \n",
       "75%       179.825000        105.150000  2950.450000  \n",
       "max       370.000000        126.500000  4942.300000  "
      ]
     },
     "execution_count": 8,
     "metadata": {},
     "output_type": "execute_result"
    }
   ],
   "source": [
    "agriculture.describe()"
   ]
  },
  {
   "cell_type": "code",
   "execution_count": 9,
   "id": "6aeaffaa",
   "metadata": {},
   "outputs": [
    {
     "data": {
      "text/html": [
       "<div>\n",
       "<style scoped>\n",
       "    .dataframe tbody tr th:only-of-type {\n",
       "        vertical-align: middle;\n",
       "    }\n",
       "\n",
       "    .dataframe tbody tr th {\n",
       "        vertical-align: top;\n",
       "    }\n",
       "\n",
       "    .dataframe thead th {\n",
       "        text-align: right;\n",
       "    }\n",
       "</style>\n",
       "<table border=\"1\" class=\"dataframe\">\n",
       "  <thead>\n",
       "    <tr style=\"text-align: right;\">\n",
       "      <th></th>\n",
       "      <th>Year</th>\n",
       "      <th>Groundnut</th>\n",
       "      <th>Rapeseed &amp; Mustard</th>\n",
       "      <th>Soyabean</th>\n",
       "      <th>Total Oilseeds</th>\n",
       "      <th>Coffee</th>\n",
       "      <th>Cotton (Lint)</th>\n",
       "      <th>Raw Jute &amp; Mesta</th>\n",
       "      <th>Sugarcane</th>\n",
       "      <th>Tea</th>\n",
       "      <th>Tobacco</th>\n",
       "    </tr>\n",
       "  </thead>\n",
       "  <tbody>\n",
       "    <tr>\n",
       "      <th>0</th>\n",
       "      <td>1950-1951</td>\n",
       "      <td>35.0</td>\n",
       "      <td>8.0</td>\n",
       "      <td>NaN</td>\n",
       "      <td>52.0</td>\n",
       "      <td>NaN</td>\n",
       "      <td>30.0</td>\n",
       "      <td>33.0</td>\n",
       "      <td>571.0</td>\n",
       "      <td>NaN</td>\n",
       "      <td>3</td>\n",
       "    </tr>\n",
       "    <tr>\n",
       "      <th>1</th>\n",
       "      <td>1951-1952</td>\n",
       "      <td>32.0</td>\n",
       "      <td>9.0</td>\n",
       "      <td>NaN</td>\n",
       "      <td>50.0</td>\n",
       "      <td>NaN</td>\n",
       "      <td>33.0</td>\n",
       "      <td>47.0</td>\n",
       "      <td>616.0</td>\n",
       "      <td>NaN</td>\n",
       "      <td>2</td>\n",
       "    </tr>\n",
       "    <tr>\n",
       "      <th>2</th>\n",
       "      <td>1952-1953</td>\n",
       "      <td>29.0</td>\n",
       "      <td>9.0</td>\n",
       "      <td>NaN</td>\n",
       "      <td>47.0</td>\n",
       "      <td>NaN</td>\n",
       "      <td>33.0</td>\n",
       "      <td>53.0</td>\n",
       "      <td>510.0</td>\n",
       "      <td>NaN</td>\n",
       "      <td>3</td>\n",
       "    </tr>\n",
       "    <tr>\n",
       "      <th>3</th>\n",
       "      <td>1953-1954</td>\n",
       "      <td>35.0</td>\n",
       "      <td>9.0</td>\n",
       "      <td>NaN</td>\n",
       "      <td>54.0</td>\n",
       "      <td>NaN</td>\n",
       "      <td>41.0</td>\n",
       "      <td>38.0</td>\n",
       "      <td>444.0</td>\n",
       "      <td>NaN</td>\n",
       "      <td>3</td>\n",
       "    </tr>\n",
       "    <tr>\n",
       "      <th>4</th>\n",
       "      <td>1954-1955</td>\n",
       "      <td>43.0</td>\n",
       "      <td>10.0</td>\n",
       "      <td>NaN</td>\n",
       "      <td>64.0</td>\n",
       "      <td>NaN</td>\n",
       "      <td>45.0</td>\n",
       "      <td>39.0</td>\n",
       "      <td>587.0</td>\n",
       "      <td>NaN</td>\n",
       "      <td>3</td>\n",
       "    </tr>\n",
       "    <tr>\n",
       "      <th>5</th>\n",
       "      <td>1955-1956</td>\n",
       "      <td>39.0</td>\n",
       "      <td>9.0</td>\n",
       "      <td>NaN</td>\n",
       "      <td>57.0</td>\n",
       "      <td>NaN</td>\n",
       "      <td>42.0</td>\n",
       "      <td>54.0</td>\n",
       "      <td>605.0</td>\n",
       "      <td>NaN</td>\n",
       "      <td>3</td>\n",
       "    </tr>\n",
       "    <tr>\n",
       "      <th>6</th>\n",
       "      <td>1956-1957</td>\n",
       "      <td>44.0</td>\n",
       "      <td>10.0</td>\n",
       "      <td>NaN</td>\n",
       "      <td>64.0</td>\n",
       "      <td>NaN</td>\n",
       "      <td>49.0</td>\n",
       "      <td>58.0</td>\n",
       "      <td>691.0</td>\n",
       "      <td>NaN</td>\n",
       "      <td>3</td>\n",
       "    </tr>\n",
       "    <tr>\n",
       "      <th>7</th>\n",
       "      <td>1957-1958</td>\n",
       "      <td>47.0</td>\n",
       "      <td>9.0</td>\n",
       "      <td>NaN</td>\n",
       "      <td>64.0</td>\n",
       "      <td>NaN</td>\n",
       "      <td>50.0</td>\n",
       "      <td>53.0</td>\n",
       "      <td>712.0</td>\n",
       "      <td>NaN</td>\n",
       "      <td>2</td>\n",
       "    </tr>\n",
       "    <tr>\n",
       "      <th>8</th>\n",
       "      <td>1958-1959</td>\n",
       "      <td>52.0</td>\n",
       "      <td>10.0</td>\n",
       "      <td>NaN</td>\n",
       "      <td>73.0</td>\n",
       "      <td>NaN</td>\n",
       "      <td>49.0</td>\n",
       "      <td>69.0</td>\n",
       "      <td>734.0</td>\n",
       "      <td>NaN</td>\n",
       "      <td>3</td>\n",
       "    </tr>\n",
       "    <tr>\n",
       "      <th>9</th>\n",
       "      <td>1959-1960</td>\n",
       "      <td>46.0</td>\n",
       "      <td>11.0</td>\n",
       "      <td>NaN</td>\n",
       "      <td>66.0</td>\n",
       "      <td>NaN</td>\n",
       "      <td>37.0</td>\n",
       "      <td>57.0</td>\n",
       "      <td>778.0</td>\n",
       "      <td>NaN</td>\n",
       "      <td>3</td>\n",
       "    </tr>\n",
       "  </tbody>\n",
       "</table>\n",
       "</div>"
      ],
      "text/plain": [
       "           Year  Groundnut  Rapeseed & Mustard  Soyabean  Total Oilseeds  \\\n",
       "0  1950-1951          35.0                 8.0       NaN            52.0   \n",
       "1  1951-1952          32.0                 9.0       NaN            50.0   \n",
       "2  1952-1953          29.0                 9.0       NaN            47.0   \n",
       "3  1953-1954          35.0                 9.0       NaN            54.0   \n",
       "4  1954-1955          43.0                10.0       NaN            64.0   \n",
       "5  1955-1956          39.0                 9.0       NaN            57.0   \n",
       "6  1956-1957          44.0                10.0       NaN            64.0   \n",
       "7  1957-1958          47.0                 9.0       NaN            64.0   \n",
       "8  1958-1959          52.0                10.0       NaN            73.0   \n",
       "9  1959-1960          46.0                11.0       NaN            66.0   \n",
       "\n",
       "  Coffee  Cotton (Lint)  Raw Jute & Mesta  Sugarcane  Tea Tobacco  \n",
       "0    NaN           30.0              33.0      571.0  NaN       3  \n",
       "1    NaN           33.0              47.0      616.0  NaN       2  \n",
       "2    NaN           33.0              53.0      510.0  NaN       3  \n",
       "3    NaN           41.0              38.0      444.0  NaN       3  \n",
       "4    NaN           45.0              39.0      587.0  NaN       3  \n",
       "5    NaN           42.0              54.0      605.0  NaN       3  \n",
       "6    NaN           49.0              58.0      691.0  NaN       3  \n",
       "7    NaN           50.0              53.0      712.0  NaN       2  \n",
       "8    NaN           49.0              69.0      734.0  NaN       3  \n",
       "9    NaN           37.0              57.0      778.0  NaN       3  "
      ]
     },
     "execution_count": 9,
     "metadata": {},
     "output_type": "execute_result"
    }
   ],
   "source": [
    "agriculture[:10]"
   ]
  },
  {
   "cell_type": "code",
   "execution_count": 10,
   "id": "d0ba7e2c",
   "metadata": {},
   "outputs": [
    {
     "data": {
      "text/html": [
       "<div>\n",
       "<style scoped>\n",
       "    .dataframe tbody tr th:only-of-type {\n",
       "        vertical-align: middle;\n",
       "    }\n",
       "\n",
       "    .dataframe tbody tr th {\n",
       "        vertical-align: top;\n",
       "    }\n",
       "\n",
       "    .dataframe thead th {\n",
       "        text-align: right;\n",
       "    }\n",
       "</style>\n",
       "<table border=\"1\" class=\"dataframe\">\n",
       "  <thead>\n",
       "    <tr style=\"text-align: right;\">\n",
       "      <th></th>\n",
       "      <th>Year</th>\n",
       "      <th>Groundnut</th>\n",
       "      <th>Rapeseed &amp; Mustard</th>\n",
       "      <th>Soyabean</th>\n",
       "      <th>Total Oilseeds</th>\n",
       "      <th>Coffee</th>\n",
       "      <th>Cotton (Lint)</th>\n",
       "      <th>Raw Jute &amp; Mesta</th>\n",
       "      <th>Sugarcane</th>\n",
       "      <th>Tea</th>\n",
       "      <th>Tobacco</th>\n",
       "    </tr>\n",
       "  </thead>\n",
       "  <tbody>\n",
       "    <tr>\n",
       "      <th>64</th>\n",
       "      <td>2014-2015</td>\n",
       "      <td>74.0</td>\n",
       "      <td>62.8</td>\n",
       "      <td>103.7</td>\n",
       "      <td>275.1</td>\n",
       "      <td>3270</td>\n",
       "      <td>348.1</td>\n",
       "      <td>111.3</td>\n",
       "      <td>3623.3</td>\n",
       "      <td>11971.8</td>\n",
       "      <td>8.6</td>\n",
       "    </tr>\n",
       "    <tr>\n",
       "      <th>65</th>\n",
       "      <td>2015-2016</td>\n",
       "      <td>67.3</td>\n",
       "      <td>67.9</td>\n",
       "      <td>85.7</td>\n",
       "      <td>220.9</td>\n",
       "      <td>3480</td>\n",
       "      <td>300.0</td>\n",
       "      <td>105.2</td>\n",
       "      <td>3484.4</td>\n",
       "      <td>12331.4</td>\n",
       "      <td>8</td>\n",
       "    </tr>\n",
       "    <tr>\n",
       "      <th>66</th>\n",
       "      <td>2016-2017</td>\n",
       "      <td>74.6</td>\n",
       "      <td>79.2</td>\n",
       "      <td>131.6</td>\n",
       "      <td>312.8</td>\n",
       "      <td>3120</td>\n",
       "      <td>325.8</td>\n",
       "      <td>109.6</td>\n",
       "      <td>3060.7</td>\n",
       "      <td>12504.9</td>\n",
       "      <td>8.1</td>\n",
       "    </tr>\n",
       "    <tr>\n",
       "      <th>67</th>\n",
       "      <td>2017-2018</td>\n",
       "      <td>92.5</td>\n",
       "      <td>84.3</td>\n",
       "      <td>109.3</td>\n",
       "      <td>314.6</td>\n",
       "      <td>3160</td>\n",
       "      <td>328.1</td>\n",
       "      <td>100.3</td>\n",
       "      <td>3799.1</td>\n",
       "      <td>13250.5</td>\n",
       "      <td>9.5</td>\n",
       "    </tr>\n",
       "    <tr>\n",
       "      <th>68</th>\n",
       "      <td>2018-2019</td>\n",
       "      <td>67.3</td>\n",
       "      <td>92.6</td>\n",
       "      <td>132.7</td>\n",
       "      <td>315.2</td>\n",
       "      <td>3195</td>\n",
       "      <td>280.4</td>\n",
       "      <td>98.2</td>\n",
       "      <td>4054.2</td>\n",
       "      <td>13500.4</td>\n",
       "      <td>6.6</td>\n",
       "    </tr>\n",
       "    <tr>\n",
       "      <th>69</th>\n",
       "      <td>2019-2020</td>\n",
       "      <td>99.5</td>\n",
       "      <td>91.2</td>\n",
       "      <td>112.3</td>\n",
       "      <td>332.2</td>\n",
       "      <td>2980</td>\n",
       "      <td>360.7</td>\n",
       "      <td>98.8</td>\n",
       "      <td>3705.0</td>\n",
       "      <td>13608.1</td>\n",
       "      <td>8</td>\n",
       "    </tr>\n",
       "    <tr>\n",
       "      <th>70</th>\n",
       "      <td>2020-2021</td>\n",
       "      <td>102.4</td>\n",
       "      <td>102.1</td>\n",
       "      <td>126.1</td>\n",
       "      <td>359.5</td>\n",
       "      <td>3340</td>\n",
       "      <td>352.5</td>\n",
       "      <td>93.5</td>\n",
       "      <td>4054.0</td>\n",
       "      <td>12803.3</td>\n",
       "      <td>7.6</td>\n",
       "    </tr>\n",
       "    <tr>\n",
       "      <th>71</th>\n",
       "      <td>2021-2022</td>\n",
       "      <td>101.4</td>\n",
       "      <td>119.6</td>\n",
       "      <td>129.9</td>\n",
       "      <td>379.6</td>\n",
       "      <td>3420.02</td>\n",
       "      <td>311.2</td>\n",
       "      <td>101.5</td>\n",
       "      <td>4394.3</td>\n",
       "      <td>13444.02</td>\n",
       "      <td>-</td>\n",
       "    </tr>\n",
       "    <tr>\n",
       "      <th>72</th>\n",
       "      <td>2022-2023 (Target)</td>\n",
       "      <td>104.1</td>\n",
       "      <td>121.0</td>\n",
       "      <td>147.7</td>\n",
       "      <td>413.5</td>\n",
       "      <td>-</td>\n",
       "      <td>370.0</td>\n",
       "      <td>105.0</td>\n",
       "      <td>4150.0</td>\n",
       "      <td>-</td>\n",
       "      <td>-</td>\n",
       "    </tr>\n",
       "    <tr>\n",
       "      <th>73</th>\n",
       "      <td>2022-20231</td>\n",
       "      <td>102.8</td>\n",
       "      <td>124.9</td>\n",
       "      <td>149.8</td>\n",
       "      <td>410.0</td>\n",
       "      <td>-</td>\n",
       "      <td>343.5</td>\n",
       "      <td>94.9</td>\n",
       "      <td>4942.3</td>\n",
       "      <td>-</td>\n",
       "      <td>-</td>\n",
       "    </tr>\n",
       "  </tbody>\n",
       "</table>\n",
       "</div>"
      ],
      "text/plain": [
       "                  Year  Groundnut  Rapeseed & Mustard  Soyabean  \\\n",
       "64           2014-2015       74.0                62.8     103.7   \n",
       "65           2015-2016       67.3                67.9      85.7   \n",
       "66           2016-2017       74.6                79.2     131.6   \n",
       "67           2017-2018       92.5                84.3     109.3   \n",
       "68           2018-2019       67.3                92.6     132.7   \n",
       "69           2019-2020       99.5                91.2     112.3   \n",
       "70           2020-2021      102.4               102.1     126.1   \n",
       "71           2021-2022      101.4               119.6     129.9   \n",
       "72  2022-2023 (Target)      104.1               121.0     147.7   \n",
       "73          2022-20231      102.8               124.9     149.8   \n",
       "\n",
       "    Total Oilseeds   Coffee  Cotton (Lint)  Raw Jute & Mesta  Sugarcane  \\\n",
       "64           275.1     3270          348.1             111.3     3623.3   \n",
       "65           220.9     3480          300.0             105.2     3484.4   \n",
       "66           312.8     3120          325.8             109.6     3060.7   \n",
       "67           314.6     3160          328.1             100.3     3799.1   \n",
       "68           315.2     3195          280.4              98.2     4054.2   \n",
       "69           332.2     2980          360.7              98.8     3705.0   \n",
       "70           359.5     3340          352.5              93.5     4054.0   \n",
       "71           379.6  3420.02          311.2             101.5     4394.3   \n",
       "72           413.5        -          370.0             105.0     4150.0   \n",
       "73           410.0        -          343.5              94.9     4942.3   \n",
       "\n",
       "         Tea Tobacco  \n",
       "64   11971.8     8.6  \n",
       "65   12331.4       8  \n",
       "66   12504.9     8.1  \n",
       "67   13250.5     9.5  \n",
       "68   13500.4     6.6  \n",
       "69   13608.1       8  \n",
       "70   12803.3     7.6  \n",
       "71  13444.02       -  \n",
       "72         -       -  \n",
       "73         -       -  "
      ]
     },
     "execution_count": 10,
     "metadata": {},
     "output_type": "execute_result"
    }
   ],
   "source": [
    "agriculture[-10:]"
   ]
  },
  {
   "cell_type": "code",
   "execution_count": 11,
   "id": "a7958be0",
   "metadata": {},
   "outputs": [
    {
     "data": {
      "text/html": [
       "<div>\n",
       "<style scoped>\n",
       "    .dataframe tbody tr th:only-of-type {\n",
       "        vertical-align: middle;\n",
       "    }\n",
       "\n",
       "    .dataframe tbody tr th {\n",
       "        vertical-align: top;\n",
       "    }\n",
       "\n",
       "    .dataframe thead th {\n",
       "        text-align: right;\n",
       "    }\n",
       "</style>\n",
       "<table border=\"1\" class=\"dataframe\">\n",
       "  <thead>\n",
       "    <tr style=\"text-align: right;\">\n",
       "      <th></th>\n",
       "      <th>Year</th>\n",
       "      <th>Groundnut</th>\n",
       "      <th>Rapeseed &amp; Mustard</th>\n",
       "      <th>Soyabean</th>\n",
       "      <th>Total Oilseeds</th>\n",
       "      <th>Coffee</th>\n",
       "      <th>Cotton (Lint)</th>\n",
       "      <th>Raw Jute &amp; Mesta</th>\n",
       "      <th>Sugarcane</th>\n",
       "      <th>Tea</th>\n",
       "      <th>Tobacco</th>\n",
       "    </tr>\n",
       "  </thead>\n",
       "  <tbody>\n",
       "    <tr>\n",
       "      <th>4</th>\n",
       "      <td>1954-1955</td>\n",
       "      <td>43.0</td>\n",
       "      <td>10.0</td>\n",
       "      <td>NaN</td>\n",
       "      <td>64.0</td>\n",
       "      <td>NaN</td>\n",
       "      <td>45.0</td>\n",
       "      <td>39.0</td>\n",
       "      <td>587.0</td>\n",
       "      <td>NaN</td>\n",
       "      <td>3</td>\n",
       "    </tr>\n",
       "    <tr>\n",
       "      <th>5</th>\n",
       "      <td>1955-1956</td>\n",
       "      <td>39.0</td>\n",
       "      <td>9.0</td>\n",
       "      <td>NaN</td>\n",
       "      <td>57.0</td>\n",
       "      <td>NaN</td>\n",
       "      <td>42.0</td>\n",
       "      <td>54.0</td>\n",
       "      <td>605.0</td>\n",
       "      <td>NaN</td>\n",
       "      <td>3</td>\n",
       "    </tr>\n",
       "    <tr>\n",
       "      <th>6</th>\n",
       "      <td>1956-1957</td>\n",
       "      <td>44.0</td>\n",
       "      <td>10.0</td>\n",
       "      <td>NaN</td>\n",
       "      <td>64.0</td>\n",
       "      <td>NaN</td>\n",
       "      <td>49.0</td>\n",
       "      <td>58.0</td>\n",
       "      <td>691.0</td>\n",
       "      <td>NaN</td>\n",
       "      <td>3</td>\n",
       "    </tr>\n",
       "    <tr>\n",
       "      <th>7</th>\n",
       "      <td>1957-1958</td>\n",
       "      <td>47.0</td>\n",
       "      <td>9.0</td>\n",
       "      <td>NaN</td>\n",
       "      <td>64.0</td>\n",
       "      <td>NaN</td>\n",
       "      <td>50.0</td>\n",
       "      <td>53.0</td>\n",
       "      <td>712.0</td>\n",
       "      <td>NaN</td>\n",
       "      <td>2</td>\n",
       "    </tr>\n",
       "    <tr>\n",
       "      <th>8</th>\n",
       "      <td>1958-1959</td>\n",
       "      <td>52.0</td>\n",
       "      <td>10.0</td>\n",
       "      <td>NaN</td>\n",
       "      <td>73.0</td>\n",
       "      <td>NaN</td>\n",
       "      <td>49.0</td>\n",
       "      <td>69.0</td>\n",
       "      <td>734.0</td>\n",
       "      <td>NaN</td>\n",
       "      <td>3</td>\n",
       "    </tr>\n",
       "    <tr>\n",
       "      <th>9</th>\n",
       "      <td>1959-1960</td>\n",
       "      <td>46.0</td>\n",
       "      <td>11.0</td>\n",
       "      <td>NaN</td>\n",
       "      <td>66.0</td>\n",
       "      <td>NaN</td>\n",
       "      <td>37.0</td>\n",
       "      <td>57.0</td>\n",
       "      <td>778.0</td>\n",
       "      <td>NaN</td>\n",
       "      <td>3</td>\n",
       "    </tr>\n",
       "    <tr>\n",
       "      <th>10</th>\n",
       "      <td>1960-1961</td>\n",
       "      <td>48.0</td>\n",
       "      <td>14.0</td>\n",
       "      <td>NaN</td>\n",
       "      <td>70.0</td>\n",
       "      <td>NaN</td>\n",
       "      <td>56.0</td>\n",
       "      <td>53.0</td>\n",
       "      <td>1100.0</td>\n",
       "      <td>NaN</td>\n",
       "      <td>3</td>\n",
       "    </tr>\n",
       "    <tr>\n",
       "      <th>11</th>\n",
       "      <td>1961-1962</td>\n",
       "      <td>50.0</td>\n",
       "      <td>14.0</td>\n",
       "      <td>NaN</td>\n",
       "      <td>73.0</td>\n",
       "      <td>NaN</td>\n",
       "      <td>49.0</td>\n",
       "      <td>82.0</td>\n",
       "      <td>1040.0</td>\n",
       "      <td>NaN</td>\n",
       "      <td>3</td>\n",
       "    </tr>\n",
       "    <tr>\n",
       "      <th>12</th>\n",
       "      <td>1962-1963</td>\n",
       "      <td>51.0</td>\n",
       "      <td>13.0</td>\n",
       "      <td>NaN</td>\n",
       "      <td>74.0</td>\n",
       "      <td>NaN</td>\n",
       "      <td>55.0</td>\n",
       "      <td>72.0</td>\n",
       "      <td>919.0</td>\n",
       "      <td>NaN</td>\n",
       "      <td>3</td>\n",
       "    </tr>\n",
       "    <tr>\n",
       "      <th>13</th>\n",
       "      <td>1963-1964</td>\n",
       "      <td>53.0</td>\n",
       "      <td>9.2</td>\n",
       "      <td>NaN</td>\n",
       "      <td>71.3</td>\n",
       "      <td>NaN</td>\n",
       "      <td>57.5</td>\n",
       "      <td>79.8</td>\n",
       "      <td>1042.3</td>\n",
       "      <td>NaN</td>\n",
       "      <td>3.6</td>\n",
       "    </tr>\n",
       "    <tr>\n",
       "      <th>14</th>\n",
       "      <td>1964-1965</td>\n",
       "      <td>60.0</td>\n",
       "      <td>14.7</td>\n",
       "      <td>NaN</td>\n",
       "      <td>85.6</td>\n",
       "      <td>NaN</td>\n",
       "      <td>60.1</td>\n",
       "      <td>76.6</td>\n",
       "      <td>1219.1</td>\n",
       "      <td>NaN</td>\n",
       "      <td>3.6</td>\n",
       "    </tr>\n",
       "    <tr>\n",
       "      <th>15</th>\n",
       "      <td>1965-1966</td>\n",
       "      <td>42.6</td>\n",
       "      <td>13.0</td>\n",
       "      <td>NaN</td>\n",
       "      <td>64.0</td>\n",
       "      <td>NaN</td>\n",
       "      <td>48.5</td>\n",
       "      <td>57.8</td>\n",
       "      <td>1239.9</td>\n",
       "      <td>NaN</td>\n",
       "      <td>2.9</td>\n",
       "    </tr>\n",
       "  </tbody>\n",
       "</table>\n",
       "</div>"
      ],
      "text/plain": [
       "            Year  Groundnut  Rapeseed & Mustard  Soyabean  Total Oilseeds  \\\n",
       "4   1954-1955          43.0                10.0       NaN            64.0   \n",
       "5   1955-1956          39.0                 9.0       NaN            57.0   \n",
       "6   1956-1957          44.0                10.0       NaN            64.0   \n",
       "7   1957-1958          47.0                 9.0       NaN            64.0   \n",
       "8   1958-1959          52.0                10.0       NaN            73.0   \n",
       "9   1959-1960          46.0                11.0       NaN            66.0   \n",
       "10  1960-1961          48.0                14.0       NaN            70.0   \n",
       "11  1961-1962          50.0                14.0       NaN            73.0   \n",
       "12  1962-1963          51.0                13.0       NaN            74.0   \n",
       "13  1963-1964          53.0                 9.2       NaN            71.3   \n",
       "14  1964-1965          60.0                14.7       NaN            85.6   \n",
       "15  1965-1966          42.6                13.0       NaN            64.0   \n",
       "\n",
       "   Coffee  Cotton (Lint)  Raw Jute & Mesta  Sugarcane  Tea Tobacco  \n",
       "4     NaN           45.0              39.0      587.0  NaN       3  \n",
       "5     NaN           42.0              54.0      605.0  NaN       3  \n",
       "6     NaN           49.0              58.0      691.0  NaN       3  \n",
       "7     NaN           50.0              53.0      712.0  NaN       2  \n",
       "8     NaN           49.0              69.0      734.0  NaN       3  \n",
       "9     NaN           37.0              57.0      778.0  NaN       3  \n",
       "10    NaN           56.0              53.0     1100.0  NaN       3  \n",
       "11    NaN           49.0              82.0     1040.0  NaN       3  \n",
       "12    NaN           55.0              72.0      919.0  NaN       3  \n",
       "13    NaN           57.5              79.8     1042.3  NaN     3.6  \n",
       "14    NaN           60.1              76.6     1219.1  NaN     3.6  \n",
       "15    NaN           48.5              57.8     1239.9  NaN     2.9  "
      ]
     },
     "execution_count": 11,
     "metadata": {},
     "output_type": "execute_result"
    }
   ],
   "source": [
    "agriculture[4:16]"
   ]
  },
  {
   "cell_type": "code",
   "execution_count": 12,
   "id": "35d0c1b6",
   "metadata": {},
   "outputs": [
    {
     "data": {
      "text/plain": [
       "(array([ 4.,  6., 13., 10.,  8., 12.,  8.,  3.,  3.,  7.]),\n",
       " array([ 29.  ,  36.51,  44.02,  51.53,  59.04,  66.55,  74.06,  81.57,\n",
       "         89.08,  96.59, 104.1 ]),\n",
       " <BarContainer object of 10 artists>)"
      ]
     },
     "execution_count": 12,
     "metadata": {},
     "output_type": "execute_result"
    },
    {
     "data": {
      "image/png": "[encoded data removed]",
      "text/plain": [
       "<Figure size 640x480 with 1 Axes>"
      ]
     },
     "metadata": {},
     "output_type": "display_data"
    }
   ],
   "source": [
    "\n",
    "plt.xlabel=\"ground_nut\"\n",
    "plt.ylabel=\"frequency\"\n",
    "plt.hist(agriculture.Groundnut, bins=10)"
   ]
  },
  {
   "cell_type": "code",
   "execution_count": 13,
   "id": "389bfcce",
   "metadata": {},
   "outputs": [
    {
     "data": {
      "text/plain": [
       "<AxesSubplot:xlabel='Groundnut', ylabel='Count'>"
      ]
     },
     "execution_count": 13,
     "metadata": {},
     "output_type": "execute_result"
    },
    {
     "data": {
      "image/png": "[encoded data removed]",
      "text/plain": [
       "<Figure size 640x480 with 1 Axes>"
      ]
     },
     "metadata": {},
     "output_type": "display_data"
    }
   ],
   "source": [
    "sns.histplot(agriculture.Groundnut, bins=10,color=\"red\")"
   ]
  },
  {
   "cell_type": "code",
   "execution_count": 14,
   "id": "6b442c6f",
   "metadata": {},
   "outputs": [
    {
     "name": "stderr",
     "output_type": "stream",
     "text": [
      "C:\\Users\\amalv\\anaconda3\\jupyter\\lib\\site-packages\\seaborn\\_decorators.py:36: FutureWarning: Pass the following variable as a keyword arg: x. From version 0.12, the only valid positional argument will be `data`, and passing other arguments without an explicit keyword will result in an error or misinterpretation.\n",
      "  warnings.warn(\n"
     ]
    },
    {
     "data": {
      "image/png": "[encoded data removed]",
      "text/plain": [
       "<Figure size 640x480 with 1 Axes>"
      ]
     },
     "metadata": {},
     "output_type": "display_data"
    }
   ],
   "source": [
    "sns.boxplot(agriculture.Groundnut,);"
   ]
  },
  {
   "cell_type": "code",
   "execution_count": 15,
   "id": "f40267e9",
   "metadata": {},
   "outputs": [
    {
     "data": {
      "text/plain": [
       "<AxesSubplot:xlabel='Total Oilseeds', ylabel='Count'>"
      ]
     },
     "execution_count": 15,
     "metadata": {},
     "output_type": "execute_result"
    },
    {
     "data": {
      "image/png": "[encoded data removed]",
      "text/plain": [
       "<Figure size 640x480 with 1 Axes>"
      ]
     },
     "metadata": {},
     "output_type": "display_data"
    }
   ],
   "source": [
    "sns.set_style(\"darkgrid\")\n",
    "sns.histplot(agriculture[\"Total Oilseeds\"])"
   ]
  },
  {
   "cell_type": "code",
   "execution_count": 16,
   "id": "7fcc2651",
   "metadata": {},
   "outputs": [
    {
     "data": {
      "text/plain": [
       "64"
      ]
     },
     "execution_count": 16,
     "metadata": {},
     "output_type": "execute_result"
    }
   ],
   "source": [
    "round(agriculture.Groundnut.mean())"
   ]
  },
  {
   "cell_type": "code",
   "execution_count": 17,
   "id": "17e36954",
   "metadata": {},
   "outputs": [
    {
     "name": "stderr",
     "output_type": "stream",
     "text": [
      "C:\\Users\\amalv\\anaconda3\\jupyter\\lib\\site-packages\\numpy\\core\\fromnumeric.py:3438: FutureWarning: In a future version, DataFrame.mean(axis=None) will return a scalar mean over the entire DataFrame. To retain the old behavior, use 'frame.mean(axis=0)' or just 'frame.mean()'\n",
      "  return mean(axis=axis, dtype=dtype, out=out, **kwargs)\n",
      "C:\\Users\\amalv\\anaconda3\\jupyter\\lib\\site-packages\\numpy\\core\\fromnumeric.py:3438: FutureWarning: Dropping of nuisance columns in DataFrame reductions (with 'numeric_only=None') is deprecated; in a future version this will raise TypeError.  Select only valid columns before calling the reduction.\n",
      "  return mean(axis=axis, dtype=dtype, out=out, **kwargs)\n"
     ]
    },
    {
     "data": {
      "text/plain": [
       "Groundnut               64.312162\n",
       "Rapeseed & Mustard      42.377027\n",
       "Soyabean                57.659259\n",
       "Total Oilseeds         170.509459\n",
       "Cotton (Lint)          134.855405\n",
       "Raw Jute & Mesta        84.241892\n",
       "Sugarcane             2145.698649\n",
       "dtype: float64"
      ]
     },
     "execution_count": 17,
     "metadata": {},
     "output_type": "execute_result"
    }
   ],
   "source": [
    "np.mean(agriculture)"
   ]
  },
  {
   "cell_type": "code",
   "execution_count": 18,
   "id": "9df7cabe",
   "metadata": {},
   "outputs": [],
   "source": [
    "agriculture[\"Groundnut\"] = np.where(agriculture[\"Groundnut\"] == 0, 64.31, agriculture['Groundnut'])"
   ]
  },
  {
   "cell_type": "code",
   "execution_count": 19,
   "id": "5c2c43a8",
   "metadata": {},
   "outputs": [
    {
     "data": {
      "text/html": [
       "<div>\n",
       "<style scoped>\n",
       "    .dataframe tbody tr th:only-of-type {\n",
       "        vertical-align: middle;\n",
       "    }\n",
       "\n",
       "    .dataframe tbody tr th {\n",
       "        vertical-align: top;\n",
       "    }\n",
       "\n",
       "    .dataframe thead th {\n",
       "        text-align: right;\n",
       "    }\n",
       "</style>\n",
       "<table border=\"1\" class=\"dataframe\">\n",
       "  <thead>\n",
       "    <tr style=\"text-align: right;\">\n",
       "      <th></th>\n",
       "      <th>Year</th>\n",
       "      <th>Groundnut</th>\n",
       "      <th>Rapeseed &amp; Mustard</th>\n",
       "      <th>Soyabean</th>\n",
       "      <th>Total Oilseeds</th>\n",
       "      <th>Coffee</th>\n",
       "      <th>Cotton (Lint)</th>\n",
       "      <th>Raw Jute &amp; Mesta</th>\n",
       "      <th>Sugarcane</th>\n",
       "      <th>Tea</th>\n",
       "      <th>Tobacco</th>\n",
       "    </tr>\n",
       "  </thead>\n",
       "  <tbody>\n",
       "    <tr>\n",
       "      <th>0</th>\n",
       "      <td>1950-1951</td>\n",
       "      <td>35.0</td>\n",
       "      <td>8.0</td>\n",
       "      <td>NaN</td>\n",
       "      <td>52.0</td>\n",
       "      <td>NaN</td>\n",
       "      <td>30.0</td>\n",
       "      <td>33.0</td>\n",
       "      <td>571.0</td>\n",
       "      <td>NaN</td>\n",
       "      <td>3</td>\n",
       "    </tr>\n",
       "    <tr>\n",
       "      <th>1</th>\n",
       "      <td>1951-1952</td>\n",
       "      <td>32.0</td>\n",
       "      <td>9.0</td>\n",
       "      <td>NaN</td>\n",
       "      <td>50.0</td>\n",
       "      <td>NaN</td>\n",
       "      <td>33.0</td>\n",
       "      <td>47.0</td>\n",
       "      <td>616.0</td>\n",
       "      <td>NaN</td>\n",
       "      <td>2</td>\n",
       "    </tr>\n",
       "    <tr>\n",
       "      <th>2</th>\n",
       "      <td>1952-1953</td>\n",
       "      <td>29.0</td>\n",
       "      <td>9.0</td>\n",
       "      <td>NaN</td>\n",
       "      <td>47.0</td>\n",
       "      <td>NaN</td>\n",
       "      <td>33.0</td>\n",
       "      <td>53.0</td>\n",
       "      <td>510.0</td>\n",
       "      <td>NaN</td>\n",
       "      <td>3</td>\n",
       "    </tr>\n",
       "    <tr>\n",
       "      <th>3</th>\n",
       "      <td>1953-1954</td>\n",
       "      <td>35.0</td>\n",
       "      <td>9.0</td>\n",
       "      <td>NaN</td>\n",
       "      <td>54.0</td>\n",
       "      <td>NaN</td>\n",
       "      <td>41.0</td>\n",
       "      <td>38.0</td>\n",
       "      <td>444.0</td>\n",
       "      <td>NaN</td>\n",
       "      <td>3</td>\n",
       "    </tr>\n",
       "    <tr>\n",
       "      <th>4</th>\n",
       "      <td>1954-1955</td>\n",
       "      <td>43.0</td>\n",
       "      <td>10.0</td>\n",
       "      <td>NaN</td>\n",
       "      <td>64.0</td>\n",
       "      <td>NaN</td>\n",
       "      <td>45.0</td>\n",
       "      <td>39.0</td>\n",
       "      <td>587.0</td>\n",
       "      <td>NaN</td>\n",
       "      <td>3</td>\n",
       "    </tr>\n",
       "  </tbody>\n",
       "</table>\n",
       "</div>"
      ],
      "text/plain": [
       "           Year  Groundnut  Rapeseed & Mustard  Soyabean  Total Oilseeds  \\\n",
       "0  1950-1951          35.0                 8.0       NaN            52.0   \n",
       "1  1951-1952          32.0                 9.0       NaN            50.0   \n",
       "2  1952-1953          29.0                 9.0       NaN            47.0   \n",
       "3  1953-1954          35.0                 9.0       NaN            54.0   \n",
       "4  1954-1955          43.0                10.0       NaN            64.0   \n",
       "\n",
       "  Coffee  Cotton (Lint)  Raw Jute & Mesta  Sugarcane  Tea Tobacco  \n",
       "0    NaN           30.0              33.0      571.0  NaN       3  \n",
       "1    NaN           33.0              47.0      616.0  NaN       2  \n",
       "2    NaN           33.0              53.0      510.0  NaN       3  \n",
       "3    NaN           41.0              38.0      444.0  NaN       3  \n",
       "4    NaN           45.0              39.0      587.0  NaN       3  "
      ]
     },
     "execution_count": 19,
     "metadata": {},
     "output_type": "execute_result"
    }
   ],
   "source": [
    "agriculture.head()\n"
   ]
  },
  {
   "cell_type": "code",
   "execution_count": 20,
   "id": "a9c4f045",
   "metadata": {},
   "outputs": [
    {
     "data": {
      "text/plain": [
       "0      35.0\n",
       "1      32.0\n",
       "2      29.0\n",
       "3      35.0\n",
       "4      43.0\n",
       "      ...  \n",
       "69     99.5\n",
       "70    102.4\n",
       "71    101.4\n",
       "72    104.1\n",
       "73    102.8\n",
       "Name: Groundnut, Length: 74, dtype: float64"
      ]
     },
     "execution_count": 20,
     "metadata": {},
     "output_type": "execute_result"
    }
   ],
   "source": [
    "agriculture[\"Groundnut\"].fillna(64.31)"
   ]
  },
  {
   "cell_type": "code",
   "execution_count": 21,
   "id": "a016d5fc",
   "metadata": {},
   "outputs": [
    {
     "data": {
      "text/plain": [
       "0"
      ]
     },
     "execution_count": 21,
     "metadata": {},
     "output_type": "execute_result"
    }
   ],
   "source": [
    "agriculture[\"Groundnut\"].isna().sum()"
   ]
  },
  {
   "cell_type": "code",
   "execution_count": 22,
   "id": "97ecaf19",
   "metadata": {},
   "outputs": [
    {
     "name": "stdout",
     "output_type": "stream",
     "text": [
      "<class 'pandas.core.frame.DataFrame'>\n",
      "RangeIndex: 74 entries, 0 to 73\n",
      "Data columns (total 11 columns):\n",
      " #   Column              Non-Null Count  Dtype  \n",
      "---  ------              --------------  -----  \n",
      " 0   Year                74 non-null     object \n",
      " 1   Groundnut           74 non-null     float64\n",
      " 2   Rapeseed & Mustard  74 non-null     float64\n",
      " 3   Soyabean            54 non-null     float64\n",
      " 4   Total Oilseeds      74 non-null     float64\n",
      " 5   Coffee              54 non-null     object \n",
      " 6   Cotton (Lint)       74 non-null     float64\n",
      " 7   Raw Jute & Mesta    74 non-null     float64\n",
      " 8   Sugarcane           74 non-null     float64\n",
      " 9   Tea                 54 non-null     object \n",
      " 10  Tobacco             74 non-null     object \n",
      "dtypes: float64(7), object(4)\n",
      "memory usage: 6.5+ KB\n"
     ]
    }
   ],
   "source": [
    "agriculture.info()"
   ]
  },
  {
   "cell_type": "code",
   "execution_count": null,
   "id": "3694d516",
   "metadata": {},
   "outputs": [],
   "source": []
  },
  {
   "cell_type": "code",
   "execution_count": 23,
   "id": "9e20eecf",
   "metadata": {},
   "outputs": [
    {
     "name": "stderr",
     "output_type": "stream",
     "text": [
      "C:\\Users\\amalv\\anaconda3\\jupyter\\lib\\site-packages\\seaborn\\_decorators.py:36: FutureWarning: Pass the following variable as a keyword arg: x. From version 0.12, the only valid positional argument will be `data`, and passing other arguments without an explicit keyword will result in an error or misinterpretation.\n",
      "  warnings.warn(\n"
     ]
    },
    {
     "data": {
      "image/png": "[encoded data removed]",
      "text/plain": [
       "<Figure size 640x480 with 1 Axes>"
      ]
     },
     "metadata": {},
     "output_type": "display_data"
    }
   ],
   "source": [
    "sns.boxplot(agriculture[\"Soyabean\"]);"
   ]
  },
  {
   "cell_type": "code",
   "execution_count": 24,
   "id": "4e807849",
   "metadata": {},
   "outputs": [
    {
     "data": {
      "image/png": "[encoded data removed]",
      "text/plain": [
       "<Figure size 640x480 with 1 Axes>"
      ]
     },
     "metadata": {},
     "output_type": "display_data"
    }
   ],
   "source": [
    "sns.boxplot(x=agriculture[\"Cotton (Lint)\"]);"
   ]
  },
  {
   "cell_type": "code",
   "execution_count": 25,
   "id": "b646ed5a",
   "metadata": {},
   "outputs": [],
   "source": [
    "agriculture[\"Cotton (Lint)\"] = np.where(agriculture[\"Cotton (Lint)\"]>350,350,agriculture[\"Cotton (Lint)\"])"
   ]
  },
  {
   "cell_type": "code",
   "execution_count": 26,
   "id": "6e6a66e4",
   "metadata": {},
   "outputs": [
    {
     "data": {
      "image/png": "[encoded data removed]",
      "text/plain": [
       "<Figure size 640x480 with 1 Axes>"
      ]
     },
     "metadata": {},
     "output_type": "display_data"
    }
   ],
   "source": [
    "sns.boxplot(x=agriculture[\"Cotton (Lint)\"]);"
   ]
  },
  {
   "cell_type": "code",
   "execution_count": 27,
   "id": "864568e7",
   "metadata": {},
   "outputs": [
    {
     "data": {
      "image/png": "[encoded data removed]",
      "text/plain": [
       "<Figure size 640x480 with 1 Axes>"
      ]
     },
     "metadata": {},
     "output_type": "display_data"
    }
   ],
   "source": [
    "sns.boxplot(x=agriculture[\"Total Oilseeds\"]);"
   ]
  },
  {
   "cell_type": "code",
   "execution_count": 28,
   "id": "d2b059f3",
   "metadata": {},
   "outputs": [
    {
     "data": {
      "image/png": "[encoded data removed]",
      "text/plain": [
       "<Figure size 640x480 with 1 Axes>"
      ]
     },
     "metadata": {},
     "output_type": "display_data"
    }
   ],
   "source": [
    "sns.boxplot(x=agriculture[\"Groundnut\"]);"
   ]
  },
  {
   "cell_type": "code",
   "execution_count": 29,
   "id": "c7a2aa70",
   "metadata": {},
   "outputs": [
    {
     "data": {
      "image/png": "[encoded data removed]",
      "text/plain": [
       "<Figure size 640x480 with 1 Axes>"
      ]
     },
     "metadata": {},
     "output_type": "display_data"
    }
   ],
   "source": [
    "sns.boxplot(x=agriculture[\"Soyabean\"]);"
   ]
  },
  {
   "cell_type": "code",
   "execution_count": 30,
   "id": "4fe93985",
   "metadata": {},
   "outputs": [
    {
     "data": {
      "image/png": "[encoded data removed]",
      "text/plain": [
       "<Figure size 640x480 with 1 Axes>"
      ]
     },
     "metadata": {},
     "output_type": "display_data"
    }
   ],
   "source": [
    "sns.boxplot(x=agriculture[\"Rapeseed & Mustard\"]);"
   ]
  },
  {
   "cell_type": "code",
   "execution_count": 31,
   "id": "02e8310c",
   "metadata": {},
   "outputs": [
    {
     "data": {
      "text/plain": [
       "Index(['Year', 'Groundnut', 'Rapeseed & Mustard', 'Soyabean', 'Total Oilseeds',\n",
       "       'Coffee', 'Cotton (Lint)', 'Raw Jute & Mesta', 'Sugarcane', 'Tea',\n",
       "       'Tobacco'],\n",
       "      dtype='object')"
      ]
     },
     "execution_count": 31,
     "metadata": {},
     "output_type": "execute_result"
    }
   ],
   "source": [
    "agriculture.columns"
   ]
  },
  {
   "cell_type": "code",
   "execution_count": 32,
   "id": "657acebc",
   "metadata": {},
   "outputs": [
    {
     "data": {
      "image/png": "[encoded data removed]",
      "text/plain": [
       "<Figure size 640x480 with 1 Axes>"
      ]
     },
     "metadata": {},
     "output_type": "display_data"
    }
   ],
   "source": [
    "sns.boxplot(x=agriculture[\"Raw Jute & Mesta\"]);"
   ]
  },
  {
   "cell_type": "code",
   "execution_count": 33,
   "id": "ac6c5ca6",
   "metadata": {},
   "outputs": [
    {
     "data": {
      "image/png": "[encoded data removed]",
      "text/plain": [
       "<Figure size 640x480 with 1 Axes>"
      ]
     },
     "metadata": {},
     "output_type": "display_data"
    }
   ],
   "source": [
    "sns.boxplot(x=agriculture[\"Sugarcane\"]);"
   ]
  },
  {
   "cell_type": "code",
   "execution_count": 34,
   "id": "60febe92",
   "metadata": {},
   "outputs": [
    {
     "data": {
      "text/html": [
       "<div>\n",
       "<style scoped>\n",
       "    .dataframe tbody tr th:only-of-type {\n",
       "        vertical-align: middle;\n",
       "    }\n",
       "\n",
       "    .dataframe tbody tr th {\n",
       "        vertical-align: top;\n",
       "    }\n",
       "\n",
       "    .dataframe thead th {\n",
       "        text-align: right;\n",
       "    }\n",
       "</style>\n",
       "<table border=\"1\" class=\"dataframe\">\n",
       "  <thead>\n",
       "    <tr style=\"text-align: right;\">\n",
       "      <th></th>\n",
       "      <th>Year</th>\n",
       "      <th>Groundnut</th>\n",
       "      <th>Rapeseed &amp; Mustard</th>\n",
       "      <th>Soyabean</th>\n",
       "      <th>Total Oilseeds</th>\n",
       "      <th>Coffee</th>\n",
       "      <th>Cotton (Lint)</th>\n",
       "      <th>Raw Jute &amp; Mesta</th>\n",
       "      <th>Sugarcane</th>\n",
       "      <th>Tea</th>\n",
       "      <th>Tobacco</th>\n",
       "    </tr>\n",
       "  </thead>\n",
       "  <tbody>\n",
       "    <tr>\n",
       "      <th>0</th>\n",
       "      <td>1950-1951</td>\n",
       "      <td>35.0</td>\n",
       "      <td>8.0</td>\n",
       "      <td>0.0</td>\n",
       "      <td>52.0</td>\n",
       "      <td>0</td>\n",
       "      <td>30.0</td>\n",
       "      <td>33.0</td>\n",
       "      <td>571.0</td>\n",
       "      <td>0</td>\n",
       "      <td>3</td>\n",
       "    </tr>\n",
       "    <tr>\n",
       "      <th>1</th>\n",
       "      <td>1951-1952</td>\n",
       "      <td>32.0</td>\n",
       "      <td>9.0</td>\n",
       "      <td>0.0</td>\n",
       "      <td>50.0</td>\n",
       "      <td>0</td>\n",
       "      <td>33.0</td>\n",
       "      <td>47.0</td>\n",
       "      <td>616.0</td>\n",
       "      <td>0</td>\n",
       "      <td>2</td>\n",
       "    </tr>\n",
       "    <tr>\n",
       "      <th>2</th>\n",
       "      <td>1952-1953</td>\n",
       "      <td>29.0</td>\n",
       "      <td>9.0</td>\n",
       "      <td>0.0</td>\n",
       "      <td>47.0</td>\n",
       "      <td>0</td>\n",
       "      <td>33.0</td>\n",
       "      <td>53.0</td>\n",
       "      <td>510.0</td>\n",
       "      <td>0</td>\n",
       "      <td>3</td>\n",
       "    </tr>\n",
       "    <tr>\n",
       "      <th>3</th>\n",
       "      <td>1953-1954</td>\n",
       "      <td>35.0</td>\n",
       "      <td>9.0</td>\n",
       "      <td>0.0</td>\n",
       "      <td>54.0</td>\n",
       "      <td>0</td>\n",
       "      <td>41.0</td>\n",
       "      <td>38.0</td>\n",
       "      <td>444.0</td>\n",
       "      <td>0</td>\n",
       "      <td>3</td>\n",
       "    </tr>\n",
       "    <tr>\n",
       "      <th>4</th>\n",
       "      <td>1954-1955</td>\n",
       "      <td>43.0</td>\n",
       "      <td>10.0</td>\n",
       "      <td>0.0</td>\n",
       "      <td>64.0</td>\n",
       "      <td>0</td>\n",
       "      <td>45.0</td>\n",
       "      <td>39.0</td>\n",
       "      <td>587.0</td>\n",
       "      <td>0</td>\n",
       "      <td>3</td>\n",
       "    </tr>\n",
       "    <tr>\n",
       "      <th>...</th>\n",
       "      <td>...</td>\n",
       "      <td>...</td>\n",
       "      <td>...</td>\n",
       "      <td>...</td>\n",
       "      <td>...</td>\n",
       "      <td>...</td>\n",
       "      <td>...</td>\n",
       "      <td>...</td>\n",
       "      <td>...</td>\n",
       "      <td>...</td>\n",
       "      <td>...</td>\n",
       "    </tr>\n",
       "    <tr>\n",
       "      <th>69</th>\n",
       "      <td>2019-2020</td>\n",
       "      <td>99.5</td>\n",
       "      <td>91.2</td>\n",
       "      <td>112.3</td>\n",
       "      <td>332.2</td>\n",
       "      <td>2980</td>\n",
       "      <td>350.0</td>\n",
       "      <td>98.8</td>\n",
       "      <td>3705.0</td>\n",
       "      <td>13608.1</td>\n",
       "      <td>8</td>\n",
       "    </tr>\n",
       "    <tr>\n",
       "      <th>70</th>\n",
       "      <td>2020-2021</td>\n",
       "      <td>102.4</td>\n",
       "      <td>102.1</td>\n",
       "      <td>126.1</td>\n",
       "      <td>359.5</td>\n",
       "      <td>3340</td>\n",
       "      <td>350.0</td>\n",
       "      <td>93.5</td>\n",
       "      <td>4054.0</td>\n",
       "      <td>12803.3</td>\n",
       "      <td>7.6</td>\n",
       "    </tr>\n",
       "    <tr>\n",
       "      <th>71</th>\n",
       "      <td>2021-2022</td>\n",
       "      <td>101.4</td>\n",
       "      <td>119.6</td>\n",
       "      <td>129.9</td>\n",
       "      <td>379.6</td>\n",
       "      <td>3420.02</td>\n",
       "      <td>311.2</td>\n",
       "      <td>101.5</td>\n",
       "      <td>4394.3</td>\n",
       "      <td>13444.02</td>\n",
       "      <td>-</td>\n",
       "    </tr>\n",
       "    <tr>\n",
       "      <th>72</th>\n",
       "      <td>2022-2023 (Target)</td>\n",
       "      <td>104.1</td>\n",
       "      <td>121.0</td>\n",
       "      <td>147.7</td>\n",
       "      <td>413.5</td>\n",
       "      <td>-</td>\n",
       "      <td>350.0</td>\n",
       "      <td>105.0</td>\n",
       "      <td>4150.0</td>\n",
       "      <td>-</td>\n",
       "      <td>-</td>\n",
       "    </tr>\n",
       "    <tr>\n",
       "      <th>73</th>\n",
       "      <td>2022-20231</td>\n",
       "      <td>102.8</td>\n",
       "      <td>124.9</td>\n",
       "      <td>149.8</td>\n",
       "      <td>410.0</td>\n",
       "      <td>-</td>\n",
       "      <td>343.5</td>\n",
       "      <td>94.9</td>\n",
       "      <td>4942.3</td>\n",
       "      <td>-</td>\n",
       "      <td>-</td>\n",
       "    </tr>\n",
       "  </tbody>\n",
       "</table>\n",
       "<p>74 rows × 11 columns</p>\n",
       "</div>"
      ],
      "text/plain": [
       "                  Year  Groundnut  Rapeseed & Mustard  Soyabean  \\\n",
       "0         1950-1951          35.0                 8.0       0.0   \n",
       "1         1951-1952          32.0                 9.0       0.0   \n",
       "2         1952-1953          29.0                 9.0       0.0   \n",
       "3         1953-1954          35.0                 9.0       0.0   \n",
       "4         1954-1955          43.0                10.0       0.0   \n",
       "..                 ...        ...                 ...       ...   \n",
       "69           2019-2020       99.5                91.2     112.3   \n",
       "70           2020-2021      102.4               102.1     126.1   \n",
       "71           2021-2022      101.4               119.6     129.9   \n",
       "72  2022-2023 (Target)      104.1               121.0     147.7   \n",
       "73          2022-20231      102.8               124.9     149.8   \n",
       "\n",
       "    Total Oilseeds   Coffee  Cotton (Lint)  Raw Jute & Mesta  Sugarcane  \\\n",
       "0             52.0        0           30.0              33.0      571.0   \n",
       "1             50.0        0           33.0              47.0      616.0   \n",
       "2             47.0        0           33.0              53.0      510.0   \n",
       "3             54.0        0           41.0              38.0      444.0   \n",
       "4             64.0        0           45.0              39.0      587.0   \n",
       "..             ...      ...            ...               ...        ...   \n",
       "69           332.2     2980          350.0              98.8     3705.0   \n",
       "70           359.5     3340          350.0              93.5     4054.0   \n",
       "71           379.6  3420.02          311.2             101.5     4394.3   \n",
       "72           413.5        -          350.0             105.0     4150.0   \n",
       "73           410.0        -          343.5              94.9     4942.3   \n",
       "\n",
       "         Tea Tobacco  \n",
       "0          0       3  \n",
       "1          0       2  \n",
       "2          0       3  \n",
       "3          0       3  \n",
       "4          0       3  \n",
       "..       ...     ...  \n",
       "69   13608.1       8  \n",
       "70   12803.3     7.6  \n",
       "71  13444.02       -  \n",
       "72         -       -  \n",
       "73         -       -  \n",
       "\n",
       "[74 rows x 11 columns]"
      ]
     },
     "execution_count": 34,
     "metadata": {},
     "output_type": "execute_result"
    }
   ],
   "source": [
    "agriculture.fillna(0)"
   ]
  },
  {
   "cell_type": "code",
   "execution_count": 35,
   "id": "aab4c67a",
   "metadata": {},
   "outputs": [
    {
     "data": {
      "text/plain": [
       "Year                   0\n",
       "Groundnut              0\n",
       "Rapeseed & Mustard     0\n",
       "Soyabean              20\n",
       "Total Oilseeds         0\n",
       "Coffee                20\n",
       "Cotton (Lint)          0\n",
       "Raw Jute & Mesta       0\n",
       "Sugarcane              0\n",
       "Tea                   20\n",
       "Tobacco                0\n",
       "dtype: int64"
      ]
     },
     "execution_count": 35,
     "metadata": {},
     "output_type": "execute_result"
    }
   ],
   "source": [
    "agriculture.isna().sum()"
   ]
  },
  {
   "cell_type": "code",
   "execution_count": 36,
   "id": "0263f5c4",
   "metadata": {},
   "outputs": [
    {
     "data": {
      "text/plain": [
       "0       0.0\n",
       "1       0.0\n",
       "2       0.0\n",
       "3       0.0\n",
       "4       0.0\n",
       "      ...  \n",
       "69    112.3\n",
       "70    126.1\n",
       "71    129.9\n",
       "72    147.7\n",
       "73    149.8\n",
       "Name: Soyabean, Length: 74, dtype: float64"
      ]
     },
     "execution_count": 36,
     "metadata": {},
     "output_type": "execute_result"
    }
   ],
   "source": [
    "agriculture[\"Soyabean\"].fillna(0)"
   ]
  },
  {
   "cell_type": "code",
   "execution_count": 37,
   "id": "84a92d4f",
   "metadata": {},
   "outputs": [],
   "source": [
    "agriculture[\"Soyabean\"]=agriculture[\"Soyabean\"].fillna(0)"
   ]
  },
  {
   "cell_type": "code",
   "execution_count": 38,
   "id": "dcada98c",
   "metadata": {},
   "outputs": [
    {
     "data": {
      "text/plain": [
       "Year                   0\n",
       "Groundnut              0\n",
       "Rapeseed & Mustard     0\n",
       "Soyabean               0\n",
       "Total Oilseeds         0\n",
       "Coffee                20\n",
       "Cotton (Lint)          0\n",
       "Raw Jute & Mesta       0\n",
       "Sugarcane              0\n",
       "Tea                   20\n",
       "Tobacco                0\n",
       "dtype: int64"
      ]
     },
     "execution_count": 38,
     "metadata": {},
     "output_type": "execute_result"
    }
   ],
   "source": [
    "agriculture.isna().sum()"
   ]
  },
  {
   "cell_type": "code",
   "execution_count": 39,
   "id": "4217bdce",
   "metadata": {},
   "outputs": [],
   "source": [
    "agriculture[\"Coffee\"].fillna(0, inplace=True)"
   ]
  },
  {
   "cell_type": "code",
   "execution_count": 40,
   "id": "d36dcad9",
   "metadata": {},
   "outputs": [],
   "source": [
    "agriculture2 = agriculture.fillna(value=0)"
   ]
  },
  {
   "cell_type": "code",
   "execution_count": 41,
   "id": "b0362fe2",
   "metadata": {},
   "outputs": [
    {
     "data": {
      "text/html": [
       "<div>\n",
       "<style scoped>\n",
       "    .dataframe tbody tr th:only-of-type {\n",
       "        vertical-align: middle;\n",
       "    }\n",
       "\n",
       "    .dataframe tbody tr th {\n",
       "        vertical-align: top;\n",
       "    }\n",
       "\n",
       "    .dataframe thead th {\n",
       "        text-align: right;\n",
       "    }\n",
       "</style>\n",
       "<table border=\"1\" class=\"dataframe\">\n",
       "  <thead>\n",
       "    <tr style=\"text-align: right;\">\n",
       "      <th></th>\n",
       "      <th>Year</th>\n",
       "      <th>Groundnut</th>\n",
       "      <th>Rapeseed &amp; Mustard</th>\n",
       "      <th>Soyabean</th>\n",
       "      <th>Total Oilseeds</th>\n",
       "      <th>Coffee</th>\n",
       "      <th>Cotton (Lint)</th>\n",
       "      <th>Raw Jute &amp; Mesta</th>\n",
       "      <th>Sugarcane</th>\n",
       "      <th>Tea</th>\n",
       "      <th>Tobacco</th>\n",
       "    </tr>\n",
       "  </thead>\n",
       "  <tbody>\n",
       "    <tr>\n",
       "      <th>0</th>\n",
       "      <td>1950-1951</td>\n",
       "      <td>35.0</td>\n",
       "      <td>8.0</td>\n",
       "      <td>0.0</td>\n",
       "      <td>52.0</td>\n",
       "      <td>0</td>\n",
       "      <td>30.0</td>\n",
       "      <td>33.0</td>\n",
       "      <td>571.0</td>\n",
       "      <td>0</td>\n",
       "      <td>3</td>\n",
       "    </tr>\n",
       "    <tr>\n",
       "      <th>1</th>\n",
       "      <td>1951-1952</td>\n",
       "      <td>32.0</td>\n",
       "      <td>9.0</td>\n",
       "      <td>0.0</td>\n",
       "      <td>50.0</td>\n",
       "      <td>0</td>\n",
       "      <td>33.0</td>\n",
       "      <td>47.0</td>\n",
       "      <td>616.0</td>\n",
       "      <td>0</td>\n",
       "      <td>2</td>\n",
       "    </tr>\n",
       "    <tr>\n",
       "      <th>2</th>\n",
       "      <td>1952-1953</td>\n",
       "      <td>29.0</td>\n",
       "      <td>9.0</td>\n",
       "      <td>0.0</td>\n",
       "      <td>47.0</td>\n",
       "      <td>0</td>\n",
       "      <td>33.0</td>\n",
       "      <td>53.0</td>\n",
       "      <td>510.0</td>\n",
       "      <td>0</td>\n",
       "      <td>3</td>\n",
       "    </tr>\n",
       "    <tr>\n",
       "      <th>3</th>\n",
       "      <td>1953-1954</td>\n",
       "      <td>35.0</td>\n",
       "      <td>9.0</td>\n",
       "      <td>0.0</td>\n",
       "      <td>54.0</td>\n",
       "      <td>0</td>\n",
       "      <td>41.0</td>\n",
       "      <td>38.0</td>\n",
       "      <td>444.0</td>\n",
       "      <td>0</td>\n",
       "      <td>3</td>\n",
       "    </tr>\n",
       "    <tr>\n",
       "      <th>4</th>\n",
       "      <td>1954-1955</td>\n",
       "      <td>43.0</td>\n",
       "      <td>10.0</td>\n",
       "      <td>0.0</td>\n",
       "      <td>64.0</td>\n",
       "      <td>0</td>\n",
       "      <td>45.0</td>\n",
       "      <td>39.0</td>\n",
       "      <td>587.0</td>\n",
       "      <td>0</td>\n",
       "      <td>3</td>\n",
       "    </tr>\n",
       "    <tr>\n",
       "      <th>...</th>\n",
       "      <td>...</td>\n",
       "      <td>...</td>\n",
       "      <td>...</td>\n",
       "      <td>...</td>\n",
       "      <td>...</td>\n",
       "      <td>...</td>\n",
       "      <td>...</td>\n",
       "      <td>...</td>\n",
       "      <td>...</td>\n",
       "      <td>...</td>\n",
       "      <td>...</td>\n",
       "    </tr>\n",
       "    <tr>\n",
       "      <th>69</th>\n",
       "      <td>2019-2020</td>\n",
       "      <td>99.5</td>\n",
       "      <td>91.2</td>\n",
       "      <td>112.3</td>\n",
       "      <td>332.2</td>\n",
       "      <td>2980</td>\n",
       "      <td>350.0</td>\n",
       "      <td>98.8</td>\n",
       "      <td>3705.0</td>\n",
       "      <td>13608.1</td>\n",
       "      <td>8</td>\n",
       "    </tr>\n",
       "    <tr>\n",
       "      <th>70</th>\n",
       "      <td>2020-2021</td>\n",
       "      <td>102.4</td>\n",
       "      <td>102.1</td>\n",
       "      <td>126.1</td>\n",
       "      <td>359.5</td>\n",
       "      <td>3340</td>\n",
       "      <td>350.0</td>\n",
       "      <td>93.5</td>\n",
       "      <td>4054.0</td>\n",
       "      <td>12803.3</td>\n",
       "      <td>7.6</td>\n",
       "    </tr>\n",
       "    <tr>\n",
       "      <th>71</th>\n",
       "      <td>2021-2022</td>\n",
       "      <td>101.4</td>\n",
       "      <td>119.6</td>\n",
       "      <td>129.9</td>\n",
       "      <td>379.6</td>\n",
       "      <td>3420.02</td>\n",
       "      <td>311.2</td>\n",
       "      <td>101.5</td>\n",
       "      <td>4394.3</td>\n",
       "      <td>13444.02</td>\n",
       "      <td>-</td>\n",
       "    </tr>\n",
       "    <tr>\n",
       "      <th>72</th>\n",
       "      <td>2022-2023 (Target)</td>\n",
       "      <td>104.1</td>\n",
       "      <td>121.0</td>\n",
       "      <td>147.7</td>\n",
       "      <td>413.5</td>\n",
       "      <td>-</td>\n",
       "      <td>350.0</td>\n",
       "      <td>105.0</td>\n",
       "      <td>4150.0</td>\n",
       "      <td>-</td>\n",
       "      <td>-</td>\n",
       "    </tr>\n",
       "    <tr>\n",
       "      <th>73</th>\n",
       "      <td>2022-20231</td>\n",
       "      <td>102.8</td>\n",
       "      <td>124.9</td>\n",
       "      <td>149.8</td>\n",
       "      <td>410.0</td>\n",
       "      <td>-</td>\n",
       "      <td>343.5</td>\n",
       "      <td>94.9</td>\n",
       "      <td>4942.3</td>\n",
       "      <td>-</td>\n",
       "      <td>-</td>\n",
       "    </tr>\n",
       "  </tbody>\n",
       "</table>\n",
       "<p>74 rows × 11 columns</p>\n",
       "</div>"
      ],
      "text/plain": [
       "                  Year  Groundnut  Rapeseed & Mustard  Soyabean  \\\n",
       "0         1950-1951          35.0                 8.0       0.0   \n",
       "1         1951-1952          32.0                 9.0       0.0   \n",
       "2         1952-1953          29.0                 9.0       0.0   \n",
       "3         1953-1954          35.0                 9.0       0.0   \n",
       "4         1954-1955          43.0                10.0       0.0   \n",
       "..                 ...        ...                 ...       ...   \n",
       "69           2019-2020       99.5                91.2     112.3   \n",
       "70           2020-2021      102.4               102.1     126.1   \n",
       "71           2021-2022      101.4               119.6     129.9   \n",
       "72  2022-2023 (Target)      104.1               121.0     147.7   \n",
       "73          2022-20231      102.8               124.9     149.8   \n",
       "\n",
       "    Total Oilseeds   Coffee  Cotton (Lint)  Raw Jute & Mesta  Sugarcane  \\\n",
       "0             52.0        0           30.0              33.0      571.0   \n",
       "1             50.0        0           33.0              47.0      616.0   \n",
       "2             47.0        0           33.0              53.0      510.0   \n",
       "3             54.0        0           41.0              38.0      444.0   \n",
       "4             64.0        0           45.0              39.0      587.0   \n",
       "..             ...      ...            ...               ...        ...   \n",
       "69           332.2     2980          350.0              98.8     3705.0   \n",
       "70           359.5     3340          350.0              93.5     4054.0   \n",
       "71           379.6  3420.02          311.2             101.5     4394.3   \n",
       "72           413.5        -          350.0             105.0     4150.0   \n",
       "73           410.0        -          343.5              94.9     4942.3   \n",
       "\n",
       "         Tea Tobacco  \n",
       "0          0       3  \n",
       "1          0       2  \n",
       "2          0       3  \n",
       "3          0       3  \n",
       "4          0       3  \n",
       "..       ...     ...  \n",
       "69   13608.1       8  \n",
       "70   12803.3     7.6  \n",
       "71  13444.02       -  \n",
       "72         -       -  \n",
       "73         -       -  \n",
       "\n",
       "[74 rows x 11 columns]"
      ]
     },
     "execution_count": 41,
     "metadata": {},
     "output_type": "execute_result"
    }
   ],
   "source": [
    "agriculture2"
   ]
  },
  {
   "cell_type": "code",
   "execution_count": 42,
   "id": "0e29a348",
   "metadata": {},
   "outputs": [
    {
     "ename": "AttributeError",
     "evalue": "'Series' object has no attribute 'summ'",
     "output_type": "error",
     "traceback": [
      "\u001b[1;31m---------------------------------------------------------------------------\u001b[0m",
      "\u001b[1;31mAttributeError\u001b[0m                            Traceback (most recent call last)",
      "\u001b[1;32m~\\AppData\\Local\\Temp\\ipykernel_16724\\218816937.py\u001b[0m in \u001b[0;36m<module>\u001b[1;34m\u001b[0m\n\u001b[1;32m----> 1\u001b[1;33m \u001b[0magriculture\u001b[0m\u001b[1;33m.\u001b[0m\u001b[0misnull\u001b[0m\u001b[1;33m(\u001b[0m\u001b[1;33m)\u001b[0m\u001b[1;33m.\u001b[0m\u001b[0msum\u001b[0m\u001b[1;33m(\u001b[0m\u001b[1;33m)\u001b[0m\u001b[1;33m.\u001b[0m\u001b[0msumm\u001b[0m\u001b[1;33m(\u001b[0m\u001b[1;33m)\u001b[0m\u001b[1;33m\u001b[0m\u001b[1;33m\u001b[0m\u001b[0m\n\u001b[0m",
      "\u001b[1;32m~\\anaconda3\\jupyter\\lib\\site-packages\\pandas\\core\\generic.py\u001b[0m in \u001b[0;36m__getattr__\u001b[1;34m(self, name)\u001b[0m\n\u001b[0;32m   5573\u001b[0m         ):\n\u001b[0;32m   5574\u001b[0m             \u001b[1;32mreturn\u001b[0m \u001b[0mself\u001b[0m\u001b[1;33m[\u001b[0m\u001b[0mname\u001b[0m\u001b[1;33m]\u001b[0m\u001b[1;33m\u001b[0m\u001b[1;33m\u001b[0m\u001b[0m\n\u001b[1;32m-> 5575\u001b[1;33m         \u001b[1;32mreturn\u001b[0m \u001b[0mobject\u001b[0m\u001b[1;33m.\u001b[0m\u001b[0m__getattribute__\u001b[0m\u001b[1;33m(\u001b[0m\u001b[0mself\u001b[0m\u001b[1;33m,\u001b[0m \u001b[0mname\u001b[0m\u001b[1;33m)\u001b[0m\u001b[1;33m\u001b[0m\u001b[1;33m\u001b[0m\u001b[0m\n\u001b[0m\u001b[0;32m   5576\u001b[0m \u001b[1;33m\u001b[0m\u001b[0m\n\u001b[0;32m   5577\u001b[0m     \u001b[1;32mdef\u001b[0m \u001b[0m__setattr__\u001b[0m\u001b[1;33m(\u001b[0m\u001b[0mself\u001b[0m\u001b[1;33m,\u001b[0m \u001b[0mname\u001b[0m\u001b[1;33m:\u001b[0m \u001b[0mstr\u001b[0m\u001b[1;33m,\u001b[0m \u001b[0mvalue\u001b[0m\u001b[1;33m)\u001b[0m \u001b[1;33m->\u001b[0m \u001b[1;32mNone\u001b[0m\u001b[1;33m:\u001b[0m\u001b[1;33m\u001b[0m\u001b[1;33m\u001b[0m\u001b[0m\n",
      "\u001b[1;31mAttributeError\u001b[0m: 'Series' object has no attribute 'summ'"
     ]
    }
   ],
   "source": [
    "agriculture.isnull().sum().summ()"
   ]
  },
  {
   "cell_type": "code",
   "execution_count": 43,
   "id": "a0d3915a",
   "metadata": {},
   "outputs": [],
   "source": [
    "# null value with previous value\n",
    "\n",
    "agriculture3 = agriculture.fillna(method = 'pad')"
   ]
  },
  {
   "cell_type": "code",
   "execution_count": 44,
   "id": "404d5718",
   "metadata": {},
   "outputs": [
    {
     "data": {
      "text/plain": [
       "Year                   0\n",
       "Groundnut              0\n",
       "Rapeseed & Mustard     0\n",
       "Soyabean               0\n",
       "Total Oilseeds         0\n",
       "Coffee                 0\n",
       "Cotton (Lint)          0\n",
       "Raw Jute & Mesta       0\n",
       "Sugarcane              0\n",
       "Tea                   20\n",
       "Tobacco                0\n",
       "dtype: int64"
      ]
     },
     "execution_count": 44,
     "metadata": {},
     "output_type": "execute_result"
    }
   ],
   "source": [
    "# ffill \n",
    "\n",
    "agriculture3.isnull().sum()"
   ]
  },
  {
   "cell_type": "code",
   "execution_count": 8,
   "id": "2f682579",
   "metadata": {},
   "outputs": [],
   "source": [
    "# filling na values with next value \n",
    "\n",
    "\n",
    "agriculture4 = agriculture.fillna(method= \"bfill\")"
   ]
  },
  {
   "cell_type": "code",
   "execution_count": 9,
   "id": "572291fa",
   "metadata": {},
   "outputs": [
    {
     "data": {
      "text/plain": [
       "Year                  0\n",
       "Groundnut             0\n",
       "Rapeseed & Mustard    0\n",
       "Soyabean              0\n",
       "Total Oilseeds        0\n",
       "Coffee                0\n",
       "Cotton (Lint)         0\n",
       "Raw Jute & Mesta      0\n",
       "Sugarcane             0\n",
       "Tea                   0\n",
       "Tobacco               0\n",
       "dtype: int64"
      ]
     },
     "execution_count": 9,
     "metadata": {},
     "output_type": "execute_result"
    }
   ],
   "source": [
    "agriculture4.isnull().sum()"
   ]
  },
  {
   "cell_type": "code",
   "execution_count": 9,
   "id": "9db24bb3",
   "metadata": {},
   "outputs": [],
   "source": [
    "agriculture4 = agriculture.fillna(method= \"bfill\", axis=1)"
   ]
  },
  {
   "cell_type": "code",
   "execution_count": 11,
   "id": "b5f96ad1",
   "metadata": {},
   "outputs": [],
   "source": [
    "agriculture['Tobacco'] = agriculture['Tobacco'].interpolate(method= \"linear\")"
   ]
  },
  {
   "cell_type": "code",
   "execution_count": null,
   "id": "0cc7392a",
   "metadata": {},
   "outputs": [],
   "source": []
  },
  {
   "cell_type": "code",
   "execution_count": null,
   "id": "b2352b5a",
   "metadata": {},
   "outputs": [],
   "source": []
  },
  {
   "cell_type": "code",
   "execution_count": 12,
   "id": "6304da35",
   "metadata": {},
   "outputs": [
    {
     "data": {
      "text/plain": [
       "Index(['Year', 'Groundnut', 'Rapeseed & Mustard', 'Soyabean', 'Total Oilseeds',\n",
       "       'Coffee', 'Cotton (Lint)', 'Raw Jute & Mesta', 'Sugarcane', 'Tea',\n",
       "       'Tobacco'],\n",
       "      dtype='object')"
      ]
     },
     "execution_count": 12,
     "metadata": {},
     "output_type": "execute_result"
    }
   ],
   "source": [
    "agriculture.columns"
   ]
  },
  {
   "cell_type": "code",
   "execution_count": 13,
   "id": "b61faa22",
   "metadata": {},
   "outputs": [
    {
     "data": {
      "text/html": [
       "<div>\n",
       "<style scoped>\n",
       "    .dataframe tbody tr th:only-of-type {\n",
       "        vertical-align: middle;\n",
       "    }\n",
       "\n",
       "    .dataframe tbody tr th {\n",
       "        vertical-align: top;\n",
       "    }\n",
       "\n",
       "    .dataframe thead th {\n",
       "        text-align: right;\n",
       "    }\n",
       "</style>\n",
       "<table border=\"1\" class=\"dataframe\">\n",
       "  <thead>\n",
       "    <tr style=\"text-align: right;\">\n",
       "      <th></th>\n",
       "      <th>Year</th>\n",
       "      <th>Groundnut</th>\n",
       "      <th>Rapeseed &amp; Mustard</th>\n",
       "      <th>Soyabean</th>\n",
       "      <th>Total Oilseeds</th>\n",
       "      <th>Coffee</th>\n",
       "      <th>Cotton (Lint)</th>\n",
       "      <th>Raw Jute &amp; Mesta</th>\n",
       "      <th>Sugarcane</th>\n",
       "      <th>Tea</th>\n",
       "      <th>Tobacco</th>\n",
       "    </tr>\n",
       "  </thead>\n",
       "  <tbody>\n",
       "    <tr>\n",
       "      <th>0</th>\n",
       "      <td>1950-1951</td>\n",
       "      <td>35.0</td>\n",
       "      <td>8.0</td>\n",
       "      <td>NaN</td>\n",
       "      <td>52.0</td>\n",
       "      <td>NaN</td>\n",
       "      <td>30.0</td>\n",
       "      <td>33.0</td>\n",
       "      <td>571.0</td>\n",
       "      <td>NaN</td>\n",
       "      <td>3</td>\n",
       "    </tr>\n",
       "    <tr>\n",
       "      <th>1</th>\n",
       "      <td>1951-1952</td>\n",
       "      <td>32.0</td>\n",
       "      <td>9.0</td>\n",
       "      <td>NaN</td>\n",
       "      <td>50.0</td>\n",
       "      <td>NaN</td>\n",
       "      <td>33.0</td>\n",
       "      <td>47.0</td>\n",
       "      <td>616.0</td>\n",
       "      <td>NaN</td>\n",
       "      <td>2</td>\n",
       "    </tr>\n",
       "    <tr>\n",
       "      <th>2</th>\n",
       "      <td>1952-1953</td>\n",
       "      <td>29.0</td>\n",
       "      <td>9.0</td>\n",
       "      <td>NaN</td>\n",
       "      <td>47.0</td>\n",
       "      <td>NaN</td>\n",
       "      <td>33.0</td>\n",
       "      <td>53.0</td>\n",
       "      <td>510.0</td>\n",
       "      <td>NaN</td>\n",
       "      <td>3</td>\n",
       "    </tr>\n",
       "    <tr>\n",
       "      <th>3</th>\n",
       "      <td>1953-1954</td>\n",
       "      <td>35.0</td>\n",
       "      <td>9.0</td>\n",
       "      <td>NaN</td>\n",
       "      <td>54.0</td>\n",
       "      <td>NaN</td>\n",
       "      <td>41.0</td>\n",
       "      <td>38.0</td>\n",
       "      <td>444.0</td>\n",
       "      <td>NaN</td>\n",
       "      <td>3</td>\n",
       "    </tr>\n",
       "    <tr>\n",
       "      <th>4</th>\n",
       "      <td>1954-1955</td>\n",
       "      <td>43.0</td>\n",
       "      <td>10.0</td>\n",
       "      <td>NaN</td>\n",
       "      <td>64.0</td>\n",
       "      <td>NaN</td>\n",
       "      <td>45.0</td>\n",
       "      <td>39.0</td>\n",
       "      <td>587.0</td>\n",
       "      <td>NaN</td>\n",
       "      <td>3</td>\n",
       "    </tr>\n",
       "    <tr>\n",
       "      <th>...</th>\n",
       "      <td>...</td>\n",
       "      <td>...</td>\n",
       "      <td>...</td>\n",
       "      <td>...</td>\n",
       "      <td>...</td>\n",
       "      <td>...</td>\n",
       "      <td>...</td>\n",
       "      <td>...</td>\n",
       "      <td>...</td>\n",
       "      <td>...</td>\n",
       "      <td>...</td>\n",
       "    </tr>\n",
       "    <tr>\n",
       "      <th>69</th>\n",
       "      <td>2019-2020</td>\n",
       "      <td>99.5</td>\n",
       "      <td>91.2</td>\n",
       "      <td>112.3</td>\n",
       "      <td>332.2</td>\n",
       "      <td>2980</td>\n",
       "      <td>360.7</td>\n",
       "      <td>98.8</td>\n",
       "      <td>3705.0</td>\n",
       "      <td>13608.1</td>\n",
       "      <td>8</td>\n",
       "    </tr>\n",
       "    <tr>\n",
       "      <th>70</th>\n",
       "      <td>2020-2021</td>\n",
       "      <td>102.4</td>\n",
       "      <td>102.1</td>\n",
       "      <td>126.1</td>\n",
       "      <td>359.5</td>\n",
       "      <td>3340</td>\n",
       "      <td>352.5</td>\n",
       "      <td>93.5</td>\n",
       "      <td>4054.0</td>\n",
       "      <td>12803.3</td>\n",
       "      <td>7.6</td>\n",
       "    </tr>\n",
       "    <tr>\n",
       "      <th>71</th>\n",
       "      <td>2021-2022</td>\n",
       "      <td>101.4</td>\n",
       "      <td>119.6</td>\n",
       "      <td>129.9</td>\n",
       "      <td>379.6</td>\n",
       "      <td>3420.02</td>\n",
       "      <td>311.2</td>\n",
       "      <td>101.5</td>\n",
       "      <td>4394.3</td>\n",
       "      <td>13444.02</td>\n",
       "      <td>-</td>\n",
       "    </tr>\n",
       "    <tr>\n",
       "      <th>72</th>\n",
       "      <td>2022-2023 (Target)</td>\n",
       "      <td>104.1</td>\n",
       "      <td>121.0</td>\n",
       "      <td>147.7</td>\n",
       "      <td>413.5</td>\n",
       "      <td>-</td>\n",
       "      <td>370.0</td>\n",
       "      <td>105.0</td>\n",
       "      <td>4150.0</td>\n",
       "      <td>-</td>\n",
       "      <td>-</td>\n",
       "    </tr>\n",
       "    <tr>\n",
       "      <th>73</th>\n",
       "      <td>2022-20231</td>\n",
       "      <td>102.8</td>\n",
       "      <td>124.9</td>\n",
       "      <td>149.8</td>\n",
       "      <td>410.0</td>\n",
       "      <td>-</td>\n",
       "      <td>343.5</td>\n",
       "      <td>94.9</td>\n",
       "      <td>4942.3</td>\n",
       "      <td>-</td>\n",
       "      <td>-</td>\n",
       "    </tr>\n",
       "  </tbody>\n",
       "</table>\n",
       "<p>74 rows × 11 columns</p>\n",
       "</div>"
      ],
      "text/plain": [
       "                  Year  Groundnut  Rapeseed & Mustard  Soyabean  \\\n",
       "0         1950-1951          35.0                 8.0       NaN   \n",
       "1         1951-1952          32.0                 9.0       NaN   \n",
       "2         1952-1953          29.0                 9.0       NaN   \n",
       "3         1953-1954          35.0                 9.0       NaN   \n",
       "4         1954-1955          43.0                10.0       NaN   \n",
       "..                 ...        ...                 ...       ...   \n",
       "69           2019-2020       99.5                91.2     112.3   \n",
       "70           2020-2021      102.4               102.1     126.1   \n",
       "71           2021-2022      101.4               119.6     129.9   \n",
       "72  2022-2023 (Target)      104.1               121.0     147.7   \n",
       "73          2022-20231      102.8               124.9     149.8   \n",
       "\n",
       "    Total Oilseeds   Coffee  Cotton (Lint)  Raw Jute & Mesta  Sugarcane  \\\n",
       "0             52.0      NaN           30.0              33.0      571.0   \n",
       "1             50.0      NaN           33.0              47.0      616.0   \n",
       "2             47.0      NaN           33.0              53.0      510.0   \n",
       "3             54.0      NaN           41.0              38.0      444.0   \n",
       "4             64.0      NaN           45.0              39.0      587.0   \n",
       "..             ...      ...            ...               ...        ...   \n",
       "69           332.2     2980          360.7              98.8     3705.0   \n",
       "70           359.5     3340          352.5              93.5     4054.0   \n",
       "71           379.6  3420.02          311.2             101.5     4394.3   \n",
       "72           413.5        -          370.0             105.0     4150.0   \n",
       "73           410.0        -          343.5              94.9     4942.3   \n",
       "\n",
       "         Tea Tobacco  \n",
       "0        NaN       3  \n",
       "1        NaN       2  \n",
       "2        NaN       3  \n",
       "3        NaN       3  \n",
       "4        NaN       3  \n",
       "..       ...     ...  \n",
       "69   13608.1       8  \n",
       "70   12803.3     7.6  \n",
       "71  13444.02       -  \n",
       "72         -       -  \n",
       "73         -       -  \n",
       "\n",
       "[74 rows x 11 columns]"
      ]
     },
     "execution_count": 13,
     "metadata": {},
     "output_type": "execute_result"
    }
   ],
   "source": [
    "agriculture"
   ]
  },
  {
   "cell_type": "code",
   "execution_count": 10,
   "id": "d806586a",
   "metadata": {},
   "outputs": [],
   "source": [
    "from sklearn import preprocessing\n",
    "from sklearn.preprocessing import StandardScaler,MinMaxScaler"
   ]
  },
  {
   "cell_type": "code",
   "execution_count": 11,
   "id": "db1198ad",
   "metadata": {},
   "outputs": [
    {
     "ename": "TypeError",
     "evalue": "fit_transform() missing 1 required positional argument: 'X'",
     "output_type": "error",
     "traceback": [
      "\u001b[1;31m---------------------------------------------------------------------------\u001b[0m",
      "\u001b[1;31mTypeError\u001b[0m                                 Traceback (most recent call last)",
      "\u001b[1;32m~\\AppData\\Local\\Temp\\ipykernel_2920\\2764879381.py\u001b[0m in \u001b[0;36m<module>\u001b[1;34m\u001b[0m\n\u001b[0;32m      2\u001b[0m agriculture4[[ 'Groundnut', 'Rapeseed & Mustard', 'Soyabean', 'Total Oilseeds',\n\u001b[0;32m      3\u001b[0m        \u001b[1;34m'Coffee'\u001b[0m\u001b[1;33m,\u001b[0m \u001b[1;34m'Cotton (Lint)'\u001b[0m\u001b[1;33m,\u001b[0m \u001b[1;34m'Raw Jute & Mesta'\u001b[0m\u001b[1;33m,\u001b[0m \u001b[1;34m'Sugarcane'\u001b[0m\u001b[1;33m,\u001b[0m \u001b[1;34m'Tea'\u001b[0m\u001b[1;33m,\u001b[0m\u001b[1;33m\u001b[0m\u001b[1;33m\u001b[0m\u001b[0m\n\u001b[1;32m----> 4\u001b[1;33m        'Tobacco']]= MinMaxScaler.fit_transform(agriculture4[[ 'Groundnut', 'Rapeseed & Mustard', 'Soyabean', 'Total Oilseeds',\n\u001b[0m\u001b[0;32m      5\u001b[0m        'Coffee', 'Cotton (Lint)', 'Raw Jute & Mesta', 'Sugarcane', 'Tea','Tobacco']])\n",
      "\u001b[1;31mTypeError\u001b[0m: fit_transform() missing 1 required positional argument: 'X'"
     ]
    }
   ],
   "source": [
    "min_max_sealir = preprocessing.MinMaxScaler()\n",
    "agriculture4[[ 'Groundnut', 'Rapeseed & Mustard', 'Soyabean', 'Total Oilseeds',\n",
    "       'Coffee', 'Cotton (Lint)', 'Raw Jute & Mesta', 'Sugarcane', 'Tea',\n",
    "       'Tobacco']]= MinMaxScaler.fit_transform(agriculture4[[ 'Groundnut', 'Rapeseed & Mustard', 'Soyabean', 'Total Oilseeds',\n",
    "       'Coffee', 'Cotton (Lint)', 'Raw Jute & Mesta', 'Sugarcane', 'Tea','Tobacco']])"
   ]
  },
  {
   "cell_type": "code",
   "execution_count": null,
   "id": "39139792",
   "metadata": {},
   "outputs": [],
   "source": [
    "df09 = agriculture.drop(columns=\"Year\")"
   ]
  },
  {
   "cell_type": "code",
   "execution_count": 16,
   "id": "ab36a3b1",
   "metadata": {},
   "outputs": [
    {
     "ename": "NameError",
     "evalue": "name 'df09' is not defined",
     "output_type": "error",
     "traceback": [
      "\u001b[1;31m---------------------------------------------------------------------------\u001b[0m",
      "\u001b[1;31mNameError\u001b[0m                                 Traceback (most recent call last)",
      "\u001b[1;32m~\\AppData\\Local\\Temp\\ipykernel_22620\\3197540626.py\u001b[0m in \u001b[0;36m<module>\u001b[1;34m\u001b[0m\n\u001b[0;32m      1\u001b[0m \u001b[0mscaler\u001b[0m \u001b[1;33m=\u001b[0m \u001b[0mMinMaxScaler\u001b[0m\u001b[1;33m(\u001b[0m\u001b[1;33m)\u001b[0m\u001b[1;33m\u001b[0m\u001b[1;33m\u001b[0m\u001b[0m\n\u001b[1;32m----> 2\u001b[1;33m \u001b[0mscaler\u001b[0m\u001b[1;33m.\u001b[0m\u001b[0mfit_transform\u001b[0m\u001b[1;33m(\u001b[0m\u001b[0mdf09\u001b[0m\u001b[1;33m)\u001b[0m\u001b[1;33m\u001b[0m\u001b[1;33m\u001b[0m\u001b[0m\n\u001b[0m",
      "\u001b[1;31mNameError\u001b[0m: name 'df09' is not defined"
     ]
    }
   ],
   "source": [
    "scaler = MinMaxScaler()\n",
    "scaler.fit_transform(df09)"
   ]
  },
  {
   "cell_type": "code",
   "execution_count": 17,
   "id": "9e43f00e",
   "metadata": {},
   "outputs": [
    {
     "data": {
      "text/plain": [
       "Index(['Year', 'Groundnut', 'Rapeseed & Mustard', 'Soyabean', 'Total Oilseeds',\n",
       "       'Coffee', 'Cotton (Lint)', 'Raw Jute & Mesta', 'Sugarcane', 'Tea',\n",
       "       'Tobacco'],\n",
       "      dtype='object')"
      ]
     },
     "execution_count": 17,
     "metadata": {},
     "output_type": "execute_result"
    }
   ],
   "source": [
    "agriculture4.columns"
   ]
  },
  {
   "cell_type": "code",
   "execution_count": 18,
   "id": "b7a06266",
   "metadata": {},
   "outputs": [
    {
     "data": {
      "text/plain": [
       "Year                  0\n",
       "Groundnut             0\n",
       "Rapeseed & Mustard    0\n",
       "Soyabean              0\n",
       "Total Oilseeds        0\n",
       "Coffee                0\n",
       "Cotton (Lint)         0\n",
       "Raw Jute & Mesta      0\n",
       "Sugarcane             0\n",
       "Tea                   0\n",
       "Tobacco               0\n",
       "dtype: int64"
      ]
     },
     "execution_count": 18,
     "metadata": {},
     "output_type": "execute_result"
    }
   ],
   "source": [
    "agriculture4.isna().sum()"
   ]
  },
  {
   "cell_type": "code",
   "execution_count": 12,
   "id": "94aa01c2",
   "metadata": {},
   "outputs": [
    {
     "ename": "AttributeError",
     "evalue": "module 'sklearn.preprocessing' has no attribute 'min_max_sealir'",
     "output_type": "error",
     "traceback": [
      "\u001b[1;31m---------------------------------------------------------------------------\u001b[0m",
      "\u001b[1;31mAttributeError\u001b[0m                            Traceback (most recent call last)",
      "\u001b[1;32m~\\AppData\\Local\\Temp\\ipykernel_2920\\3227113343.py\u001b[0m in \u001b[0;36m<module>\u001b[1;34m\u001b[0m\n\u001b[0;32m      1\u001b[0m \u001b[1;32mfrom\u001b[0m \u001b[0msklearn\u001b[0m \u001b[1;32mimport\u001b[0m \u001b[0mpreprocessing\u001b[0m\u001b[1;33m\u001b[0m\u001b[1;33m\u001b[0m\u001b[0m\n\u001b[1;32m----> 2\u001b[1;33m \u001b[0mmin_max_sealir\u001b[0m \u001b[1;33m=\u001b[0m \u001b[0mpreprocessing\u001b[0m\u001b[1;33m.\u001b[0m\u001b[0mmin_max_sealir\u001b[0m\u001b[1;33m(\u001b[0m\u001b[1;33m)\u001b[0m\u001b[1;33m\u001b[0m\u001b[1;33m\u001b[0m\u001b[0m\n\u001b[0m\u001b[0;32m      3\u001b[0m agriculture4[['Year', 'Groundnut', 'Rapeseed & Mustard', 'Soyabean', 'Total Oilseeds',\n\u001b[0;32m      4\u001b[0m        \u001b[1;34m'Coffee'\u001b[0m\u001b[1;33m,\u001b[0m \u001b[1;34m'Cotton (Lint)'\u001b[0m\u001b[1;33m,\u001b[0m \u001b[1;34m'Raw Jute & Mesta'\u001b[0m\u001b[1;33m,\u001b[0m \u001b[1;34m'Sugarcane'\u001b[0m\u001b[1;33m,\u001b[0m \u001b[1;34m'Tea'\u001b[0m\u001b[1;33m,\u001b[0m\u001b[1;33m\u001b[0m\u001b[1;33m\u001b[0m\u001b[0m\n\u001b[0;32m      5\u001b[0m        'Tobacco']] = min_max_sealir.fit_transform(agriculture4[['Year', 'Groundnut', 'Rapeseed & Mustard', 'Soyabean', 'Total Oilseeds',\n",
      "\u001b[1;31mAttributeError\u001b[0m: module 'sklearn.preprocessing' has no attribute 'min_max_sealir'"
     ]
    }
   ],
   "source": [
    "from sklearn import preprocessing\n",
    "min_max_sealir = preprocessing.min_max_sealir()\n",
    "agriculture4[['Year', 'Groundnut', 'Rapeseed & Mustard', 'Soyabean', 'Total Oilseeds',\n",
    "       'Coffee', 'Cotton (Lint)', 'Raw Jute & Mesta', 'Sugarcane', 'Tea',\n",
    "       'Tobacco']] = min_max_sealir.fit_transform(agriculture4[['Year', 'Groundnut', 'Rapeseed & Mustard', 'Soyabean', 'Total Oilseeds',\n",
    "       'Coffee', 'Cotton (Lint)', 'Raw Jute & Mesta', 'Sugarcane', 'Tea',\n",
    "       'Tobacco']])"
   ]
  },
  {
   "cell_type": "code",
   "execution_count": 13,
   "id": "005a96ce",
   "metadata": {},
   "outputs": [],
   "source": [
    "agriculture4 = agriculture4.dropna(how='any')"
   ]
  },
  {
   "cell_type": "code",
   "execution_count": 14,
   "id": "86e84235",
   "metadata": {},
   "outputs": [],
   "source": [
    "from sklearn.preprocessing import StandardScaler, MinMaxScaler"
   ]
  },
  {
   "cell_type": "code",
   "execution_count": 15,
   "id": "0fda3ae9",
   "metadata": {},
   "outputs": [
    {
     "data": {
      "text/plain": [
       "Index(['Year', 'Groundnut', 'Rapeseed & Mustard', 'Soyabean', 'Total Oilseeds',\n",
       "       'Coffee', 'Cotton (Lint)', 'Raw Jute & Mesta', 'Sugarcane', 'Tea',\n",
       "       'Tobacco'],\n",
       "      dtype='object')"
      ]
     },
     "execution_count": 15,
     "metadata": {},
     "output_type": "execute_result"
    }
   ],
   "source": [
    "agriculture4.columns"
   ]
  },
  {
   "cell_type": "code",
   "execution_count": 16,
   "id": "8ae0a108",
   "metadata": {},
   "outputs": [],
   "source": [
    "agriculture4 = agriculture4.drop(columns=\"Year\")"
   ]
  },
  {
   "cell_type": "code",
   "execution_count": 17,
   "id": "6786bedb",
   "metadata": {},
   "outputs": [
    {
     "ename": "ValueError",
     "evalue": "could not convert string to float: '-'",
     "output_type": "error",
     "traceback": [
      "\u001b[1;31m---------------------------------------------------------------------------\u001b[0m",
      "\u001b[1;31mValueError\u001b[0m                                Traceback (most recent call last)",
      "\u001b[1;32m~\\AppData\\Local\\Temp\\ipykernel_2920\\2960499386.py\u001b[0m in \u001b[0;36m<module>\u001b[1;34m\u001b[0m\n\u001b[0;32m      1\u001b[0m \u001b[0mscaler\u001b[0m \u001b[1;33m=\u001b[0m \u001b[0mStandardScaler\u001b[0m\u001b[1;33m(\u001b[0m\u001b[1;33m)\u001b[0m\u001b[1;33m\u001b[0m\u001b[1;33m\u001b[0m\u001b[0m\n\u001b[1;32m----> 2\u001b[1;33m \u001b[0mscaler\u001b[0m\u001b[1;33m.\u001b[0m\u001b[0mfit\u001b[0m\u001b[1;33m(\u001b[0m\u001b[0magriculture4\u001b[0m\u001b[1;33m)\u001b[0m\u001b[1;33m\u001b[0m\u001b[1;33m\u001b[0m\u001b[0m\n\u001b[0m\u001b[0;32m      3\u001b[0m \u001b[0mscaler\u001b[0m\u001b[1;33m.\u001b[0m\u001b[0mtransform\u001b[0m\u001b[1;33m(\u001b[0m\u001b[0magriculture4\u001b[0m\u001b[1;33m)\u001b[0m\u001b[1;33m\u001b[0m\u001b[1;33m\u001b[0m\u001b[0m\n",
      "\u001b[1;32m~\\anaconda3\\jupyter\\lib\\site-packages\\sklearn\\preprocessing\\_data.py\u001b[0m in \u001b[0;36mfit\u001b[1;34m(self, X, y, sample_weight)\u001b[0m\n\u001b[0;32m    804\u001b[0m         \u001b[1;31m# Reset internal state before fitting\u001b[0m\u001b[1;33m\u001b[0m\u001b[1;33m\u001b[0m\u001b[0m\n\u001b[0;32m    805\u001b[0m         \u001b[0mself\u001b[0m\u001b[1;33m.\u001b[0m\u001b[0m_reset\u001b[0m\u001b[1;33m(\u001b[0m\u001b[1;33m)\u001b[0m\u001b[1;33m\u001b[0m\u001b[1;33m\u001b[0m\u001b[0m\n\u001b[1;32m--> 806\u001b[1;33m         \u001b[1;32mreturn\u001b[0m \u001b[0mself\u001b[0m\u001b[1;33m.\u001b[0m\u001b[0mpartial_fit\u001b[0m\u001b[1;33m(\u001b[0m\u001b[0mX\u001b[0m\u001b[1;33m,\u001b[0m \u001b[0my\u001b[0m\u001b[1;33m,\u001b[0m \u001b[0msample_weight\u001b[0m\u001b[1;33m)\u001b[0m\u001b[1;33m\u001b[0m\u001b[1;33m\u001b[0m\u001b[0m\n\u001b[0m\u001b[0;32m    807\u001b[0m \u001b[1;33m\u001b[0m\u001b[0m\n\u001b[0;32m    808\u001b[0m     \u001b[1;32mdef\u001b[0m \u001b[0mpartial_fit\u001b[0m\u001b[1;33m(\u001b[0m\u001b[0mself\u001b[0m\u001b[1;33m,\u001b[0m \u001b[0mX\u001b[0m\u001b[1;33m,\u001b[0m \u001b[0my\u001b[0m\u001b[1;33m=\u001b[0m\u001b[1;32mNone\u001b[0m\u001b[1;33m,\u001b[0m \u001b[0msample_weight\u001b[0m\u001b[1;33m=\u001b[0m\u001b[1;32mNone\u001b[0m\u001b[1;33m)\u001b[0m\u001b[1;33m:\u001b[0m\u001b[1;33m\u001b[0m\u001b[1;33m\u001b[0m\u001b[0m\n",
      "\u001b[1;32m~\\anaconda3\\jupyter\\lib\\site-packages\\sklearn\\preprocessing\\_data.py\u001b[0m in \u001b[0;36mpartial_fit\u001b[1;34m(self, X, y, sample_weight)\u001b[0m\n\u001b[0;32m    839\u001b[0m         \"\"\"\n\u001b[0;32m    840\u001b[0m         \u001b[0mfirst_call\u001b[0m \u001b[1;33m=\u001b[0m \u001b[1;32mnot\u001b[0m \u001b[0mhasattr\u001b[0m\u001b[1;33m(\u001b[0m\u001b[0mself\u001b[0m\u001b[1;33m,\u001b[0m \u001b[1;34m\"n_samples_seen_\"\u001b[0m\u001b[1;33m)\u001b[0m\u001b[1;33m\u001b[0m\u001b[1;33m\u001b[0m\u001b[0m\n\u001b[1;32m--> 841\u001b[1;33m         X = self._validate_data(\n\u001b[0m\u001b[0;32m    842\u001b[0m             \u001b[0mX\u001b[0m\u001b[1;33m,\u001b[0m\u001b[1;33m\u001b[0m\u001b[1;33m\u001b[0m\u001b[0m\n\u001b[0;32m    843\u001b[0m             \u001b[0maccept_sparse\u001b[0m\u001b[1;33m=\u001b[0m\u001b[1;33m(\u001b[0m\u001b[1;34m\"csr\"\u001b[0m\u001b[1;33m,\u001b[0m \u001b[1;34m\"csc\"\u001b[0m\u001b[1;33m)\u001b[0m\u001b[1;33m,\u001b[0m\u001b[1;33m\u001b[0m\u001b[1;33m\u001b[0m\u001b[0m\n",
      "\u001b[1;32m~\\anaconda3\\jupyter\\lib\\site-packages\\sklearn\\base.py\u001b[0m in \u001b[0;36m_validate_data\u001b[1;34m(self, X, y, reset, validate_separately, **check_params)\u001b[0m\n\u001b[0;32m    564\u001b[0m             \u001b[1;32mraise\u001b[0m \u001b[0mValueError\u001b[0m\u001b[1;33m(\u001b[0m\u001b[1;34m\"Validation should be done on X, y or both.\"\u001b[0m\u001b[1;33m)\u001b[0m\u001b[1;33m\u001b[0m\u001b[1;33m\u001b[0m\u001b[0m\n\u001b[0;32m    565\u001b[0m         \u001b[1;32melif\u001b[0m \u001b[1;32mnot\u001b[0m \u001b[0mno_val_X\u001b[0m \u001b[1;32mand\u001b[0m \u001b[0mno_val_y\u001b[0m\u001b[1;33m:\u001b[0m\u001b[1;33m\u001b[0m\u001b[1;33m\u001b[0m\u001b[0m\n\u001b[1;32m--> 566\u001b[1;33m             \u001b[0mX\u001b[0m \u001b[1;33m=\u001b[0m \u001b[0mcheck_array\u001b[0m\u001b[1;33m(\u001b[0m\u001b[0mX\u001b[0m\u001b[1;33m,\u001b[0m \u001b[1;33m**\u001b[0m\u001b[0mcheck_params\u001b[0m\u001b[1;33m)\u001b[0m\u001b[1;33m\u001b[0m\u001b[1;33m\u001b[0m\u001b[0m\n\u001b[0m\u001b[0;32m    567\u001b[0m             \u001b[0mout\u001b[0m \u001b[1;33m=\u001b[0m \u001b[0mX\u001b[0m\u001b[1;33m\u001b[0m\u001b[1;33m\u001b[0m\u001b[0m\n\u001b[0;32m    568\u001b[0m         \u001b[1;32melif\u001b[0m \u001b[0mno_val_X\u001b[0m \u001b[1;32mand\u001b[0m \u001b[1;32mnot\u001b[0m \u001b[0mno_val_y\u001b[0m\u001b[1;33m:\u001b[0m\u001b[1;33m\u001b[0m\u001b[1;33m\u001b[0m\u001b[0m\n",
      "\u001b[1;32m~\\anaconda3\\jupyter\\lib\\site-packages\\sklearn\\utils\\validation.py\u001b[0m in \u001b[0;36mcheck_array\u001b[1;34m(array, accept_sparse, accept_large_sparse, dtype, order, copy, force_all_finite, ensure_2d, allow_nd, ensure_min_samples, ensure_min_features, estimator)\u001b[0m\n\u001b[0;32m    744\u001b[0m                     \u001b[0marray\u001b[0m \u001b[1;33m=\u001b[0m \u001b[0marray\u001b[0m\u001b[1;33m.\u001b[0m\u001b[0mastype\u001b[0m\u001b[1;33m(\u001b[0m\u001b[0mdtype\u001b[0m\u001b[1;33m,\u001b[0m \u001b[0mcasting\u001b[0m\u001b[1;33m=\u001b[0m\u001b[1;34m\"unsafe\"\u001b[0m\u001b[1;33m,\u001b[0m \u001b[0mcopy\u001b[0m\u001b[1;33m=\u001b[0m\u001b[1;32mFalse\u001b[0m\u001b[1;33m)\u001b[0m\u001b[1;33m\u001b[0m\u001b[1;33m\u001b[0m\u001b[0m\n\u001b[0;32m    745\u001b[0m                 \u001b[1;32melse\u001b[0m\u001b[1;33m:\u001b[0m\u001b[1;33m\u001b[0m\u001b[1;33m\u001b[0m\u001b[0m\n\u001b[1;32m--> 746\u001b[1;33m                     \u001b[0marray\u001b[0m \u001b[1;33m=\u001b[0m \u001b[0mnp\u001b[0m\u001b[1;33m.\u001b[0m\u001b[0masarray\u001b[0m\u001b[1;33m(\u001b[0m\u001b[0marray\u001b[0m\u001b[1;33m,\u001b[0m \u001b[0morder\u001b[0m\u001b[1;33m=\u001b[0m\u001b[0morder\u001b[0m\u001b[1;33m,\u001b[0m \u001b[0mdtype\u001b[0m\u001b[1;33m=\u001b[0m\u001b[0mdtype\u001b[0m\u001b[1;33m)\u001b[0m\u001b[1;33m\u001b[0m\u001b[1;33m\u001b[0m\u001b[0m\n\u001b[0m\u001b[0;32m    747\u001b[0m             \u001b[1;32mexcept\u001b[0m \u001b[0mComplexWarning\u001b[0m \u001b[1;32mas\u001b[0m \u001b[0mcomplex_warning\u001b[0m\u001b[1;33m:\u001b[0m\u001b[1;33m\u001b[0m\u001b[1;33m\u001b[0m\u001b[0m\n\u001b[0;32m    748\u001b[0m                 raise ValueError(\n",
      "\u001b[1;32m~\\anaconda3\\jupyter\\lib\\site-packages\\pandas\\core\\generic.py\u001b[0m in \u001b[0;36m__array__\u001b[1;34m(self, dtype)\u001b[0m\n\u001b[0;32m   2062\u001b[0m \u001b[1;33m\u001b[0m\u001b[0m\n\u001b[0;32m   2063\u001b[0m     \u001b[1;32mdef\u001b[0m \u001b[0m__array__\u001b[0m\u001b[1;33m(\u001b[0m\u001b[0mself\u001b[0m\u001b[1;33m,\u001b[0m \u001b[0mdtype\u001b[0m\u001b[1;33m:\u001b[0m \u001b[0mnpt\u001b[0m\u001b[1;33m.\u001b[0m\u001b[0mDTypeLike\u001b[0m \u001b[1;33m|\u001b[0m \u001b[1;32mNone\u001b[0m \u001b[1;33m=\u001b[0m \u001b[1;32mNone\u001b[0m\u001b[1;33m)\u001b[0m \u001b[1;33m->\u001b[0m \u001b[0mnp\u001b[0m\u001b[1;33m.\u001b[0m\u001b[0mndarray\u001b[0m\u001b[1;33m:\u001b[0m\u001b[1;33m\u001b[0m\u001b[1;33m\u001b[0m\u001b[0m\n\u001b[1;32m-> 2064\u001b[1;33m         \u001b[1;32mreturn\u001b[0m \u001b[0mnp\u001b[0m\u001b[1;33m.\u001b[0m\u001b[0masarray\u001b[0m\u001b[1;33m(\u001b[0m\u001b[0mself\u001b[0m\u001b[1;33m.\u001b[0m\u001b[0m_values\u001b[0m\u001b[1;33m,\u001b[0m \u001b[0mdtype\u001b[0m\u001b[1;33m=\u001b[0m\u001b[0mdtype\u001b[0m\u001b[1;33m)\u001b[0m\u001b[1;33m\u001b[0m\u001b[1;33m\u001b[0m\u001b[0m\n\u001b[0m\u001b[0;32m   2065\u001b[0m \u001b[1;33m\u001b[0m\u001b[0m\n\u001b[0;32m   2066\u001b[0m     def __array_wrap__(\n",
      "\u001b[1;31mValueError\u001b[0m: could not convert string to float: '-'"
     ]
    }
   ],
   "source": [
    "scaler = StandardScaler()\n",
    "scaler.fit(agriculture4)\n",
    "scaler.transform(agriculture4)"
   ]
  },
  {
   "cell_type": "code",
   "execution_count": 18,
   "id": "19332698",
   "metadata": {},
   "outputs": [],
   "source": [
    "from sklearn import preprocessing\n"
   ]
  },
  {
   "cell_type": "code",
   "execution_count": 19,
   "id": "53d8dc3a",
   "metadata": {},
   "outputs": [],
   "source": [
    "min_max_scaler = preprocessing.MinMaxScaler()"
   ]
  },
  {
   "cell_type": "code",
   "execution_count": 20,
   "id": "39f3627b",
   "metadata": {},
   "outputs": [],
   "source": [
    "\n",
    "agriculture4[['Groundnut','Soyabean']] = min_max_scaler.fit_transform(agriculture4[['Groundnut','Soyabean']])"
   ]
  },
  {
   "cell_type": "code",
   "execution_count": 21,
   "id": "2fc5d011",
   "metadata": {},
   "outputs": [
    {
     "data": {
      "text/html": [
       "<div>\n",
       "<style scoped>\n",
       "    .dataframe tbody tr th:only-of-type {\n",
       "        vertical-align: middle;\n",
       "    }\n",
       "\n",
       "    .dataframe tbody tr th {\n",
       "        vertical-align: top;\n",
       "    }\n",
       "\n",
       "    .dataframe thead th {\n",
       "        text-align: right;\n",
       "    }\n",
       "</style>\n",
       "<table border=\"1\" class=\"dataframe\">\n",
       "  <thead>\n",
       "    <tr style=\"text-align: right;\">\n",
       "      <th></th>\n",
       "      <th>Groundnut</th>\n",
       "      <th>Rapeseed &amp; Mustard</th>\n",
       "      <th>Soyabean</th>\n",
       "      <th>Total Oilseeds</th>\n",
       "      <th>Coffee</th>\n",
       "      <th>Cotton (Lint)</th>\n",
       "      <th>Raw Jute &amp; Mesta</th>\n",
       "      <th>Sugarcane</th>\n",
       "      <th>Tea</th>\n",
       "      <th>Tobacco</th>\n",
       "    </tr>\n",
       "  </thead>\n",
       "  <tbody>\n",
       "    <tr>\n",
       "      <th>0</th>\n",
       "      <td>0.079893</td>\n",
       "      <td>8.0</td>\n",
       "      <td>0.346693</td>\n",
       "      <td>52.0</td>\n",
       "      <td>30.0</td>\n",
       "      <td>30.0</td>\n",
       "      <td>33.0</td>\n",
       "      <td>571.0</td>\n",
       "      <td>3</td>\n",
       "      <td>3</td>\n",
       "    </tr>\n",
       "    <tr>\n",
       "      <th>1</th>\n",
       "      <td>0.039947</td>\n",
       "      <td>9.0</td>\n",
       "      <td>0.333333</td>\n",
       "      <td>50.0</td>\n",
       "      <td>33.0</td>\n",
       "      <td>33.0</td>\n",
       "      <td>47.0</td>\n",
       "      <td>616.0</td>\n",
       "      <td>2</td>\n",
       "      <td>2</td>\n",
       "    </tr>\n",
       "    <tr>\n",
       "      <th>2</th>\n",
       "      <td>0.000000</td>\n",
       "      <td>9.0</td>\n",
       "      <td>0.313293</td>\n",
       "      <td>47.0</td>\n",
       "      <td>33.0</td>\n",
       "      <td>33.0</td>\n",
       "      <td>53.0</td>\n",
       "      <td>510.0</td>\n",
       "      <td>3</td>\n",
       "      <td>3</td>\n",
       "    </tr>\n",
       "    <tr>\n",
       "      <th>3</th>\n",
       "      <td>0.079893</td>\n",
       "      <td>9.0</td>\n",
       "      <td>0.360053</td>\n",
       "      <td>54.0</td>\n",
       "      <td>41.0</td>\n",
       "      <td>41.0</td>\n",
       "      <td>38.0</td>\n",
       "      <td>444.0</td>\n",
       "      <td>3</td>\n",
       "      <td>3</td>\n",
       "    </tr>\n",
       "    <tr>\n",
       "      <th>4</th>\n",
       "      <td>0.186418</td>\n",
       "      <td>10.0</td>\n",
       "      <td>0.426854</td>\n",
       "      <td>64.0</td>\n",
       "      <td>45.0</td>\n",
       "      <td>45.0</td>\n",
       "      <td>39.0</td>\n",
       "      <td>587.0</td>\n",
       "      <td>3</td>\n",
       "      <td>3</td>\n",
       "    </tr>\n",
       "    <tr>\n",
       "      <th>...</th>\n",
       "      <td>...</td>\n",
       "      <td>...</td>\n",
       "      <td>...</td>\n",
       "      <td>...</td>\n",
       "      <td>...</td>\n",
       "      <td>...</td>\n",
       "      <td>...</td>\n",
       "      <td>...</td>\n",
       "      <td>...</td>\n",
       "      <td>...</td>\n",
       "    </tr>\n",
       "    <tr>\n",
       "      <th>69</th>\n",
       "      <td>0.938748</td>\n",
       "      <td>91.2</td>\n",
       "      <td>0.749499</td>\n",
       "      <td>332.2</td>\n",
       "      <td>2980</td>\n",
       "      <td>360.7</td>\n",
       "      <td>98.8</td>\n",
       "      <td>3705.0</td>\n",
       "      <td>13608.1</td>\n",
       "      <td>8</td>\n",
       "    </tr>\n",
       "    <tr>\n",
       "      <th>70</th>\n",
       "      <td>0.977364</td>\n",
       "      <td>102.1</td>\n",
       "      <td>0.841683</td>\n",
       "      <td>359.5</td>\n",
       "      <td>3340</td>\n",
       "      <td>352.5</td>\n",
       "      <td>93.5</td>\n",
       "      <td>4054.0</td>\n",
       "      <td>12803.3</td>\n",
       "      <td>7.6</td>\n",
       "    </tr>\n",
       "    <tr>\n",
       "      <th>71</th>\n",
       "      <td>0.964048</td>\n",
       "      <td>119.6</td>\n",
       "      <td>0.867067</td>\n",
       "      <td>379.6</td>\n",
       "      <td>3420.02</td>\n",
       "      <td>311.2</td>\n",
       "      <td>101.5</td>\n",
       "      <td>4394.3</td>\n",
       "      <td>13444.02</td>\n",
       "      <td>-</td>\n",
       "    </tr>\n",
       "    <tr>\n",
       "      <th>72</th>\n",
       "      <td>1.000000</td>\n",
       "      <td>121.0</td>\n",
       "      <td>0.985972</td>\n",
       "      <td>413.5</td>\n",
       "      <td>-</td>\n",
       "      <td>370.0</td>\n",
       "      <td>105.0</td>\n",
       "      <td>4150.0</td>\n",
       "      <td>-</td>\n",
       "      <td>-</td>\n",
       "    </tr>\n",
       "    <tr>\n",
       "      <th>73</th>\n",
       "      <td>0.982690</td>\n",
       "      <td>124.9</td>\n",
       "      <td>1.000000</td>\n",
       "      <td>410.0</td>\n",
       "      <td>-</td>\n",
       "      <td>343.5</td>\n",
       "      <td>94.9</td>\n",
       "      <td>4942.3</td>\n",
       "      <td>-</td>\n",
       "      <td>-</td>\n",
       "    </tr>\n",
       "  </tbody>\n",
       "</table>\n",
       "<p>74 rows × 10 columns</p>\n",
       "</div>"
      ],
      "text/plain": [
       "    Groundnut Rapeseed & Mustard  Soyabean Total Oilseeds   Coffee  \\\n",
       "0    0.079893                8.0  0.346693           52.0     30.0   \n",
       "1    0.039947                9.0  0.333333           50.0     33.0   \n",
       "2    0.000000                9.0  0.313293           47.0     33.0   \n",
       "3    0.079893                9.0  0.360053           54.0     41.0   \n",
       "4    0.186418               10.0  0.426854           64.0     45.0   \n",
       "..        ...                ...       ...            ...      ...   \n",
       "69   0.938748               91.2  0.749499          332.2     2980   \n",
       "70   0.977364              102.1  0.841683          359.5     3340   \n",
       "71   0.964048              119.6  0.867067          379.6  3420.02   \n",
       "72   1.000000              121.0  0.985972          413.5        -   \n",
       "73   0.982690              124.9  1.000000          410.0        -   \n",
       "\n",
       "   Cotton (Lint) Raw Jute & Mesta Sugarcane       Tea Tobacco  \n",
       "0           30.0             33.0     571.0         3       3  \n",
       "1           33.0             47.0     616.0         2       2  \n",
       "2           33.0             53.0     510.0         3       3  \n",
       "3           41.0             38.0     444.0         3       3  \n",
       "4           45.0             39.0     587.0         3       3  \n",
       "..           ...              ...       ...       ...     ...  \n",
       "69         360.7             98.8    3705.0   13608.1       8  \n",
       "70         352.5             93.5    4054.0   12803.3     7.6  \n",
       "71         311.2            101.5    4394.3  13444.02       -  \n",
       "72         370.0            105.0    4150.0         -       -  \n",
       "73         343.5             94.9    4942.3         -       -  \n",
       "\n",
       "[74 rows x 10 columns]"
      ]
     },
     "execution_count": 21,
     "metadata": {},
     "output_type": "execute_result"
    }
   ],
   "source": [
    "agriculture4"
   ]
  },
  {
   "cell_type": "code",
   "execution_count": 27,
   "id": "c85c0206",
   "metadata": {},
   "outputs": [],
   "source": [
    "agriculture4[\"Tobacco\"] = agriculture4[\"Tobacco\"].replace(\"-\",np.nan)"
   ]
  },
  {
   "cell_type": "code",
   "execution_count": 28,
   "id": "1a5f9791",
   "metadata": {},
   "outputs": [],
   "source": [
    "agriculture4= agriculture4.dropna(how=\"any\")"
   ]
  },
  {
   "cell_type": "code",
   "execution_count": 1,
   "id": "8c8f5591",
   "metadata": {},
   "outputs": [
    {
     "ename": "NameError",
     "evalue": "name 'min_max_scaler' is not defined",
     "output_type": "error",
     "traceback": [
      "\u001b[1;31m---------------------------------------------------------------------------\u001b[0m",
      "\u001b[1;31mNameError\u001b[0m                                 Traceback (most recent call last)",
      "\u001b[1;32m~\\AppData\\Local\\Temp\\ipykernel_2920\\2783886534.py\u001b[0m in \u001b[0;36m<module>\u001b[1;34m\u001b[0m\n\u001b[0;32m      1\u001b[0m agriculture4[['Groundnut', 'Rapeseed & Mustard', 'Soyabean', 'Total Oilseeds',\n\u001b[0;32m      2\u001b[0m        \u001b[1;34m'Coffee'\u001b[0m\u001b[1;33m,\u001b[0m \u001b[1;34m'Cotton (Lint)'\u001b[0m\u001b[1;33m,\u001b[0m \u001b[1;34m'Raw Jute & Mesta'\u001b[0m\u001b[1;33m,\u001b[0m \u001b[1;34m'Sugarcane'\u001b[0m\u001b[1;33m,\u001b[0m \u001b[1;34m'Tea'\u001b[0m\u001b[1;33m,\u001b[0m\u001b[1;33m\u001b[0m\u001b[1;33m\u001b[0m\u001b[0m\n\u001b[1;32m----> 3\u001b[1;33m        'Tobacco']] = min_max_scaler.fit_transform(agriculture4[['Groundnut', 'Rapeseed & Mustard', 'Soyabean', 'Total Oilseeds',\n\u001b[0m\u001b[0;32m      4\u001b[0m        \u001b[1;34m'Coffee'\u001b[0m\u001b[1;33m,\u001b[0m \u001b[1;34m'Cotton (Lint)'\u001b[0m\u001b[1;33m,\u001b[0m \u001b[1;34m'Raw Jute & Mesta'\u001b[0m\u001b[1;33m,\u001b[0m \u001b[1;34m'Sugarcane'\u001b[0m\u001b[1;33m,\u001b[0m \u001b[1;34m'Tea'\u001b[0m\u001b[1;33m,\u001b[0m\u001b[1;33m\u001b[0m\u001b[1;33m\u001b[0m\u001b[0m\n\u001b[0;32m      5\u001b[0m        'Tobacco']])\n",
      "\u001b[1;31mNameError\u001b[0m: name 'min_max_scaler' is not defined"
     ]
    }
   ],
   "source": [
    "\n",
    "agriculture4[['Groundnut', 'Rapeseed & Mustard', 'Soyabean', 'Total Oilseeds',\n",
    "       'Coffee', 'Cotton (Lint)', 'Raw Jute & Mesta', 'Sugarcane', 'Tea',\n",
    "       'Tobacco']] = min_max_scaler.fit_transform(agriculture4[['Groundnut', 'Rapeseed & Mustard', 'Soyabean', 'Total Oilseeds',\n",
    "       'Coffee', 'Cotton (Lint)', 'Raw Jute & Mesta', 'Sugarcane', 'Tea',\n",
    "       'Tobacco']])"
   ]
  },
  {
   "cell_type": "code",
   "execution_count": 30,
   "id": "815c7e65",
   "metadata": {},
   "outputs": [
    {
     "data": {
      "text/html": [
       "<div>\n",
       "<style scoped>\n",
       "    .dataframe tbody tr th:only-of-type {\n",
       "        vertical-align: middle;\n",
       "    }\n",
       "\n",
       "    .dataframe tbody tr th {\n",
       "        vertical-align: top;\n",
       "    }\n",
       "\n",
       "    .dataframe thead th {\n",
       "        text-align: right;\n",
       "    }\n",
       "</style>\n",
       "<table border=\"1\" class=\"dataframe\">\n",
       "  <thead>\n",
       "    <tr style=\"text-align: right;\">\n",
       "      <th></th>\n",
       "      <th>Groundnut</th>\n",
       "      <th>Rapeseed &amp; Mustard</th>\n",
       "      <th>Soyabean</th>\n",
       "      <th>Total Oilseeds</th>\n",
       "      <th>Coffee</th>\n",
       "      <th>Cotton (Lint)</th>\n",
       "      <th>Raw Jute &amp; Mesta</th>\n",
       "      <th>Sugarcane</th>\n",
       "      <th>Tea</th>\n",
       "      <th>Tobacco</th>\n",
       "    </tr>\n",
       "  </thead>\n",
       "  <tbody>\n",
       "    <tr>\n",
       "      <th>0</th>\n",
       "      <td>35.0</td>\n",
       "      <td>8.0</td>\n",
       "      <td>52.0</td>\n",
       "      <td>52.0</td>\n",
       "      <td>30.0</td>\n",
       "      <td>30.0</td>\n",
       "      <td>33.0</td>\n",
       "      <td>571.0</td>\n",
       "      <td>3</td>\n",
       "      <td>3</td>\n",
       "    </tr>\n",
       "    <tr>\n",
       "      <th>1</th>\n",
       "      <td>32.0</td>\n",
       "      <td>9.0</td>\n",
       "      <td>50.0</td>\n",
       "      <td>50.0</td>\n",
       "      <td>33.0</td>\n",
       "      <td>33.0</td>\n",
       "      <td>47.0</td>\n",
       "      <td>616.0</td>\n",
       "      <td>2</td>\n",
       "      <td>2</td>\n",
       "    </tr>\n",
       "    <tr>\n",
       "      <th>2</th>\n",
       "      <td>29.0</td>\n",
       "      <td>9.0</td>\n",
       "      <td>47.0</td>\n",
       "      <td>47.0</td>\n",
       "      <td>33.0</td>\n",
       "      <td>33.0</td>\n",
       "      <td>53.0</td>\n",
       "      <td>510.0</td>\n",
       "      <td>3</td>\n",
       "      <td>3</td>\n",
       "    </tr>\n",
       "    <tr>\n",
       "      <th>3</th>\n",
       "      <td>35.0</td>\n",
       "      <td>9.0</td>\n",
       "      <td>54.0</td>\n",
       "      <td>54.0</td>\n",
       "      <td>41.0</td>\n",
       "      <td>41.0</td>\n",
       "      <td>38.0</td>\n",
       "      <td>444.0</td>\n",
       "      <td>3</td>\n",
       "      <td>3</td>\n",
       "    </tr>\n",
       "    <tr>\n",
       "      <th>4</th>\n",
       "      <td>43.0</td>\n",
       "      <td>10.0</td>\n",
       "      <td>64.0</td>\n",
       "      <td>64.0</td>\n",
       "      <td>45.0</td>\n",
       "      <td>45.0</td>\n",
       "      <td>39.0</td>\n",
       "      <td>587.0</td>\n",
       "      <td>3</td>\n",
       "      <td>3</td>\n",
       "    </tr>\n",
       "    <tr>\n",
       "      <th>...</th>\n",
       "      <td>...</td>\n",
       "      <td>...</td>\n",
       "      <td>...</td>\n",
       "      <td>...</td>\n",
       "      <td>...</td>\n",
       "      <td>...</td>\n",
       "      <td>...</td>\n",
       "      <td>...</td>\n",
       "      <td>...</td>\n",
       "      <td>...</td>\n",
       "    </tr>\n",
       "    <tr>\n",
       "      <th>66</th>\n",
       "      <td>74.6</td>\n",
       "      <td>79.2</td>\n",
       "      <td>131.6</td>\n",
       "      <td>312.8</td>\n",
       "      <td>3120</td>\n",
       "      <td>325.8</td>\n",
       "      <td>109.6</td>\n",
       "      <td>3060.7</td>\n",
       "      <td>12504.9</td>\n",
       "      <td>8.1</td>\n",
       "    </tr>\n",
       "    <tr>\n",
       "      <th>67</th>\n",
       "      <td>92.5</td>\n",
       "      <td>84.3</td>\n",
       "      <td>109.3</td>\n",
       "      <td>314.6</td>\n",
       "      <td>3160</td>\n",
       "      <td>328.1</td>\n",
       "      <td>100.3</td>\n",
       "      <td>3799.1</td>\n",
       "      <td>13250.5</td>\n",
       "      <td>9.5</td>\n",
       "    </tr>\n",
       "    <tr>\n",
       "      <th>68</th>\n",
       "      <td>67.3</td>\n",
       "      <td>92.6</td>\n",
       "      <td>132.7</td>\n",
       "      <td>315.2</td>\n",
       "      <td>3195</td>\n",
       "      <td>280.4</td>\n",
       "      <td>98.2</td>\n",
       "      <td>4054.2</td>\n",
       "      <td>13500.4</td>\n",
       "      <td>6.6</td>\n",
       "    </tr>\n",
       "    <tr>\n",
       "      <th>69</th>\n",
       "      <td>99.5</td>\n",
       "      <td>91.2</td>\n",
       "      <td>112.3</td>\n",
       "      <td>332.2</td>\n",
       "      <td>2980</td>\n",
       "      <td>360.7</td>\n",
       "      <td>98.8</td>\n",
       "      <td>3705.0</td>\n",
       "      <td>13608.1</td>\n",
       "      <td>8</td>\n",
       "    </tr>\n",
       "    <tr>\n",
       "      <th>70</th>\n",
       "      <td>102.4</td>\n",
       "      <td>102.1</td>\n",
       "      <td>126.1</td>\n",
       "      <td>359.5</td>\n",
       "      <td>3340</td>\n",
       "      <td>352.5</td>\n",
       "      <td>93.5</td>\n",
       "      <td>4054.0</td>\n",
       "      <td>12803.3</td>\n",
       "      <td>7.6</td>\n",
       "    </tr>\n",
       "  </tbody>\n",
       "</table>\n",
       "<p>71 rows × 10 columns</p>\n",
       "</div>"
      ],
      "text/plain": [
       "   Groundnut Rapeseed & Mustard Soyabean Total Oilseeds Coffee Cotton (Lint)  \\\n",
       "0       35.0                8.0     52.0           52.0   30.0          30.0   \n",
       "1       32.0                9.0     50.0           50.0   33.0          33.0   \n",
       "2       29.0                9.0     47.0           47.0   33.0          33.0   \n",
       "3       35.0                9.0     54.0           54.0   41.0          41.0   \n",
       "4       43.0               10.0     64.0           64.0   45.0          45.0   \n",
       "..       ...                ...      ...            ...    ...           ...   \n",
       "66      74.6               79.2    131.6          312.8   3120         325.8   \n",
       "67      92.5               84.3    109.3          314.6   3160         328.1   \n",
       "68      67.3               92.6    132.7          315.2   3195         280.4   \n",
       "69      99.5               91.2    112.3          332.2   2980         360.7   \n",
       "70     102.4              102.1    126.1          359.5   3340         352.5   \n",
       "\n",
       "   Raw Jute & Mesta Sugarcane      Tea Tobacco  \n",
       "0              33.0     571.0        3       3  \n",
       "1              47.0     616.0        2       2  \n",
       "2              53.0     510.0        3       3  \n",
       "3              38.0     444.0        3       3  \n",
       "4              39.0     587.0        3       3  \n",
       "..              ...       ...      ...     ...  \n",
       "66            109.6    3060.7  12504.9     8.1  \n",
       "67            100.3    3799.1  13250.5     9.5  \n",
       "68             98.2    4054.2  13500.4     6.6  \n",
       "69             98.8    3705.0  13608.1       8  \n",
       "70             93.5    4054.0  12803.3     7.6  \n",
       "\n",
       "[71 rows x 10 columns]"
      ]
     },
     "execution_count": 30,
     "metadata": {},
     "output_type": "execute_result"
    }
   ],
   "source": [
    "agriculture4"
   ]
  },
  {
   "cell_type": "code",
   "execution_count": null,
   "id": "ca717738",
   "metadata": {},
   "outputs": [],
   "source": []
  },
  {
   "cell_type": "markdown",
   "id": "26cfe9e2",
   "metadata": {},
   "source": [
    "## data visualisation using python"
   ]
  },
  {
   "cell_type": "code",
   "execution_count": 31,
   "id": "da1d29a8",
   "metadata": {},
   "outputs": [],
   "source": [
    "import matplotlib.pyplot as plt\n",
    "sns.set_style(style=\"whitegrid\")"
   ]
  },
  {
   "cell_type": "code",
   "execution_count": 32,
   "id": "f18b1295",
   "metadata": {},
   "outputs": [
    {
     "data": {
      "image/png": "[encoded data removed]",
      "text/plain": [
       "<Figure size 640x480 with 1 Axes>"
      ]
     },
     "metadata": {},
     "output_type": "display_data"
    }
   ],
   "source": [
    "plt.hist(agriculture4[\"Groundnut\"],bins=15);"
   ]
  },
  {
   "cell_type": "code",
   "execution_count": null,
   "id": "0ec848d0",
   "metadata": {},
   "outputs": [],
   "source": []
  },
  {
   "cell_type": "code",
   "execution_count": 33,
   "id": "89b4359d",
   "metadata": {},
   "outputs": [
    {
     "data": {
      "text/plain": [
       "<matplotlib.collections.PathCollection at 0x1eb0065ec10>"
      ]
     },
     "execution_count": 33,
     "metadata": {},
     "output_type": "execute_result"
    },
    {
     "data": {
      "image/png": "[encoded data removed]",
      "text/plain": [
       "<Figure size 640x480 with 1 Axes>"
      ]
     },
     "metadata": {},
     "output_type": "display_data"
    }
   ],
   "source": [
    "sns.set_style(style=\"darkgrid\")\n",
    "plt.scatter(x=agriculture4[\"Groundnut\"], y=agriculture4[\"Soyabean\"])"
   ]
  },
  {
   "cell_type": "markdown",
   "id": "2ad68bd1",
   "metadata": {},
   "source": [
    "### drWING PIE CHART "
   ]
  },
  {
   "cell_type": "code",
   "execution_count": 37,
   "id": "bd2214f2",
   "metadata": {},
   "outputs": [
    {
     "data": {
      "text/plain": [
       "Index(['Groundnut', 'Rapeseed & Mustard', 'Soyabean', 'Total Oilseeds',\n",
       "       'Coffee', 'Cotton (Lint)', 'Raw Jute & Mesta', 'Sugarcane', 'Tea',\n",
       "       'Tobacco'],\n",
       "      dtype='object')"
      ]
     },
     "execution_count": 37,
     "metadata": {},
     "output_type": "execute_result"
    }
   ],
   "source": [
    "agriculture4.columns"
   ]
  },
  {
   "cell_type": "code",
   "execution_count": 39,
   "id": "bdc160c1",
   "metadata": {},
   "outputs": [],
   "source": [
    "crop=[\"Groundnut\",\"Raw Jute & Mesta\",\"Sugarcane\"]"
   ]
  },
  {
   "cell_type": "code",
   "execution_count": 40,
   "id": "3cef7edc",
   "metadata": {},
   "outputs": [],
   "source": [
    "production=[67.3,92.6,132.7]"
   ]
  },
  {
   "cell_type": "code",
   "execution_count": 45,
   "id": "17cf9270",
   "metadata": {},
   "outputs": [
    {
     "data": {
      "image/png": "[encoded data removed]",
      "text/plain": [
       "<Figure size 640x480 with 1 Axes>"
      ]
     },
     "metadata": {},
     "output_type": "display_data"
    }
   ],
   "source": [
    "plt.pie(production,labels=crop);"
   ]
  },
  {
   "cell_type": "code",
   "execution_count": 47,
   "id": "2f2d5370",
   "metadata": {},
   "outputs": [
    {
     "data": {
      "image/png": "[encoded data removed]",
      "text/plain": [
       "<Figure size 640x480 with 1 Axes>"
      ]
     },
     "metadata": {},
     "output_type": "display_data"
    }
   ],
   "source": [
    "slice = (0,0,0.2)\n",
    "# plt.pie(production,labels=crop);\n",
    "plt.pie(production,labels=crop,explode=slice, autopct=\"%1.1f%%\");"
   ]
  },
  {
   "cell_type": "code",
   "execution_count": 48,
   "id": "29e9ce42",
   "metadata": {},
   "outputs": [
    {
     "data": {
      "image/png": "[encoded data removed]",
      "text/plain": [
       "<Figure size 640x480 with 1 Axes>"
      ]
     },
     "metadata": {},
     "output_type": "display_data"
    }
   ],
   "source": [
    "slice = (.3,0,0.2)\n",
    "# plt.pie(production,labels=crop);\n",
    "plt.pie(production,labels=crop,explode=slice, autopct=\"%1.1f%%\");"
   ]
  },
  {
   "cell_type": "markdown",
   "id": "c1175b2f",
   "metadata": {},
   "source": [
    "# area chart"
   ]
  },
  {
   "cell_type": "code",
   "execution_count": 51,
   "id": "b208c686",
   "metadata": {},
   "outputs": [
    {
     "data": {
      "image/png": "[encoded data removed]",
      "text/plain": [
       "<Figure size 640x480 with 1 Axes>"
      ]
     },
     "metadata": {},
     "output_type": "display_data"
    }
   ],
   "source": [
    "data_d = {\"sales\":(250,280,360,420,450,560),\"profit\": (80,90,50,75,145,5)};\n",
    "months = {\"jan\",\"feb\",\"mar\",\"apr\",\"aug\",\"dec\"};\n",
    "df = pd.DataFrame(data_d, index = months);\n",
    "df.plot.area();"
   ]
  },
  {
   "cell_type": "code",
   "execution_count": 52,
   "id": "6205c1ad",
   "metadata": {},
   "outputs": [
    {
     "data": {
      "image/png": "[encoded data removed]",
      "text/plain": [
       "<Figure size 640x480 with 1 Axes>"
      ]
     },
     "metadata": {},
     "output_type": "display_data"
    }
   ],
   "source": [
    "data_d = {\"sales\":[250,280,360,420,450,560],\"profit\": [80,90,50,75,145,5]};\n",
    "months = {\"jan\",\"feb\",\"mar\",\"apr\",\"aug\",\"dec\"};\n",
    "df = pd.DataFrame(data_d, index = months);\n",
    "df.plot.area();"
   ]
  },
  {
   "cell_type": "markdown",
   "id": "1b9e13f7",
   "metadata": {},
   "source": [
    "# mess grid"
   ]
  },
  {
   "cell_type": "code",
   "execution_count": 56,
   "id": "f8cda1ed",
   "metadata": {},
   "outputs": [
    {
     "name": "stdout",
     "output_type": "stream",
     "text": [
      "x values = \n",
      "[[47 31  5 18 21 29 19]\n",
      " [47 31  5 18 21 29 19]\n",
      " [47 31  5 18 21 29 19]\n",
      " [47 31  5 18 21 29 19]\n",
      " [47 31  5 18 21 29 19]]\n",
      "y values = \n",
      "[[ 2  2  2  2  2  2  2]\n",
      " [ 4  4  4  4  4  4  4]\n",
      " [ 7  7  7  7  7  7  7]\n",
      " [-6 -6 -6 -6 -6 -6 -6]\n",
      " [-8 -8 -8 -8 -8 -8 -8]]\n"
     ]
    }
   ],
   "source": [
    "x= np.random.randint(0,50,7)\n",
    "y = np.random.randint(-10,10,5)\n",
    "xvalues,yvalues = np.meshgrid(x,y)\n",
    "print(\"x values = \")\n",
    "print(xvalues)\n",
    "print(\"y values = \")\n",
    "print(yvalues)"
   ]
  },
  {
   "cell_type": "markdown",
   "id": "a66acd06",
   "metadata": {},
   "source": [
    "# quiver plot "
   ]
  },
  {
   "cell_type": "code",
   "execution_count": 60,
   "id": "4c9f200b",
   "metadata": {},
   "outputs": [
    {
     "data": {
      "text/plain": [
       "<matplotlib.quiver.Quiver at 0x1eb01d58bb0>"
      ]
     },
     "execution_count": 60,
     "metadata": {},
     "output_type": "execute_result"
    },
    {
     "data": {
      "image/png": "[encoded data removed]",
      "text/plain": [
       "<Figure size 640x480 with 1 Axes>"
      ]
     },
     "metadata": {},
     "output_type": "display_data"
    }
   ],
   "source": [
    "x = np.linspace(3,7,5)\n",
    "y = np.linspace(-3,15,4)\n",
    "\n",
    "xvalues,yvalues = np.meshgrid(x,y)\n",
    "v= np.tan(xvalues)\n",
    "u = np.tan(yvalues)\n",
    "plt.quiver(xvalues,yvalues,u,v)"
   ]
  },
  {
   "cell_type": "markdown",
   "id": "eed0592f",
   "metadata": {},
   "source": [
    "# contour"
   ]
  },
  {
   "cell_type": "code",
   "execution_count": 62,
   "id": "c3ffd248",
   "metadata": {},
   "outputs": [
    {
     "data": {
      "text/plain": [
       "array([[-3, -3, -3, -3, -3, -3, -3],\n",
       "       [-2, -2, -2, -2, -2, -2, -2],\n",
       "       [-1, -1, -1, -1, -1, -1, -1],\n",
       "       [ 0,  0,  0,  0,  0,  0,  0],\n",
       "       [ 1,  1,  1,  1,  1,  1,  1],\n",
       "       [ 2,  2,  2,  2,  2,  2,  2],\n",
       "       [ 3,  3,  3,  3,  3,  3,  3]])"
      ]
     },
     "execution_count": 62,
     "metadata": {},
     "output_type": "execute_result"
    }
   ],
   "source": [
    "x =(-6,-4,-2,0,2,4,6)\n",
    "y = (-3,-2,-1,0,1,2,3)\n",
    "\n",
    "xvalues,yvalues = np.meshgrid(x,y)\n",
    "xvalues\n",
    "yvalues"
   ]
  },
  {
   "cell_type": "code",
   "execution_count": 63,
   "id": "a0603065",
   "metadata": {},
   "outputs": [
    {
     "data": {
      "text/plain": [
       "<matplotlib.contour.QuadContourSet at 0x1eb0283a460>"
      ]
     },
     "execution_count": 63,
     "metadata": {},
     "output_type": "execute_result"
    },
    {
     "data": {
      "image/png": "[encoded data removed]",
      "text/plain": [
       "<Figure size 640x480 with 1 Axes>"
      ]
     },
     "metadata": {},
     "output_type": "display_data"
    }
   ],
   "source": [
    "zvalue = np.sin(xvalues)*np.cos(yvalues)\n",
    "plt.contour(xvalues, yvalues, zvalue)"
   ]
  },
  {
   "cell_type": "code",
   "execution_count": null,
   "id": "d241f590",
   "metadata": {},
   "outputs": [],
   "source": []
  }
 ],
 "metadata": {
  "kernelspec": {
   "display_name": "Python 3 (ipykernel)",
   "language": "python",
   "name": "python3"
  },
  "language_info": {
   "codemirror_mode": {
    "name": "ipython",
    "version": 3
   },
   "file_extension": ".py",
   "mimetype": "text/x-python",
   "name": "python",
   "nbconvert_exporter": "python",
   "pygments_lexer": "ipython3",
   "version": "3.9.13"
  }
 },
 "nbformat": 4,
 "nbformat_minor": 5
}
