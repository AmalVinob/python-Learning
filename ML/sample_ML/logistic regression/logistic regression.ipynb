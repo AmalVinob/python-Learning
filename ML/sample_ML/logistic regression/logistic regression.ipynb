{
 "cells": [
  {
   "cell_type": "markdown",
   "id": "9edf2eaa",
   "metadata": {},
   "source": [
    "# Amal Vinob"
   ]
  },
  {
   "cell_type": "code",
   "execution_count": null,
   "id": "032292b0",
   "metadata": {},
   "outputs": [],
   "source": []
  },
  {
   "cell_type": "code",
   "execution_count": null,
   "id": "93bbe82e",
   "metadata": {},
   "outputs": [],
   "source": []
  },
  {
   "cell_type": "code",
   "execution_count": null,
   "id": "b4011b5a",
   "metadata": {},
   "outputs": [],
   "source": []
  },
  {
   "cell_type": "code",
   "execution_count": null,
   "id": "331e7325",
   "metadata": {},
   "outputs": [],
   "source": []
  },
  {
   "cell_type": "markdown",
   "id": "0b2d276c",
   "metadata": {},
   "source": [
    "# logistic regression"
   ]
  },
  {
   "cell_type": "code",
   "execution_count": 2,
   "id": "afba674c",
   "metadata": {},
   "outputs": [],
   "source": [
    "import pandas as pd\n",
    "import numpy as np\n",
    "import matplotlib.pyplot as plt\n"
   ]
  },
  {
   "cell_type": "code",
   "execution_count": 3,
   "id": "f727eb4b",
   "metadata": {},
   "outputs": [],
   "source": [
    "phon_df = pd.read_csv(\"./phon.csv\")"
   ]
  },
  {
   "cell_type": "code",
   "execution_count": 4,
   "id": "89cb080c",
   "metadata": {},
   "outputs": [
    {
     "data": {
      "text/html": [
       "<div>\n",
       "<style scoped>\n",
       "    .dataframe tbody tr th:only-of-type {\n",
       "        vertical-align: middle;\n",
       "    }\n",
       "\n",
       "    .dataframe tbody tr th {\n",
       "        vertical-align: top;\n",
       "    }\n",
       "\n",
       "    .dataframe thead th {\n",
       "        text-align: right;\n",
       "    }\n",
       "</style>\n",
       "<table border=\"1\" class=\"dataframe\">\n",
       "  <thead>\n",
       "    <tr style=\"text-align: right;\">\n",
       "      <th></th>\n",
       "      <th>phoneno</th>\n",
       "      <th>age</th>\n",
       "      <th>gender</th>\n",
       "      <th>zipcode</th>\n",
       "      <th>calls</th>\n",
       "      <th>sms</th>\n",
       "      <th>mms</th>\n",
       "      <th>charges</th>\n",
       "      <th>coverage</th>\n",
       "      <th>complaint</th>\n",
       "      <th>sim</th>\n",
       "      <th>phone</th>\n",
       "      <th>prepost</th>\n",
       "      <th>churn</th>\n",
       "    </tr>\n",
       "  </thead>\n",
       "  <tbody>\n",
       "    <tr>\n",
       "      <th>0</th>\n",
       "      <td>5974</td>\n",
       "      <td>1</td>\n",
       "      <td>Male</td>\n",
       "      <td>91107</td>\n",
       "      <td>160</td>\n",
       "      <td>25</td>\n",
       "      <td>1</td>\n",
       "      <td>490</td>\n",
       "      <td>0</td>\n",
       "      <td>4</td>\n",
       "      <td>Dual Sim</td>\n",
       "      <td>Andoid</td>\n",
       "      <td>Prepaid</td>\n",
       "      <td>0</td>\n",
       "    </tr>\n",
       "    <tr>\n",
       "      <th>1</th>\n",
       "      <td>4535</td>\n",
       "      <td>1</td>\n",
       "      <td>Male</td>\n",
       "      <td>90089</td>\n",
       "      <td>150</td>\n",
       "      <td>45</td>\n",
       "      <td>19</td>\n",
       "      <td>340</td>\n",
       "      <td>0</td>\n",
       "      <td>3</td>\n",
       "      <td>Dual Sim</td>\n",
       "      <td>Andoid</td>\n",
       "      <td>Prepaid</td>\n",
       "      <td>0</td>\n",
       "    </tr>\n",
       "    <tr>\n",
       "      <th>2</th>\n",
       "      <td>4016</td>\n",
       "      <td>1</td>\n",
       "      <td>Male</td>\n",
       "      <td>94720</td>\n",
       "      <td>100</td>\n",
       "      <td>39</td>\n",
       "      <td>15</td>\n",
       "      <td>110</td>\n",
       "      <td>0</td>\n",
       "      <td>1</td>\n",
       "      <td>Single Sim</td>\n",
       "      <td>Andoid</td>\n",
       "      <td>Prepaid</td>\n",
       "      <td>0</td>\n",
       "    </tr>\n",
       "    <tr>\n",
       "      <th>3</th>\n",
       "      <td>8523</td>\n",
       "      <td>2</td>\n",
       "      <td>Male</td>\n",
       "      <td>94112</td>\n",
       "      <td>270</td>\n",
       "      <td>35</td>\n",
       "      <td>9</td>\n",
       "      <td>1000</td>\n",
       "      <td>0</td>\n",
       "      <td>1</td>\n",
       "      <td>Single Sim</td>\n",
       "      <td>Andoid</td>\n",
       "      <td>Prepaid</td>\n",
       "      <td>0</td>\n",
       "    </tr>\n",
       "    <tr>\n",
       "      <th>4</th>\n",
       "      <td>5052</td>\n",
       "      <td>2</td>\n",
       "      <td>Female</td>\n",
       "      <td>91330</td>\n",
       "      <td>100</td>\n",
       "      <td>35</td>\n",
       "      <td>8</td>\n",
       "      <td>450</td>\n",
       "      <td>0</td>\n",
       "      <td>4</td>\n",
       "      <td>Single Sim</td>\n",
       "      <td>Andoid</td>\n",
       "      <td>Prepaid</td>\n",
       "      <td>0</td>\n",
       "    </tr>\n",
       "    <tr>\n",
       "      <th>...</th>\n",
       "      <td>...</td>\n",
       "      <td>...</td>\n",
       "      <td>...</td>\n",
       "      <td>...</td>\n",
       "      <td>...</td>\n",
       "      <td>...</td>\n",
       "      <td>...</td>\n",
       "      <td>...</td>\n",
       "      <td>...</td>\n",
       "      <td>...</td>\n",
       "      <td>...</td>\n",
       "      <td>...</td>\n",
       "      <td>...</td>\n",
       "      <td>...</td>\n",
       "    </tr>\n",
       "    <tr>\n",
       "      <th>4995</th>\n",
       "      <td>4704</td>\n",
       "      <td>3</td>\n",
       "      <td>Male</td>\n",
       "      <td>92697</td>\n",
       "      <td>190</td>\n",
       "      <td>29</td>\n",
       "      <td>3</td>\n",
       "      <td>400</td>\n",
       "      <td>0</td>\n",
       "      <td>1</td>\n",
       "      <td>Single Sim</td>\n",
       "      <td>Andoid</td>\n",
       "      <td>Postpaid</td>\n",
       "      <td>0</td>\n",
       "    </tr>\n",
       "    <tr>\n",
       "      <th>4996</th>\n",
       "      <td>3149</td>\n",
       "      <td>1</td>\n",
       "      <td>Male</td>\n",
       "      <td>92037</td>\n",
       "      <td>40</td>\n",
       "      <td>30</td>\n",
       "      <td>4</td>\n",
       "      <td>150</td>\n",
       "      <td>1</td>\n",
       "      <td>4</td>\n",
       "      <td>Single Sim</td>\n",
       "      <td>Andoid</td>\n",
       "      <td>Postpaid</td>\n",
       "      <td>0</td>\n",
       "    </tr>\n",
       "    <tr>\n",
       "      <th>4997</th>\n",
       "      <td>7402</td>\n",
       "      <td>3</td>\n",
       "      <td>Male</td>\n",
       "      <td>93023</td>\n",
       "      <td>30</td>\n",
       "      <td>63</td>\n",
       "      <td>39</td>\n",
       "      <td>240</td>\n",
       "      <td>0</td>\n",
       "      <td>2</td>\n",
       "      <td>Single Sim</td>\n",
       "      <td>Andoid</td>\n",
       "      <td>Prepaid</td>\n",
       "      <td>0</td>\n",
       "    </tr>\n",
       "    <tr>\n",
       "      <th>4998</th>\n",
       "      <td>5742</td>\n",
       "      <td>2</td>\n",
       "      <td>Male</td>\n",
       "      <td>90034</td>\n",
       "      <td>50</td>\n",
       "      <td>65</td>\n",
       "      <td>40</td>\n",
       "      <td>490</td>\n",
       "      <td>0</td>\n",
       "      <td>3</td>\n",
       "      <td>Single Sim</td>\n",
       "      <td>Andoid</td>\n",
       "      <td>Postpaid</td>\n",
       "      <td>0</td>\n",
       "    </tr>\n",
       "    <tr>\n",
       "      <th>4999</th>\n",
       "      <td>3689</td>\n",
       "      <td>1</td>\n",
       "      <td>Female</td>\n",
       "      <td>92612</td>\n",
       "      <td>80</td>\n",
       "      <td>28</td>\n",
       "      <td>4</td>\n",
       "      <td>830</td>\n",
       "      <td>0</td>\n",
       "      <td>3</td>\n",
       "      <td>Single Sim</td>\n",
       "      <td>Andoid</td>\n",
       "      <td>Postpaid</td>\n",
       "      <td>0</td>\n",
       "    </tr>\n",
       "  </tbody>\n",
       "</table>\n",
       "<p>5000 rows × 14 columns</p>\n",
       "</div>"
      ],
      "text/plain": [
       "      phoneno  age  gender  zipcode  calls  sms  mms  charges  coverage  \\\n",
       "0        5974    1    Male    91107    160   25    1      490         0   \n",
       "1        4535    1    Male    90089    150   45   19      340         0   \n",
       "2        4016    1    Male    94720    100   39   15      110         0   \n",
       "3        8523    2    Male    94112    270   35    9     1000         0   \n",
       "4        5052    2  Female    91330    100   35    8      450         0   \n",
       "...       ...  ...     ...      ...    ...  ...  ...      ...       ...   \n",
       "4995     4704    3    Male    92697    190   29    3      400         0   \n",
       "4996     3149    1    Male    92037     40   30    4      150         1   \n",
       "4997     7402    3    Male    93023     30   63   39      240         0   \n",
       "4998     5742    2    Male    90034     50   65   40      490         0   \n",
       "4999     3689    1  Female    92612     80   28    4      830         0   \n",
       "\n",
       "      complaint         sim   phone   prepost  churn  \n",
       "0             4    Dual Sim  Andoid   Prepaid      0  \n",
       "1             3    Dual Sim  Andoid   Prepaid      0  \n",
       "2             1  Single Sim  Andoid   Prepaid      0  \n",
       "3             1  Single Sim  Andoid   Prepaid      0  \n",
       "4             4  Single Sim  Andoid   Prepaid      0  \n",
       "...         ...         ...     ...       ...    ...  \n",
       "4995          1  Single Sim  Andoid  Postpaid      0  \n",
       "4996          4  Single Sim  Andoid  Postpaid      0  \n",
       "4997          2  Single Sim  Andoid   Prepaid      0  \n",
       "4998          3  Single Sim  Andoid  Postpaid      0  \n",
       "4999          3  Single Sim  Andoid  Postpaid      0  \n",
       "\n",
       "[5000 rows x 14 columns]"
      ]
     },
     "execution_count": 4,
     "metadata": {},
     "output_type": "execute_result"
    }
   ],
   "source": [
    "phon_df"
   ]
  },
  {
   "cell_type": "code",
   "execution_count": 5,
   "id": "c934c52c",
   "metadata": {},
   "outputs": [
    {
     "name": "stdout",
     "output_type": "stream",
     "text": [
      "<class 'pandas.core.frame.DataFrame'>\n",
      "RangeIndex: 5000 entries, 0 to 4999\n",
      "Data columns (total 14 columns):\n",
      " #   Column     Non-Null Count  Dtype \n",
      "---  ------     --------------  ----- \n",
      " 0   phoneno    5000 non-null   int64 \n",
      " 1   age        5000 non-null   int64 \n",
      " 2   gender     5000 non-null   object\n",
      " 3   zipcode    5000 non-null   int64 \n",
      " 4   calls      5000 non-null   int64 \n",
      " 5   sms        5000 non-null   int64 \n",
      " 6   mms        5000 non-null   int64 \n",
      " 7   charges    5000 non-null   int64 \n",
      " 8   coverage   5000 non-null   int64 \n",
      " 9   complaint  5000 non-null   int64 \n",
      " 10  sim        5000 non-null   object\n",
      " 11  phone      5000 non-null   object\n",
      " 12  prepost    5000 non-null   object\n",
      " 13  churn      5000 non-null   int64 \n",
      "dtypes: int64(10), object(4)\n",
      "memory usage: 547.0+ KB\n"
     ]
    }
   ],
   "source": [
    "phon_df.info()"
   ]
  },
  {
   "cell_type": "code",
   "execution_count": 6,
   "id": "9e03a254",
   "metadata": {},
   "outputs": [
    {
     "data": {
      "text/plain": [
       "(5000, 14)"
      ]
     },
     "execution_count": 6,
     "metadata": {},
     "output_type": "execute_result"
    }
   ],
   "source": [
    "phon_df.shape"
   ]
  },
  {
   "cell_type": "code",
   "execution_count": 7,
   "id": "aabab085",
   "metadata": {},
   "outputs": [
    {
     "data": {
      "text/plain": [
       "Index(['phoneno', 'age', 'gender', 'zipcode', 'calls', 'sms', 'mms', 'charges',\n",
       "       'coverage', 'complaint', 'sim', 'phone', 'prepost', 'churn'],\n",
       "      dtype='object')"
      ]
     },
     "execution_count": 7,
     "metadata": {},
     "output_type": "execute_result"
    }
   ],
   "source": [
    "phon_df.columns"
   ]
  },
  {
   "cell_type": "code",
   "execution_count": 8,
   "id": "4841f820",
   "metadata": {},
   "outputs": [],
   "source": [
    "from sklearn.preprocessing import StandardScaler\n",
    "scaler = StandardScaler()"
   ]
  },
  {
   "cell_type": "code",
   "execution_count": 9,
   "id": "3dc764af",
   "metadata": {},
   "outputs": [],
   "source": [
    "import statsmodels.api as sm"
   ]
  },
  {
   "cell_type": "code",
   "execution_count": null,
   "id": "c3740832",
   "metadata": {},
   "outputs": [],
   "source": []
  },
  {
   "cell_type": "markdown",
   "id": "c1ea8b7e",
   "metadata": {},
   "source": [
    "# checking null value"
   ]
  },
  {
   "cell_type": "code",
   "execution_count": 10,
   "id": "50988c8c",
   "metadata": {},
   "outputs": [
    {
     "data": {
      "text/plain": [
       "phoneno      0\n",
       "age          0\n",
       "gender       0\n",
       "zipcode      0\n",
       "calls        0\n",
       "sms          0\n",
       "mms          0\n",
       "charges      0\n",
       "coverage     0\n",
       "complaint    0\n",
       "sim          0\n",
       "phone        0\n",
       "prepost      0\n",
       "churn        0\n",
       "dtype: int64"
      ]
     },
     "execution_count": 10,
     "metadata": {},
     "output_type": "execute_result"
    }
   ],
   "source": [
    "phon_df.isna().sum()"
   ]
  },
  {
   "cell_type": "markdown",
   "id": "6846c0f8",
   "metadata": {},
   "source": [
    "# outlier detection"
   ]
  },
  {
   "cell_type": "code",
   "execution_count": 11,
   "id": "de1898c1",
   "metadata": {},
   "outputs": [
    {
     "data": {
      "image/png": "[encoded data removed]",
      "text/plain": [
       "<Figure size 640x480 with 1 Axes>"
      ]
     },
     "metadata": {},
     "output_type": "display_data"
    }
   ],
   "source": [
    "plt.boxplot(x = phon_df.calls);"
   ]
  },
  {
   "cell_type": "code",
   "execution_count": 12,
   "id": "3efeda86",
   "metadata": {},
   "outputs": [
    {
     "data": {
      "image/png": "[encoded data removed]",
      "text/plain": [
       "<Figure size 640x480 with 1 Axes>"
      ]
     },
     "metadata": {},
     "output_type": "display_data"
    }
   ],
   "source": [
    "plt.boxplot(x = phon_df.charges);"
   ]
  },
  {
   "cell_type": "code",
   "execution_count": 13,
   "id": "f04918b0",
   "metadata": {},
   "outputs": [
    {
     "data": {
      "image/png": "[encoded data removed]",
      "text/plain": [
       "<Figure size 640x480 with 1 Axes>"
      ]
     },
     "metadata": {},
     "output_type": "display_data"
    }
   ],
   "source": [
    "plt.boxplot(x = phon_df.coverage);"
   ]
  },
  {
   "cell_type": "code",
   "execution_count": 14,
   "id": "addd81af",
   "metadata": {},
   "outputs": [
    {
     "data": {
      "image/png": "[encoded data removed]",
      "text/plain": [
       "<Figure size 640x480 with 1 Axes>"
      ]
     },
     "metadata": {},
     "output_type": "display_data"
    }
   ],
   "source": [
    "plt.boxplot(x = phon_df.churn);"
   ]
  },
  {
   "cell_type": "markdown",
   "id": "e482dc92",
   "metadata": {},
   "source": [
    "##### form outlier analysis we get to know calls,charges and coverages have outliears"
   ]
  },
  {
   "cell_type": "code",
   "execution_count": 45,
   "id": "5de486a9",
   "metadata": {},
   "outputs": [],
   "source": [
    "phon_df['calls'] = np.where(phon_df['calls'] > 500 , 500 , phon_df['calls'])\n"
   ]
  },
  {
   "cell_type": "code",
   "execution_count": 46,
   "id": "286bd9f1",
   "metadata": {},
   "outputs": [
    {
     "data": {
      "image/png": "[encoded data removed]",
      "text/plain": [
       "<Figure size 640x480 with 1 Axes>"
      ]
     },
     "metadata": {},
     "output_type": "display_data"
    }
   ],
   "source": [
    "plt.boxplot(x = phon_df.calls);"
   ]
  },
  {
   "cell_type": "code",
   "execution_count": 47,
   "id": "b54d12bd",
   "metadata": {},
   "outputs": [
    {
     "data": {
      "text/plain": [
       "Index(['age', 'gender', 'calls', 'sms', 'mms', 'charges', 'coverage',\n",
       "       'complaint', 'sim', 'phone', 'prepost', 'churn'],\n",
       "      dtype='object')"
      ]
     },
     "execution_count": 47,
     "metadata": {},
     "output_type": "execute_result"
    }
   ],
   "source": [
    "phon_df.columns"
   ]
  },
  {
   "cell_type": "code",
   "execution_count": 48,
   "id": "917e8e38",
   "metadata": {},
   "outputs": [],
   "source": [
    "phon_df['charges'] = np.where(phon_df.charges > 1850, 1850, phon_df['charges'])"
   ]
  },
  {
   "cell_type": "code",
   "execution_count": 49,
   "id": "bdd5fe70",
   "metadata": {},
   "outputs": [
    {
     "data": {
      "image/png": "[encoded data removed]",
      "text/plain": [
       "<Figure size 640x480 with 1 Axes>"
      ]
     },
     "metadata": {},
     "output_type": "display_data"
    }
   ],
   "source": [
    "plt.boxplot(x = phon_df.charges);"
   ]
  },
  {
   "cell_type": "code",
   "execution_count": 50,
   "id": "65759130",
   "metadata": {},
   "outputs": [
    {
     "data": {
      "text/plain": [
       "0       0\n",
       "1       0\n",
       "2       0\n",
       "3       0\n",
       "4       0\n",
       "       ..\n",
       "4995    0\n",
       "4996    1\n",
       "4997    0\n",
       "4998    0\n",
       "4999    0\n",
       "Name: coverage, Length: 5000, dtype: int64"
      ]
     },
     "execution_count": 50,
     "metadata": {},
     "output_type": "execute_result"
    }
   ],
   "source": [
    "phon_df['coverage'] = np.where(phon_df.coverage > 5, 5, phon_df.coverage)\n",
    "phon_df['coverage']"
   ]
  },
  {
   "cell_type": "code",
   "execution_count": 51,
   "id": "3441b53e",
   "metadata": {},
   "outputs": [
    {
     "data": {
      "image/png": "[encoded data removed]",
      "text/plain": [
       "<Figure size 640x480 with 1 Axes>"
      ]
     },
     "metadata": {},
     "output_type": "display_data"
    }
   ],
   "source": [
    "plt.boxplot(x = phon_df.coverage);"
   ]
  },
  {
   "cell_type": "code",
   "execution_count": 52,
   "id": "86f2ba90",
   "metadata": {},
   "outputs": [
    {
     "data": {
      "text/plain": [
       "(5000, 12)"
      ]
     },
     "execution_count": 52,
     "metadata": {},
     "output_type": "execute_result"
    }
   ],
   "source": [
    "phon_df.shape"
   ]
  },
  {
   "cell_type": "markdown",
   "id": "849dd38e",
   "metadata": {},
   "source": [
    "### droping unwanted columns"
   ]
  },
  {
   "cell_type": "code",
   "execution_count": 23,
   "id": "54e445bc",
   "metadata": {},
   "outputs": [],
   "source": [
    "phon_df = phon_df.drop(['phoneno','zipcode'],axis=1)"
   ]
  },
  {
   "cell_type": "code",
   "execution_count": 24,
   "id": "87344189",
   "metadata": {},
   "outputs": [
    {
     "data": {
      "text/plain": [
       "array([1, 2, 3], dtype=int64)"
      ]
     },
     "execution_count": 24,
     "metadata": {},
     "output_type": "execute_result"
    }
   ],
   "source": [
    "phon_df.age.unique()"
   ]
  },
  {
   "cell_type": "code",
   "execution_count": 25,
   "id": "c5babb91",
   "metadata": {},
   "outputs": [
    {
     "data": {
      "text/html": [
       "<div>\n",
       "<style scoped>\n",
       "    .dataframe tbody tr th:only-of-type {\n",
       "        vertical-align: middle;\n",
       "    }\n",
       "\n",
       "    .dataframe tbody tr th {\n",
       "        vertical-align: top;\n",
       "    }\n",
       "\n",
       "    .dataframe thead th {\n",
       "        text-align: right;\n",
       "    }\n",
       "</style>\n",
       "<table border=\"1\" class=\"dataframe\">\n",
       "  <thead>\n",
       "    <tr style=\"text-align: right;\">\n",
       "      <th></th>\n",
       "      <th>age</th>\n",
       "      <th>calls</th>\n",
       "      <th>sms</th>\n",
       "      <th>mms</th>\n",
       "      <th>charges</th>\n",
       "      <th>complaint</th>\n",
       "      <th>churn</th>\n",
       "      <th>gender_Female</th>\n",
       "      <th>gender_Male</th>\n",
       "      <th>coverage_0</th>\n",
       "      <th>...</th>\n",
       "      <th>coverage_2</th>\n",
       "      <th>coverage_3</th>\n",
       "      <th>coverage_4</th>\n",
       "      <th>coverage_5</th>\n",
       "      <th>sim_Dual Sim</th>\n",
       "      <th>sim_Single Sim</th>\n",
       "      <th>phone_Andoid</th>\n",
       "      <th>phone_IOS</th>\n",
       "      <th>prepost_Postpaid</th>\n",
       "      <th>prepost_Prepaid</th>\n",
       "    </tr>\n",
       "  </thead>\n",
       "  <tbody>\n",
       "    <tr>\n",
       "      <th>0</th>\n",
       "      <td>1</td>\n",
       "      <td>160</td>\n",
       "      <td>25</td>\n",
       "      <td>1</td>\n",
       "      <td>490</td>\n",
       "      <td>4</td>\n",
       "      <td>0</td>\n",
       "      <td>0</td>\n",
       "      <td>1</td>\n",
       "      <td>1</td>\n",
       "      <td>...</td>\n",
       "      <td>0</td>\n",
       "      <td>0</td>\n",
       "      <td>0</td>\n",
       "      <td>0</td>\n",
       "      <td>1</td>\n",
       "      <td>0</td>\n",
       "      <td>1</td>\n",
       "      <td>0</td>\n",
       "      <td>0</td>\n",
       "      <td>1</td>\n",
       "    </tr>\n",
       "    <tr>\n",
       "      <th>1</th>\n",
       "      <td>1</td>\n",
       "      <td>150</td>\n",
       "      <td>45</td>\n",
       "      <td>19</td>\n",
       "      <td>340</td>\n",
       "      <td>3</td>\n",
       "      <td>0</td>\n",
       "      <td>0</td>\n",
       "      <td>1</td>\n",
       "      <td>1</td>\n",
       "      <td>...</td>\n",
       "      <td>0</td>\n",
       "      <td>0</td>\n",
       "      <td>0</td>\n",
       "      <td>0</td>\n",
       "      <td>1</td>\n",
       "      <td>0</td>\n",
       "      <td>1</td>\n",
       "      <td>0</td>\n",
       "      <td>0</td>\n",
       "      <td>1</td>\n",
       "    </tr>\n",
       "    <tr>\n",
       "      <th>2</th>\n",
       "      <td>1</td>\n",
       "      <td>100</td>\n",
       "      <td>39</td>\n",
       "      <td>15</td>\n",
       "      <td>110</td>\n",
       "      <td>1</td>\n",
       "      <td>0</td>\n",
       "      <td>0</td>\n",
       "      <td>1</td>\n",
       "      <td>1</td>\n",
       "      <td>...</td>\n",
       "      <td>0</td>\n",
       "      <td>0</td>\n",
       "      <td>0</td>\n",
       "      <td>0</td>\n",
       "      <td>0</td>\n",
       "      <td>1</td>\n",
       "      <td>1</td>\n",
       "      <td>0</td>\n",
       "      <td>0</td>\n",
       "      <td>1</td>\n",
       "    </tr>\n",
       "    <tr>\n",
       "      <th>3</th>\n",
       "      <td>2</td>\n",
       "      <td>270</td>\n",
       "      <td>35</td>\n",
       "      <td>9</td>\n",
       "      <td>1000</td>\n",
       "      <td>1</td>\n",
       "      <td>0</td>\n",
       "      <td>0</td>\n",
       "      <td>1</td>\n",
       "      <td>1</td>\n",
       "      <td>...</td>\n",
       "      <td>0</td>\n",
       "      <td>0</td>\n",
       "      <td>0</td>\n",
       "      <td>0</td>\n",
       "      <td>0</td>\n",
       "      <td>1</td>\n",
       "      <td>1</td>\n",
       "      <td>0</td>\n",
       "      <td>0</td>\n",
       "      <td>1</td>\n",
       "    </tr>\n",
       "    <tr>\n",
       "      <th>4</th>\n",
       "      <td>2</td>\n",
       "      <td>100</td>\n",
       "      <td>35</td>\n",
       "      <td>8</td>\n",
       "      <td>450</td>\n",
       "      <td>4</td>\n",
       "      <td>0</td>\n",
       "      <td>1</td>\n",
       "      <td>0</td>\n",
       "      <td>1</td>\n",
       "      <td>...</td>\n",
       "      <td>0</td>\n",
       "      <td>0</td>\n",
       "      <td>0</td>\n",
       "      <td>0</td>\n",
       "      <td>0</td>\n",
       "      <td>1</td>\n",
       "      <td>1</td>\n",
       "      <td>0</td>\n",
       "      <td>0</td>\n",
       "      <td>1</td>\n",
       "    </tr>\n",
       "    <tr>\n",
       "      <th>...</th>\n",
       "      <td>...</td>\n",
       "      <td>...</td>\n",
       "      <td>...</td>\n",
       "      <td>...</td>\n",
       "      <td>...</td>\n",
       "      <td>...</td>\n",
       "      <td>...</td>\n",
       "      <td>...</td>\n",
       "      <td>...</td>\n",
       "      <td>...</td>\n",
       "      <td>...</td>\n",
       "      <td>...</td>\n",
       "      <td>...</td>\n",
       "      <td>...</td>\n",
       "      <td>...</td>\n",
       "      <td>...</td>\n",
       "      <td>...</td>\n",
       "      <td>...</td>\n",
       "      <td>...</td>\n",
       "      <td>...</td>\n",
       "      <td>...</td>\n",
       "    </tr>\n",
       "    <tr>\n",
       "      <th>4995</th>\n",
       "      <td>3</td>\n",
       "      <td>190</td>\n",
       "      <td>29</td>\n",
       "      <td>3</td>\n",
       "      <td>400</td>\n",
       "      <td>1</td>\n",
       "      <td>0</td>\n",
       "      <td>0</td>\n",
       "      <td>1</td>\n",
       "      <td>1</td>\n",
       "      <td>...</td>\n",
       "      <td>0</td>\n",
       "      <td>0</td>\n",
       "      <td>0</td>\n",
       "      <td>0</td>\n",
       "      <td>0</td>\n",
       "      <td>1</td>\n",
       "      <td>1</td>\n",
       "      <td>0</td>\n",
       "      <td>1</td>\n",
       "      <td>0</td>\n",
       "    </tr>\n",
       "    <tr>\n",
       "      <th>4996</th>\n",
       "      <td>1</td>\n",
       "      <td>40</td>\n",
       "      <td>30</td>\n",
       "      <td>4</td>\n",
       "      <td>150</td>\n",
       "      <td>4</td>\n",
       "      <td>0</td>\n",
       "      <td>0</td>\n",
       "      <td>1</td>\n",
       "      <td>0</td>\n",
       "      <td>...</td>\n",
       "      <td>0</td>\n",
       "      <td>0</td>\n",
       "      <td>0</td>\n",
       "      <td>0</td>\n",
       "      <td>0</td>\n",
       "      <td>1</td>\n",
       "      <td>1</td>\n",
       "      <td>0</td>\n",
       "      <td>1</td>\n",
       "      <td>0</td>\n",
       "    </tr>\n",
       "    <tr>\n",
       "      <th>4997</th>\n",
       "      <td>3</td>\n",
       "      <td>30</td>\n",
       "      <td>63</td>\n",
       "      <td>39</td>\n",
       "      <td>240</td>\n",
       "      <td>2</td>\n",
       "      <td>0</td>\n",
       "      <td>0</td>\n",
       "      <td>1</td>\n",
       "      <td>1</td>\n",
       "      <td>...</td>\n",
       "      <td>0</td>\n",
       "      <td>0</td>\n",
       "      <td>0</td>\n",
       "      <td>0</td>\n",
       "      <td>0</td>\n",
       "      <td>1</td>\n",
       "      <td>1</td>\n",
       "      <td>0</td>\n",
       "      <td>0</td>\n",
       "      <td>1</td>\n",
       "    </tr>\n",
       "    <tr>\n",
       "      <th>4998</th>\n",
       "      <td>2</td>\n",
       "      <td>50</td>\n",
       "      <td>65</td>\n",
       "      <td>40</td>\n",
       "      <td>490</td>\n",
       "      <td>3</td>\n",
       "      <td>0</td>\n",
       "      <td>0</td>\n",
       "      <td>1</td>\n",
       "      <td>1</td>\n",
       "      <td>...</td>\n",
       "      <td>0</td>\n",
       "      <td>0</td>\n",
       "      <td>0</td>\n",
       "      <td>0</td>\n",
       "      <td>0</td>\n",
       "      <td>1</td>\n",
       "      <td>1</td>\n",
       "      <td>0</td>\n",
       "      <td>1</td>\n",
       "      <td>0</td>\n",
       "    </tr>\n",
       "    <tr>\n",
       "      <th>4999</th>\n",
       "      <td>1</td>\n",
       "      <td>80</td>\n",
       "      <td>28</td>\n",
       "      <td>4</td>\n",
       "      <td>830</td>\n",
       "      <td>3</td>\n",
       "      <td>0</td>\n",
       "      <td>1</td>\n",
       "      <td>0</td>\n",
       "      <td>1</td>\n",
       "      <td>...</td>\n",
       "      <td>0</td>\n",
       "      <td>0</td>\n",
       "      <td>0</td>\n",
       "      <td>0</td>\n",
       "      <td>0</td>\n",
       "      <td>1</td>\n",
       "      <td>1</td>\n",
       "      <td>0</td>\n",
       "      <td>1</td>\n",
       "      <td>0</td>\n",
       "    </tr>\n",
       "  </tbody>\n",
       "</table>\n",
       "<p>5000 rows × 21 columns</p>\n",
       "</div>"
      ],
      "text/plain": [
       "      age  calls  sms  mms  charges  complaint  churn  gender_Female  \\\n",
       "0       1    160   25    1      490          4      0              0   \n",
       "1       1    150   45   19      340          3      0              0   \n",
       "2       1    100   39   15      110          1      0              0   \n",
       "3       2    270   35    9     1000          1      0              0   \n",
       "4       2    100   35    8      450          4      0              1   \n",
       "...   ...    ...  ...  ...      ...        ...    ...            ...   \n",
       "4995    3    190   29    3      400          1      0              0   \n",
       "4996    1     40   30    4      150          4      0              0   \n",
       "4997    3     30   63   39      240          2      0              0   \n",
       "4998    2     50   65   40      490          3      0              0   \n",
       "4999    1     80   28    4      830          3      0              1   \n",
       "\n",
       "      gender_Male  coverage_0  ...  coverage_2  coverage_3  coverage_4  \\\n",
       "0               1           1  ...           0           0           0   \n",
       "1               1           1  ...           0           0           0   \n",
       "2               1           1  ...           0           0           0   \n",
       "3               1           1  ...           0           0           0   \n",
       "4               0           1  ...           0           0           0   \n",
       "...           ...         ...  ...         ...         ...         ...   \n",
       "4995            1           1  ...           0           0           0   \n",
       "4996            1           0  ...           0           0           0   \n",
       "4997            1           1  ...           0           0           0   \n",
       "4998            1           1  ...           0           0           0   \n",
       "4999            0           1  ...           0           0           0   \n",
       "\n",
       "      coverage_5  sim_Dual Sim  sim_Single Sim  phone_Andoid  phone_IOS  \\\n",
       "0              0             1               0             1          0   \n",
       "1              0             1               0             1          0   \n",
       "2              0             0               1             1          0   \n",
       "3              0             0               1             1          0   \n",
       "4              0             0               1             1          0   \n",
       "...          ...           ...             ...           ...        ...   \n",
       "4995           0             0               1             1          0   \n",
       "4996           0             0               1             1          0   \n",
       "4997           0             0               1             1          0   \n",
       "4998           0             0               1             1          0   \n",
       "4999           0             0               1             1          0   \n",
       "\n",
       "      prepost_Postpaid  prepost_Prepaid  \n",
       "0                    0                1  \n",
       "1                    0                1  \n",
       "2                    0                1  \n",
       "3                    0                1  \n",
       "4                    0                1  \n",
       "...                ...              ...  \n",
       "4995                 1                0  \n",
       "4996                 1                0  \n",
       "4997                 0                1  \n",
       "4998                 1                0  \n",
       "4999                 1                0  \n",
       "\n",
       "[5000 rows x 21 columns]"
      ]
     },
     "execution_count": 25,
     "metadata": {},
     "output_type": "execute_result"
    }
   ],
   "source": [
    "phon_encoded = pd.get_dummies(phon_df, columns=['gender', 'coverage', 'sim', 'phone', 'prepost'])\n",
    "phon_encoded"
   ]
  },
  {
   "cell_type": "code",
   "execution_count": null,
   "id": "f46f1109",
   "metadata": {},
   "outputs": [],
   "source": []
  },
  {
   "cell_type": "code",
   "execution_count": 26,
   "id": "7e0009c8",
   "metadata": {},
   "outputs": [
    {
     "data": {
      "text/html": [
       "<div>\n",
       "<style scoped>\n",
       "    .dataframe tbody tr th:only-of-type {\n",
       "        vertical-align: middle;\n",
       "    }\n",
       "\n",
       "    .dataframe tbody tr th {\n",
       "        vertical-align: top;\n",
       "    }\n",
       "\n",
       "    .dataframe thead th {\n",
       "        text-align: right;\n",
       "    }\n",
       "</style>\n",
       "<table border=\"1\" class=\"dataframe\">\n",
       "  <thead>\n",
       "    <tr style=\"text-align: right;\">\n",
       "      <th></th>\n",
       "      <th>age</th>\n",
       "      <th>calls</th>\n",
       "      <th>sms</th>\n",
       "      <th>mms</th>\n",
       "      <th>charges</th>\n",
       "      <th>complaint</th>\n",
       "      <th>churn</th>\n",
       "      <th>gender_Female</th>\n",
       "      <th>gender_Male</th>\n",
       "      <th>coverage_0</th>\n",
       "      <th>...</th>\n",
       "      <th>coverage_2</th>\n",
       "      <th>coverage_3</th>\n",
       "      <th>coverage_4</th>\n",
       "      <th>coverage_5</th>\n",
       "      <th>sim_Dual Sim</th>\n",
       "      <th>sim_Single Sim</th>\n",
       "      <th>phone_Andoid</th>\n",
       "      <th>phone_IOS</th>\n",
       "      <th>prepost_Postpaid</th>\n",
       "      <th>prepost_Prepaid</th>\n",
       "    </tr>\n",
       "  </thead>\n",
       "  <tbody>\n",
       "    <tr>\n",
       "      <th>0</th>\n",
       "      <td>1</td>\n",
       "      <td>160</td>\n",
       "      <td>25</td>\n",
       "      <td>1</td>\n",
       "      <td>490</td>\n",
       "      <td>4</td>\n",
       "      <td>0</td>\n",
       "      <td>0</td>\n",
       "      <td>1</td>\n",
       "      <td>1</td>\n",
       "      <td>...</td>\n",
       "      <td>0</td>\n",
       "      <td>0</td>\n",
       "      <td>0</td>\n",
       "      <td>0</td>\n",
       "      <td>1</td>\n",
       "      <td>0</td>\n",
       "      <td>1</td>\n",
       "      <td>0</td>\n",
       "      <td>0</td>\n",
       "      <td>1</td>\n",
       "    </tr>\n",
       "    <tr>\n",
       "      <th>1</th>\n",
       "      <td>1</td>\n",
       "      <td>150</td>\n",
       "      <td>45</td>\n",
       "      <td>19</td>\n",
       "      <td>340</td>\n",
       "      <td>3</td>\n",
       "      <td>0</td>\n",
       "      <td>0</td>\n",
       "      <td>1</td>\n",
       "      <td>1</td>\n",
       "      <td>...</td>\n",
       "      <td>0</td>\n",
       "      <td>0</td>\n",
       "      <td>0</td>\n",
       "      <td>0</td>\n",
       "      <td>1</td>\n",
       "      <td>0</td>\n",
       "      <td>1</td>\n",
       "      <td>0</td>\n",
       "      <td>0</td>\n",
       "      <td>1</td>\n",
       "    </tr>\n",
       "    <tr>\n",
       "      <th>2</th>\n",
       "      <td>1</td>\n",
       "      <td>100</td>\n",
       "      <td>39</td>\n",
       "      <td>15</td>\n",
       "      <td>110</td>\n",
       "      <td>1</td>\n",
       "      <td>0</td>\n",
       "      <td>0</td>\n",
       "      <td>1</td>\n",
       "      <td>1</td>\n",
       "      <td>...</td>\n",
       "      <td>0</td>\n",
       "      <td>0</td>\n",
       "      <td>0</td>\n",
       "      <td>0</td>\n",
       "      <td>0</td>\n",
       "      <td>1</td>\n",
       "      <td>1</td>\n",
       "      <td>0</td>\n",
       "      <td>0</td>\n",
       "      <td>1</td>\n",
       "    </tr>\n",
       "    <tr>\n",
       "      <th>3</th>\n",
       "      <td>2</td>\n",
       "      <td>270</td>\n",
       "      <td>35</td>\n",
       "      <td>9</td>\n",
       "      <td>1000</td>\n",
       "      <td>1</td>\n",
       "      <td>0</td>\n",
       "      <td>0</td>\n",
       "      <td>1</td>\n",
       "      <td>1</td>\n",
       "      <td>...</td>\n",
       "      <td>0</td>\n",
       "      <td>0</td>\n",
       "      <td>0</td>\n",
       "      <td>0</td>\n",
       "      <td>0</td>\n",
       "      <td>1</td>\n",
       "      <td>1</td>\n",
       "      <td>0</td>\n",
       "      <td>0</td>\n",
       "      <td>1</td>\n",
       "    </tr>\n",
       "    <tr>\n",
       "      <th>4</th>\n",
       "      <td>2</td>\n",
       "      <td>100</td>\n",
       "      <td>35</td>\n",
       "      <td>8</td>\n",
       "      <td>450</td>\n",
       "      <td>4</td>\n",
       "      <td>0</td>\n",
       "      <td>1</td>\n",
       "      <td>0</td>\n",
       "      <td>1</td>\n",
       "      <td>...</td>\n",
       "      <td>0</td>\n",
       "      <td>0</td>\n",
       "      <td>0</td>\n",
       "      <td>0</td>\n",
       "      <td>0</td>\n",
       "      <td>1</td>\n",
       "      <td>1</td>\n",
       "      <td>0</td>\n",
       "      <td>0</td>\n",
       "      <td>1</td>\n",
       "    </tr>\n",
       "    <tr>\n",
       "      <th>...</th>\n",
       "      <td>...</td>\n",
       "      <td>...</td>\n",
       "      <td>...</td>\n",
       "      <td>...</td>\n",
       "      <td>...</td>\n",
       "      <td>...</td>\n",
       "      <td>...</td>\n",
       "      <td>...</td>\n",
       "      <td>...</td>\n",
       "      <td>...</td>\n",
       "      <td>...</td>\n",
       "      <td>...</td>\n",
       "      <td>...</td>\n",
       "      <td>...</td>\n",
       "      <td>...</td>\n",
       "      <td>...</td>\n",
       "      <td>...</td>\n",
       "      <td>...</td>\n",
       "      <td>...</td>\n",
       "      <td>...</td>\n",
       "      <td>...</td>\n",
       "    </tr>\n",
       "    <tr>\n",
       "      <th>4995</th>\n",
       "      <td>3</td>\n",
       "      <td>190</td>\n",
       "      <td>29</td>\n",
       "      <td>3</td>\n",
       "      <td>400</td>\n",
       "      <td>1</td>\n",
       "      <td>0</td>\n",
       "      <td>0</td>\n",
       "      <td>1</td>\n",
       "      <td>1</td>\n",
       "      <td>...</td>\n",
       "      <td>0</td>\n",
       "      <td>0</td>\n",
       "      <td>0</td>\n",
       "      <td>0</td>\n",
       "      <td>0</td>\n",
       "      <td>1</td>\n",
       "      <td>1</td>\n",
       "      <td>0</td>\n",
       "      <td>1</td>\n",
       "      <td>0</td>\n",
       "    </tr>\n",
       "    <tr>\n",
       "      <th>4996</th>\n",
       "      <td>1</td>\n",
       "      <td>40</td>\n",
       "      <td>30</td>\n",
       "      <td>4</td>\n",
       "      <td>150</td>\n",
       "      <td>4</td>\n",
       "      <td>0</td>\n",
       "      <td>0</td>\n",
       "      <td>1</td>\n",
       "      <td>0</td>\n",
       "      <td>...</td>\n",
       "      <td>0</td>\n",
       "      <td>0</td>\n",
       "      <td>0</td>\n",
       "      <td>0</td>\n",
       "      <td>0</td>\n",
       "      <td>1</td>\n",
       "      <td>1</td>\n",
       "      <td>0</td>\n",
       "      <td>1</td>\n",
       "      <td>0</td>\n",
       "    </tr>\n",
       "    <tr>\n",
       "      <th>4997</th>\n",
       "      <td>3</td>\n",
       "      <td>30</td>\n",
       "      <td>63</td>\n",
       "      <td>39</td>\n",
       "      <td>240</td>\n",
       "      <td>2</td>\n",
       "      <td>0</td>\n",
       "      <td>0</td>\n",
       "      <td>1</td>\n",
       "      <td>1</td>\n",
       "      <td>...</td>\n",
       "      <td>0</td>\n",
       "      <td>0</td>\n",
       "      <td>0</td>\n",
       "      <td>0</td>\n",
       "      <td>0</td>\n",
       "      <td>1</td>\n",
       "      <td>1</td>\n",
       "      <td>0</td>\n",
       "      <td>0</td>\n",
       "      <td>1</td>\n",
       "    </tr>\n",
       "    <tr>\n",
       "      <th>4998</th>\n",
       "      <td>2</td>\n",
       "      <td>50</td>\n",
       "      <td>65</td>\n",
       "      <td>40</td>\n",
       "      <td>490</td>\n",
       "      <td>3</td>\n",
       "      <td>0</td>\n",
       "      <td>0</td>\n",
       "      <td>1</td>\n",
       "      <td>1</td>\n",
       "      <td>...</td>\n",
       "      <td>0</td>\n",
       "      <td>0</td>\n",
       "      <td>0</td>\n",
       "      <td>0</td>\n",
       "      <td>0</td>\n",
       "      <td>1</td>\n",
       "      <td>1</td>\n",
       "      <td>0</td>\n",
       "      <td>1</td>\n",
       "      <td>0</td>\n",
       "    </tr>\n",
       "    <tr>\n",
       "      <th>4999</th>\n",
       "      <td>1</td>\n",
       "      <td>80</td>\n",
       "      <td>28</td>\n",
       "      <td>4</td>\n",
       "      <td>830</td>\n",
       "      <td>3</td>\n",
       "      <td>0</td>\n",
       "      <td>1</td>\n",
       "      <td>0</td>\n",
       "      <td>1</td>\n",
       "      <td>...</td>\n",
       "      <td>0</td>\n",
       "      <td>0</td>\n",
       "      <td>0</td>\n",
       "      <td>0</td>\n",
       "      <td>0</td>\n",
       "      <td>1</td>\n",
       "      <td>1</td>\n",
       "      <td>0</td>\n",
       "      <td>1</td>\n",
       "      <td>0</td>\n",
       "    </tr>\n",
       "  </tbody>\n",
       "</table>\n",
       "<p>5000 rows × 21 columns</p>\n",
       "</div>"
      ],
      "text/plain": [
       "      age  calls  sms  mms  charges  complaint  churn  gender_Female  \\\n",
       "0       1    160   25    1      490          4      0              0   \n",
       "1       1    150   45   19      340          3      0              0   \n",
       "2       1    100   39   15      110          1      0              0   \n",
       "3       2    270   35    9     1000          1      0              0   \n",
       "4       2    100   35    8      450          4      0              1   \n",
       "...   ...    ...  ...  ...      ...        ...    ...            ...   \n",
       "4995    3    190   29    3      400          1      0              0   \n",
       "4996    1     40   30    4      150          4      0              0   \n",
       "4997    3     30   63   39      240          2      0              0   \n",
       "4998    2     50   65   40      490          3      0              0   \n",
       "4999    1     80   28    4      830          3      0              1   \n",
       "\n",
       "      gender_Male  coverage_0  ...  coverage_2  coverage_3  coverage_4  \\\n",
       "0               1           1  ...           0           0           0   \n",
       "1               1           1  ...           0           0           0   \n",
       "2               1           1  ...           0           0           0   \n",
       "3               1           1  ...           0           0           0   \n",
       "4               0           1  ...           0           0           0   \n",
       "...           ...         ...  ...         ...         ...         ...   \n",
       "4995            1           1  ...           0           0           0   \n",
       "4996            1           0  ...           0           0           0   \n",
       "4997            1           1  ...           0           0           0   \n",
       "4998            1           1  ...           0           0           0   \n",
       "4999            0           1  ...           0           0           0   \n",
       "\n",
       "      coverage_5  sim_Dual Sim  sim_Single Sim  phone_Andoid  phone_IOS  \\\n",
       "0              0             1               0             1          0   \n",
       "1              0             1               0             1          0   \n",
       "2              0             0               1             1          0   \n",
       "3              0             0               1             1          0   \n",
       "4              0             0               1             1          0   \n",
       "...          ...           ...             ...           ...        ...   \n",
       "4995           0             0               1             1          0   \n",
       "4996           0             0               1             1          0   \n",
       "4997           0             0               1             1          0   \n",
       "4998           0             0               1             1          0   \n",
       "4999           0             0               1             1          0   \n",
       "\n",
       "      prepost_Postpaid  prepost_Prepaid  \n",
       "0                    0                1  \n",
       "1                    0                1  \n",
       "2                    0                1  \n",
       "3                    0                1  \n",
       "4                    0                1  \n",
       "...                ...              ...  \n",
       "4995                 1                0  \n",
       "4996                 1                0  \n",
       "4997                 0                1  \n",
       "4998                 1                0  \n",
       "4999                 1                0  \n",
       "\n",
       "[5000 rows x 21 columns]"
      ]
     },
     "execution_count": 26,
     "metadata": {},
     "output_type": "execute_result"
    }
   ],
   "source": [
    "phone_encoded = pd.get_dummies(phon_df, columns=['gender', 'coverage', 'sim', 'phone', 'prepost'])\n",
    "phon_encoded\n"
   ]
  },
  {
   "cell_type": "code",
   "execution_count": 27,
   "id": "22200551",
   "metadata": {},
   "outputs": [],
   "source": [
    "x = phone_encoded\n",
    "\n",
    "y = phon_df['churn']"
   ]
  },
  {
   "cell_type": "code",
   "execution_count": 39,
   "id": "079b11c4",
   "metadata": {},
   "outputs": [],
   "source": [
    "import statsmodels.api as sm\n",
    "from sklearn.model_selection import train_test_split\n",
    "from sklearn.linear_model import LogisticRegression\n",
    "# import pandas as pd\n",
    "\n",
    "\n",
    "# X_train, X_test, Y_train, Y_test = train_test_split(x, y, test_size=0.8, random_state=45)\n",
    "\n",
    "\n",
    "# logit_model = sm.Logit(Y_train, X_train)\n",
    "# logit_result = logit_model.fit()\n",
    "\n",
    "# print(logit_result.summary())\n"
   ]
  },
  {
   "cell_type": "code",
   "execution_count": 40,
   "id": "1b6881c9",
   "metadata": {},
   "outputs": [],
   "source": [
    "X_train, X_test, Y_train, Y_test = train_test_split(x, y, test_size=0.2, random_state=45)"
   ]
  },
  {
   "cell_type": "code",
   "execution_count": 53,
   "id": "86b3c6c9",
   "metadata": {},
   "outputs": [
    {
     "name": "stderr",
     "output_type": "stream",
     "text": [
      "C:\\Users\\amalv\\anaconda3\\jupyter\\lib\\site-packages\\sklearn\\linear_model\\_logistic.py:814: ConvergenceWarning: lbfgs failed to converge (status=1):\n",
      "STOP: TOTAL NO. of ITERATIONS REACHED LIMIT.\n",
      "\n",
      "Increase the number of iterations (max_iter) or scale the data as shown in:\n",
      "    https://scikit-learn.org/stable/modules/preprocessing.html\n",
      "Please also refer to the documentation for alternative solver options:\n",
      "    https://scikit-learn.org/stable/modules/linear_model.html#logistic-regression\n",
      "  n_iter_i = _check_optimize_result(\n"
     ]
    }
   ],
   "source": [
    "LR_model = LogisticRegression(max_iter=1000)\n",
    "LR_model.fit(X_train,Y_train);"
   ]
  },
  {
   "cell_type": "code",
   "execution_count": 54,
   "id": "e8ae3dcb",
   "metadata": {},
   "outputs": [
    {
     "data": {
      "text/plain": [
       "1.0"
      ]
     },
     "execution_count": 54,
     "metadata": {},
     "output_type": "execute_result"
    }
   ],
   "source": [
    "from sklearn.metrics import confusion_matrix, accuracy_score, classification_report\n",
    "predictions = LR_model.predict(X_test)\n",
    "\n",
    "accuracy_score(Y_test, predictions)"
   ]
  },
  {
   "cell_type": "code",
   "execution_count": 55,
   "id": "0240cb97",
   "metadata": {},
   "outputs": [
    {
     "data": {
      "text/plain": [
       "array([[905,   0],\n",
       "       [  0,  95]], dtype=int64)"
      ]
     },
     "execution_count": 55,
     "metadata": {},
     "output_type": "execute_result"
    }
   ],
   "source": [
    "confusion_matrix(Y_test, predictions)"
   ]
  },
  {
   "cell_type": "code",
   "execution_count": 56,
   "id": "14d08efb",
   "metadata": {},
   "outputs": [
    {
     "data": {
      "text/plain": [
       "'              precision    recall  f1-score   support\\n\\n           0       1.00      1.00      1.00       905\\n           1       1.00      1.00      1.00        95\\n\\n    accuracy                           1.00      1000\\n   macro avg       1.00      1.00      1.00      1000\\nweighted avg       1.00      1.00      1.00      1000\\n'"
      ]
     },
     "execution_count": 56,
     "metadata": {},
     "output_type": "execute_result"
    }
   ],
   "source": [
    "classification_report(Y_test,predictions)"
   ]
  },
  {
   "cell_type": "markdown",
   "id": "202130fc",
   "metadata": {},
   "source": [
    "# wow accuracy 100%"
   ]
  },
  {
   "cell_type": "code",
   "execution_count": null,
   "id": "9128f525",
   "metadata": {},
   "outputs": [],
   "source": []
  },
  {
   "cell_type": "code",
   "execution_count": null,
   "id": "cf9cf380",
   "metadata": {},
   "outputs": [],
   "source": []
  },
  {
   "cell_type": "code",
   "execution_count": null,
   "id": "3a4ed5b0",
   "metadata": {},
   "outputs": [],
   "source": []
  }
 ],
 "metadata": {
  "kernelspec": {
   "display_name": "Python 3 (ipykernel)",
   "language": "python",
   "name": "python3"
  },
  "language_info": {
   "codemirror_mode": {
    "name": "ipython",
    "version": 3
   },
   "file_extension": ".py",
   "mimetype": "text/x-python",
   "name": "python",
   "nbconvert_exporter": "python",
   "pygments_lexer": "ipython3",
   "version": "3.9.13"
  }
 },
 "nbformat": 4,
 "nbformat_minor": 5
}
