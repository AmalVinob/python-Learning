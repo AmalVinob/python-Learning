{
 "cells": [
  {
   "cell_type": "markdown",
   "id": "7486e533",
   "metadata": {},
   "source": [
    "# Consider a dataset, use Random Forest to predict the output class. Vary the number of trees as follows and compare the results: \n",
    "\n",
    "20 \n",
    "\n",
    "50 \n",
    "\n",
    "100 \n",
    "\n",
    "200 \n",
    "\n",
    "500 "
   ]
  },
  {
   "cell_type": "code",
   "execution_count": 1,
   "id": "94d3e55b",
   "metadata": {},
   "outputs": [],
   "source": [
    "import numpy as np\n",
    "import pandas as pd\n",
    "\n",
    "import matplotlib.pyplot as plt\n",
    "import seaborn as sns\n",
    "\n"
   ]
  },
  {
   "cell_type": "code",
   "execution_count": 2,
   "id": "2b2228ad",
   "metadata": {},
   "outputs": [],
   "source": [
    "df = sns.load_dataset('iris')"
   ]
  },
  {
   "cell_type": "code",
   "execution_count": 3,
   "id": "9acecb71",
   "metadata": {},
   "outputs": [],
   "source": [
    "x = df.drop(['species'],axis=1)\n",
    "y = df['species']"
   ]
  },
  {
   "cell_type": "code",
   "execution_count": 5,
   "id": "e04ab72d",
   "metadata": {},
   "outputs": [
    {
     "name": "stdout",
     "output_type": "stream",
     "text": [
      "accuracy of with 20 trees : 1.0000\n",
      "accuracy of with 50 trees : 1.0000\n",
      "accuracy of with 100 trees : 1.0000\n",
      "accuracy of with 200 trees : 1.0000\n",
      "accuracy of with 500 trees : 1.0000\n"
     ]
    }
   ],
   "source": [
    "from sklearn.ensemble import RandomForestClassifier\n",
    "from sklearn.model_selection import train_test_split\n",
    "from sklearn.metrics import accuracy_score\n",
    "\n",
    "x_train, x_test, y_train, y_test = train_test_split(x,y, test_size=.2,random_state=42)\n",
    "\n",
    "n_trees = [20,50,100,200,500]\n",
    "\n",
    "for number_trees in n_trees:\n",
    "    rf_clf = RandomForestClassifier(n_estimators=number_trees, random_state=42)\n",
    "    \n",
    "    rf_clf.fit(x_train,y_train)\n",
    "    \n",
    "    y_predict = rf_clf.predict(x_test)\n",
    "    \n",
    "    print(f\"accuracy of with {number_trees} trees : {accuracy_score(y_test,y_predict):.4f}\")\n",
    "    "
   ]
  },
  {
   "cell_type": "code",
   "execution_count": null,
   "id": "5b3bc3ba",
   "metadata": {},
   "outputs": [],
   "source": []
  }
 ],
 "metadata": {
  "kernelspec": {
   "display_name": "Python 3 (ipykernel)",
   "language": "python",
   "name": "python3"
  },
  "language_info": {
   "codemirror_mode": {
    "name": "ipython",
    "version": 3
   },
   "file_extension": ".py",
   "mimetype": "text/x-python",
   "name": "python",
   "nbconvert_exporter": "python",
   "pygments_lexer": "ipython3",
   "version": "3.9.13"
  }
 },
 "nbformat": 4,
 "nbformat_minor": 5
}
