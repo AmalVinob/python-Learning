{
 "cells": [
  {
   "cell_type": "code",
   "execution_count": 1,
   "id": "cb957571",
   "metadata": {},
   "outputs": [],
   "source": [
    "import pandas as pd\n",
    "import numpy as np\n",
    "\n",
    "import matplotlib.pyplot as plt\n",
    "import seaborn as sns\n",
    "\n",
    "%matplotlib inline"
   ]
  },
  {
   "cell_type": "code",
   "execution_count": 2,
   "id": "b1976d30",
   "metadata": {},
   "outputs": [],
   "source": [
    "salary = pd.read_csv('https://github.com//ybifoundation//Dataset//raw//main//Salary%20Data.csv')"
   ]
  },
  {
   "cell_type": "code",
   "execution_count": 3,
   "id": "2be4af9b",
   "metadata": {},
   "outputs": [
    {
     "data": {
      "text/html": [
       "<div>\n",
       "<style scoped>\n",
       "    .dataframe tbody tr th:only-of-type {\n",
       "        vertical-align: middle;\n",
       "    }\n",
       "\n",
       "    .dataframe tbody tr th {\n",
       "        vertical-align: top;\n",
       "    }\n",
       "\n",
       "    .dataframe thead th {\n",
       "        text-align: right;\n",
       "    }\n",
       "</style>\n",
       "<table border=\"1\" class=\"dataframe\">\n",
       "  <thead>\n",
       "    <tr style=\"text-align: right;\">\n",
       "      <th></th>\n",
       "      <th>Experience Years</th>\n",
       "      <th>Salary</th>\n",
       "    </tr>\n",
       "  </thead>\n",
       "  <tbody>\n",
       "    <tr>\n",
       "      <th>0</th>\n",
       "      <td>1.1</td>\n",
       "      <td>39343</td>\n",
       "    </tr>\n",
       "    <tr>\n",
       "      <th>1</th>\n",
       "      <td>1.2</td>\n",
       "      <td>42774</td>\n",
       "    </tr>\n",
       "    <tr>\n",
       "      <th>2</th>\n",
       "      <td>1.3</td>\n",
       "      <td>46205</td>\n",
       "    </tr>\n",
       "    <tr>\n",
       "      <th>3</th>\n",
       "      <td>1.5</td>\n",
       "      <td>37731</td>\n",
       "    </tr>\n",
       "    <tr>\n",
       "      <th>4</th>\n",
       "      <td>2.0</td>\n",
       "      <td>43525</td>\n",
       "    </tr>\n",
       "  </tbody>\n",
       "</table>\n",
       "</div>"
      ],
      "text/plain": [
       "   Experience Years  Salary\n",
       "0               1.1   39343\n",
       "1               1.2   42774\n",
       "2               1.3   46205\n",
       "3               1.5   37731\n",
       "4               2.0   43525"
      ]
     },
     "execution_count": 3,
     "metadata": {},
     "output_type": "execute_result"
    }
   ],
   "source": [
    "salary.head()"
   ]
  },
  {
   "cell_type": "code",
   "execution_count": 4,
   "id": "4cc8407a",
   "metadata": {},
   "outputs": [
    {
     "data": {
      "text/plain": [
       "Index(['Experience Years', 'Salary'], dtype='object')"
      ]
     },
     "execution_count": 4,
     "metadata": {},
     "output_type": "execute_result"
    }
   ],
   "source": [
    "salary.columns"
   ]
  },
  {
   "cell_type": "code",
   "execution_count": 5,
   "id": "a2e8ac4f",
   "metadata": {},
   "outputs": [],
   "source": [
    "x = salary.drop(['Salary'], axis=1)\n",
    "\n",
    "y = salary['Salary']"
   ]
  },
  {
   "cell_type": "code",
   "execution_count": 6,
   "id": "a103b4e0",
   "metadata": {},
   "outputs": [],
   "source": [
    "from sklearn.model_selection import train_test_split\n",
    "\n",
    "x_train, x_test, y_train, y_test = train_test_split(x, y, train_size=.7, random_state= 42)\n"
   ]
  },
  {
   "cell_type": "code",
   "execution_count": null,
   "id": "cb5ad481",
   "metadata": {},
   "outputs": [],
   "source": []
  },
  {
   "cell_type": "code",
   "execution_count": 10,
   "id": "57914cad",
   "metadata": {},
   "outputs": [],
   "source": [
    "from sklearn.linear_model import LinearRegression\n",
    "\n",
    "model = LinearRegression()"
   ]
  },
  {
   "cell_type": "code",
   "execution_count": 11,
   "id": "1817b624",
   "metadata": {},
   "outputs": [
    {
     "data": {
      "text/html": [
       "<style>#sk-container-id-1 {color: black;}#sk-container-id-1 pre{padding: 0;}#sk-container-id-1 div.sk-toggleable {background-color: white;}#sk-container-id-1 label.sk-toggleable__label {cursor: pointer;display: block;width: 100%;margin-bottom: 0;padding: 0.3em;box-sizing: border-box;text-align: center;}#sk-container-id-1 label.sk-toggleable__label-arrow:before {content: \"▸\";float: left;margin-right: 0.25em;color: #696969;}#sk-container-id-1 label.sk-toggleable__label-arrow:hover:before {color: black;}#sk-container-id-1 div.sk-estimator:hover label.sk-toggleable__label-arrow:before {color: black;}#sk-container-id-1 div.sk-toggleable__content {max-height: 0;max-width: 0;overflow: hidden;text-align: left;background-color: #f0f8ff;}#sk-container-id-1 div.sk-toggleable__content pre {margin: 0.2em;color: black;border-radius: 0.25em;background-color: #f0f8ff;}#sk-container-id-1 input.sk-toggleable__control:checked~div.sk-toggleable__content {max-height: 200px;max-width: 100%;overflow: auto;}#sk-container-id-1 input.sk-toggleable__control:checked~label.sk-toggleable__label-arrow:before {content: \"▾\";}#sk-container-id-1 div.sk-estimator input.sk-toggleable__control:checked~label.sk-toggleable__label {background-color: #d4ebff;}#sk-container-id-1 div.sk-label input.sk-toggleable__control:checked~label.sk-toggleable__label {background-color: #d4ebff;}#sk-container-id-1 input.sk-hidden--visually {border: 0;clip: rect(1px 1px 1px 1px);clip: rect(1px, 1px, 1px, 1px);height: 1px;margin: -1px;overflow: hidden;padding: 0;position: absolute;width: 1px;}#sk-container-id-1 div.sk-estimator {font-family: monospace;background-color: #f0f8ff;border: 1px dotted black;border-radius: 0.25em;box-sizing: border-box;margin-bottom: 0.5em;}#sk-container-id-1 div.sk-estimator:hover {background-color: #d4ebff;}#sk-container-id-1 div.sk-parallel-item::after {content: \"\";width: 100%;border-bottom: 1px solid gray;flex-grow: 1;}#sk-container-id-1 div.sk-label:hover label.sk-toggleable__label {background-color: #d4ebff;}#sk-container-id-1 div.sk-serial::before {content: \"\";position: absolute;border-left: 1px solid gray;box-sizing: border-box;top: 0;bottom: 0;left: 50%;z-index: 0;}#sk-container-id-1 div.sk-serial {display: flex;flex-direction: column;align-items: center;background-color: white;padding-right: 0.2em;padding-left: 0.2em;position: relative;}#sk-container-id-1 div.sk-item {position: relative;z-index: 1;}#sk-container-id-1 div.sk-parallel {display: flex;align-items: stretch;justify-content: center;background-color: white;position: relative;}#sk-container-id-1 div.sk-item::before, #sk-container-id-1 div.sk-parallel-item::before {content: \"\";position: absolute;border-left: 1px solid gray;box-sizing: border-box;top: 0;bottom: 0;left: 50%;z-index: -1;}#sk-container-id-1 div.sk-parallel-item {display: flex;flex-direction: column;z-index: 1;position: relative;background-color: white;}#sk-container-id-1 div.sk-parallel-item:first-child::after {align-self: flex-end;width: 50%;}#sk-container-id-1 div.sk-parallel-item:last-child::after {align-self: flex-start;width: 50%;}#sk-container-id-1 div.sk-parallel-item:only-child::after {width: 0;}#sk-container-id-1 div.sk-dashed-wrapped {border: 1px dashed gray;margin: 0 0.4em 0.5em 0.4em;box-sizing: border-box;padding-bottom: 0.4em;background-color: white;}#sk-container-id-1 div.sk-label label {font-family: monospace;font-weight: bold;display: inline-block;line-height: 1.2em;}#sk-container-id-1 div.sk-label-container {text-align: center;}#sk-container-id-1 div.sk-container {/* jupyter's `normalize.less` sets `[hidden] { display: none; }` but bootstrap.min.css set `[hidden] { display: none !important; }` so we also need the `!important` here to be able to override the default hidden behavior on the sphinx rendered scikit-learn.org. See: https://github.com/scikit-learn/scikit-learn/issues/21755 */display: inline-block !important;position: relative;}#sk-container-id-1 div.sk-text-repr-fallback {display: none;}</style><div id=\"sk-container-id-1\" class=\"sk-top-container\"><div class=\"sk-text-repr-fallback\"><pre>LinearRegression()</pre><b>In a Jupyter environment, please rerun this cell to show the HTML representation or trust the notebook. <br />On GitHub, the HTML representation is unable to render, please try loading this page with nbviewer.org.</b></div><div class=\"sk-container\" hidden><div class=\"sk-item\"><div class=\"sk-estimator sk-toggleable\"><input class=\"sk-toggleable__control sk-hidden--visually\" id=\"sk-estimator-id-1\" type=\"checkbox\" checked><label for=\"sk-estimator-id-1\" class=\"sk-toggleable__label sk-toggleable__label-arrow\">LinearRegression</label><div class=\"sk-toggleable__content\"><pre>LinearRegression()</pre></div></div></div></div></div>"
      ],
      "text/plain": [
       "LinearRegression()"
      ]
     },
     "execution_count": 11,
     "metadata": {},
     "output_type": "execute_result"
    }
   ],
   "source": [
    "model.fit(x_train, y_train)"
   ]
  },
  {
   "cell_type": "code",
   "execution_count": 12,
   "id": "077f79e4",
   "metadata": {},
   "outputs": [
    {
     "data": {
      "text/plain": [
       "26767.86524944281"
      ]
     },
     "execution_count": 12,
     "metadata": {},
     "output_type": "execute_result"
    }
   ],
   "source": [
    "model.intercept_"
   ]
  },
  {
   "cell_type": "code",
   "execution_count": 13,
   "id": "4e7a0ae1",
   "metadata": {},
   "outputs": [
    {
     "data": {
      "text/plain": [
       "array([9459.35953483])"
      ]
     },
     "execution_count": 13,
     "metadata": {},
     "output_type": "execute_result"
    }
   ],
   "source": [
    "model.coef_"
   ]
  },
  {
   "cell_type": "code",
   "execution_count": 18,
   "id": "55e3d899",
   "metadata": {},
   "outputs": [],
   "source": [
    "y_pred = model.predict(x_test)"
   ]
  },
  {
   "cell_type": "code",
   "execution_count": 19,
   "id": "65973d89",
   "metadata": {},
   "outputs": [
    {
     "data": {
      "text/plain": [
       "array([ 69334.98315618,  64605.30338877,  64605.30338877,  83524.02245843,\n",
       "        45686.5843191 ,  61767.49552832, 117577.71678382,  85415.89436539,\n",
       "       126091.14036516,  50416.26408652,  82578.08650494,  57037.8157609 ])"
      ]
     },
     "execution_count": 19,
     "metadata": {},
     "output_type": "execute_result"
    }
   ],
   "source": [
    "y_pred"
   ]
  },
  {
   "cell_type": "code",
   "execution_count": 20,
   "id": "ae510d5a",
   "metadata": {},
   "outputs": [],
   "source": [
    "from sklearn.metrics import mean_absolute_error, mean_absolute_percentage_error, mean_squared_error"
   ]
  },
  {
   "cell_type": "code",
   "execution_count": 21,
   "id": "3f13f353",
   "metadata": {},
   "outputs": [
    {
     "data": {
      "text/plain": [
       "5211.981371554558"
      ]
     },
     "execution_count": 21,
     "metadata": {},
     "output_type": "execute_result"
    }
   ],
   "source": [
    "mean_absolute_error(y_test,y_pred)"
   ]
  },
  {
   "cell_type": "code",
   "execution_count": 22,
   "id": "851f6405",
   "metadata": {},
   "outputs": [
    {
     "data": {
      "text/plain": [
       "0.0761963556601618"
      ]
     },
     "execution_count": 22,
     "metadata": {},
     "output_type": "execute_result"
    }
   ],
   "source": [
    "mean_absolute_percentage_error(y_test,y_pred)"
   ]
  },
  {
   "cell_type": "code",
   "execution_count": 32,
   "id": "b05fbe7c",
   "metadata": {},
   "outputs": [
    {
     "data": {
      "text/plain": [
       "35344480.17477033"
      ]
     },
     "execution_count": 32,
     "metadata": {},
     "output_type": "execute_result"
    }
   ],
   "source": [
    "mean_squared_error(y_test,y_pred)"
   ]
  },
  {
   "cell_type": "code",
   "execution_count": null,
   "id": "76f46558",
   "metadata": {},
   "outputs": [],
   "source": []
  },
  {
   "cell_type": "markdown",
   "id": "21a095a0",
   "metadata": {},
   "source": [
    "# lets try another dataset"
   ]
  },
  {
   "cell_type": "code",
   "execution_count": 47,
   "id": "3b7ff5ab",
   "metadata": {},
   "outputs": [],
   "source": [
    "train_data = pd.read_csv(\"./train.csv\")\n",
    "test_data = pd.read_csv(\"./test.csv\")"
   ]
  },
  {
   "cell_type": "code",
   "execution_count": 48,
   "id": "2512cfa3",
   "metadata": {},
   "outputs": [
    {
     "data": {
      "text/html": [
       "<div>\n",
       "<style scoped>\n",
       "    .dataframe tbody tr th:only-of-type {\n",
       "        vertical-align: middle;\n",
       "    }\n",
       "\n",
       "    .dataframe tbody tr th {\n",
       "        vertical-align: top;\n",
       "    }\n",
       "\n",
       "    .dataframe thead th {\n",
       "        text-align: right;\n",
       "    }\n",
       "</style>\n",
       "<table border=\"1\" class=\"dataframe\">\n",
       "  <thead>\n",
       "    <tr style=\"text-align: right;\">\n",
       "      <th></th>\n",
       "      <th>x</th>\n",
       "      <th>y</th>\n",
       "    </tr>\n",
       "  </thead>\n",
       "  <tbody>\n",
       "    <tr>\n",
       "      <th>0</th>\n",
       "      <td>24.0</td>\n",
       "      <td>21.549452</td>\n",
       "    </tr>\n",
       "    <tr>\n",
       "      <th>1</th>\n",
       "      <td>50.0</td>\n",
       "      <td>47.464463</td>\n",
       "    </tr>\n",
       "    <tr>\n",
       "      <th>2</th>\n",
       "      <td>15.0</td>\n",
       "      <td>17.218656</td>\n",
       "    </tr>\n",
       "    <tr>\n",
       "      <th>3</th>\n",
       "      <td>38.0</td>\n",
       "      <td>36.586398</td>\n",
       "    </tr>\n",
       "    <tr>\n",
       "      <th>4</th>\n",
       "      <td>87.0</td>\n",
       "      <td>87.288984</td>\n",
       "    </tr>\n",
       "  </tbody>\n",
       "</table>\n",
       "</div>"
      ],
      "text/plain": [
       "      x          y\n",
       "0  24.0  21.549452\n",
       "1  50.0  47.464463\n",
       "2  15.0  17.218656\n",
       "3  38.0  36.586398\n",
       "4  87.0  87.288984"
      ]
     },
     "execution_count": 48,
     "metadata": {},
     "output_type": "execute_result"
    }
   ],
   "source": [
    "train_data.head()"
   ]
  },
  {
   "cell_type": "code",
   "execution_count": 49,
   "id": "fc43e652",
   "metadata": {},
   "outputs": [
    {
     "data": {
      "text/html": [
       "<div>\n",
       "<style scoped>\n",
       "    .dataframe tbody tr th:only-of-type {\n",
       "        vertical-align: middle;\n",
       "    }\n",
       "\n",
       "    .dataframe tbody tr th {\n",
       "        vertical-align: top;\n",
       "    }\n",
       "\n",
       "    .dataframe thead th {\n",
       "        text-align: right;\n",
       "    }\n",
       "</style>\n",
       "<table border=\"1\" class=\"dataframe\">\n",
       "  <thead>\n",
       "    <tr style=\"text-align: right;\">\n",
       "      <th></th>\n",
       "      <th>x</th>\n",
       "      <th>y</th>\n",
       "    </tr>\n",
       "  </thead>\n",
       "  <tbody>\n",
       "    <tr>\n",
       "      <th>0</th>\n",
       "      <td>77</td>\n",
       "      <td>79.775152</td>\n",
       "    </tr>\n",
       "    <tr>\n",
       "      <th>1</th>\n",
       "      <td>21</td>\n",
       "      <td>23.177279</td>\n",
       "    </tr>\n",
       "    <tr>\n",
       "      <th>2</th>\n",
       "      <td>22</td>\n",
       "      <td>25.609262</td>\n",
       "    </tr>\n",
       "    <tr>\n",
       "      <th>3</th>\n",
       "      <td>20</td>\n",
       "      <td>17.857388</td>\n",
       "    </tr>\n",
       "    <tr>\n",
       "      <th>4</th>\n",
       "      <td>36</td>\n",
       "      <td>41.849864</td>\n",
       "    </tr>\n",
       "  </tbody>\n",
       "</table>\n",
       "</div>"
      ],
      "text/plain": [
       "    x          y\n",
       "0  77  79.775152\n",
       "1  21  23.177279\n",
       "2  22  25.609262\n",
       "3  20  17.857388\n",
       "4  36  41.849864"
      ]
     },
     "execution_count": 49,
     "metadata": {},
     "output_type": "execute_result"
    }
   ],
   "source": [
    "test_data.head()"
   ]
  },
  {
   "cell_type": "code",
   "execution_count": 50,
   "id": "bdf47e17",
   "metadata": {},
   "outputs": [
    {
     "data": {
      "text/plain": [
       "<matplotlib.collections.PathCollection at 0x1b243a19be0>"
      ]
     },
     "execution_count": 50,
     "metadata": {},
     "output_type": "execute_result"
    },
    {
     "data": {
      "image/png": "[encoded data removed]",
      "text/plain": [
       "<Figure size 640x480 with 1 Axes>"
      ]
     },
     "metadata": {},
     "output_type": "display_data"
    }
   ],
   "source": [
    "plt.scatter(x=train_data['x'], y= train_data['y'],)"
   ]
  },
  {
   "cell_type": "code",
   "execution_count": 51,
   "id": "f2b1f8b1",
   "metadata": {},
   "outputs": [],
   "source": [
    "sns.set(style='darkgrid')"
   ]
  },
  {
   "cell_type": "code",
   "execution_count": 52,
   "id": "24a5a211",
   "metadata": {},
   "outputs": [],
   "source": [
    "train_data = train_data.dropna()\n",
    "test_data = test_data.dropna()"
   ]
  },
  {
   "cell_type": "code",
   "execution_count": 53,
   "id": "8c71e3c0",
   "metadata": {},
   "outputs": [
    {
     "data": {
      "text/plain": [
       "<AxesSubplot:xlabel='x', ylabel='y'>"
      ]
     },
     "execution_count": 53,
     "metadata": {},
     "output_type": "execute_result"
    },
    {
     "data": {
      "image/png": "[encoded data removed]",
      "text/plain": [
       "<Figure size 640x480 with 1 Axes>"
      ]
     },
     "metadata": {},
     "output_type": "display_data"
    }
   ],
   "source": [
    "sns.scatterplot(x=train_data['x'], y= train_data['y'])"
   ]
  },
  {
   "cell_type": "markdown",
   "id": "2089bf7f",
   "metadata": {},
   "source": [
    "### we can see a linear line lts plot the data using linear regression"
   ]
  },
  {
   "cell_type": "code",
   "execution_count": 54,
   "id": "10e1e025",
   "metadata": {},
   "outputs": [],
   "source": [
    "x_train = train_data['x'].values\n",
    "y_train = train_data['y'].values\n",
    "\n",
    "x_test = test_data['x'].values\n",
    "y_test = test_data['y'].values"
   ]
  },
  {
   "cell_type": "code",
   "execution_count": 55,
   "id": "1e4b6049",
   "metadata": {},
   "outputs": [
    {
     "data": {
      "text/plain": [
       "((699,), (699,), (300,), (300,))"
      ]
     },
     "execution_count": 55,
     "metadata": {},
     "output_type": "execute_result"
    }
   ],
   "source": [
    "x_train.shape, y_train.shape, x_test.shape, y_test.shape"
   ]
  },
  {
   "cell_type": "code",
   "execution_count": 56,
   "id": "9ff56248",
   "metadata": {},
   "outputs": [],
   "source": [
    "# x_train = np.array(x_train).reshape(1,-1)\n",
    "# y_train = np.array(y_train).reshape(1,-1)\n",
    "\n",
    "# # y_test = np.array(y_test).reshape(1,-1)\n",
    "# # x_test = np.array(x_test).reshape(1,-1)"
   ]
  },
  {
   "cell_type": "code",
   "execution_count": 57,
   "id": "936fc506",
   "metadata": {},
   "outputs": [],
   "source": [
    "import numpy as np\n",
    "\n",
    "# Reshape training data to have two dimensions\n",
    "x_train = x_train.reshape(-1, 1)  # Assuming X_train is your training data\n",
    "\n",
    "# Similarly reshape test data\n",
    "x_test = x_test.reshape(-1, 1)  # Assuming X_test is your test data\n"
   ]
  },
  {
   "cell_type": "code",
   "execution_count": 58,
   "id": "9d781150",
   "metadata": {},
   "outputs": [
    {
     "data": {
      "text/plain": [
       "array([[ 77],\n",
       "       [ 21],\n",
       "       [ 22],\n",
       "       [ 20],\n",
       "       [ 36],\n",
       "       [ 15],\n",
       "       [ 62],\n",
       "       [ 95],\n",
       "       [ 20],\n",
       "       [  5],\n",
       "       [  4],\n",
       "       [ 19],\n",
       "       [ 96],\n",
       "       [ 62],\n",
       "       [ 36],\n",
       "       [ 15],\n",
       "       [ 65],\n",
       "       [ 14],\n",
       "       [ 87],\n",
       "       [ 69],\n",
       "       [ 89],\n",
       "       [ 51],\n",
       "       [ 89],\n",
       "       [ 27],\n",
       "       [ 97],\n",
       "       [ 58],\n",
       "       [ 79],\n",
       "       [ 21],\n",
       "       [ 93],\n",
       "       [ 27],\n",
       "       [ 99],\n",
       "       [ 31],\n",
       "       [ 33],\n",
       "       [ 80],\n",
       "       [ 28],\n",
       "       [ 47],\n",
       "       [ 53],\n",
       "       [ 69],\n",
       "       [ 28],\n",
       "       [ 33],\n",
       "       [ 91],\n",
       "       [ 71],\n",
       "       [ 50],\n",
       "       [ 76],\n",
       "       [  4],\n",
       "       [ 37],\n",
       "       [ 70],\n",
       "       [ 68],\n",
       "       [ 40],\n",
       "       [ 35],\n",
       "       [ 94],\n",
       "       [ 88],\n",
       "       [ 52],\n",
       "       [ 31],\n",
       "       [ 59],\n",
       "       [  0],\n",
       "       [ 39],\n",
       "       [ 64],\n",
       "       [ 69],\n",
       "       [ 57],\n",
       "       [ 13],\n",
       "       [ 72],\n",
       "       [ 76],\n",
       "       [ 61],\n",
       "       [ 82],\n",
       "       [ 18],\n",
       "       [ 41],\n",
       "       [ 50],\n",
       "       [ 55],\n",
       "       [ 13],\n",
       "       [ 46],\n",
       "       [ 13],\n",
       "       [ 79],\n",
       "       [ 53],\n",
       "       [ 15],\n",
       "       [ 28],\n",
       "       [ 81],\n",
       "       [ 69],\n",
       "       [ 52],\n",
       "       [ 84],\n",
       "       [ 68],\n",
       "       [ 27],\n",
       "       [ 56],\n",
       "       [ 48],\n",
       "       [ 40],\n",
       "       [ 39],\n",
       "       [ 82],\n",
       "       [100],\n",
       "       [ 59],\n",
       "       [ 43],\n",
       "       [ 67],\n",
       "       [ 38],\n",
       "       [ 63],\n",
       "       [ 91],\n",
       "       [ 60],\n",
       "       [ 14],\n",
       "       [ 21],\n",
       "       [ 87],\n",
       "       [ 73],\n",
       "       [ 32],\n",
       "       [  2],\n",
       "       [ 82],\n",
       "       [ 19],\n",
       "       [ 74],\n",
       "       [ 42],\n",
       "       [ 12],\n",
       "       [  1],\n",
       "       [ 90],\n",
       "       [ 89],\n",
       "       [  0],\n",
       "       [ 41],\n",
       "       [ 16],\n",
       "       [ 94],\n",
       "       [ 97],\n",
       "       [ 66],\n",
       "       [ 24],\n",
       "       [ 17],\n",
       "       [ 90],\n",
       "       [ 13],\n",
       "       [  0],\n",
       "       [ 64],\n",
       "       [ 96],\n",
       "       [ 98],\n",
       "       [ 12],\n",
       "       [ 41],\n",
       "       [ 47],\n",
       "       [ 78],\n",
       "       [ 20],\n",
       "       [ 89],\n",
       "       [ 29],\n",
       "       [ 64],\n",
       "       [ 75],\n",
       "       [ 12],\n",
       "       [ 25],\n",
       "       [ 28],\n",
       "       [ 30],\n",
       "       [ 65],\n",
       "       [ 59],\n",
       "       [ 64],\n",
       "       [ 53],\n",
       "       [ 71],\n",
       "       [ 97],\n",
       "       [ 73],\n",
       "       [  9],\n",
       "       [ 12],\n",
       "       [ 63],\n",
       "       [ 99],\n",
       "       [ 60],\n",
       "       [ 35],\n",
       "       [  2],\n",
       "       [ 60],\n",
       "       [ 32],\n",
       "       [ 94],\n",
       "       [ 84],\n",
       "       [ 63],\n",
       "       [ 22],\n",
       "       [ 81],\n",
       "       [ 93],\n",
       "       [ 33],\n",
       "       [  7],\n",
       "       [ 42],\n",
       "       [ 46],\n",
       "       [ 54],\n",
       "       [ 16],\n",
       "       [ 49],\n",
       "       [ 43],\n",
       "       [ 95],\n",
       "       [ 66],\n",
       "       [ 21],\n",
       "       [ 35],\n",
       "       [ 80],\n",
       "       [ 37],\n",
       "       [ 54],\n",
       "       [ 56],\n",
       "       [  1],\n",
       "       [ 32],\n",
       "       [ 58],\n",
       "       [ 32],\n",
       "       [ 46],\n",
       "       [ 72],\n",
       "       [ 17],\n",
       "       [ 97],\n",
       "       [ 93],\n",
       "       [ 91],\n",
       "       [ 37],\n",
       "       [  4],\n",
       "       [ 54],\n",
       "       [ 51],\n",
       "       [ 27],\n",
       "       [ 46],\n",
       "       [ 92],\n",
       "       [ 73],\n",
       "       [ 77],\n",
       "       [ 91],\n",
       "       [ 61],\n",
       "       [ 99],\n",
       "       [  4],\n",
       "       [ 72],\n",
       "       [ 19],\n",
       "       [ 57],\n",
       "       [ 78],\n",
       "       [ 26],\n",
       "       [ 74],\n",
       "       [ 90],\n",
       "       [ 66],\n",
       "       [ 13],\n",
       "       [ 40],\n",
       "       [ 77],\n",
       "       [ 67],\n",
       "       [ 75],\n",
       "       [ 23],\n",
       "       [ 45],\n",
       "       [ 59],\n",
       "       [ 44],\n",
       "       [ 23],\n",
       "       [ 55],\n",
       "       [ 55],\n",
       "       [ 95],\n",
       "       [ 12],\n",
       "       [  4],\n",
       "       [  7],\n",
       "       [100],\n",
       "       [ 48],\n",
       "       [ 42],\n",
       "       [ 96],\n",
       "       [ 39],\n",
       "       [100],\n",
       "       [ 87],\n",
       "       [ 14],\n",
       "       [ 14],\n",
       "       [ 37],\n",
       "       [  5],\n",
       "       [ 88],\n",
       "       [ 91],\n",
       "       [ 65],\n",
       "       [ 74],\n",
       "       [ 56],\n",
       "       [ 16],\n",
       "       [  5],\n",
       "       [ 28],\n",
       "       [ 92],\n",
       "       [ 46],\n",
       "       [ 54],\n",
       "       [ 39],\n",
       "       [ 44],\n",
       "       [ 31],\n",
       "       [ 68],\n",
       "       [ 86],\n",
       "       [ 90],\n",
       "       [ 38],\n",
       "       [ 21],\n",
       "       [ 95],\n",
       "       [ 56],\n",
       "       [ 60],\n",
       "       [ 65],\n",
       "       [ 78],\n",
       "       [ 89],\n",
       "       [  6],\n",
       "       [ 67],\n",
       "       [ 36],\n",
       "       [ 16],\n",
       "       [100],\n",
       "       [ 45],\n",
       "       [ 73],\n",
       "       [ 57],\n",
       "       [ 20],\n",
       "       [ 76],\n",
       "       [ 34],\n",
       "       [ 55],\n",
       "       [ 72],\n",
       "       [ 55],\n",
       "       [  8],\n",
       "       [ 56],\n",
       "       [ 72],\n",
       "       [ 58],\n",
       "       [  6],\n",
       "       [ 96],\n",
       "       [ 23],\n",
       "       [ 58],\n",
       "       [ 23],\n",
       "       [ 19],\n",
       "       [ 25],\n",
       "       [ 64],\n",
       "       [ 21],\n",
       "       [ 59],\n",
       "       [ 19],\n",
       "       [ 16],\n",
       "       [ 42],\n",
       "       [ 43],\n",
       "       [ 61],\n",
       "       [ 92],\n",
       "       [ 11],\n",
       "       [ 41],\n",
       "       [  1],\n",
       "       [  8],\n",
       "       [ 71],\n",
       "       [ 46],\n",
       "       [ 55],\n",
       "       [ 62],\n",
       "       [ 47]], dtype=int64)"
      ]
     },
     "execution_count": 58,
     "metadata": {},
     "output_type": "execute_result"
    }
   ],
   "source": [
    "x_test"
   ]
  },
  {
   "cell_type": "code",
   "execution_count": 59,
   "id": "3c004ce1",
   "metadata": {},
   "outputs": [],
   "source": [
    "from sklearn.linear_model import LinearRegression\n",
    "\n",
    "model = LinearRegression()"
   ]
  },
  {
   "cell_type": "code",
   "execution_count": 60,
   "id": "87f45ea0",
   "metadata": {},
   "outputs": [
    {
     "data": {
      "text/html": [
       "<style>#sk-container-id-3 {color: black;}#sk-container-id-3 pre{padding: 0;}#sk-container-id-3 div.sk-toggleable {background-color: white;}#sk-container-id-3 label.sk-toggleable__label {cursor: pointer;display: block;width: 100%;margin-bottom: 0;padding: 0.3em;box-sizing: border-box;text-align: center;}#sk-container-id-3 label.sk-toggleable__label-arrow:before {content: \"▸\";float: left;margin-right: 0.25em;color: #696969;}#sk-container-id-3 label.sk-toggleable__label-arrow:hover:before {color: black;}#sk-container-id-3 div.sk-estimator:hover label.sk-toggleable__label-arrow:before {color: black;}#sk-container-id-3 div.sk-toggleable__content {max-height: 0;max-width: 0;overflow: hidden;text-align: left;background-color: #f0f8ff;}#sk-container-id-3 div.sk-toggleable__content pre {margin: 0.2em;color: black;border-radius: 0.25em;background-color: #f0f8ff;}#sk-container-id-3 input.sk-toggleable__control:checked~div.sk-toggleable__content {max-height: 200px;max-width: 100%;overflow: auto;}#sk-container-id-3 input.sk-toggleable__control:checked~label.sk-toggleable__label-arrow:before {content: \"▾\";}#sk-container-id-3 div.sk-estimator input.sk-toggleable__control:checked~label.sk-toggleable__label {background-color: #d4ebff;}#sk-container-id-3 div.sk-label input.sk-toggleable__control:checked~label.sk-toggleable__label {background-color: #d4ebff;}#sk-container-id-3 input.sk-hidden--visually {border: 0;clip: rect(1px 1px 1px 1px);clip: rect(1px, 1px, 1px, 1px);height: 1px;margin: -1px;overflow: hidden;padding: 0;position: absolute;width: 1px;}#sk-container-id-3 div.sk-estimator {font-family: monospace;background-color: #f0f8ff;border: 1px dotted black;border-radius: 0.25em;box-sizing: border-box;margin-bottom: 0.5em;}#sk-container-id-3 div.sk-estimator:hover {background-color: #d4ebff;}#sk-container-id-3 div.sk-parallel-item::after {content: \"\";width: 100%;border-bottom: 1px solid gray;flex-grow: 1;}#sk-container-id-3 div.sk-label:hover label.sk-toggleable__label {background-color: #d4ebff;}#sk-container-id-3 div.sk-serial::before {content: \"\";position: absolute;border-left: 1px solid gray;box-sizing: border-box;top: 0;bottom: 0;left: 50%;z-index: 0;}#sk-container-id-3 div.sk-serial {display: flex;flex-direction: column;align-items: center;background-color: white;padding-right: 0.2em;padding-left: 0.2em;position: relative;}#sk-container-id-3 div.sk-item {position: relative;z-index: 1;}#sk-container-id-3 div.sk-parallel {display: flex;align-items: stretch;justify-content: center;background-color: white;position: relative;}#sk-container-id-3 div.sk-item::before, #sk-container-id-3 div.sk-parallel-item::before {content: \"\";position: absolute;border-left: 1px solid gray;box-sizing: border-box;top: 0;bottom: 0;left: 50%;z-index: -1;}#sk-container-id-3 div.sk-parallel-item {display: flex;flex-direction: column;z-index: 1;position: relative;background-color: white;}#sk-container-id-3 div.sk-parallel-item:first-child::after {align-self: flex-end;width: 50%;}#sk-container-id-3 div.sk-parallel-item:last-child::after {align-self: flex-start;width: 50%;}#sk-container-id-3 div.sk-parallel-item:only-child::after {width: 0;}#sk-container-id-3 div.sk-dashed-wrapped {border: 1px dashed gray;margin: 0 0.4em 0.5em 0.4em;box-sizing: border-box;padding-bottom: 0.4em;background-color: white;}#sk-container-id-3 div.sk-label label {font-family: monospace;font-weight: bold;display: inline-block;line-height: 1.2em;}#sk-container-id-3 div.sk-label-container {text-align: center;}#sk-container-id-3 div.sk-container {/* jupyter's `normalize.less` sets `[hidden] { display: none; }` but bootstrap.min.css set `[hidden] { display: none !important; }` so we also need the `!important` here to be able to override the default hidden behavior on the sphinx rendered scikit-learn.org. See: https://github.com/scikit-learn/scikit-learn/issues/21755 */display: inline-block !important;position: relative;}#sk-container-id-3 div.sk-text-repr-fallback {display: none;}</style><div id=\"sk-container-id-3\" class=\"sk-top-container\"><div class=\"sk-text-repr-fallback\"><pre>LinearRegression()</pre><b>In a Jupyter environment, please rerun this cell to show the HTML representation or trust the notebook. <br />On GitHub, the HTML representation is unable to render, please try loading this page with nbviewer.org.</b></div><div class=\"sk-container\" hidden><div class=\"sk-item\"><div class=\"sk-estimator sk-toggleable\"><input class=\"sk-toggleable__control sk-hidden--visually\" id=\"sk-estimator-id-3\" type=\"checkbox\" checked><label for=\"sk-estimator-id-3\" class=\"sk-toggleable__label sk-toggleable__label-arrow\">LinearRegression</label><div class=\"sk-toggleable__content\"><pre>LinearRegression()</pre></div></div></div></div></div>"
      ],
      "text/plain": [
       "LinearRegression()"
      ]
     },
     "execution_count": 60,
     "metadata": {},
     "output_type": "execute_result"
    }
   ],
   "source": [
    "model.fit(x_train,y_train)"
   ]
  },
  {
   "cell_type": "code",
   "execution_count": 61,
   "id": "5bd98c15",
   "metadata": {},
   "outputs": [],
   "source": [
    "y_predict = model.predict(x_test)"
   ]
  },
  {
   "cell_type": "code",
   "execution_count": 62,
   "id": "02217092",
   "metadata": {},
   "outputs": [
    {
     "data": {
      "text/plain": [
       "array([76.94327594, 20.90651855, 21.90717494, 19.90586217, 35.91636428,\n",
       "       14.90258026, 61.93343021, 94.95509081, 19.90586217,  4.89601644,\n",
       "        3.89536006, 18.90520579, 95.95574719, 61.93343021, 35.91636428,\n",
       "       14.90258026, 64.93539936, 13.90192388, 86.94983976, 68.93802488,\n",
       "       88.95115252, 50.92621001, 88.95115252, 26.91045685, 96.95640358,\n",
       "       57.93080468, 78.9445887 , 20.90651855, 92.95377805, 26.91045685,\n",
       "       98.95771634, 30.91308237, 32.91439514, 79.94524508, 27.91111323,\n",
       "       46.92358448, 52.92752277, 68.93802488, 27.91111323, 32.91439514,\n",
       "       90.95246528, 70.93933765, 49.92555363, 75.94261956,  3.89536006,\n",
       "       36.91702066, 69.93868127, 67.9373685 , 39.91898981, 34.9157079 ,\n",
       "       93.95443443, 87.95049614, 51.92686639, 30.91308237, 58.93146107,\n",
       "       -0.10726546, 38.91833343, 63.93474297, 68.93802488, 56.9301483 ,\n",
       "       12.9012675 , 71.93999403, 75.94261956, 60.93277383, 81.94655785,\n",
       "       17.90454941, 40.91964619, 49.92555363, 54.92883554, 12.9012675 ,\n",
       "       45.9229281 , 12.9012675 , 78.9445887 , 52.92752277, 14.90258026,\n",
       "       27.91111323, 80.94590147, 68.93802488, 51.92686639, 83.94787061,\n",
       "       67.9373685 , 26.91045685, 55.92949192, 47.92424086, 39.91898981,\n",
       "       38.91833343, 81.94655785, 99.95837272, 58.93146107, 42.92095896,\n",
       "       66.93671212, 37.91767705, 62.93408659, 90.95246528, 59.93211745,\n",
       "       13.90192388, 20.90651855, 86.94983976, 72.94065041, 31.91373876,\n",
       "        1.8940473 , 81.94655785, 18.90520579, 73.94130679, 41.92030257,\n",
       "       11.90061112,  0.89339092, 89.9518089 , 88.95115252, -0.10726546,\n",
       "       40.91964619, 15.90323665, 93.95443443, 96.95640358, 65.93605574,\n",
       "       23.9084877 , 16.90389303, 89.9518089 , 12.9012675 , -0.10726546,\n",
       "       63.93474297, 95.95574719, 97.95705996, 11.90061112, 40.91964619,\n",
       "       46.92358448, 77.94393232, 19.90586217, 88.95115252, 28.91176961,\n",
       "       63.93474297, 74.94196317, 11.90061112, 24.90914408, 27.91111323,\n",
       "       29.91242599, 64.93539936, 58.93146107, 63.93474297, 52.92752277,\n",
       "       70.93933765, 96.95640358, 72.94065041,  8.89864197, 11.90061112,\n",
       "       62.93408659, 98.95771634, 59.93211745, 34.9157079 ,  1.8940473 ,\n",
       "       59.93211745, 31.91373876, 93.95443443, 83.94787061, 62.93408659,\n",
       "       21.90717494, 80.94590147, 92.95377805, 32.91439514,  6.89732921,\n",
       "       41.92030257, 45.9229281 , 53.92817916, 15.90323665, 48.92489725,\n",
       "       42.92095896, 94.95509081, 65.93605574, 20.90651855, 34.9157079 ,\n",
       "       79.94524508, 36.91702066, 53.92817916, 55.92949192,  0.89339092,\n",
       "       31.91373876, 57.93080468, 31.91373876, 45.9229281 , 71.93999403,\n",
       "       16.90389303, 96.95640358, 92.95377805, 90.95246528, 36.91702066,\n",
       "        3.89536006, 53.92817916, 50.92621001, 26.91045685, 45.9229281 ,\n",
       "       91.95312167, 72.94065041, 76.94327594, 90.95246528, 60.93277383,\n",
       "       98.95771634,  3.89536006, 71.93999403, 18.90520579, 56.9301483 ,\n",
       "       77.94393232, 25.90980046, 73.94130679, 89.9518089 , 65.93605574,\n",
       "       12.9012675 , 39.91898981, 76.94327594, 66.93671212, 74.94196317,\n",
       "       22.90783132, 44.92227172, 58.93146107, 43.92161534, 22.90783132,\n",
       "       54.92883554, 54.92883554, 94.95509081, 11.90061112,  3.89536006,\n",
       "        6.89732921, 99.95837272, 47.92424086, 41.92030257, 95.95574719,\n",
       "       38.91833343, 99.95837272, 86.94983976, 13.90192388, 13.90192388,\n",
       "       36.91702066,  4.89601644, 87.95049614, 90.95246528, 64.93539936,\n",
       "       73.94130679, 55.92949192, 15.90323665,  4.89601644, 27.91111323,\n",
       "       91.95312167, 45.9229281 , 53.92817916, 38.91833343, 43.92161534,\n",
       "       30.91308237, 67.9373685 , 85.94918338, 89.9518089 , 37.91767705,\n",
       "       20.90651855, 94.95509081, 55.92949192, 59.93211745, 64.93539936,\n",
       "       77.94393232, 88.95115252,  5.89667283, 66.93671212, 35.91636428,\n",
       "       15.90323665, 99.95837272, 44.92227172, 72.94065041, 56.9301483 ,\n",
       "       19.90586217, 75.94261956, 33.91505152, 54.92883554, 71.93999403,\n",
       "       54.92883554,  7.89798559, 55.92949192, 71.93999403, 57.93080468,\n",
       "        5.89667283, 95.95574719, 22.90783132, 57.93080468, 22.90783132,\n",
       "       18.90520579, 24.90914408, 63.93474297, 20.90651855, 58.93146107,\n",
       "       18.90520579, 15.90323665, 41.92030257, 42.92095896, 60.93277383,\n",
       "       91.95312167, 10.89995474, 40.91964619,  0.89339092,  7.89798559,\n",
       "       70.93933765, 45.9229281 , 54.92883554, 61.93343021, 46.92358448])"
      ]
     },
     "execution_count": 62,
     "metadata": {},
     "output_type": "execute_result"
    }
   ],
   "source": [
    "y_predict"
   ]
  },
  {
   "cell_type": "code",
   "execution_count": 63,
   "id": "9dcf94b1",
   "metadata": {},
   "outputs": [],
   "source": [
    "from sklearn.metrics import mean_absolute_error, mean_squared_error, mean_absolute_percentage_error"
   ]
  },
  {
   "cell_type": "code",
   "execution_count": 68,
   "id": "36e15cc6",
   "metadata": {},
   "outputs": [
    {
     "name": "stdout",
     "output_type": "stream",
     "text": [
      "mean_squared_error:  9.432922192039305\n",
      "mean_absolute_error:  2.415771850041258\n",
      "mean_absolute_percentage_error:  0.13545963035353825\n"
     ]
    }
   ],
   "source": [
    "MSE = mean_squared_error(y_test, y_predict)\n",
    "MAE = mean_absolute_error(y_test, y_predict)\n",
    "MAPE = mean_absolute_percentage_error(y_test, y_predict)\n",
    "\n",
    "print(\"mean_squared_error: \" ,MSE)\n",
    "print(\"mean_absolute_error: \" ,MAE)\n",
    "print(\"mean_absolute_percentage_error: \" ,MAPE)\n",
    "\n"
   ]
  },
  {
   "cell_type": "code",
   "execution_count": 74,
   "id": "a11dc890",
   "metadata": {},
   "outputs": [
    {
     "data": {
      "image/png": "[encoded data removed]",
      "text/plain": [
       "<Figure size 640x480 with 1 Axes>"
      ]
     },
     "metadata": {},
     "output_type": "display_data"
    }
   ],
   "source": [
    "sns.scatterplot(x= y_test, y = y_predict)\n",
    "plt.title(\"actual vs predicted \")\n",
    "plt.xlabel(\"actual values\")\n",
    "plt.ylabel(\"predicted values\")\n",
    "plt.show()"
   ]
  },
  {
   "cell_type": "code",
   "execution_count": 71,
   "id": "732f40ac",
   "metadata": {},
   "outputs": [
    {
     "data": {
      "image/png": "[encoded data removed]",
      "text/plain": [
       "<Figure size 640x480 with 1 Axes>"
      ]
     },
     "metadata": {},
     "output_type": "display_data"
    }
   ],
   "source": [
    "# Assuming y_test contains the actual target values and y_pred contains predicted values\n",
    "plt.scatter(y_test, y_predict)\n",
    "plt.xlabel('Actual Values')\n",
    "plt.ylabel('Predicted Values')\n",
    "plt.title('Actual vs. Predicted Values')\n",
    "plt.show()\n"
   ]
  },
  {
   "cell_type": "code",
   "execution_count": null,
   "id": "e0167918",
   "metadata": {},
   "outputs": [],
   "source": []
  }
 ],
 "metadata": {
  "kernelspec": {
   "display_name": "Python 3 (ipykernel)",
   "language": "python",
   "name": "python3"
  },
  "language_info": {
   "codemirror_mode": {
    "name": "ipython",
    "version": 3
   },
   "file_extension": ".py",
   "mimetype": "text/x-python",
   "name": "python",
   "nbconvert_exporter": "python",
   "pygments_lexer": "ipython3",
   "version": "3.9.13"
  }
 },
 "nbformat": 4,
 "nbformat_minor": 5
}
