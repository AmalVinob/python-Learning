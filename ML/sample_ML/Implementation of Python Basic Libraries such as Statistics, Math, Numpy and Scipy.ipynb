{
 "cells": [
  {
   "cell_type": "markdown",
   "id": "e967eb62",
   "metadata": {},
   "source": [
    "# Implementation of Python Basic Libraries such as Statistics, Math, Numpy and Scipy"
   ]
  },
  {
   "cell_type": "code",
   "execution_count": 2,
   "id": "ea8933c4",
   "metadata": {},
   "outputs": [],
   "source": [
    "import numpy as np\n",
    "import pandas as pd\n",
    "\n",
    "import matplotlib.pyplot as plt\n",
    "import seaborn as sns"
   ]
  },
  {
   "cell_type": "markdown",
   "id": "c70d2760",
   "metadata": {},
   "source": [
    "# Usage of methods such as floor(), ceil(), sqrt(), isqrt(), gcd() etc. "
   ]
  },
  {
   "cell_type": "code",
   "execution_count": 6,
   "id": "60e83616",
   "metadata": {},
   "outputs": [
    {
     "data": {
      "text/plain": [
       "5"
      ]
     },
     "execution_count": 6,
     "metadata": {},
     "output_type": "execute_result"
    }
   ],
   "source": [
    "import math\n",
    "a = 5.567\n",
    "math.floor(a)"
   ]
  },
  {
   "cell_type": "code",
   "execution_count": 8,
   "id": "adeeea0d",
   "metadata": {},
   "outputs": [
    {
     "data": {
      "text/plain": [
       "6"
      ]
     },
     "execution_count": 8,
     "metadata": {},
     "output_type": "execute_result"
    }
   ],
   "source": [
    "math.ceil(a)"
   ]
  },
  {
   "cell_type": "code",
   "execution_count": 9,
   "id": "b82405a3",
   "metadata": {},
   "outputs": [
    {
     "data": {
      "text/plain": [
       "2.3594490882407273"
      ]
     },
     "execution_count": 9,
     "metadata": {},
     "output_type": "execute_result"
    }
   ],
   "source": [
    "math.sqrt(a)"
   ]
  },
  {
   "cell_type": "code",
   "execution_count": 11,
   "id": "590d0447",
   "metadata": {},
   "outputs": [
    {
     "data": {
      "text/plain": [
       "2"
      ]
     },
     "execution_count": 11,
     "metadata": {},
     "output_type": "execute_result"
    }
   ],
   "source": [
    "b = 6\n",
    "math.isqrt(6)"
   ]
  },
  {
   "cell_type": "code",
   "execution_count": 19,
   "id": "c9a24a43",
   "metadata": {},
   "outputs": [
    {
     "data": {
      "text/plain": [
       "3"
      ]
     },
     "execution_count": 19,
     "metadata": {},
     "output_type": "execute_result"
    }
   ],
   "source": [
    "math.gcd(24,21)"
   ]
  },
  {
   "cell_type": "code",
   "execution_count": 18,
   "id": "bd55e991",
   "metadata": {},
   "outputs": [
    {
     "data": {
      "text/plain": [
       "4488"
      ]
     },
     "execution_count": 18,
     "metadata": {},
     "output_type": "execute_result"
    }
   ],
   "source": [
    "math.lcm(24, 1122)"
   ]
  },
  {
   "cell_type": "markdown",
   "id": "2a3ab4c2",
   "metadata": {},
   "source": [
    "# Usage of attributes of array such as ndim, shape, size, methods such as sum(), mean(), sort(), sin() etc. "
   ]
  },
  {
   "cell_type": "code",
   "execution_count": 20,
   "id": "f59d2143",
   "metadata": {},
   "outputs": [
    {
     "data": {
      "text/plain": [
       "array([1, 2, 3, 4])"
      ]
     },
     "execution_count": 20,
     "metadata": {},
     "output_type": "execute_result"
    }
   ],
   "source": [
    "a = np.array([1,2,3,4])\n",
    "a"
   ]
  },
  {
   "cell_type": "code",
   "execution_count": 22,
   "id": "6595befb",
   "metadata": {},
   "outputs": [
    {
     "data": {
      "text/plain": [
       "1"
      ]
     },
     "execution_count": 22,
     "metadata": {},
     "output_type": "execute_result"
    }
   ],
   "source": [
    "np.ndim(a)"
   ]
  },
  {
   "cell_type": "code",
   "execution_count": 31,
   "id": "c164dd26",
   "metadata": {},
   "outputs": [
    {
     "data": {
      "text/plain": [
       "2"
      ]
     },
     "execution_count": 31,
     "metadata": {},
     "output_type": "execute_result"
    }
   ],
   "source": [
    "a = np.array([[8,2,5,4],[1,6,2,8]])\n",
    "\n",
    "np.ndim(a)"
   ]
  },
  {
   "cell_type": "code",
   "execution_count": 24,
   "id": "ed092ae8",
   "metadata": {},
   "outputs": [
    {
     "data": {
      "text/plain": [
       "(2, 4)"
      ]
     },
     "execution_count": 24,
     "metadata": {},
     "output_type": "execute_result"
    }
   ],
   "source": [
    "np.shape(a)"
   ]
  },
  {
   "cell_type": "code",
   "execution_count": 25,
   "id": "3045c6de",
   "metadata": {},
   "outputs": [
    {
     "data": {
      "text/plain": [
       "8"
      ]
     },
     "execution_count": 25,
     "metadata": {},
     "output_type": "execute_result"
    }
   ],
   "source": [
    "np.size(a)"
   ]
  },
  {
   "cell_type": "code",
   "execution_count": 26,
   "id": "6119d9f8",
   "metadata": {},
   "outputs": [
    {
     "data": {
      "text/plain": [
       "array([[ 2,  4,  6,  8],\n",
       "       [10, 12, 14, 16]])"
      ]
     },
     "execution_count": 26,
     "metadata": {},
     "output_type": "execute_result"
    }
   ],
   "source": [
    "b = np.array([[1,2,3,4],[5,6,7,8]])\n",
    "c = a + b\n",
    "c"
   ]
  },
  {
   "cell_type": "code",
   "execution_count": 29,
   "id": "ffbb8c42",
   "metadata": {},
   "outputs": [
    {
     "data": {
      "text/plain": [
       "4.5"
      ]
     },
     "execution_count": 29,
     "metadata": {},
     "output_type": "execute_result"
    }
   ],
   "source": [
    "np.mean(a)"
   ]
  },
  {
   "cell_type": "code",
   "execution_count": 32,
   "id": "2f804a04",
   "metadata": {},
   "outputs": [
    {
     "name": "stdout",
     "output_type": "stream",
     "text": [
      "[[8 2 5 4]\n",
      " [1 6 2 8]]\n"
     ]
    },
    {
     "data": {
      "text/plain": [
       "array([[2, 4, 5, 8],\n",
       "       [1, 2, 6, 8]])"
      ]
     },
     "execution_count": 32,
     "metadata": {},
     "output_type": "execute_result"
    }
   ],
   "source": [
    "print(a)\n",
    "np.sort(a)"
   ]
  },
  {
   "cell_type": "code",
   "execution_count": 33,
   "id": "601366d9",
   "metadata": {},
   "outputs": [
    {
     "data": {
      "text/plain": [
       "array([[ 0.98935825,  0.90929743, -0.95892427, -0.7568025 ],\n",
       "       [ 0.84147098, -0.2794155 ,  0.90929743,  0.98935825]])"
      ]
     },
     "execution_count": 33,
     "metadata": {},
     "output_type": "execute_result"
    }
   ],
   "source": [
    "np.sin(a)"
   ]
  },
  {
   "cell_type": "markdown",
   "id": "fa68d381",
   "metadata": {},
   "source": [
    "# Usage of methods such as det(), eig() etc. "
   ]
  },
  {
   "cell_type": "code",
   "execution_count": 37,
   "id": "ce1395fd",
   "metadata": {},
   "outputs": [],
   "source": [
    "b = np.array([[1,2],[4,5]])"
   ]
  },
  {
   "cell_type": "code",
   "execution_count": 41,
   "id": "3c1689b7",
   "metadata": {},
   "outputs": [
    {
     "name": "stdout",
     "output_type": "stream",
     "text": [
      "determinent of matrix a =  -2.9999999999999996\n"
     ]
    }
   ],
   "source": [
    "print( \"determinent of matrix a = \",np.linalg.det(b))"
   ]
  },
  {
   "cell_type": "code",
   "execution_count": 43,
   "id": "a3dd760f",
   "metadata": {},
   "outputs": [
    {
     "name": "stdout",
     "output_type": "stream",
     "text": [
      "determinent of matrix a =  \n",
      " EigResult(eigenvalues=array([-0.46410162,  6.46410162]), eigenvectors=array([[-0.80689822, -0.34372377],\n",
      "       [ 0.59069049, -0.9390708 ]]))\n"
     ]
    }
   ],
   "source": [
    "print( \"determinent of matrix a = \",\"\\n\",np.linalg.eig(b))"
   ]
  },
  {
   "cell_type": "code",
   "execution_count": 44,
   "id": "51b859b4",
   "metadata": {},
   "outputs": [
    {
     "data": {
      "text/plain": [
       "array([[-1.66666667,  0.66666667],\n",
       "       [ 1.33333333, -0.33333333]])"
      ]
     },
     "execution_count": 44,
     "metadata": {},
     "output_type": "execute_result"
    }
   ],
   "source": [
    "np.linalg.inv(b)"
   ]
  },
  {
   "cell_type": "markdown",
   "id": "0f61e644",
   "metadata": {},
   "source": [
    "# Consider a list datatype (1D) then reshape it into 2D, 3D matrix using numpy "
   ]
  },
  {
   "cell_type": "code",
   "execution_count": 47,
   "id": "6afe9470",
   "metadata": {},
   "outputs": [
    {
     "data": {
      "text/plain": [
       "array([[1, 2],\n",
       "       [3, 4]])"
      ]
     },
     "execution_count": 47,
     "metadata": {},
     "output_type": "execute_result"
    }
   ],
   "source": [
    "a = np.array([1,2,3,4])\n",
    "a.reshape((2,2))"
   ]
  },
  {
   "cell_type": "code",
   "execution_count": 46,
   "id": "1ece5e2f",
   "metadata": {},
   "outputs": [
    {
     "data": {
      "text/plain": [
       "array([[1, 2],\n",
       "       [3, 5],\n",
       "       [6, 7]])"
      ]
     },
     "execution_count": 46,
     "metadata": {},
     "output_type": "execute_result"
    }
   ],
   "source": [
    "b = np.array([[1,2,3],[5,6,7]])\n",
    "b.reshape((3,2))"
   ]
  },
  {
   "cell_type": "code",
   "execution_count": 48,
   "id": "60eee9b7",
   "metadata": {},
   "outputs": [
    {
     "data": {
      "text/plain": [
       "array([[1, 2, 3],\n",
       "       [4, 5, 6],\n",
       "       [7, 8, 9]])"
      ]
     },
     "execution_count": 48,
     "metadata": {},
     "output_type": "execute_result"
    }
   ],
   "source": [
    "a = np.array([1,2,3,4,5,6,7,8,9])\n",
    "a.reshape(3,3)\n"
   ]
  },
  {
   "cell_type": "markdown",
   "id": "1f68a550",
   "metadata": {},
   "source": [
    "# Generate random matrices using numpy "
   ]
  },
  {
   "cell_type": "code",
   "execution_count": 50,
   "id": "7689a535",
   "metadata": {},
   "outputs": [
    {
     "data": {
      "text/plain": [
       "array([[0.25168054, 0.29368845, 0.56897372],\n",
       "       [0.00169959, 0.46885257, 0.84565083],\n",
       "       [0.77435034, 0.97516802, 0.9503967 ]])"
      ]
     },
     "execution_count": 50,
     "metadata": {},
     "output_type": "execute_result"
    }
   ],
   "source": [
    "a = np.random.rand(3,3)\n",
    "a"
   ]
  },
  {
   "cell_type": "code",
   "execution_count": 55,
   "id": "bc0b10c9",
   "metadata": {},
   "outputs": [
    {
     "data": {
      "text/plain": [
       "array([[0.86438104, 0.84990676, 0.64596521, 0.45685949],\n",
       "       [0.24001531, 0.18331787, 0.39646816, 0.75726485]])"
      ]
     },
     "execution_count": 55,
     "metadata": {},
     "output_type": "execute_result"
    }
   ],
   "source": [
    "b = np.random.rand(2,4)\n",
    "b"
   ]
  },
  {
   "cell_type": "markdown",
   "id": "288f48cd",
   "metadata": {},
   "source": [
    "# Generate random matrices using numpy "
   ]
  },
  {
   "cell_type": "code",
   "execution_count": 56,
   "id": "1e02d66b",
   "metadata": {},
   "outputs": [],
   "source": [
    "from scipy.linalg import det\n",
    "\n",
    "deter = det(a)"
   ]
  },
  {
   "cell_type": "code",
   "execution_count": 57,
   "id": "75d41f14",
   "metadata": {},
   "outputs": [
    {
     "data": {
      "text/plain": [
       "-0.10918572406805407"
      ]
     },
     "execution_count": 57,
     "metadata": {},
     "output_type": "execute_result"
    }
   ],
   "source": [
    "deter"
   ]
  },
  {
   "cell_type": "code",
   "execution_count": 60,
   "id": "5e53ba22",
   "metadata": {},
   "outputs": [
    {
     "name": "stdout",
     "output_type": "stream",
     "text": [
      "eigen values : [ 1.88572335+0.j  0.15610903+0.j -0.37090257+0.j] \n",
      " \n",
      "eigen vector : [[-0.36423215 -0.63754484 -0.29580478]\n",
      " [-0.47761915  0.72299811 -0.677524  ]\n",
      " [-0.79950915 -0.26610205  0.67339496]]\n"
     ]
    }
   ],
   "source": [
    "from scipy.linalg import eig\n",
    "\n",
    "eigen_val, eig_vector = eig(a)\n",
    "\n",
    "print(f\"eigen values : {eigen_val} \\n \")\n",
    "print(f\"eigen vector : {eig_vector}\")\n"
   ]
  },
  {
   "cell_type": "code",
   "execution_count": null,
   "id": "446ac4d8",
   "metadata": {},
   "outputs": [],
   "source": []
  }
 ],
 "metadata": {
  "kernelspec": {
   "display_name": "Python 3 (ipykernel)",
   "language": "python",
   "name": "python3"
  },
  "language_info": {
   "codemirror_mode": {
    "name": "ipython",
    "version": 3
   },
   "file_extension": ".py",
   "mimetype": "text/x-python",
   "name": "python",
   "nbconvert_exporter": "python",
   "pygments_lexer": "ipython3",
   "version": "3.9.13"
  }
 },
 "nbformat": 4,
 "nbformat_minor": 5
}
