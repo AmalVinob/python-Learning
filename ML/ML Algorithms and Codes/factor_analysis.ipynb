{
 "cells": [
  {
   "cell_type": "markdown",
   "id": "016efcd1",
   "metadata": {},
   "source": [
    "# load package"
   ]
  },
  {
   "cell_type": "code",
   "execution_count": 2,
   "id": "96400555",
   "metadata": {},
   "outputs": [],
   "source": [
    "import pandas as pd\n",
    "from factor_analyzer import FactorAnalyzer\n",
    "import numpy as np"
   ]
  },
  {
   "cell_type": "markdown",
   "id": "566e92a6",
   "metadata": {},
   "source": [
    "## read dataset"
   ]
  },
  {
   "cell_type": "code",
   "execution_count": 1,
   "id": "2c9117a3",
   "metadata": {},
   "outputs": [
    {
     "name": "stdout",
     "output_type": "stream",
     "text": [
      "{'uci_id': 222, 'name': 'Bank Marketing', 'repository_url': 'https://archive.ics.uci.edu/dataset/222/bank+marketing', 'data_url': 'https://archive.ics.uci.edu/static/public/222/data.csv', 'abstract': 'The data is related with direct marketing campaigns (phone calls) of a Portuguese banking institution. The classification goal is to predict if the client will subscribe a term deposit (variable y).', 'area': 'Business', 'tasks': ['Classification'], 'characteristics': ['Multivariate'], 'num_instances': 45211, 'num_features': 16, 'feature_types': ['Categorical', 'Integer'], 'demographics': ['Age', 'Occupation', 'Marital Status', 'Education Level'], 'target_col': ['y'], 'index_col': None, 'has_missing_values': 'yes', 'missing_values_symbol': 'NaN', 'year_of_dataset_creation': 2014, 'last_updated': 'Fri Aug 18 2023', 'dataset_doi': '10.24432/C5K306', 'creators': ['S. Moro', 'P. Rita', 'P. Cortez'], 'intro_paper': {'title': 'A data-driven approach to predict the success of bank telemarketing', 'authors': 'Sérgio Moro, P. Cortez, P. Rita', 'published_in': 'Decision Support Systems', 'year': 2014, 'url': 'https://www.semanticscholar.org/paper/cab86052882d126d43f72108c6cb41b295cc8a9e', 'doi': '10.1016/j.dss.2014.03.001'}, 'additional_info': {'summary': \"The data is related with direct marketing campaigns of a Portuguese banking institution. The marketing campaigns were based on phone calls. Often, more than one contact to the same client was required, in order to access if the product (bank term deposit) would be ('yes') or not ('no') subscribed. \\n\\nThere are four datasets: \\n1) bank-additional-full.csv with all examples (41188) and 20 inputs, ordered by date (from May 2008 to November 2010), very close to the data analyzed in [Moro et al., 2014]\\n2) bank-additional.csv with 10% of the examples (4119), randomly selected from 1), and 20 inputs.\\n3) bank-full.csv with all examples and 17 inputs, ordered by date (older version of this dataset with less inputs). \\n4) bank.csv with 10% of the examples and 17 inputs, randomly selected from 3 (older version of this dataset with less inputs). \\nThe smallest datasets are provided to test more computationally demanding machine learning algorithms (e.g., SVM). \\n\\nThe classification goal is to predict if the client will subscribe (yes/no) a term deposit (variable y).\", 'purpose': None, 'funded_by': None, 'instances_represent': None, 'recommended_data_splits': None, 'sensitive_data': None, 'preprocessing_description': None, 'variable_info': 'Input variables:\\n   # bank client data:\\n   1 - age (numeric)\\n   2 - job : type of job (categorical: \"admin.\",\"unknown\",\"unemployed\",\"management\",\"housemaid\",\"entrepreneur\",\"student\",\\n                                       \"blue-collar\",\"self-employed\",\"retired\",\"technician\",\"services\") \\n   3 - marital : marital status (categorical: \"married\",\"divorced\",\"single\"; note: \"divorced\" means divorced or widowed)\\n   4 - education (categorical: \"unknown\",\"secondary\",\"primary\",\"tertiary\")\\n   5 - default: has credit in default? (binary: \"yes\",\"no\")\\n   6 - balance: average yearly balance, in euros (numeric) \\n   7 - housing: has housing loan? (binary: \"yes\",\"no\")\\n   8 - loan: has personal loan? (binary: \"yes\",\"no\")\\n   # related with the last contact of the current campaign:\\n   9 - contact: contact communication type (categorical: \"unknown\",\"telephone\",\"cellular\") \\n  10 - day: last contact day of the month (numeric)\\n  11 - month: last contact month of year (categorical: \"jan\", \"feb\", \"mar\", ..., \"nov\", \"dec\")\\n  12 - duration: last contact duration, in seconds (numeric)\\n   # other attributes:\\n  13 - campaign: number of contacts performed during this campaign and for this client (numeric, includes last contact)\\n  14 - pdays: number of days that passed by after the client was last contacted from a previous campaign (numeric, -1 means client was not previously contacted)\\n  15 - previous: number of contacts performed before this campaign and for this client (numeric)\\n  16 - poutcome: outcome of the previous marketing campaign (categorical: \"unknown\",\"other\",\"failure\",\"success\")\\n\\n  Output variable (desired target):\\n  17 - y - has the client subscribed a term deposit? (binary: \"yes\",\"no\")\\n', 'citation': None}}\n",
      "           name     role         type      demographic  \\\n",
      "0           age  Feature      Integer              Age   \n",
      "1           job  Feature  Categorical       Occupation   \n",
      "2       marital  Feature  Categorical   Marital Status   \n",
      "3     education  Feature  Categorical  Education Level   \n",
      "4       default  Feature       Binary             None   \n",
      "5       balance  Feature      Integer             None   \n",
      "6       housing  Feature       Binary             None   \n",
      "7          loan  Feature       Binary             None   \n",
      "8       contact  Feature  Categorical             None   \n",
      "9   day_of_week  Feature         Date             None   \n",
      "10        month  Feature         Date             None   \n",
      "11     duration  Feature      Integer             None   \n",
      "12     campaign  Feature      Integer             None   \n",
      "13        pdays  Feature      Integer             None   \n",
      "14     previous  Feature      Integer             None   \n",
      "15     poutcome  Feature  Categorical             None   \n",
      "16            y   Target       Binary             None   \n",
      "\n",
      "                                          description  units missing_values  \n",
      "0                                                None   None             no  \n",
      "1   type of job (categorical: 'admin.','blue-colla...   None             no  \n",
      "2   marital status (categorical: 'divorced','marri...   None             no  \n",
      "3   (categorical: 'basic.4y','basic.6y','basic.9y'...   None             no  \n",
      "4                              has credit in default?   None             no  \n",
      "5                              average yearly balance  euros             no  \n",
      "6                                   has housing loan?   None             no  \n",
      "7                                  has personal loan?   None             no  \n",
      "8   contact communication type (categorical: 'cell...   None            yes  \n",
      "9                        last contact day of the week   None             no  \n",
      "10  last contact month of year (categorical: 'jan'...   None             no  \n",
      "11   last contact duration, in seconds (numeric). ...   None             no  \n",
      "12  number of contacts performed during this campa...   None             no  \n",
      "13  number of days that passed by after the client...   None            yes  \n",
      "14  number of contacts performed before this campa...   None             no  \n",
      "15  outcome of the previous marketing campaign (ca...   None            yes  \n",
      "16          has the client subscribed a term deposit?   None             no  \n"
     ]
    }
   ],
   "source": [
    "from ucimlrepo import fetch_ucirepo \n",
    "  \n",
    "# fetch dataset \n",
    "bank_marketing = fetch_ucirepo(id=222) \n",
    "  \n",
    "# data (as pandas dataframes) \n",
    "X = bank_marketing.data.features \n",
    "y = bank_marketing.data.targets \n",
    "  \n",
    "# metadata \n",
    "print(bank_marketing.metadata) \n",
    "  \n",
    "# variable information \n",
    "print(bank_marketing.variables) \n"
   ]
  },
  {
   "cell_type": "markdown",
   "id": "e439b45c",
   "metadata": {},
   "source": [
    "### structure of data"
   ]
  },
  {
   "cell_type": "code",
   "execution_count": 6,
   "id": "df58559c",
   "metadata": {},
   "outputs": [
    {
     "data": {
      "text/plain": [
       "(45211, 16)"
      ]
     },
     "execution_count": 6,
     "metadata": {},
     "output_type": "execute_result"
    }
   ],
   "source": [
    "X.shape\n",
    "# 16 columns and 45211 rows"
   ]
  },
  {
   "cell_type": "code",
   "execution_count": 11,
   "id": "3e0b9a65",
   "metadata": {},
   "outputs": [
    {
     "name": "stdout",
     "output_type": "stream",
     "text": [
      "age             int64\n",
      "job            object\n",
      "marital        object\n",
      "education      object\n",
      "default        object\n",
      "balance         int64\n",
      "housing        object\n",
      "loan           object\n",
      "contact        object\n",
      "day_of_week     int64\n",
      "month          object\n",
      "duration        int64\n",
      "campaign        int64\n",
      "pdays           int64\n",
      "previous        int64\n",
      "poutcome       object\n",
      "dtype: object\n"
     ]
    }
   ],
   "source": [
    "print(X.dtypes)"
   ]
  },
  {
   "cell_type": "code",
   "execution_count": 12,
   "id": "f3bbff8d",
   "metadata": {},
   "outputs": [
    {
     "data": {
      "text/plain": [
       "age                0\n",
       "job              288\n",
       "marital            0\n",
       "education       1857\n",
       "default            0\n",
       "balance            0\n",
       "housing            0\n",
       "loan               0\n",
       "contact        13020\n",
       "day_of_week        0\n",
       "month              0\n",
       "duration           0\n",
       "campaign           0\n",
       "pdays              0\n",
       "previous           0\n",
       "poutcome       36959\n",
       "dtype: int64"
      ]
     },
     "execution_count": 12,
     "metadata": {},
     "output_type": "execute_result"
    }
   ],
   "source": [
    "X.isnull().sum()\n",
    "#  a lot of null values"
   ]
  },
  {
   "cell_type": "code",
   "execution_count": 61,
   "id": "7c022091",
   "metadata": {},
   "outputs": [
    {
     "data": {
      "text/html": [
       "<div>\n",
       "<style scoped>\n",
       "    .dataframe tbody tr th:only-of-type {\n",
       "        vertical-align: middle;\n",
       "    }\n",
       "\n",
       "    .dataframe tbody tr th {\n",
       "        vertical-align: top;\n",
       "    }\n",
       "\n",
       "    .dataframe thead th {\n",
       "        text-align: right;\n",
       "    }\n",
       "</style>\n",
       "<table border=\"1\" class=\"dataframe\">\n",
       "  <thead>\n",
       "    <tr style=\"text-align: right;\">\n",
       "      <th></th>\n",
       "      <th>age</th>\n",
       "      <th>job</th>\n",
       "      <th>marital</th>\n",
       "      <th>education</th>\n",
       "      <th>default</th>\n",
       "      <th>balance</th>\n",
       "      <th>housing</th>\n",
       "      <th>loan</th>\n",
       "      <th>contact</th>\n",
       "      <th>day_of_week</th>\n",
       "      <th>month</th>\n",
       "      <th>duration</th>\n",
       "      <th>campaign</th>\n",
       "      <th>pdays</th>\n",
       "      <th>previous</th>\n",
       "      <th>poutcome</th>\n",
       "    </tr>\n",
       "  </thead>\n",
       "  <tbody>\n",
       "    <tr>\n",
       "      <th>24060</th>\n",
       "      <td>33</td>\n",
       "      <td>admin.</td>\n",
       "      <td>married</td>\n",
       "      <td>tertiary</td>\n",
       "      <td>no</td>\n",
       "      <td>882</td>\n",
       "      <td>no</td>\n",
       "      <td>no</td>\n",
       "      <td>telephone</td>\n",
       "      <td>21</td>\n",
       "      <td>oct</td>\n",
       "      <td>39</td>\n",
       "      <td>1</td>\n",
       "      <td>151</td>\n",
       "      <td>3</td>\n",
       "      <td>failure</td>\n",
       "    </tr>\n",
       "    <tr>\n",
       "      <th>24062</th>\n",
       "      <td>42</td>\n",
       "      <td>admin.</td>\n",
       "      <td>single</td>\n",
       "      <td>secondary</td>\n",
       "      <td>no</td>\n",
       "      <td>-247</td>\n",
       "      <td>yes</td>\n",
       "      <td>yes</td>\n",
       "      <td>telephone</td>\n",
       "      <td>21</td>\n",
       "      <td>oct</td>\n",
       "      <td>519</td>\n",
       "      <td>1</td>\n",
       "      <td>166</td>\n",
       "      <td>1</td>\n",
       "      <td>other</td>\n",
       "    </tr>\n",
       "    <tr>\n",
       "      <th>24064</th>\n",
       "      <td>33</td>\n",
       "      <td>services</td>\n",
       "      <td>married</td>\n",
       "      <td>secondary</td>\n",
       "      <td>no</td>\n",
       "      <td>3444</td>\n",
       "      <td>yes</td>\n",
       "      <td>no</td>\n",
       "      <td>telephone</td>\n",
       "      <td>21</td>\n",
       "      <td>oct</td>\n",
       "      <td>144</td>\n",
       "      <td>1</td>\n",
       "      <td>91</td>\n",
       "      <td>4</td>\n",
       "      <td>failure</td>\n",
       "    </tr>\n",
       "    <tr>\n",
       "      <th>24072</th>\n",
       "      <td>36</td>\n",
       "      <td>management</td>\n",
       "      <td>married</td>\n",
       "      <td>tertiary</td>\n",
       "      <td>no</td>\n",
       "      <td>2415</td>\n",
       "      <td>yes</td>\n",
       "      <td>no</td>\n",
       "      <td>telephone</td>\n",
       "      <td>22</td>\n",
       "      <td>oct</td>\n",
       "      <td>73</td>\n",
       "      <td>1</td>\n",
       "      <td>86</td>\n",
       "      <td>4</td>\n",
       "      <td>other</td>\n",
       "    </tr>\n",
       "    <tr>\n",
       "      <th>24077</th>\n",
       "      <td>36</td>\n",
       "      <td>management</td>\n",
       "      <td>married</td>\n",
       "      <td>tertiary</td>\n",
       "      <td>no</td>\n",
       "      <td>0</td>\n",
       "      <td>yes</td>\n",
       "      <td>no</td>\n",
       "      <td>telephone</td>\n",
       "      <td>23</td>\n",
       "      <td>oct</td>\n",
       "      <td>140</td>\n",
       "      <td>1</td>\n",
       "      <td>143</td>\n",
       "      <td>3</td>\n",
       "      <td>failure</td>\n",
       "    </tr>\n",
       "  </tbody>\n",
       "</table>\n",
       "</div>"
      ],
      "text/plain": [
       "       age         job  marital  education default  balance housing loan  \\\n",
       "24060   33      admin.  married   tertiary      no      882      no   no   \n",
       "24062   42      admin.   single  secondary      no     -247     yes  yes   \n",
       "24064   33    services  married  secondary      no     3444     yes   no   \n",
       "24072   36  management  married   tertiary      no     2415     yes   no   \n",
       "24077   36  management  married   tertiary      no        0     yes   no   \n",
       "\n",
       "         contact  day_of_week month  duration  campaign  pdays  previous  \\\n",
       "24060  telephone           21   oct        39         1    151         3   \n",
       "24062  telephone           21   oct       519         1    166         1   \n",
       "24064  telephone           21   oct       144         1     91         4   \n",
       "24072  telephone           22   oct        73         1     86         4   \n",
       "24077  telephone           23   oct       140         1    143         3   \n",
       "\n",
       "      poutcome  \n",
       "24060  failure  \n",
       "24062    other  \n",
       "24064  failure  \n",
       "24072    other  \n",
       "24077  failure  "
      ]
     },
     "execution_count": 61,
     "metadata": {},
     "output_type": "execute_result"
    }
   ],
   "source": [
    "x_filtered = X.dropna()\n",
    "x_filtered.head()\n"
   ]
  },
  {
   "cell_type": "code",
   "execution_count": 62,
   "id": "cebc5a2b",
   "metadata": {},
   "outputs": [
    {
     "data": {
      "text/plain": [
       "(7842, 16)"
      ]
     },
     "execution_count": 62,
     "metadata": {},
     "output_type": "execute_result"
    }
   ],
   "source": [
    "x_filtered.shape"
   ]
  },
  {
   "cell_type": "markdown",
   "id": "375a5ab5",
   "metadata": {},
   "source": [
    "## drop dependend variable"
   ]
  },
  {
   "cell_type": "code",
   "execution_count": 63,
   "id": "090defa7",
   "metadata": {},
   "outputs": [
    {
     "data": {
      "text/html": [
       "<div>\n",
       "<style scoped>\n",
       "    .dataframe tbody tr th:only-of-type {\n",
       "        vertical-align: middle;\n",
       "    }\n",
       "\n",
       "    .dataframe tbody tr th {\n",
       "        vertical-align: top;\n",
       "    }\n",
       "\n",
       "    .dataframe thead th {\n",
       "        text-align: right;\n",
       "    }\n",
       "</style>\n",
       "<table border=\"1\" class=\"dataframe\">\n",
       "  <thead>\n",
       "    <tr style=\"text-align: right;\">\n",
       "      <th></th>\n",
       "      <th>age</th>\n",
       "      <th>balance</th>\n",
       "      <th>day_of_week</th>\n",
       "      <th>duration</th>\n",
       "      <th>campaign</th>\n",
       "      <th>pdays</th>\n",
       "      <th>previous</th>\n",
       "    </tr>\n",
       "  </thead>\n",
       "  <tbody>\n",
       "    <tr>\n",
       "      <th>24060</th>\n",
       "      <td>33</td>\n",
       "      <td>882</td>\n",
       "      <td>21</td>\n",
       "      <td>39</td>\n",
       "      <td>1</td>\n",
       "      <td>151</td>\n",
       "      <td>3</td>\n",
       "    </tr>\n",
       "    <tr>\n",
       "      <th>24062</th>\n",
       "      <td>42</td>\n",
       "      <td>-247</td>\n",
       "      <td>21</td>\n",
       "      <td>519</td>\n",
       "      <td>1</td>\n",
       "      <td>166</td>\n",
       "      <td>1</td>\n",
       "    </tr>\n",
       "    <tr>\n",
       "      <th>24064</th>\n",
       "      <td>33</td>\n",
       "      <td>3444</td>\n",
       "      <td>21</td>\n",
       "      <td>144</td>\n",
       "      <td>1</td>\n",
       "      <td>91</td>\n",
       "      <td>4</td>\n",
       "    </tr>\n",
       "    <tr>\n",
       "      <th>24072</th>\n",
       "      <td>36</td>\n",
       "      <td>2415</td>\n",
       "      <td>22</td>\n",
       "      <td>73</td>\n",
       "      <td>1</td>\n",
       "      <td>86</td>\n",
       "      <td>4</td>\n",
       "    </tr>\n",
       "    <tr>\n",
       "      <th>24077</th>\n",
       "      <td>36</td>\n",
       "      <td>0</td>\n",
       "      <td>23</td>\n",
       "      <td>140</td>\n",
       "      <td>1</td>\n",
       "      <td>143</td>\n",
       "      <td>3</td>\n",
       "    </tr>\n",
       "  </tbody>\n",
       "</table>\n",
       "</div>"
      ],
      "text/plain": [
       "       age  balance  day_of_week  duration  campaign  pdays  previous\n",
       "24060   33      882           21        39         1    151         3\n",
       "24062   42     -247           21       519         1    166         1\n",
       "24064   33     3444           21       144         1     91         4\n",
       "24072   36     2415           22        73         1     86         4\n",
       "24077   36        0           23       140         1    143         3"
      ]
     },
     "execution_count": 63,
     "metadata": {},
     "output_type": "execute_result"
    }
   ],
   "source": [
    "# we can use the numberic values only\n",
    "\n",
    "x_filtered = x_filtered.select_dtypes(include=\"int64\")\n",
    "x_filtered.head()\n",
    "\n",
    "# we only taking integer for this analysis"
   ]
  },
  {
   "cell_type": "markdown",
   "id": "5c724ff5",
   "metadata": {},
   "source": [
    "# correlation between variables"
   ]
  },
  {
   "cell_type": "code",
   "execution_count": 21,
   "id": "b1a19e1d",
   "metadata": {},
   "outputs": [
    {
     "data": {
      "text/html": [
       "<div>\n",
       "<style scoped>\n",
       "    .dataframe tbody tr th:only-of-type {\n",
       "        vertical-align: middle;\n",
       "    }\n",
       "\n",
       "    .dataframe tbody tr th {\n",
       "        vertical-align: top;\n",
       "    }\n",
       "\n",
       "    .dataframe thead th {\n",
       "        text-align: right;\n",
       "    }\n",
       "</style>\n",
       "<table border=\"1\" class=\"dataframe\">\n",
       "  <thead>\n",
       "    <tr style=\"text-align: right;\">\n",
       "      <th></th>\n",
       "      <th>age</th>\n",
       "      <th>balance</th>\n",
       "      <th>day_of_week</th>\n",
       "      <th>duration</th>\n",
       "      <th>campaign</th>\n",
       "      <th>pdays</th>\n",
       "      <th>previous</th>\n",
       "    </tr>\n",
       "  </thead>\n",
       "  <tbody>\n",
       "    <tr>\n",
       "      <th>age</th>\n",
       "      <td>1.000000</td>\n",
       "      <td>0.117283</td>\n",
       "      <td>0.015385</td>\n",
       "      <td>0.058902</td>\n",
       "      <td>0.000736</td>\n",
       "      <td>-0.106095</td>\n",
       "      <td>0.003396</td>\n",
       "    </tr>\n",
       "    <tr>\n",
       "      <th>balance</th>\n",
       "      <td>0.117283</td>\n",
       "      <td>1.000000</td>\n",
       "      <td>0.048348</td>\n",
       "      <td>0.040550</td>\n",
       "      <td>-0.011874</td>\n",
       "      <td>-0.101847</td>\n",
       "      <td>0.001708</td>\n",
       "    </tr>\n",
       "    <tr>\n",
       "      <th>day_of_week</th>\n",
       "      <td>0.015385</td>\n",
       "      <td>0.048348</td>\n",
       "      <td>1.000000</td>\n",
       "      <td>-0.006615</td>\n",
       "      <td>-0.028473</td>\n",
       "      <td>-0.090031</td>\n",
       "      <td>-0.016000</td>\n",
       "    </tr>\n",
       "    <tr>\n",
       "      <th>duration</th>\n",
       "      <td>0.058902</td>\n",
       "      <td>0.040550</td>\n",
       "      <td>-0.006615</td>\n",
       "      <td>1.000000</td>\n",
       "      <td>-0.094348</td>\n",
       "      <td>-0.009571</td>\n",
       "      <td>-0.001776</td>\n",
       "    </tr>\n",
       "    <tr>\n",
       "      <th>campaign</th>\n",
       "      <td>0.000736</td>\n",
       "      <td>-0.011874</td>\n",
       "      <td>-0.028473</td>\n",
       "      <td>-0.094348</td>\n",
       "      <td>1.000000</td>\n",
       "      <td>0.063530</td>\n",
       "      <td>0.137044</td>\n",
       "    </tr>\n",
       "    <tr>\n",
       "      <th>pdays</th>\n",
       "      <td>-0.106095</td>\n",
       "      <td>-0.101847</td>\n",
       "      <td>-0.090031</td>\n",
       "      <td>-0.009571</td>\n",
       "      <td>0.063530</td>\n",
       "      <td>1.000000</td>\n",
       "      <td>-0.026708</td>\n",
       "    </tr>\n",
       "    <tr>\n",
       "      <th>previous</th>\n",
       "      <td>0.003396</td>\n",
       "      <td>0.001708</td>\n",
       "      <td>-0.016000</td>\n",
       "      <td>-0.001776</td>\n",
       "      <td>0.137044</td>\n",
       "      <td>-0.026708</td>\n",
       "      <td>1.000000</td>\n",
       "    </tr>\n",
       "  </tbody>\n",
       "</table>\n",
       "</div>"
      ],
      "text/plain": [
       "                  age   balance  day_of_week  duration  campaign     pdays  \\\n",
       "age          1.000000  0.117283     0.015385  0.058902  0.000736 -0.106095   \n",
       "balance      0.117283  1.000000     0.048348  0.040550 -0.011874 -0.101847   \n",
       "day_of_week  0.015385  0.048348     1.000000 -0.006615 -0.028473 -0.090031   \n",
       "duration     0.058902  0.040550    -0.006615  1.000000 -0.094348 -0.009571   \n",
       "campaign     0.000736 -0.011874    -0.028473 -0.094348  1.000000  0.063530   \n",
       "pdays       -0.106095 -0.101847    -0.090031 -0.009571  0.063530  1.000000   \n",
       "previous     0.003396  0.001708    -0.016000 -0.001776  0.137044 -0.026708   \n",
       "\n",
       "             previous  \n",
       "age          0.003396  \n",
       "balance      0.001708  \n",
       "day_of_week -0.016000  \n",
       "duration    -0.001776  \n",
       "campaign     0.137044  \n",
       "pdays       -0.026708  \n",
       "previous     1.000000  "
      ]
     },
     "execution_count": 21,
     "metadata": {},
     "output_type": "execute_result"
    }
   ],
   "source": [
    "correlation_matrix = x_filtered.corr()\n",
    "correlation_matrix\n",
    "# we found the correlation of each variable against each other"
   ]
  },
  {
   "cell_type": "markdown",
   "id": "4e9e5a12",
   "metadata": {},
   "source": [
    "## calculate eigen values"
   ]
  },
  {
   "cell_type": "code",
   "execution_count": 24,
   "id": "d3d2f6a6",
   "metadata": {},
   "outputs": [
    {
     "name": "stdout",
     "output_type": "stream",
     "text": [
      "eigen values [1.28296068 1.14723723 0.79635045 1.03358302 0.95524906 0.87819339\n",
      " 0.90642616]\n"
     ]
    }
   ],
   "source": [
    "eigenvalues, _ = np.linalg.eig(correlation_matrix)\n",
    "print(\"eigen values\", eigenvalues)"
   ]
  },
  {
   "cell_type": "markdown",
   "id": "3c4a76df",
   "metadata": {},
   "source": [
    "# draw screeplot"
   ]
  },
  {
   "cell_type": "code",
   "execution_count": 35,
   "id": "34c347f4",
   "metadata": {},
   "outputs": [],
   "source": [
    "import matplotlib.pyplot as plt\n",
    "import seaborn as sns\n",
    "sns.set_style(\"darkgrid\")"
   ]
  },
  {
   "cell_type": "code",
   "execution_count": 50,
   "id": "0d0682a8",
   "metadata": {},
   "outputs": [
    {
     "data": {
      "text/plain": [
       "Text(0, 0.5, 'eigen values')"
      ]
     },
     "execution_count": 50,
     "metadata": {},
     "output_type": "execute_result"
    },
    {
     "data": {
      "image/png": "[encoded data removed]",
      "text/plain": [
       "<Figure size 800x600 with 1 Axes>"
      ]
     },
     "metadata": {},
     "output_type": "display_data"
    }
   ],
   "source": [
    "sorted_eigen_values = sorted(eigenvalues, reverse=True)\n",
    "\n",
    "plt.figure(figsize=(8, 6))\n",
    "plt.plot(range(1,len(sorted_eigen_values)+1), sorted_eigen_values, marker=\"o\", color=\"blue\")\n",
    "plt.title(\"scree plot\")\n",
    "plt.xlabel(\"Factors\")\n",
    "plt.ylabel(\"eigen values\")"
   ]
  },
  {
   "cell_type": "markdown",
   "id": "19795c14",
   "metadata": {},
   "source": [
    "## unrotated factor matrix"
   ]
  },
  {
   "cell_type": "code",
   "execution_count": 64,
   "id": "cbbc8d85",
   "metadata": {},
   "outputs": [
    {
     "data": {
      "text/plain": [
       "FactorAnalyzer(n_factors=5, rotation=None, rotation_kwargs={})"
      ]
     },
     "execution_count": 64,
     "metadata": {},
     "output_type": "execute_result"
    }
   ],
   "source": [
    "n_factor = 5\n",
    "fa = FactorAnalyzer(n_factor, rotation=None)\n",
    "fa.fit(x_filtered)"
   ]
  },
  {
   "cell_type": "code",
   "execution_count": 65,
   "id": "fe75cb6f",
   "metadata": {},
   "outputs": [
    {
     "data": {
      "text/plain": [
       "array([[ 0.29753732,  0.19699379,  0.17853535,  0.15888071, -0.05168433],\n",
       "       [ 0.24923521,  0.13946041,  0.04371015,  0.0714882 ,  0.0679323 ],\n",
       "       [ 0.15895883,  0.03918054, -0.17096468, -0.00438036,  0.16265813],\n",
       "       [ 0.18007011, -0.07832638,  0.26415589, -0.14149076,  0.07603972],\n",
       "       [-0.30648573,  0.37678853,  0.01102355,  0.11473725,  0.04836477],\n",
       "       [-0.38367706, -0.18404083,  0.19470364,  0.08382171,  0.07270514],\n",
       "       [-0.12012751,  0.33820096,  0.05263895, -0.23649898, -0.01345966]])"
      ]
     },
     "execution_count": 65,
     "metadata": {},
     "output_type": "execute_result"
    }
   ],
   "source": [
    "unrotated_factor_matrix = fa.loadings_\n",
    "unrotated_factor_matrix"
   ]
  },
  {
   "cell_type": "markdown",
   "id": "019010df",
   "metadata": {},
   "source": [
    "# rotated factor matix"
   ]
  },
  {
   "cell_type": "code",
   "execution_count": 66,
   "id": "81b3ee23",
   "metadata": {},
   "outputs": [
    {
     "data": {
      "text/plain": [
       "array([[ 0.00550718,  0.42479113,  0.05772835, -0.0560729 , -0.01302537],\n",
       "       [ 0.00788344,  0.26620583,  0.05432914, -0.04843773,  0.13029878],\n",
       "       [-0.0281877 ,  0.03908694, -0.01375972, -0.05949151,  0.27651021],\n",
       "       [-0.01349265,  0.09120675,  0.35386423,  0.00793272, -0.01888726],\n",
       "       [ 0.35139785,  0.0616992 , -0.27625065,  0.21456315, -0.04346718],\n",
       "       [-0.03357264, -0.20750765,  0.00509287,  0.37288165, -0.21919748],\n",
       "       [ 0.42938525, -0.00672555,  0.01296941, -0.05062274, -0.02337746]])"
      ]
     },
     "execution_count": 66,
     "metadata": {},
     "output_type": "execute_result"
    }
   ],
   "source": [
    "n_factor = 5\n",
    "rotation_method = 'varimax'   # orthogonal rotation\n",
    "fa = FactorAnalyzer(n_factor, rotation=rotation_method)\n",
    "fa.fit(x_filtered)\n",
    "rotated_factor_matrix = fa.loadings_\n",
    "rotated_factor_matrix"
   ]
  },
  {
   "cell_type": "markdown",
   "id": "607de942",
   "metadata": {},
   "source": [
    "# rotated factor matrix"
   ]
  },
  {
   "cell_type": "code",
   "execution_count": 67,
   "id": "51693564",
   "metadata": {},
   "outputs": [
    {
     "data": {
      "text/plain": [
       "array([[ 1.        , -0.16995902, -0.52647961,  0.01430325, -0.18295593],\n",
       "       [-0.16995902,  1.        ,  0.15278763, -0.66799505,  0.3886782 ],\n",
       "       [-0.52647961,  0.15278763,  1.        , -0.37483132,  0.02325555],\n",
       "       [ 0.01430325, -0.66799505, -0.37483132,  1.        , -0.73595133],\n",
       "       [-0.18295593,  0.3886782 ,  0.02325555, -0.73595133,  1.        ]])"
      ]
     },
     "execution_count": 67,
     "metadata": {},
     "output_type": "execute_result"
    }
   ],
   "source": [
    "factor_correlation_matrix = np.corrcoef(rotated_factor_matrix.T)\n",
    "factor_correlation_matrix"
   ]
  },
  {
   "cell_type": "markdown",
   "id": "292fd8a1",
   "metadata": {},
   "source": [
    "# transformation of variables"
   ]
  },
  {
   "cell_type": "code",
   "execution_count": 69,
   "id": "90078025",
   "metadata": {},
   "outputs": [
    {
     "data": {
      "text/plain": [
       "array([[   2.58686287,  221.89740294,   63.8667662 ,   10.855394  ,\n",
       "          86.35137796],\n",
       "       [ -14.10281072,  -34.14577689,  172.95400793,   74.53911375,\n",
       "         -73.18026414],\n",
       "       [  23.81125722,  925.93717208,  239.92115795, -134.83265738,\n",
       "         431.32215621],\n",
       "       ...,\n",
       "       [  20.78642277,  809.43045016,  265.00878388, -126.04754545,\n",
       "         360.43677486],\n",
       "       [  26.63276132, 1617.51265917,  712.8132733 , -203.39888406,\n",
       "         686.51461572],\n",
       "       [  17.38981221,  801.24287697,  291.60650856,  -74.15681141,\n",
       "         342.96489129]])"
      ]
     },
     "execution_count": 69,
     "metadata": {},
     "output_type": "execute_result"
    }
   ],
   "source": [
    "factor_scores = np.dot(x_filtered, rotated_factor_matrix)\n",
    "factor_scores"
   ]
  },
  {
   "cell_type": "code",
   "execution_count": null,
   "id": "ec64e055",
   "metadata": {},
   "outputs": [],
   "source": []
  },
  {
   "cell_type": "code",
   "execution_count": null,
   "id": "5de06564",
   "metadata": {},
   "outputs": [],
   "source": []
  },
  {
   "cell_type": "code",
   "execution_count": null,
   "id": "ce29fca9",
   "metadata": {},
   "outputs": [],
   "source": []
  },
  {
   "cell_type": "code",
   "execution_count": null,
   "id": "7a40b2ac",
   "metadata": {},
   "outputs": [],
   "source": []
  },
  {
   "cell_type": "code",
   "execution_count": null,
   "id": "d7821236",
   "metadata": {},
   "outputs": [],
   "source": []
  },
  {
   "cell_type": "code",
   "execution_count": null,
   "id": "1e42197d",
   "metadata": {},
   "outputs": [],
   "source": []
  }
 ],
 "metadata": {
  "kernelspec": {
   "display_name": "Python 3 (ipykernel)",
   "language": "python",
   "name": "python3"
  },
  "language_info": {
   "codemirror_mode": {
    "name": "ipython",
    "version": 3
   },
   "file_extension": ".py",
   "mimetype": "text/x-python",
   "name": "python",
   "nbconvert_exporter": "python",
   "pygments_lexer": "ipython3",
   "version": "3.9.13"
  }
 },
 "nbformat": 4,
 "nbformat_minor": 5
}
