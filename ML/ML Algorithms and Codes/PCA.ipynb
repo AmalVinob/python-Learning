{
 "cells": [
  {
   "cell_type": "markdown",
   "id": "35a72fd6",
   "metadata": {},
   "source": [
    "# Implement Dimensionality reduction using Principle Component Analysis (PCA) method on a dataset (For example Iris). "
   ]
  },
  {
   "cell_type": "code",
   "execution_count": 1,
   "id": "d918289d",
   "metadata": {},
   "outputs": [
    {
     "name": "stdout",
     "output_type": "stream",
     "text": [
      "          PC1       PC2       PC3       PC4       PC5       PC6       PC7  \\\n",
      "0    0.706994  0.153130  0.053935  0.014182  0.008782  0.077709  0.120925   \n",
      "1   -0.402711 -0.088188 -0.029916  0.074931 -0.058812  0.056709  0.139708   \n",
      "2    0.689631  0.104960 -0.228744 -0.133842  0.074967 -0.044311 -0.278429   \n",
      "3   -0.419790 -0.195420 -0.047320  0.079442 -0.053987 -0.081378  0.042092   \n",
      "4    0.670742 -0.406714  0.153529 -0.144157  0.373100  0.618213 -0.037188   \n",
      "..        ...       ...       ...       ...       ...       ...       ...   \n",
      "763 -0.239673  0.571125  0.316590  0.148371  0.142716 -0.078587  0.292774   \n",
      "764 -0.360620 -0.084038  0.052959  0.008006 -0.066171 -0.039148  0.002710   \n",
      "765 -0.343772  0.072610  0.043200  0.015431  0.027228 -0.124067 -0.042639   \n",
      "766  0.623114 -0.017950 -0.287323 -0.160894 -0.144410  0.084932  0.198446   \n",
      "767 -0.407386 -0.174975  0.004435  0.108058 -0.082412 -0.002458  0.048259   \n",
      "\n",
      "          PC8       PC9  \n",
      "0   -0.081670  0.135842  \n",
      "1    0.014610  0.082566  \n",
      "2   -0.012580  0.130655  \n",
      "3    0.068353 -0.002584  \n",
      "4   -0.115707 -0.060158  \n",
      "..        ...       ...  \n",
      "763  0.038227  0.011223  \n",
      "764 -0.138026  0.031162  \n",
      "765  0.052715  0.049867  \n",
      "766  0.021552 -0.034752  \n",
      "767 -0.029997  0.073691  \n",
      "\n",
      "[768 rows x 9 columns]\n"
     ]
    }
   ],
   "source": [
    "import pandas as pd\n",
    "from sklearn.preprocessing import MinMaxScaler\n",
    "from sklearn.decomposition import PCA\n",
    "\n",
    "# Load the DataFrame\n",
    "df = pd.read_csv('./diabetes.csv')\n",
    "\n",
    "# Get the list of numeric columns\n",
    "numeric_columns = df.select_dtypes(include='number').columns.tolist()\n",
    "\n",
    "# Apply MinMaxScaler to the numeric columns\n",
    "scaler = MinMaxScaler()\n",
    "df[numeric_columns] = scaler.fit_transform(df[numeric_columns])\n",
    "\n",
    "# Perform PCA\n",
    "pca = PCA()\n",
    "pca.fit(df[numeric_columns])\n",
    "\n",
    "# Transform the data into principal components\n",
    "df_pca = pca.transform(df[numeric_columns])\n",
    "\n",
    "# Create a DataFrame from the principal components\n",
    "df_pca = pd.DataFrame(df_pca, columns=[f'PC{i+1}' for i in range(df_pca.shape[1])])\n",
    "\n",
    "# Concatenate the principal components with non-numeric columns if any\n",
    "df_final = pd.concat([df.drop(columns=numeric_columns), df_pca], axis=1)\n",
    "\n",
    "# Print the DataFrame with principal components\n",
    "print(df_final)\n"
   ]
  },
  {
   "cell_type": "code",
   "execution_count": 2,
   "id": "a2e8ed3b",
   "metadata": {},
   "outputs": [
    {
     "name": "stdout",
     "output_type": "stream",
     "text": [
      "Explained Variance Ratio: [0.26179749 0.21640127 0.12870373 0.10944113 0.09529305 0.08532855\n",
      " 0.05247702 0.05055776]\n",
      "Number of components to retain: 8\n"
     ]
    }
   ],
   "source": [
    "import pandas as pd\n",
    "from sklearn.preprocessing import StandardScaler\n",
    "from sklearn.decomposition import PCA\n",
    "\n",
    "# Load the dataset\n",
    "df = pd.read_csv('./diabetes.csv')\n",
    "\n",
    "# Separate features (X) and target (y)\n",
    "X = df.drop('Outcome', axis=1)\n",
    "y = df['Outcome']\n",
    "\n",
    "# Scale the features\n",
    "scaler = StandardScaler()\n",
    "X_scaled = scaler.fit_transform(X)\n",
    "\n",
    "# Apply PCA\n",
    "pca = PCA()\n",
    "X_pca = pca.fit_transform(X_scaled)\n",
    "\n",
    "# Analyze explained variance ratio\n",
    "explained_variance_ratio = pca.explained_variance_ratio_\n",
    "print(\"Explained Variance Ratio:\", explained_variance_ratio)\n",
    "\n",
    "# Determine the number of principal components to retain\n",
    "# For example, let's retain 95% of the variance\n",
    "total_variance = 0\n",
    "num_components = 0\n",
    "for variance in explained_variance_ratio:\n",
    "    total_variance += variance\n",
    "    num_components += 1\n",
    "    if total_variance >= 0.95:\n",
    "        break\n",
    "\n",
    "print(\"Number of components to retain:\", num_components)\n",
    "\n",
    "# Apply PCA with the chosen number of components\n",
    "pca = PCA(n_components=num_components)\n",
    "X_pca = pca.fit_transform(X_scaled)\n"
   ]
  },
  {
   "cell_type": "code",
   "execution_count": 3,
   "id": "797091f8",
   "metadata": {},
   "outputs": [
    {
     "name": "stdout",
     "output_type": "stream",
     "text": [
      "       PCA1      PCA2  Outcome\n",
      "0  1.068503  1.234895        1\n",
      "1 -1.121683 -0.733852        0\n",
      "2 -0.396477  1.595876        1\n",
      "3 -1.115781 -1.271241        0\n",
      "4  2.359334 -2.184819        1\n"
     ]
    }
   ],
   "source": [
    "import pandas as pd\n",
    "from sklearn.preprocessing import StandardScaler\n",
    "from sklearn.decomposition import PCA\n",
    "\n",
    "# Load the dataset\n",
    "df = pd.read_csv('./diabetes.csv')\n",
    "\n",
    "# Separate features (X) and target variable (y)\n",
    "X = df.drop('Outcome', axis=1)\n",
    "y = df['Outcome']\n",
    "\n",
    "# Standardize the features\n",
    "scaler = StandardScaler()\n",
    "X_scaled = scaler.fit_transform(X)\n",
    "\n",
    "# Apply PCA\n",
    "pca = PCA(n_components=2)  # We'll reduce the dataset to 2 principal components for visualization\n",
    "X_pca = pca.fit_transform(X_scaled)\n",
    "\n",
    "# Create a new DataFrame with the principal components\n",
    "df_pca = pd.DataFrame(data=X_pca, columns=['PCA1', 'PCA2'])\n",
    "\n",
    "# Concatenate the target variable with the principal components DataFrame\n",
    "df_pca['Outcome'] = y\n",
    "\n",
    "# Display the transformed dataset\n",
    "print(df_pca.head())\n"
   ]
  },
  {
   "cell_type": "code",
   "execution_count": null,
   "id": "fd02a22b",
   "metadata": {},
   "outputs": [],
   "source": []
  }
 ],
 "metadata": {
  "kernelspec": {
   "display_name": "Python 3 (ipykernel)",
   "language": "python",
   "name": "python3"
  },
  "language_info": {
   "codemirror_mode": {
    "name": "ipython",
    "version": 3
   },
   "file_extension": ".py",
   "mimetype": "text/x-python",
   "name": "python",
   "nbconvert_exporter": "python",
   "pygments_lexer": "ipython3",
   "version": "3.9.13"
  }
 },
 "nbformat": 4,
 "nbformat_minor": 5
}
