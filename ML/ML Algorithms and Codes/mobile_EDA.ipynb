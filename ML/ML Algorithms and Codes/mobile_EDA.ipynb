{
 "cells": [
  {
   "cell_type": "code",
   "execution_count": null,
   "id": "17aa00c8",
   "metadata": {},
   "outputs": [],
   "source": []
  },
  {
   "cell_type": "code",
   "execution_count": 1,
   "id": "0548cad5",
   "metadata": {},
   "outputs": [],
   "source": [
    "import pandas as pd\n",
    "import numpy as np\n",
    "import matplotlib.pyplot as plt\n",
    "import seaborn as sns"
   ]
  },
  {
   "cell_type": "code",
   "execution_count": 2,
   "id": "5362304b",
   "metadata": {},
   "outputs": [],
   "source": [
    "mobile_df = pd.read_excel(\"./New Microsoft Excel Worksheet.xlsx\")"
   ]
  },
  {
   "cell_type": "code",
   "execution_count": 3,
   "id": "e8c70361",
   "metadata": {},
   "outputs": [
    {
     "data": {
      "text/html": [
       "<div>\n",
       "<style scoped>\n",
       "    .dataframe tbody tr th:only-of-type {\n",
       "        vertical-align: middle;\n",
       "    }\n",
       "\n",
       "    .dataframe tbody tr th {\n",
       "        vertical-align: top;\n",
       "    }\n",
       "\n",
       "    .dataframe thead th {\n",
       "        text-align: right;\n",
       "    }\n",
       "</style>\n",
       "<table border=\"1\" class=\"dataframe\">\n",
       "  <thead>\n",
       "    <tr style=\"text-align: right;\">\n",
       "      <th></th>\n",
       "      <th>Price</th>\n",
       "      <th>variant</th>\n",
       "      <th>battery</th>\n",
       "      <th>ram</th>\n",
       "      <th>No of cameras</th>\n",
       "    </tr>\n",
       "  </thead>\n",
       "  <tbody>\n",
       "    <tr>\n",
       "      <th>0</th>\n",
       "      <td>64000.0</td>\n",
       "      <td>5</td>\n",
       "      <td>6.0</td>\n",
       "      <td>2GB</td>\n",
       "      <td>1</td>\n",
       "    </tr>\n",
       "    <tr>\n",
       "      <th>1</th>\n",
       "      <td>14000.0</td>\n",
       "      <td>2</td>\n",
       "      <td>5.5</td>\n",
       "      <td>3 GB</td>\n",
       "      <td>2</td>\n",
       "    </tr>\n",
       "    <tr>\n",
       "      <th>2</th>\n",
       "      <td>40500.0</td>\n",
       "      <td>2</td>\n",
       "      <td>7.5</td>\n",
       "      <td>2GB</td>\n",
       "      <td>1</td>\n",
       "    </tr>\n",
       "    <tr>\n",
       "      <th>3</th>\n",
       "      <td>38900.0</td>\n",
       "      <td>3</td>\n",
       "      <td>7.0</td>\n",
       "      <td>2GB</td>\n",
       "      <td>1</td>\n",
       "    </tr>\n",
       "    <tr>\n",
       "      <th>4</th>\n",
       "      <td>35900.0</td>\n",
       "      <td>3</td>\n",
       "      <td>5.7</td>\n",
       "      <td>4GB</td>\n",
       "      <td>1</td>\n",
       "    </tr>\n",
       "    <tr>\n",
       "      <th>5</th>\n",
       "      <td>34900.0</td>\n",
       "      <td>2</td>\n",
       "      <td>6.3</td>\n",
       "      <td>2GB</td>\n",
       "      <td>2</td>\n",
       "    </tr>\n",
       "    <tr>\n",
       "      <th>6</th>\n",
       "      <td>38800.0</td>\n",
       "      <td>3</td>\n",
       "      <td>5.0</td>\n",
       "      <td>3GB</td>\n",
       "      <td>`</td>\n",
       "    </tr>\n",
       "    <tr>\n",
       "      <th>7</th>\n",
       "      <td>59900.0</td>\n",
       "      <td>3</td>\n",
       "      <td>10.0</td>\n",
       "      <td>3GB</td>\n",
       "      <td>2</td>\n",
       "    </tr>\n",
       "    <tr>\n",
       "      <th>8</th>\n",
       "      <td>47500.0</td>\n",
       "      <td>3</td>\n",
       "      <td>7.4</td>\n",
       "      <td>2GB</td>\n",
       "      <td>23</td>\n",
       "    </tr>\n",
       "    <tr>\n",
       "      <th>9</th>\n",
       "      <td>58900.0</td>\n",
       "      <td>3</td>\n",
       "      <td>10.0</td>\n",
       "      <td>4GB</td>\n",
       "      <td>3</td>\n",
       "    </tr>\n",
       "    <tr>\n",
       "      <th>10</th>\n",
       "      <td>58000.0</td>\n",
       "      <td>3</td>\n",
       "      <td>15.4</td>\n",
       "      <td>2GB</td>\n",
       "      <td>3</td>\n",
       "    </tr>\n",
       "    <tr>\n",
       "      <th>11</th>\n",
       "      <td>47500.0</td>\n",
       "      <td>3</td>\n",
       "      <td>6.0</td>\n",
       "      <td>4GB</td>\n",
       "      <td>3</td>\n",
       "    </tr>\n",
       "    <tr>\n",
       "      <th>12</th>\n",
       "      <td>NaN</td>\n",
       "      <td>3</td>\n",
       "      <td>6.6</td>\n",
       "      <td>2GB</td>\n",
       "      <td>2</td>\n",
       "    </tr>\n",
       "    <tr>\n",
       "      <th>13</th>\n",
       "      <td>37900.0</td>\n",
       "      <td>4</td>\n",
       "      <td>7.0</td>\n",
       "      <td>2GB</td>\n",
       "      <td>2</td>\n",
       "    </tr>\n",
       "    <tr>\n",
       "      <th>14</th>\n",
       "      <td>31000.0</td>\n",
       "      <td>2</td>\n",
       "      <td>6.0</td>\n",
       "      <td>3GB</td>\n",
       "      <td>2</td>\n",
       "    </tr>\n",
       "    <tr>\n",
       "      <th>15</th>\n",
       "      <td>43500.0</td>\n",
       "      <td>4</td>\n",
       "      <td>6.6</td>\n",
       "      <td>2GB</td>\n",
       "      <td>1</td>\n",
       "    </tr>\n",
       "    <tr>\n",
       "      <th>16</th>\n",
       "      <td>38900.0</td>\n",
       "      <td>3</td>\n",
       "      <td>NaN</td>\n",
       "      <td>4GB</td>\n",
       "      <td>1</td>\n",
       "    </tr>\n",
       "    <tr>\n",
       "      <th>17</th>\n",
       "      <td>41900.0</td>\n",
       "      <td>4</td>\n",
       "      <td>4.0</td>\n",
       "      <td>2GB</td>\n",
       "      <td>1</td>\n",
       "    </tr>\n",
       "    <tr>\n",
       "      <th>18</th>\n",
       "      <td>49900.0</td>\n",
       "      <td>4</td>\n",
       "      <td>6.0</td>\n",
       "      <td>3GB</td>\n",
       "      <td>2</td>\n",
       "    </tr>\n",
       "    <tr>\n",
       "      <th>19</th>\n",
       "      <td>39500.0</td>\n",
       "      <td>3</td>\n",
       "      <td>7.2</td>\n",
       "      <td>3GB</td>\n",
       "      <td>2</td>\n",
       "    </tr>\n",
       "    <tr>\n",
       "      <th>20</th>\n",
       "      <td>43500.0</td>\n",
       "      <td>2</td>\n",
       "      <td>6.0</td>\n",
       "      <td>3GB</td>\n",
       "      <td>2</td>\n",
       "    </tr>\n",
       "    <tr>\n",
       "      <th>21</th>\n",
       "      <td>61500.0</td>\n",
       "      <td>4</td>\n",
       "      <td>NaN</td>\n",
       "      <td>2GB</td>\n",
       "      <td>2</td>\n",
       "    </tr>\n",
       "    <tr>\n",
       "      <th>22</th>\n",
       "      <td>NaN</td>\n",
       "      <td>4</td>\n",
       "      <td>7.5</td>\n",
       "      <td>2GB</td>\n",
       "      <td>2</td>\n",
       "    </tr>\n",
       "    <tr>\n",
       "      <th>23</th>\n",
       "      <td>41900.0</td>\n",
       "      <td>3</td>\n",
       "      <td>10.0</td>\n",
       "      <td>4GB</td>\n",
       "      <td>3</td>\n",
       "    </tr>\n",
       "    <tr>\n",
       "      <th>24</th>\n",
       "      <td>62500.0</td>\n",
       "      <td>4</td>\n",
       "      <td>9.6</td>\n",
       "      <td>4GB</td>\n",
       "      <td>3</td>\n",
       "    </tr>\n",
       "    <tr>\n",
       "      <th>25</th>\n",
       "      <td>44500.0</td>\n",
       "      <td>4</td>\n",
       "      <td>6.1</td>\n",
       "      <td>4GB</td>\n",
       "      <td>3</td>\n",
       "    </tr>\n",
       "    <tr>\n",
       "      <th>26</th>\n",
       "      <td>49900.0</td>\n",
       "      <td>4</td>\n",
       "      <td>13.3</td>\n",
       "      <td>2GB</td>\n",
       "      <td>3</td>\n",
       "    </tr>\n",
       "    <tr>\n",
       "      <th>27</th>\n",
       "      <td>58900.0</td>\n",
       "      <td>4</td>\n",
       "      <td>13.6</td>\n",
       "      <td>2GB</td>\n",
       "      <td>2</td>\n",
       "    </tr>\n",
       "    <tr>\n",
       "      <th>28</th>\n",
       "      <td>56900.0</td>\n",
       "      <td>3</td>\n",
       "      <td>11.0</td>\n",
       "      <td>3GB</td>\n",
       "      <td>1</td>\n",
       "    </tr>\n",
       "    <tr>\n",
       "      <th>29</th>\n",
       "      <td>55000.0</td>\n",
       "      <td>3</td>\n",
       "      <td>10.0</td>\n",
       "      <td>3GB</td>\n",
       "      <td>1</td>\n",
       "    </tr>\n",
       "    <tr>\n",
       "      <th>30</th>\n",
       "      <td>82500.0</td>\n",
       "      <td>4</td>\n",
       "      <td>10.0</td>\n",
       "      <td>2GB</td>\n",
       "      <td>1</td>\n",
       "    </tr>\n",
       "    <tr>\n",
       "      <th>31</th>\n",
       "      <td>66000.0</td>\n",
       "      <td>3</td>\n",
       "      <td>17.0</td>\n",
       "      <td>2GB</td>\n",
       "      <td>2</td>\n",
       "    </tr>\n",
       "    <tr>\n",
       "      <th>32</th>\n",
       "      <td>73500.0</td>\n",
       "      <td>5</td>\n",
       "      <td>10.0</td>\n",
       "      <td>3GB</td>\n",
       "      <td>2</td>\n",
       "    </tr>\n",
       "    <tr>\n",
       "      <th>33</th>\n",
       "      <td>29900.0</td>\n",
       "      <td>3</td>\n",
       "      <td>10.0</td>\n",
       "      <td>3GB</td>\n",
       "      <td>2</td>\n",
       "    </tr>\n",
       "    <tr>\n",
       "      <th>34</th>\n",
       "      <td>49900.0</td>\n",
       "      <td>3</td>\n",
       "      <td>17.6</td>\n",
       "      <td>4GB</td>\n",
       "      <td>2</td>\n",
       "    </tr>\n",
       "  </tbody>\n",
       "</table>\n",
       "</div>"
      ],
      "text/plain": [
       "      Price  variant  battery  ram  No of cameras\n",
       "0   64000.0        5      6.0   2GB             1\n",
       "1   14000.0        2      5.5  3 GB             2\n",
       "2   40500.0        2      7.5   2GB             1\n",
       "3   38900.0        3      7.0   2GB             1\n",
       "4   35900.0        3      5.7   4GB             1\n",
       "5   34900.0        2      6.3   2GB             2\n",
       "6   38800.0        3      5.0   3GB             `\n",
       "7   59900.0        3     10.0   3GB             2\n",
       "8   47500.0        3      7.4   2GB            23\n",
       "9   58900.0        3     10.0   4GB             3\n",
       "10  58000.0        3     15.4   2GB             3\n",
       "11  47500.0        3      6.0   4GB             3\n",
       "12      NaN        3      6.6   2GB             2\n",
       "13  37900.0        4      7.0   2GB             2\n",
       "14  31000.0        2      6.0   3GB             2\n",
       "15  43500.0        4      6.6   2GB             1\n",
       "16  38900.0        3      NaN   4GB             1\n",
       "17  41900.0        4      4.0   2GB             1\n",
       "18  49900.0        4      6.0   3GB             2\n",
       "19  39500.0        3      7.2   3GB             2\n",
       "20  43500.0        2      6.0   3GB             2\n",
       "21  61500.0        4      NaN   2GB             2\n",
       "22      NaN        4      7.5   2GB             2\n",
       "23  41900.0        3     10.0   4GB             3\n",
       "24  62500.0        4      9.6   4GB             3\n",
       "25  44500.0        4      6.1   4GB             3\n",
       "26  49900.0        4     13.3   2GB             3\n",
       "27  58900.0        4     13.6   2GB             2\n",
       "28  56900.0        3     11.0   3GB             1\n",
       "29  55000.0        3     10.0   3GB             1\n",
       "30  82500.0        4     10.0   2GB             1\n",
       "31  66000.0        3     17.0   2GB             2\n",
       "32  73500.0        5     10.0   3GB             2\n",
       "33  29900.0        3     10.0   3GB             2\n",
       "34  49900.0        3     17.6   4GB             2"
      ]
     },
     "execution_count": 3,
     "metadata": {},
     "output_type": "execute_result"
    }
   ],
   "source": [
    "mobile_df"
   ]
  },
  {
   "cell_type": "code",
   "execution_count": 4,
   "id": "1f5ffc46",
   "metadata": {},
   "outputs": [
    {
     "data": {
      "text/plain": [
       "(35, 5)"
      ]
     },
     "execution_count": 4,
     "metadata": {},
     "output_type": "execute_result"
    }
   ],
   "source": [
    "mobile_df.shape"
   ]
  },
  {
   "cell_type": "markdown",
   "id": "62dc686b",
   "metadata": {},
   "source": [
    "##### we can see that there are 35 rows and 5 columns"
   ]
  },
  {
   "cell_type": "code",
   "execution_count": 5,
   "id": "a3a90b9b",
   "metadata": {},
   "outputs": [
    {
     "name": "stdout",
     "output_type": "stream",
     "text": [
      "<class 'pandas.core.frame.DataFrame'>\n",
      "RangeIndex: 35 entries, 0 to 34\n",
      "Data columns (total 5 columns):\n",
      " #   Column         Non-Null Count  Dtype  \n",
      "---  ------         --------------  -----  \n",
      " 0   Price          33 non-null     float64\n",
      " 1   variant        35 non-null     int64  \n",
      " 2   battery        33 non-null     float64\n",
      " 3   ram            35 non-null     object \n",
      " 4   No of cameras  35 non-null     object \n",
      "dtypes: float64(2), int64(1), object(2)\n",
      "memory usage: 1.5+ KB\n"
     ]
    }
   ],
   "source": [
    "mobile_df.info()"
   ]
  },
  {
   "cell_type": "markdown",
   "id": "aa0aea5b",
   "metadata": {},
   "source": [
    "#### Fivepoint sumary , count & mean"
   ]
  },
  {
   "cell_type": "code",
   "execution_count": 6,
   "id": "e67cebd5",
   "metadata": {},
   "outputs": [
    {
     "data": {
      "text/html": [
       "<div>\n",
       "<style scoped>\n",
       "    .dataframe tbody tr th:only-of-type {\n",
       "        vertical-align: middle;\n",
       "    }\n",
       "\n",
       "    .dataframe tbody tr th {\n",
       "        vertical-align: top;\n",
       "    }\n",
       "\n",
       "    .dataframe thead th {\n",
       "        text-align: right;\n",
       "    }\n",
       "</style>\n",
       "<table border=\"1\" class=\"dataframe\">\n",
       "  <thead>\n",
       "    <tr style=\"text-align: right;\">\n",
       "      <th></th>\n",
       "      <th>Price</th>\n",
       "      <th>variant</th>\n",
       "      <th>battery</th>\n",
       "    </tr>\n",
       "  </thead>\n",
       "  <tbody>\n",
       "    <tr>\n",
       "      <th>count</th>\n",
       "      <td>33.000000</td>\n",
       "      <td>35.000000</td>\n",
       "      <td>33.000000</td>\n",
       "    </tr>\n",
       "    <tr>\n",
       "      <th>mean</th>\n",
       "      <td>48418.181818</td>\n",
       "      <td>3.285714</td>\n",
       "      <td>8.693939</td>\n",
       "    </tr>\n",
       "    <tr>\n",
       "      <th>std</th>\n",
       "      <td>13834.478092</td>\n",
       "      <td>0.788574</td>\n",
       "      <td>3.452801</td>\n",
       "    </tr>\n",
       "    <tr>\n",
       "      <th>min</th>\n",
       "      <td>14000.000000</td>\n",
       "      <td>2.000000</td>\n",
       "      <td>4.000000</td>\n",
       "    </tr>\n",
       "    <tr>\n",
       "      <th>25%</th>\n",
       "      <td>38900.000000</td>\n",
       "      <td>3.000000</td>\n",
       "      <td>6.000000</td>\n",
       "    </tr>\n",
       "    <tr>\n",
       "      <th>50%</th>\n",
       "      <td>47500.000000</td>\n",
       "      <td>3.000000</td>\n",
       "      <td>7.400000</td>\n",
       "    </tr>\n",
       "    <tr>\n",
       "      <th>75%</th>\n",
       "      <td>58900.000000</td>\n",
       "      <td>4.000000</td>\n",
       "      <td>10.000000</td>\n",
       "    </tr>\n",
       "    <tr>\n",
       "      <th>max</th>\n",
       "      <td>82500.000000</td>\n",
       "      <td>5.000000</td>\n",
       "      <td>17.600000</td>\n",
       "    </tr>\n",
       "  </tbody>\n",
       "</table>\n",
       "</div>"
      ],
      "text/plain": [
       "              Price    variant    battery\n",
       "count     33.000000  35.000000  33.000000\n",
       "mean   48418.181818   3.285714   8.693939\n",
       "std    13834.478092   0.788574   3.452801\n",
       "min    14000.000000   2.000000   4.000000\n",
       "25%    38900.000000   3.000000   6.000000\n",
       "50%    47500.000000   3.000000   7.400000\n",
       "75%    58900.000000   4.000000  10.000000\n",
       "max    82500.000000   5.000000  17.600000"
      ]
     },
     "execution_count": 6,
     "metadata": {},
     "output_type": "execute_result"
    }
   ],
   "source": [
    "mobile_df.describe()"
   ]
  },
  {
   "cell_type": "markdown",
   "id": "75b77c03",
   "metadata": {},
   "source": [
    "\n",
    "###### lets fetch 1st 5 values"
   ]
  },
  {
   "cell_type": "code",
   "execution_count": 7,
   "id": "e95b6378",
   "metadata": {},
   "outputs": [
    {
     "data": {
      "text/html": [
       "<div>\n",
       "<style scoped>\n",
       "    .dataframe tbody tr th:only-of-type {\n",
       "        vertical-align: middle;\n",
       "    }\n",
       "\n",
       "    .dataframe tbody tr th {\n",
       "        vertical-align: top;\n",
       "    }\n",
       "\n",
       "    .dataframe thead th {\n",
       "        text-align: right;\n",
       "    }\n",
       "</style>\n",
       "<table border=\"1\" class=\"dataframe\">\n",
       "  <thead>\n",
       "    <tr style=\"text-align: right;\">\n",
       "      <th></th>\n",
       "      <th>Price</th>\n",
       "      <th>variant</th>\n",
       "      <th>battery</th>\n",
       "      <th>ram</th>\n",
       "      <th>No of cameras</th>\n",
       "    </tr>\n",
       "  </thead>\n",
       "  <tbody>\n",
       "    <tr>\n",
       "      <th>0</th>\n",
       "      <td>64000.0</td>\n",
       "      <td>5</td>\n",
       "      <td>6.0</td>\n",
       "      <td>2GB</td>\n",
       "      <td>1</td>\n",
       "    </tr>\n",
       "    <tr>\n",
       "      <th>1</th>\n",
       "      <td>14000.0</td>\n",
       "      <td>2</td>\n",
       "      <td>5.5</td>\n",
       "      <td>3 GB</td>\n",
       "      <td>2</td>\n",
       "    </tr>\n",
       "    <tr>\n",
       "      <th>2</th>\n",
       "      <td>40500.0</td>\n",
       "      <td>2</td>\n",
       "      <td>7.5</td>\n",
       "      <td>2GB</td>\n",
       "      <td>1</td>\n",
       "    </tr>\n",
       "    <tr>\n",
       "      <th>3</th>\n",
       "      <td>38900.0</td>\n",
       "      <td>3</td>\n",
       "      <td>7.0</td>\n",
       "      <td>2GB</td>\n",
       "      <td>1</td>\n",
       "    </tr>\n",
       "    <tr>\n",
       "      <th>4</th>\n",
       "      <td>35900.0</td>\n",
       "      <td>3</td>\n",
       "      <td>5.7</td>\n",
       "      <td>4GB</td>\n",
       "      <td>1</td>\n",
       "    </tr>\n",
       "  </tbody>\n",
       "</table>\n",
       "</div>"
      ],
      "text/plain": [
       "     Price  variant  battery  ram  No of cameras\n",
       "0  64000.0        5      6.0   2GB             1\n",
       "1  14000.0        2      5.5  3 GB             2\n",
       "2  40500.0        2      7.5   2GB             1\n",
       "3  38900.0        3      7.0   2GB             1\n",
       "4  35900.0        3      5.7   4GB             1"
      ]
     },
     "execution_count": 7,
     "metadata": {},
     "output_type": "execute_result"
    }
   ],
   "source": [
    "mobile_df.head()"
   ]
  },
  {
   "cell_type": "markdown",
   "id": "cf8a5ccc",
   "metadata": {},
   "source": [
    "###### lets fetch last 10 values"
   ]
  },
  {
   "cell_type": "code",
   "execution_count": 8,
   "id": "03ca2cfa",
   "metadata": {},
   "outputs": [
    {
     "data": {
      "text/html": [
       "<div>\n",
       "<style scoped>\n",
       "    .dataframe tbody tr th:only-of-type {\n",
       "        vertical-align: middle;\n",
       "    }\n",
       "\n",
       "    .dataframe tbody tr th {\n",
       "        vertical-align: top;\n",
       "    }\n",
       "\n",
       "    .dataframe thead th {\n",
       "        text-align: right;\n",
       "    }\n",
       "</style>\n",
       "<table border=\"1\" class=\"dataframe\">\n",
       "  <thead>\n",
       "    <tr style=\"text-align: right;\">\n",
       "      <th></th>\n",
       "      <th>Price</th>\n",
       "      <th>variant</th>\n",
       "      <th>battery</th>\n",
       "      <th>ram</th>\n",
       "      <th>No of cameras</th>\n",
       "    </tr>\n",
       "  </thead>\n",
       "  <tbody>\n",
       "    <tr>\n",
       "      <th>25</th>\n",
       "      <td>44500.0</td>\n",
       "      <td>4</td>\n",
       "      <td>6.1</td>\n",
       "      <td>4GB</td>\n",
       "      <td>3</td>\n",
       "    </tr>\n",
       "    <tr>\n",
       "      <th>26</th>\n",
       "      <td>49900.0</td>\n",
       "      <td>4</td>\n",
       "      <td>13.3</td>\n",
       "      <td>2GB</td>\n",
       "      <td>3</td>\n",
       "    </tr>\n",
       "    <tr>\n",
       "      <th>27</th>\n",
       "      <td>58900.0</td>\n",
       "      <td>4</td>\n",
       "      <td>13.6</td>\n",
       "      <td>2GB</td>\n",
       "      <td>2</td>\n",
       "    </tr>\n",
       "    <tr>\n",
       "      <th>28</th>\n",
       "      <td>56900.0</td>\n",
       "      <td>3</td>\n",
       "      <td>11.0</td>\n",
       "      <td>3GB</td>\n",
       "      <td>1</td>\n",
       "    </tr>\n",
       "    <tr>\n",
       "      <th>29</th>\n",
       "      <td>55000.0</td>\n",
       "      <td>3</td>\n",
       "      <td>10.0</td>\n",
       "      <td>3GB</td>\n",
       "      <td>1</td>\n",
       "    </tr>\n",
       "    <tr>\n",
       "      <th>30</th>\n",
       "      <td>82500.0</td>\n",
       "      <td>4</td>\n",
       "      <td>10.0</td>\n",
       "      <td>2GB</td>\n",
       "      <td>1</td>\n",
       "    </tr>\n",
       "    <tr>\n",
       "      <th>31</th>\n",
       "      <td>66000.0</td>\n",
       "      <td>3</td>\n",
       "      <td>17.0</td>\n",
       "      <td>2GB</td>\n",
       "      <td>2</td>\n",
       "    </tr>\n",
       "    <tr>\n",
       "      <th>32</th>\n",
       "      <td>73500.0</td>\n",
       "      <td>5</td>\n",
       "      <td>10.0</td>\n",
       "      <td>3GB</td>\n",
       "      <td>2</td>\n",
       "    </tr>\n",
       "    <tr>\n",
       "      <th>33</th>\n",
       "      <td>29900.0</td>\n",
       "      <td>3</td>\n",
       "      <td>10.0</td>\n",
       "      <td>3GB</td>\n",
       "      <td>2</td>\n",
       "    </tr>\n",
       "    <tr>\n",
       "      <th>34</th>\n",
       "      <td>49900.0</td>\n",
       "      <td>3</td>\n",
       "      <td>17.6</td>\n",
       "      <td>4GB</td>\n",
       "      <td>2</td>\n",
       "    </tr>\n",
       "  </tbody>\n",
       "</table>\n",
       "</div>"
      ],
      "text/plain": [
       "      Price  variant  battery ram  No of cameras\n",
       "25  44500.0        4      6.1  4GB             3\n",
       "26  49900.0        4     13.3  2GB             3\n",
       "27  58900.0        4     13.6  2GB             2\n",
       "28  56900.0        3     11.0  3GB             1\n",
       "29  55000.0        3     10.0  3GB             1\n",
       "30  82500.0        4     10.0  2GB             1\n",
       "31  66000.0        3     17.0  2GB             2\n",
       "32  73500.0        5     10.0  3GB             2\n",
       "33  29900.0        3     10.0  3GB             2\n",
       "34  49900.0        3     17.6  4GB             2"
      ]
     },
     "execution_count": 8,
     "metadata": {},
     "output_type": "execute_result"
    }
   ],
   "source": [
    "mobile_df.tail(10)"
   ]
  },
  {
   "cell_type": "markdown",
   "id": "5127b36f",
   "metadata": {},
   "source": [
    "##### lets check 10 rows with another method"
   ]
  },
  {
   "cell_type": "code",
   "execution_count": 9,
   "id": "15d8695f",
   "metadata": {},
   "outputs": [
    {
     "data": {
      "text/html": [
       "<div>\n",
       "<style scoped>\n",
       "    .dataframe tbody tr th:only-of-type {\n",
       "        vertical-align: middle;\n",
       "    }\n",
       "\n",
       "    .dataframe tbody tr th {\n",
       "        vertical-align: top;\n",
       "    }\n",
       "\n",
       "    .dataframe thead th {\n",
       "        text-align: right;\n",
       "    }\n",
       "</style>\n",
       "<table border=\"1\" class=\"dataframe\">\n",
       "  <thead>\n",
       "    <tr style=\"text-align: right;\">\n",
       "      <th></th>\n",
       "      <th>Price</th>\n",
       "      <th>variant</th>\n",
       "      <th>battery</th>\n",
       "      <th>ram</th>\n",
       "      <th>No of cameras</th>\n",
       "    </tr>\n",
       "  </thead>\n",
       "  <tbody>\n",
       "    <tr>\n",
       "      <th>0</th>\n",
       "      <td>64000.0</td>\n",
       "      <td>5</td>\n",
       "      <td>6.0</td>\n",
       "      <td>2GB</td>\n",
       "      <td>1</td>\n",
       "    </tr>\n",
       "    <tr>\n",
       "      <th>1</th>\n",
       "      <td>14000.0</td>\n",
       "      <td>2</td>\n",
       "      <td>5.5</td>\n",
       "      <td>3 GB</td>\n",
       "      <td>2</td>\n",
       "    </tr>\n",
       "    <tr>\n",
       "      <th>2</th>\n",
       "      <td>40500.0</td>\n",
       "      <td>2</td>\n",
       "      <td>7.5</td>\n",
       "      <td>2GB</td>\n",
       "      <td>1</td>\n",
       "    </tr>\n",
       "    <tr>\n",
       "      <th>3</th>\n",
       "      <td>38900.0</td>\n",
       "      <td>3</td>\n",
       "      <td>7.0</td>\n",
       "      <td>2GB</td>\n",
       "      <td>1</td>\n",
       "    </tr>\n",
       "    <tr>\n",
       "      <th>4</th>\n",
       "      <td>35900.0</td>\n",
       "      <td>3</td>\n",
       "      <td>5.7</td>\n",
       "      <td>4GB</td>\n",
       "      <td>1</td>\n",
       "    </tr>\n",
       "    <tr>\n",
       "      <th>5</th>\n",
       "      <td>34900.0</td>\n",
       "      <td>2</td>\n",
       "      <td>6.3</td>\n",
       "      <td>2GB</td>\n",
       "      <td>2</td>\n",
       "    </tr>\n",
       "    <tr>\n",
       "      <th>6</th>\n",
       "      <td>38800.0</td>\n",
       "      <td>3</td>\n",
       "      <td>5.0</td>\n",
       "      <td>3GB</td>\n",
       "      <td>`</td>\n",
       "    </tr>\n",
       "    <tr>\n",
       "      <th>7</th>\n",
       "      <td>59900.0</td>\n",
       "      <td>3</td>\n",
       "      <td>10.0</td>\n",
       "      <td>3GB</td>\n",
       "      <td>2</td>\n",
       "    </tr>\n",
       "    <tr>\n",
       "      <th>8</th>\n",
       "      <td>47500.0</td>\n",
       "      <td>3</td>\n",
       "      <td>7.4</td>\n",
       "      <td>2GB</td>\n",
       "      <td>23</td>\n",
       "    </tr>\n",
       "    <tr>\n",
       "      <th>9</th>\n",
       "      <td>58900.0</td>\n",
       "      <td>3</td>\n",
       "      <td>10.0</td>\n",
       "      <td>4GB</td>\n",
       "      <td>3</td>\n",
       "    </tr>\n",
       "  </tbody>\n",
       "</table>\n",
       "</div>"
      ],
      "text/plain": [
       "     Price  variant  battery  ram  No of cameras\n",
       "0  64000.0        5      6.0   2GB             1\n",
       "1  14000.0        2      5.5  3 GB             2\n",
       "2  40500.0        2      7.5   2GB             1\n",
       "3  38900.0        3      7.0   2GB             1\n",
       "4  35900.0        3      5.7   4GB             1\n",
       "5  34900.0        2      6.3   2GB             2\n",
       "6  38800.0        3      5.0   3GB             `\n",
       "7  59900.0        3     10.0   3GB             2\n",
       "8  47500.0        3      7.4   2GB            23\n",
       "9  58900.0        3     10.0   4GB             3"
      ]
     },
     "execution_count": 9,
     "metadata": {},
     "output_type": "execute_result"
    }
   ],
   "source": [
    "mobile_df[:10]"
   ]
  },
  {
   "cell_type": "code",
   "execution_count": 10,
   "id": "70117b8a",
   "metadata": {},
   "outputs": [
    {
     "data": {
      "text/html": [
       "<div>\n",
       "<style scoped>\n",
       "    .dataframe tbody tr th:only-of-type {\n",
       "        vertical-align: middle;\n",
       "    }\n",
       "\n",
       "    .dataframe tbody tr th {\n",
       "        vertical-align: top;\n",
       "    }\n",
       "\n",
       "    .dataframe thead th {\n",
       "        text-align: right;\n",
       "    }\n",
       "</style>\n",
       "<table border=\"1\" class=\"dataframe\">\n",
       "  <thead>\n",
       "    <tr style=\"text-align: right;\">\n",
       "      <th></th>\n",
       "      <th>Price</th>\n",
       "      <th>variant</th>\n",
       "      <th>battery</th>\n",
       "      <th>ram</th>\n",
       "      <th>No of cameras</th>\n",
       "    </tr>\n",
       "  </thead>\n",
       "  <tbody>\n",
       "    <tr>\n",
       "      <th>25</th>\n",
       "      <td>44500.0</td>\n",
       "      <td>4</td>\n",
       "      <td>6.1</td>\n",
       "      <td>4GB</td>\n",
       "      <td>3</td>\n",
       "    </tr>\n",
       "    <tr>\n",
       "      <th>26</th>\n",
       "      <td>49900.0</td>\n",
       "      <td>4</td>\n",
       "      <td>13.3</td>\n",
       "      <td>2GB</td>\n",
       "      <td>3</td>\n",
       "    </tr>\n",
       "    <tr>\n",
       "      <th>27</th>\n",
       "      <td>58900.0</td>\n",
       "      <td>4</td>\n",
       "      <td>13.6</td>\n",
       "      <td>2GB</td>\n",
       "      <td>2</td>\n",
       "    </tr>\n",
       "    <tr>\n",
       "      <th>28</th>\n",
       "      <td>56900.0</td>\n",
       "      <td>3</td>\n",
       "      <td>11.0</td>\n",
       "      <td>3GB</td>\n",
       "      <td>1</td>\n",
       "    </tr>\n",
       "    <tr>\n",
       "      <th>29</th>\n",
       "      <td>55000.0</td>\n",
       "      <td>3</td>\n",
       "      <td>10.0</td>\n",
       "      <td>3GB</td>\n",
       "      <td>1</td>\n",
       "    </tr>\n",
       "    <tr>\n",
       "      <th>30</th>\n",
       "      <td>82500.0</td>\n",
       "      <td>4</td>\n",
       "      <td>10.0</td>\n",
       "      <td>2GB</td>\n",
       "      <td>1</td>\n",
       "    </tr>\n",
       "    <tr>\n",
       "      <th>31</th>\n",
       "      <td>66000.0</td>\n",
       "      <td>3</td>\n",
       "      <td>17.0</td>\n",
       "      <td>2GB</td>\n",
       "      <td>2</td>\n",
       "    </tr>\n",
       "    <tr>\n",
       "      <th>32</th>\n",
       "      <td>73500.0</td>\n",
       "      <td>5</td>\n",
       "      <td>10.0</td>\n",
       "      <td>3GB</td>\n",
       "      <td>2</td>\n",
       "    </tr>\n",
       "    <tr>\n",
       "      <th>33</th>\n",
       "      <td>29900.0</td>\n",
       "      <td>3</td>\n",
       "      <td>10.0</td>\n",
       "      <td>3GB</td>\n",
       "      <td>2</td>\n",
       "    </tr>\n",
       "    <tr>\n",
       "      <th>34</th>\n",
       "      <td>49900.0</td>\n",
       "      <td>3</td>\n",
       "      <td>17.6</td>\n",
       "      <td>4GB</td>\n",
       "      <td>2</td>\n",
       "    </tr>\n",
       "  </tbody>\n",
       "</table>\n",
       "</div>"
      ],
      "text/plain": [
       "      Price  variant  battery ram  No of cameras\n",
       "25  44500.0        4      6.1  4GB             3\n",
       "26  49900.0        4     13.3  2GB             3\n",
       "27  58900.0        4     13.6  2GB             2\n",
       "28  56900.0        3     11.0  3GB             1\n",
       "29  55000.0        3     10.0  3GB             1\n",
       "30  82500.0        4     10.0  2GB             1\n",
       "31  66000.0        3     17.0  2GB             2\n",
       "32  73500.0        5     10.0  3GB             2\n",
       "33  29900.0        3     10.0  3GB             2\n",
       "34  49900.0        3     17.6  4GB             2"
      ]
     },
     "execution_count": 10,
     "metadata": {},
     "output_type": "execute_result"
    }
   ],
   "source": [
    "mobile_df[-10:]"
   ]
  },
  {
   "cell_type": "code",
   "execution_count": 11,
   "id": "237d3e67",
   "metadata": {},
   "outputs": [
    {
     "data": {
      "text/plain": [
       "Index(['Price', 'variant', 'battery', 'ram ', 'No of cameras'], dtype='object')"
      ]
     },
     "execution_count": 11,
     "metadata": {},
     "output_type": "execute_result"
    }
   ],
   "source": [
    "mobile_df.columns"
   ]
  },
  {
   "cell_type": "code",
   "execution_count": 12,
   "id": "36f728c1",
   "metadata": {},
   "outputs": [
    {
     "data": {
      "text/plain": [
       "Price            2\n",
       "variant          0\n",
       "battery          2\n",
       "ram              0\n",
       "No of cameras    0\n",
       "dtype: int64"
      ]
     },
     "execution_count": 12,
     "metadata": {},
     "output_type": "execute_result"
    }
   ],
   "source": [
    "mobile_df.isna().sum()"
   ]
  },
  {
   "cell_type": "markdown",
   "id": "4cf1c09d",
   "metadata": {},
   "source": [
    "we can see that there are na values in this dataset\n"
   ]
  },
  {
   "cell_type": "markdown",
   "id": "b1946578",
   "metadata": {},
   "source": [
    "# lets plot some graphs"
   ]
  },
  {
   "cell_type": "code",
   "execution_count": 13,
   "id": "87fe9f23",
   "metadata": {},
   "outputs": [
    {
     "data": {
      "text/plain": [
       "Text(0.5, 1.0, 'mobile pricing')"
      ]
     },
     "execution_count": 13,
     "metadata": {},
     "output_type": "execute_result"
    },
    {
     "data": {
      "image/png": "[encoded data removed]",
      "text/plain": [
       "<Figure size 640x480 with 1 Axes>"
      ]
     },
     "metadata": {},
     "output_type": "display_data"
    }
   ],
   "source": [
    "plt.hist(mobile_df.Price, color=\"red\",bins=10)\n",
    "plt.xlabel(\"price of mobile\")\n",
    "plt.ylabel(\"count\")\n",
    "plt.title(\"mobile pricing\")"
   ]
  },
  {
   "cell_type": "code",
   "execution_count": 14,
   "id": "9bc91f55",
   "metadata": {},
   "outputs": [
    {
     "data": {
      "text/plain": [
       "Text(0.5, 1.0, 'mobile pricing')"
      ]
     },
     "execution_count": 14,
     "metadata": {},
     "output_type": "execute_result"
    },
    {
     "data": {
      "image/png": "[encoded data removed]",
      "text/plain": [
       "<Figure size 640x480 with 1 Axes>"
      ]
     },
     "metadata": {},
     "output_type": "display_data"
    }
   ],
   "source": [
    "sns.set_style(\"darkgrid\")\n",
    "sns.histplot(mobile_df.Price, color=\"blue\",bins=10)\n",
    "plt.xlabel(\"price of mobile\")\n",
    "plt.ylabel(\"count\")\n",
    "plt.title(\"mobile pricing\")"
   ]
  },
  {
   "cell_type": "code",
   "execution_count": 15,
   "id": "2a3e43fd",
   "metadata": {},
   "outputs": [
    {
     "data": {
      "text/plain": [
       "<AxesSubplot:xlabel='battery'>"
      ]
     },
     "execution_count": 15,
     "metadata": {},
     "output_type": "execute_result"
    },
    {
     "data": {
      "image/png": "[encoded data removed]",
      "text/plain": [
       "<Figure size 640x480 with 1 Axes>"
      ]
     },
     "metadata": {},
     "output_type": "display_data"
    }
   ],
   "source": [
    "sns.boxplot(x=mobile_df.battery,color=\"blue\",)"
   ]
  },
  {
   "cell_type": "markdown",
   "id": "6b0ffe94",
   "metadata": {},
   "source": [
    "we can see the five point summary and also \n",
    "we can see outliers in battery. "
   ]
  },
  {
   "cell_type": "code",
   "execution_count": 16,
   "id": "0acb48a7",
   "metadata": {},
   "outputs": [
    {
     "data": {
      "text/plain": [
       "<AxesSubplot:xlabel='Price'>"
      ]
     },
     "execution_count": 16,
     "metadata": {},
     "output_type": "execute_result"
    },
    {
     "data": {
      "image/png": "[encoded data removed]",
      "text/plain": [
       "<Figure size 640x480 with 1 Axes>"
      ]
     },
     "metadata": {},
     "output_type": "display_data"
    }
   ],
   "source": [
    "sns.boxplot(x = mobile_df.Price, color=\"steelblue\")"
   ]
  },
  {
   "cell_type": "markdown",
   "id": "20991caa",
   "metadata": {},
   "source": [
    "# lets do some scatterplots"
   ]
  },
  {
   "cell_type": "code",
   "execution_count": 17,
   "id": "6fb74225",
   "metadata": {},
   "outputs": [
    {
     "data": {
      "text/plain": [
       "<AxesSubplot:xlabel='Price', ylabel='battery'>"
      ]
     },
     "execution_count": 17,
     "metadata": {},
     "output_type": "execute_result"
    },
    {
     "data": {
      "image/png": "[encoded data removed]",
      "text/plain": [
       "<Figure size 640x480 with 1 Axes>"
      ]
     },
     "metadata": {},
     "output_type": "display_data"
    }
   ],
   "source": [
    "sns.scatterplot(data=mobile_df, x=mobile_df.Price, y=mobile_df.battery)"
   ]
  },
  {
   "cell_type": "code",
   "execution_count": 18,
   "id": "4296dbf5",
   "metadata": {},
   "outputs": [
    {
     "data": {
      "text/plain": [
       "Price            float64\n",
       "variant            int64\n",
       "battery          float64\n",
       "ram               object\n",
       "No of cameras     object\n",
       "dtype: object"
      ]
     },
     "execution_count": 18,
     "metadata": {},
     "output_type": "execute_result"
    }
   ],
   "source": [
    "mobile_df.dtypes"
   ]
  },
  {
   "cell_type": "code",
   "execution_count": 19,
   "id": "035f25d0",
   "metadata": {},
   "outputs": [],
   "source": [
    "# sns.scatterplot(x=mobile_df[\"Price\"], y=mobile_df[\"No of cameras\"])\n",
    "#\"no of cameras1\" are object type so we cannot do scatterplot we need to change it to numeric, lets try that one"
   ]
  },
  {
   "cell_type": "code",
   "execution_count": 20,
   "id": "d28c94fc",
   "metadata": {},
   "outputs": [],
   "source": [
    "mobile_df[\"No of cameras\"] = pd.to_numeric(mobile_df[\"No of cameras\"], errors='coerce')"
   ]
  },
  {
   "cell_type": "code",
   "execution_count": 21,
   "id": "75f65838",
   "metadata": {},
   "outputs": [
    {
     "data": {
      "text/plain": [
       "Price            float64\n",
       "variant            int64\n",
       "battery          float64\n",
       "ram               object\n",
       "No of cameras    float64\n",
       "dtype: object"
      ]
     },
     "execution_count": 21,
     "metadata": {},
     "output_type": "execute_result"
    }
   ],
   "source": [
    "mobile_df.dtypes"
   ]
  },
  {
   "cell_type": "code",
   "execution_count": 71,
   "id": "33928427",
   "metadata": {},
   "outputs": [
    {
     "data": {
      "text/plain": [
       "<AxesSubplot:xlabel='Price', ylabel='No of cameras'>"
      ]
     },
     "execution_count": 71,
     "metadata": {},
     "output_type": "execute_result"
    },
    {
     "data": {
      "image/png": "[encoded data removed]",
      "text/plain": [
       "<Figure size 640x480 with 1 Axes>"
      ]
     },
     "metadata": {},
     "output_type": "display_data"
    }
   ],
   "source": [
    "sns.scatterplot(x=mobile_df[\"Price\"], y=mobile_df[\"No of cameras\"])"
   ]
  },
  {
   "cell_type": "code",
   "execution_count": 72,
   "id": "3fdceb53",
   "metadata": {},
   "outputs": [
    {
     "data": {
      "text/plain": [
       "array([ 1.,  2., nan, 23.,  3.])"
      ]
     },
     "execution_count": 72,
     "metadata": {},
     "output_type": "execute_result"
    }
   ],
   "source": [
    "mobile_df[\"No of cameras\"].unique()"
   ]
  },
  {
   "cell_type": "markdown",
   "id": "8ee45cb2",
   "metadata": {},
   "source": [
    "i can see an outlier here lets see with box plot"
   ]
  },
  {
   "cell_type": "code",
   "execution_count": 76,
   "id": "654205c8",
   "metadata": {},
   "outputs": [
    {
     "data": {
      "image/png": "[encoded data removed]",
      "text/plain": [
       "<Figure size 640x480 with 1 Axes>"
      ]
     },
     "metadata": {},
     "output_type": "display_data"
    }
   ],
   "source": [
    "sns.set_style(\"darkgrid\")\n",
    "sns.boxplot(x=mobile_df[\"No of cameras\"]);"
   ]
  },
  {
   "cell_type": "markdown",
   "id": "c4e49906",
   "metadata": {},
   "source": [
    "yes there is an outlier and its value is 23"
   ]
  },
  {
   "cell_type": "markdown",
   "id": "d6cbbccc",
   "metadata": {},
   "source": [
    "#### lets fill the na values with mean value\n",
    "we can use 2 methods"
   ]
  },
  {
   "cell_type": "code",
   "execution_count": 79,
   "id": "8adffb07",
   "metadata": {},
   "outputs": [
    {
     "data": {
      "text/plain": [
       "Price            2\n",
       "variant          0\n",
       "battery          2\n",
       "ram              0\n",
       "No of cameras    1\n",
       "dtype: int64"
      ]
     },
     "execution_count": 79,
     "metadata": {},
     "output_type": "execute_result"
    }
   ],
   "source": [
    "mobile_df.isna().sum()"
   ]
  },
  {
   "cell_type": "code",
   "execution_count": 90,
   "id": "19a0f44e",
   "metadata": {},
   "outputs": [],
   "source": [
    "# 1st method\n",
    "\n",
    "mobile_df[\"Price\"]= mobile_df[\"Price\"].fillna(mobile_df.Price.mean())\n"
   ]
  },
  {
   "cell_type": "code",
   "execution_count": 91,
   "id": "57abd30c",
   "metadata": {},
   "outputs": [
    {
     "data": {
      "text/plain": [
       "Price            0\n",
       "variant          0\n",
       "battery          2\n",
       "ram              0\n",
       "No of cameras    1\n",
       "dtype: int64"
      ]
     },
     "execution_count": 91,
     "metadata": {},
     "output_type": "execute_result"
    }
   ],
   "source": [
    "mobile_df.isna().sum()"
   ]
  },
  {
   "cell_type": "code",
   "execution_count": 115,
   "id": "623bce02",
   "metadata": {},
   "outputs": [],
   "source": [
    "# 2nd method\n",
    "x = mobile_df.battery.mean()\n",
    "x"
   ]
  },
  {
   "cell_type": "code",
   "execution_count": 116,
   "id": "746259b5",
   "metadata": {},
   "outputs": [
    {
     "data": {
      "text/plain": [
       "Price            0\n",
       "variant          0\n",
       "battery          2\n",
       "ram              0\n",
       "No of cameras    1\n",
       "dtype: int64"
      ]
     },
     "execution_count": 116,
     "metadata": {},
     "output_type": "execute_result"
    }
   ],
   "source": [
    "mobile_df.isna().sum()"
   ]
  },
  {
   "cell_type": "code",
   "execution_count": 117,
   "id": "b4d320de",
   "metadata": {},
   "outputs": [],
   "source": [
    "mobile_df[\"battery\"] = np.where((mobile_df[\"battery\"] == 0) | (mobile_df[\"battery\"].isna()), x, mobile_df[\"battery\"])\n"
   ]
  },
  {
   "cell_type": "code",
   "execution_count": 118,
   "id": "51984b02",
   "metadata": {},
   "outputs": [
    {
     "data": {
      "text/plain": [
       "Price            0\n",
       "variant          0\n",
       "battery          0\n",
       "ram              0\n",
       "No of cameras    1\n",
       "dtype: int64"
      ]
     },
     "execution_count": 118,
     "metadata": {},
     "output_type": "execute_result"
    }
   ],
   "source": [
    "mobile_df.isna().sum()"
   ]
  },
  {
   "cell_type": "code",
   "execution_count": 119,
   "id": "061fea1a",
   "metadata": {},
   "outputs": [
    {
     "data": {
      "text/plain": [
       "2.5294117647058822"
      ]
     },
     "execution_count": 119,
     "metadata": {},
     "output_type": "execute_result"
    }
   ],
   "source": [
    "mobile_df['No of cameras'].mean()"
   ]
  },
  {
   "cell_type": "code",
   "execution_count": 122,
   "id": "99b1fb0f",
   "metadata": {},
   "outputs": [
    {
     "data": {
      "text/plain": [
       "0.0"
      ]
     },
     "execution_count": 122,
     "metadata": {},
     "output_type": "execute_result"
    }
   ],
   "source": [
    "# there is a value 23 there is no such phone have 23 cam so delete that value and add mean to it\n",
    "mobile_df['No of cameras'][8]=0"
   ]
  },
  {
   "cell_type": "code",
   "execution_count": 124,
   "id": "288be597",
   "metadata": {},
   "outputs": [],
   "source": [
    "mobile_df[\"No of cameras\"]= mobile_df[\"No of cameras\"].fillna(mobile_df[\"No of cameras\"].mean())"
   ]
  },
  {
   "cell_type": "code",
   "execution_count": 125,
   "id": "f6f6d17c",
   "metadata": {},
   "outputs": [
    {
     "data": {
      "text/plain": [
       "Price            0\n",
       "variant          0\n",
       "battery          0\n",
       "ram              0\n",
       "No of cameras    0\n",
       "dtype: int64"
      ]
     },
     "execution_count": 125,
     "metadata": {},
     "output_type": "execute_result"
    }
   ],
   "source": [
    "mobile_df.isna().sum()"
   ]
  },
  {
   "cell_type": "markdown",
   "id": "bf9591ad",
   "metadata": {},
   "source": [
    "we sucessfuly change na values"
   ]
  },
  {
   "cell_type": "markdown",
   "id": "abc462bb",
   "metadata": {},
   "source": [
    "mobile_df.head()"
   ]
  },
  {
   "cell_type": "code",
   "execution_count": 27,
   "id": "94a598fe",
   "metadata": {},
   "outputs": [
    {
     "data": {
      "text/plain": [
       "<AxesSubplot:xlabel='Price', ylabel='ram '>"
      ]
     },
     "execution_count": 27,
     "metadata": {},
     "output_type": "execute_result"
    },
    {
     "data": {
      "image/png": "[encoded data removed]",
      "text/plain": [
       "<Figure size 640x480 with 1 Axes>"
      ]
     },
     "metadata": {},
     "output_type": "display_data"
    }
   ],
   "source": [
    "sns.barplot(x=mobile_df[\"Price\"], y=mobile_df[\"ram \"])"
   ]
  },
  {
   "cell_type": "markdown",
   "id": "c97d8083",
   "metadata": {},
   "source": [
    "ram is type object so we cannot change it so we did a bar plot"
   ]
  }
 ],
 "metadata": {
  "kernelspec": {
   "display_name": "Python 3 (ipykernel)",
   "language": "python",
   "name": "python3"
  },
  "language_info": {
   "codemirror_mode": {
    "name": "ipython",
    "version": 3
   },
   "file_extension": ".py",
   "mimetype": "text/x-python",
   "name": "python",
   "nbconvert_exporter": "python",
   "pygments_lexer": "ipython3",
   "version": "3.9.13"
  }
 },
 "nbformat": 4,
 "nbformat_minor": 5
}
