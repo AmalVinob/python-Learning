{
 "cells": [
  {
   "cell_type": "code",
   "execution_count": 38,
   "id": "bc5b02f0",
   "metadata": {},
   "outputs": [
    {
     "data": {
      "text/plain": [
       "2e-06"
      ]
     },
     "execution_count": 38,
     "metadata": {},
     "output_type": "execute_result"
    }
   ],
   "source": [
    "tolerance = 1e-6\n",
    "tolerance *2"
   ]
  },
  {
   "cell_type": "code",
   "execution_count": 9,
   "id": "766ea4ce",
   "metadata": {},
   "outputs": [
    {
     "name": "stdout",
     "output_type": "stream",
     "text": [
      "Minimum value of f(x, y) found at x = 0.6572340222038803, y = 0.45397663942244876, f(x, y) = 0.339682456369374\n"
     ]
    }
   ],
   "source": [
    "import numpy as np\n",
    "\n",
    "x_initial = 1\n",
    "y_initial = .5\n",
    "learning_rate = 0.0001\n",
    "max_iterations = 3000\n",
    "tolerance = .05\n",
    "\n",
    "\n",
    "\n",
    "def fn(x, y):  \n",
    "    return x**2 - x*y + y**2\n",
    "\n",
    "def df_dx(x, y):\n",
    "    return 2*x - y\n",
    "\n",
    "def df_dy(x, y):\n",
    "    return -x + 2*y\n",
    "\n",
    "\n",
    "\n",
    "\n",
    "def steepest(max_iterations, fn, df_dx, df_dy, x0, y0, learning_rate, tolerance):\n",
    "    x = x0\n",
    "    y = y0\n",
    "    iteration = 0\n",
    "    \n",
    "    while iteration < max_iterations:\n",
    "        gradient_x = df_dx(x, y)\n",
    "        gradient_y = df_dy(x, y)\n",
    "        \n",
    "        x_2 = x - learning_rate * gradient_x\n",
    "        y_2 = y - learning_rate * gradient_y\n",
    "        \n",
    "        if np.sqrt((fn(x_2, y_2)) - (fn(x, y))**2) < tolerance:\n",
    "            break\n",
    "#         if fn(x_2, y_2) - fn(x,y) < tolerance:\n",
    "#             break\n",
    "    \n",
    "        x = x_2\n",
    "        y = y_2\n",
    "        iteration += 1\n",
    "    \n",
    "    return x, y, fn(x, y)\n",
    "\n",
    "# Calling the steepest descent function\n",
    "minimum_x, minimum_y, min_value = steepest(max_iterations, fn, df_dx, df_dy, x_initial, y_initial, learning_rate, tolerance)\n",
    "\n",
    "print(f\"Minimum value of f(x, y) found at x = {minimum_x}, y = {minimum_y}, f(x, y) = {min_value}\")\n"
   ]
  },
  {
   "cell_type": "code",
   "execution_count": null,
   "id": "501aab0c",
   "metadata": {},
   "outputs": [],
   "source": [
    "(1-x)^2 + 100*(y-x2)2\n"
   ]
  },
  {
   "cell_type": "code",
   "execution_count": null,
   "id": "9f9193b1",
   "metadata": {},
   "outputs": [],
   "source": []
  },
  {
   "cell_type": "code",
   "execution_count": 20,
   "id": "7d0c1014",
   "metadata": {},
   "outputs": [
    {
     "name": "stdout",
     "output_type": "stream",
     "text": [
      "Minimum value of f(x, y) found at x = 0.9990004173774489, y = 0.9979978315865752, f(x, y) = 1.0007672868442855e-06\n"
     ]
    },
    {
     "name": "stderr",
     "output_type": "stream",
     "text": [
      "C:\\Users\\amalv\\AppData\\Local\\Temp\\ipykernel_12480\\2963135892.py:35: RuntimeWarning: invalid value encountered in sqrt\n",
      "  if np.sqrt((fn(x_2, y_2)) - (fn(x, y))**2) < tolerance:\n"
     ]
    }
   ],
   "source": [
    "import numpy as np\n",
    "\n",
    "x_initial = 1\n",
    "y_initial = .5\n",
    "learning_rate = 0.001\n",
    "max_iterations = 1000000000000\n",
    "tolerance = .001\n",
    "\n",
    "\n",
    "\n",
    "def fn(x, y):  \n",
    "    return (1-x)**2 + 100*(y - x**2)**2\n",
    "\n",
    "def df_dx(x, y):\n",
    "    return -2*(1-x) -400*x * (y - x**2)\n",
    "\n",
    "def df_dy(x, y):\n",
    "    return 200* (y-x**2)\n",
    "\n",
    "\n",
    "\n",
    "\n",
    "def steepest(max_iterations, fn, df_dx, df_dy, x0, y0, learning_rate, tolerance):\n",
    "    x = x0\n",
    "    y = y0\n",
    "    iteration = 0\n",
    "    \n",
    "    while iteration < max_iterations:\n",
    "        gradient_x = df_dx(x, y)\n",
    "        gradient_y = df_dy(x, y)\n",
    "        \n",
    "        x_2 = x - learning_rate * gradient_x\n",
    "        y_2 = y - learning_rate * gradient_y\n",
    "        \n",
    "        if np.sqrt((fn(x_2, y_2)) - (fn(x, y))**2) < tolerance:\n",
    "            break\n",
    "#         if abs(fn(x_2, y_2) - fn(x,y)) < tolerance:\n",
    "#             break\n",
    "    \n",
    "        x = x_2\n",
    "        y = y_2\n",
    "        iteration += 1\n",
    "    \n",
    "    return x, y, fn(x, y)\n",
    "\n",
    "# Calling the steepest descent function\n",
    "minimum_x, minimum_y, min_value = steepest(max_iterations, fn, df_dx, df_dy, x_initial, y_initial, learning_rate, tolerance)\n",
    "\n",
    "print(f\"Minimum value of f(x, y) found at x = {ceil(minimum_x)}, y = {minimum_y}, f(x, y) = {min_value}\")\n"
   ]
  },
  {
   "cell_type": "code",
   "execution_count": null,
   "id": "7a1fa84a",
   "metadata": {},
   "outputs": [],
   "source": []
  },
  {
   "cell_type": "code",
   "execution_count": null,
   "id": "d880ac40",
   "metadata": {},
   "outputs": [],
   "source": []
  },
  {
   "cell_type": "code",
   "execution_count": null,
   "id": "6e01406d",
   "metadata": {},
   "outputs": [],
   "source": []
  },
  {
   "cell_type": "code",
   "execution_count": 25,
   "id": "e9859035",
   "metadata": {},
   "outputs": [
    {
     "data": {
      "image/png": "[encoded data removed]",
      "text/plain": [
       "<Figure size 640x480 with 1 Axes>"
      ]
     },
     "metadata": {},
     "output_type": "display_data"
    },
    {
     "name": "stdout",
     "output_type": "stream",
     "text": [
      "5.922141810575086e+64 5.6104851532833025e+62\n"
     ]
    },
    {
     "data": {
      "image/png": "[encoded data removed]",
      "text/plain": [
       "<Figure size 640x480 with 1 Axes>"
      ]
     },
     "metadata": {},
     "output_type": "display_data"
    },
    {
     "ename": "AttributeError",
     "evalue": "module 'numpy' has no attribute 'corr'",
     "output_type": "error",
     "traceback": [
      "\u001b[1;31m---------------------------------------------------------------------------\u001b[0m",
      "\u001b[1;31mAttributeError\u001b[0m                            Traceback (most recent call last)",
      "\u001b[1;32m~\\AppData\\Local\\Temp\\ipykernel_22948\\1492826746.py\u001b[0m in \u001b[0;36m<module>\u001b[1;34m\u001b[0m\n\u001b[0;32m     39\u001b[0m \u001b[1;33m\u001b[0m\u001b[0m\n\u001b[0;32m     40\u001b[0m \u001b[0mnp\u001b[0m\u001b[1;33m.\u001b[0m\u001b[0mcorrcoef\u001b[0m\u001b[1;33m(\u001b[0m\u001b[0mX\u001b[0m\u001b[1;33m,\u001b[0m\u001b[0mY\u001b[0m\u001b[1;33m)\u001b[0m\u001b[1;33m\u001b[0m\u001b[1;33m\u001b[0m\u001b[0m\n\u001b[1;32m---> 41\u001b[1;33m \u001b[0mnp\u001b[0m\u001b[1;33m.\u001b[0m\u001b[0mcorr\u001b[0m\u001b[1;33m(\u001b[0m\u001b[0mX\u001b[0m\u001b[1;33m,\u001b[0m\u001b[0my_cap\u001b[0m\u001b[1;33m)\u001b[0m\u001b[1;33m\u001b[0m\u001b[1;33m\u001b[0m\u001b[0m\n\u001b[0m",
      "\u001b[1;32m~\\anaconda3\\jupyter\\lib\\site-packages\\numpy\\__init__.py\u001b[0m in \u001b[0;36m__getattr__\u001b[1;34m(attr)\u001b[0m\n\u001b[0;32m    311\u001b[0m                 \u001b[1;32mreturn\u001b[0m \u001b[0mTester\u001b[0m\u001b[1;33m\u001b[0m\u001b[1;33m\u001b[0m\u001b[0m\n\u001b[0;32m    312\u001b[0m \u001b[1;33m\u001b[0m\u001b[0m\n\u001b[1;32m--> 313\u001b[1;33m             raise AttributeError(\"module {!r} has no attribute \"\n\u001b[0m\u001b[0;32m    314\u001b[0m                                  \"{!r}\".format(__name__, attr))\n\u001b[0;32m    315\u001b[0m \u001b[1;33m\u001b[0m\u001b[0m\n",
      "\u001b[1;31mAttributeError\u001b[0m: module 'numpy' has no attribute 'corr'"
     ]
    }
   ],
   "source": [
    "import numpy as np\n",
    "import matplotlib.pyplot as plt\n",
    "import pandas as pd\n",
    "import seaborn as sns\n",
    "data = pd.read_excel(\"C:/Users/amalv/OneDrive/Desktop/alliance/1st sem notes/p r p/data.xlsx\")\n",
    "data.head()\n",
    "data.shape\n",
    "\n",
    "X = data.iloc[:, 0]\n",
    "Y = data.iloc[:, 1]\n",
    "\n",
    "plt.scatter(X, Y)\n",
    "plt.show()\n",
    "\n",
    "#y = ax+c\n",
    "#differentiate partially  wrt to a and c\n",
    "\n",
    "\n",
    "a = 0\n",
    "c = 0\n",
    "learn_rate = 0.001\n",
    "n = float(len(X))\n",
    "for i in range(len(X)):\n",
    "    ycap = a*X + c\n",
    "    pda = (-2 / n) * sum(X * (Y - ycap))\n",
    "    pdc = (-2/n)*sum(Y - ycap)\n",
    "    a = a - learn_rate * pda\n",
    "    c = c - learn_rate * pdc\n",
    "print(a,c)\n",
    "\n",
    "\n",
    "\n",
    "y_cap = a*X + c\n",
    "plt.scatter(X,Y)\n",
    "plt.scatter(X,y_cap)\n",
    "plt.scatter(X, a*X+c)\n",
    "#sns.regplot(X, y_cap)\n",
    "plt.show()\n",
    "\n",
    "np.corrcoef(X,Y)\n",
    "np.corr(X,y_cap)\n"
   ]
  },
  {
   "cell_type": "code",
   "execution_count": 24,
   "id": "1a7d4d36",
   "metadata": {},
   "outputs": [
    {
     "name": "stdout",
     "output_type": "stream",
     "text": [
      "Minimum value of f(x, y) found at x = 1, y = 2, f(x, y) = 1\n"
     ]
    }
   ],
   "source": [
    "import numpy as np\n",
    "\n",
    "x_initial = 1\n",
    "y_initial = 2\n",
    "learning_rate = 0.001\n",
    "max_iterations = 100000000000000000000000000000000000000000000000000000000000000000000000000\n",
    "tolerance = .05\n",
    "\n",
    "def fn(x, y):  \n",
    "    return x**2 - 2*x*2*y + 2*y**2\n",
    "\n",
    "def df_dx(x, y):\n",
    "    return 2*x - 4*y\n",
    "\n",
    "def df_dy(x, y):\n",
    "    return -2*x + 4*y\n",
    "\n",
    "def steepest(max_iterations, fn, df_dx, df_dy, x0, y0, learning_rate, tolerance):\n",
    "    x = x0\n",
    "    y = y0\n",
    "    iteration = 0\n",
    "    \n",
    "    while iteration < max_iterations:\n",
    "        gradient_x = df_dx(x, y)\n",
    "        gradient_y = df_dy(x, y)\n",
    "        \n",
    "        x_2 = x - learning_rate * gradient_x\n",
    "        y_2 = y - learning_rate * gradient_y\n",
    "        \n",
    "#         if np.sqrt((fn(x_2, y_2)) - (fn(x, y))**2) < tolerance:\n",
    "#             break\n",
    "        if fn(x_2, y_2) - fn(x,y) < tolerance:\n",
    "            break\n",
    "    \n",
    "        x = x_2\n",
    "        y = y_2\n",
    "        iteration += 1\n",
    "    \n",
    "    return x, y, fn(x, y)\n",
    "\n",
    "# Calling the steepest descent function\n",
    "minimum_x, minimum_y, min_value = steepest(max_iterations, fn, df_dx, df_dy, x_initial, y_initial, learning_rate, tolerance)\n",
    "\n",
    "print(f\"Minimum value of f(x, y) found at x = {minimum_x}, y = {minimum_y}, f(x, y) = {min_value}\")\n"
   ]
  },
  {
   "cell_type": "code",
   "execution_count": null,
   "id": "a7dd7085",
   "metadata": {},
   "outputs": [],
   "source": []
  },
  {
   "cell_type": "code",
   "execution_count": 12,
   "id": "0a46bd80",
   "metadata": {},
   "outputs": [
    {
     "name": "stdout",
     "output_type": "stream",
     "text": [
      "1.5 0.0\n",
      "Minimum value of f(x, y) found at x = 1, y = 0.5, f(x, y) = 0.75\n"
     ]
    }
   ],
   "source": [
    "import numpy as np\n",
    "\n",
    "x_initial = 1\n",
    "y_initial = 1/2\n",
    "learning_rate = 0.01\n",
    "max_iterations = 4\n",
    "tolerance = .7\n",
    "\n",
    "\n",
    "\n",
    "def fn(x, y):  \n",
    "    return x**2 - x*y + y**2\n",
    "\n",
    "def df_dx(x, y):\n",
    "    return 2*x - y\n",
    "\n",
    "def df_dy(x, y):\n",
    "    return -x + 2*y\n",
    "\n",
    "\n",
    "\n",
    "\n",
    "def steepest(max_iterations, fn, df_dx, df_dy, x0, y0, learning_rate, tolerance):\n",
    "    x = x0\n",
    "    y = y0\n",
    "    iteration = 0\n",
    "    \n",
    "    while iteration < max_iterations:\n",
    "        gradient_x = df_dx(x, y)\n",
    "        gradient_y = df_dy(x, y)\n",
    "        print(gradient_x, gradient_y)\n",
    "        \n",
    "        x_2 = x - learning_rate * gradient_x\n",
    "        y_2 = y - learning_rate * gradient_y\n",
    "        \n",
    "#         if np.sqrt((fn(x_2, y_2)) - (fn(x, y))**2) < tolerance:\n",
    "#             break\n",
    "        if fn(x_2, y_2) - fn(x,y) < tolerance:\n",
    "            break\n",
    "    \n",
    "        x = x_2\n",
    "        y = y_2\n",
    "        iteration += 1\n",
    "    \n",
    "    return x, y, fn(x, y)\n",
    "\n",
    "# Calling the steepest descent function\n",
    "minimum_x, minimum_y, min_value = steepest(max_iterations, fn, df_dx, df_dy, x_initial, y_initial, learning_rate, tolerance)\n",
    "\n",
    "print(f\"Minimum value of f(x, y) found at x = {minimum_x}, y = {minimum_y}, f(x, y) = {min_value}\")\n"
   ]
  },
  {
   "cell_type": "code",
   "execution_count": 21,
   "id": "6bf348d7",
   "metadata": {},
   "outputs": [
    {
     "name": "stdout",
     "output_type": "stream",
     "text": [
      "Minimum value of f(x, y) found at x = 0.7831903829118261, y = 0.6113470261808363, f(x, y) = 0.04742263114369426\n"
     ]
    }
   ],
   "source": [
    "import numpy as np\n",
    "\n",
    "x_initial = 1\n",
    "y_initial = 0.5\n",
    "learning_rate = 0.001\n",
    "max_iterations = 1000000\n",
    "tolerance = 0.001\n",
    "\n",
    "def fn(x, y):  \n",
    "    return (1 - x)**2 + 100 * (y - x**2)**2\n",
    "\n",
    "def df_dx(x, y):\n",
    "    return -2 * (1 - x) - 400 * x * (y - x**2)\n",
    "\n",
    "def df_dy(x, y):\n",
    "    return 200 * (y - x**2)\n",
    "\n",
    "def steepest(max_iterations, fn, df_dx, df_dy, x0, y0, learning_rate, tolerance):\n",
    "    x = x0\n",
    "    y = y0\n",
    "    iteration = 0\n",
    "    \n",
    "    while iteration < max_iterations:\n",
    "        gradient_x = df_dx(x, y)\n",
    "        gradient_y = df_dy(x, y)\n",
    "        \n",
    "        x_2 = x - learning_rate * gradient_x\n",
    "        y_2 = y - learning_rate * gradient_y\n",
    "        \n",
    "        # Calculate change in function value for convergence\n",
    "        delta_fn = np.abs(fn(x_2, y_2) - fn(x, y))\n",
    "        \n",
    "        if delta_fn < tolerance:\n",
    "            break\n",
    "        \n",
    "        x = x_2\n",
    "        y = y_2\n",
    "        iteration += 1\n",
    "    \n",
    "    return x, y, fn(x, y)\n",
    "\n",
    "# Calling the steepest descent function\n",
    "minimum_x, minimum_y, min_value = steepest(max_iterations, fn, df_dx, df_dy, x_initial, y_initial, learning_rate, tolerance)\n",
    "\n",
    "print(f\"Minimum value of f(x, y) found at x = {minimum_x}, y = {minimum_y}, f(x, y) = {min_value}\")\n"
   ]
  },
  {
   "cell_type": "code",
   "execution_count": null,
   "id": "eb7186c4",
   "metadata": {},
   "outputs": [],
   "source": []
  }
 ],
 "metadata": {
  "kernelspec": {
   "display_name": "Python 3 (ipykernel)",
   "language": "python",
   "name": "python3"
  },
  "language_info": {
   "codemirror_mode": {
    "name": "ipython",
    "version": 3
   },
   "file_extension": ".py",
   "mimetype": "text/x-python",
   "name": "python",
   "nbconvert_exporter": "python",
   "pygments_lexer": "ipython3",
   "version": "3.9.13"
  }
 },
 "nbformat": 4,
 "nbformat_minor": 5
}
