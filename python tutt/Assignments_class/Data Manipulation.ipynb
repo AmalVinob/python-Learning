{
 "cells": [
  {
   "cell_type": "markdown",
   "id": "566a072e-dff2-4a28-a0ae-aa2c8bdf40d2",
   "metadata": {},
   "source": [
    "# Basic Data Manipulation"
   ]
  },
  {
   "cell_type": "code",
   "execution_count": 8,
   "id": "97620d8a-676c-4cd1-aecd-3771fb3515a5",
   "metadata": {},
   "outputs": [
    {
     "name": "stdin",
     "output_type": "stream",
     "text": [
      "enter a list number seperated by comas or space [eg : 1,5,2,7,9 ]  :  5 , 6, 9 , 22, 3, 2 , 1      ,70\n"
     ]
    },
    {
     "name": "stdout",
     "output_type": "stream",
     "text": [
      "maximum of the numbers  : 70.0\n",
      "minimum of the numbers  : 1.0\n",
      "total of the numbers  : 118.0\n",
      "average of the numbers  : 14.75\n",
      "ascending order of the numbers  : [1.0, 2.0, 3.0, 5.0, 6.0, 9.0, 22.0, 70.0]\n",
      "descending order of the numbers  : [70.0, 22.0, 9.0, 6.0, 5.0, 3.0, 2.0, 1.0]\n"
     ]
    },
    {
     "name": "stdin",
     "output_type": "stream",
     "text": [
      "Do you want to continue again or not ??? type(y/n) : n\n"
     ]
    }
   ],
   "source": [
    "def find_maximum(numbers):\n",
    "    \"\"\"\n",
    "    Function to find the maximum of all numbers\n",
    "    input : list of numbers\n",
    "    output : one number\n",
    "    \"\"\"\n",
    "    return max(numbers)\n",
    "\n",
    "def find_minimum(numbers):\n",
    "    \"\"\"\n",
    "    Function to find the minimum of all numbers\n",
    "    input : list of numbers\n",
    "    output : one number\n",
    "    \"\"\"\n",
    "    return min(numbers)\n",
    "    \n",
    "def calculate_average(numbers):\n",
    "    \"\"\"\n",
    "    Function to find the average of all numbers\n",
    "    input : list of numbers\n",
    "    output : one number\n",
    "    \"\"\"\n",
    "    return sum(numbers)/len(numbers)\n",
    "\n",
    "def calculate_sum(numbers):\n",
    "    \"\"\"\n",
    "    Function to find the sum of all numbers\n",
    "    input : list of numbers\n",
    "    output : one number\n",
    "    \"\"\"\n",
    "    return sum(numbers)\n",
    "    \n",
    "def sort_ascending(numbers):\n",
    "    \"\"\"\n",
    "    Function to sort all numbers in ascending order\n",
    "    input : list of numbers\n",
    "    output : list of numbers\n",
    "    \"\"\"\n",
    "    return sorted(numbers)\n",
    "def sort_descending(numbers):\n",
    "    \"\"\"\n",
    "    Function to sort all numbers in descending order\n",
    "    input : list of numbers\n",
    "    output : list of numbers\n",
    "    \"\"\"\n",
    "    return sorted(numbers, reverse=True)\n",
    "\n",
    "def user_input():\n",
    "    \"\"\"\n",
    "    code to get user input and then process it\n",
    "    \"\"\"\n",
    "    \n",
    "    \n",
    "    while True:\n",
    "        #taking input from the user\n",
    "        user_input = input(\"enter a list number seperated by comas or space [eg : 1,5,2,7,9 ]  : \").strip()\n",
    "        \n",
    "        #checking if the user input is empty\n",
    "        if not user_input:\n",
    "            print(\"error!! the list cannnot be empty\")\n",
    "            continue\n",
    "        # replacing comas and converting  eg: [ '1234' -> ['1','2','3','4']], then convert to number\n",
    "        numbers = user_input.replace(\",\", \" \").split() #removing white spaces\n",
    "        \n",
    "        try:\n",
    "            number_list = [float(num) for num in numbers] #converting to float\n",
    "            return number_list  # returning cleaned number list\n",
    "\n",
    "        # Cheking for value error eg : 90ae (not a number)\n",
    "        except ValueError as e:\n",
    "            print(f\"value error !!!!!!! {e}\")\n",
    "            # raise e\n",
    "\n",
    "def display(numbers):\n",
    "    \"\"\"\n",
    "    This function is to display all the output\n",
    "    Which calls each function and displays the output\n",
    "    \"\"\"\n",
    "\n",
    "    print(f\"maximum of the numbers  : {find_maximum(numbers)}\")\n",
    "    print(f\"minimum of the numbers  : {find_minimum(numbers)}\")\n",
    "    print(f\"total of the numbers  : {calculate_sum(numbers)}\")\n",
    "    print(f\"average of the numbers  : {calculate_average(numbers)}\")\n",
    "    print(f\"ascending order of the numbers  : {sort_ascending(numbers)}\")\n",
    "    print(f\"descending order of the numbers  : {sort_descending(numbers)}\")\n",
    "\n",
    "\n",
    "def main():\n",
    "    \"\"\"\n",
    "    This function is to run all the functions!!!\n",
    "    \"\"\"\n",
    "    while True:\n",
    "        user_inputt = user_input()\n",
    "        display(user_inputt)\n",
    "\n",
    "        choice = input(\"Do you want to continue again or not ??? type(y/n) :\")\n",
    "        if choice != 'y':\n",
    "            break\n",
    "                \n",
    "if __name__ == \"__main__\":\n",
    "    main()\n"
   ]
  },
  {
   "cell_type": "code",
   "execution_count": null,
   "id": "05215f51-0221-4678-8a42-587575bf67cc",
   "metadata": {},
   "outputs": [],
   "source": []
  }
 ],
 "metadata": {
  "kernelspec": {
   "display_name": "Python 3 (ipykernel)",
   "language": "python",
   "name": "python3"
  },
  "language_info": {
   "codemirror_mode": {
    "name": "ipython",
    "version": 3
   },
   "file_extension": ".py",
   "mimetype": "text/x-python",
   "name": "python",
   "nbconvert_exporter": "python",
   "pygments_lexer": "ipython3",
   "version": "3.13.2"
  }
 },
 "nbformat": 4,
 "nbformat_minor": 5
}
