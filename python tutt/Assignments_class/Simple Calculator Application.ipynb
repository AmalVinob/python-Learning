{
 "cells": [
  {
   "cell_type": "code",
   "execution_count": null,
   "id": "c86a6056-695f-45ed-9e31-59ff78a607ae",
   "metadata": {},
   "outputs": [],
   "source": [
    "ZeroDivisionError"
   ]
  },
  {
   "cell_type": "code",
   "execution_count": 21,
   "id": "f43f708c-5226-4fcd-956a-70b6816cf3a3",
   "metadata": {},
   "outputs": [
    {
     "name": "stdin",
     "output_type": "stream",
     "text": [
      "enter the 1st number : 5\n",
      "enter the 2nd number : 6\n",
      "enter the options you want to try addition(+), subtraction(-), multiplication(*), division(/) \n",
      "select any [+ - * /] :  +\n"
     ]
    },
    {
     "name": "stdout",
     "output_type": "stream",
     "text": [
      "the result of addition is 11.0\n"
     ]
    },
    {
     "name": "stdin",
     "output_type": "stream",
     "text": [
      "do you want to try again ?? (y/n)  :  y\n",
      "enter the 1st number : 6\n",
      "enter the 2nd number : 2\n",
      "enter the options you want to try addition(+), subtraction(-), multiplication(*), division(/) \n",
      "select any [+ - * /] :  -\n"
     ]
    },
    {
     "name": "stdout",
     "output_type": "stream",
     "text": [
      "the result of subsubtraction is 4.0\n"
     ]
    },
    {
     "name": "stdin",
     "output_type": "stream",
     "text": [
      "do you want to try again ?? (y/n)  :  y\n",
      "enter the 1st number : 4\n",
      "enter the 2nd number : 3\n",
      "enter the options you want to try addition(+), subtraction(-), multiplication(*), division(/) \n",
      "select any [+ - * /] :  *\n"
     ]
    },
    {
     "name": "stdout",
     "output_type": "stream",
     "text": [
      "the result of mulmultiplication is 12.0\n"
     ]
    },
    {
     "name": "stdin",
     "output_type": "stream",
     "text": [
      "do you want to try again ?? (y/n)  :  y\n",
      "enter the 1st number : 5\n",
      "enter the 2nd number : 0\n",
      "enter the options you want to try addition(+), subtraction(-), multiplication(*), division(/) \n",
      "select any [+ - * /] :  /\n"
     ]
    },
    {
     "name": "stdout",
     "output_type": "stream",
     "text": [
      "ZeroDivisionError !!!  \n",
      "cannot divide by zero try another number\n",
      "the result of division is None\n"
     ]
    },
    {
     "name": "stdin",
     "output_type": "stream",
     "text": [
      "do you want to try again ?? (y/n)  :  y\n",
      "enter the 1st number : 9\n",
      "enter the 2nd number : 8\n",
      "enter the options you want to try addition(+), subtraction(-), multiplication(*), division(/) \n",
      "select any [+ - * /] :  /\n"
     ]
    },
    {
     "name": "stdout",
     "output_type": "stream",
     "text": [
      "the result of division is 1.125\n"
     ]
    },
    {
     "name": "stdin",
     "output_type": "stream",
     "text": [
      "do you want to try again ?? (y/n)  :  n\n"
     ]
    }
   ],
   "source": [
    "def addition(num1, num2):\n",
    "    \"\"\"\n",
    "    Funtion to add 2 numbers\n",
    "    args : num1, num2  (int/ float)\n",
    "    output : int/float\n",
    "    \"\"\"\n",
    "    return num1+num2\n",
    "\n",
    "def subtraction(num1, num2):\n",
    "    \"\"\"\n",
    "    Funtion to subtraction 2 numbers\n",
    "    args : num1, num2  (int/ float)\n",
    "    output : int/float\n",
    "    \"\"\"\n",
    "    return num1-num2\n",
    "\n",
    "def multiplication(num1, num2):\n",
    "    \"\"\"\n",
    "    Funtion to multiply 2 numbers\n",
    "    args : num1, num2  (int/ float)\n",
    "    output : int/float\n",
    "    \"\"\"\n",
    "    return num1*num2\n",
    "\n",
    "def division(num1, num2):\n",
    "    \"\"\"\n",
    "    Funtion to divide 2 numbers\n",
    "    args : num1, num2  (int/ float)\n",
    "    output : int/float\n",
    "    \"\"\"\n",
    "\n",
    "    #checking divide by zero error\n",
    "    if num2 == 0:\n",
    "        print(\"ZeroDivisionError !!!  \\ncannot divide by zero try another number\")\n",
    "    else:\n",
    "        return num1/num2\n",
    "\n",
    "\n",
    "def user_input():\n",
    "\n",
    "    \"\"\"\n",
    "    Function to get user input.\n",
    "    output : returns 2 numbers from user\n",
    "    \"\"\"\n",
    "    # run until gives 2 number\n",
    "    while True:\n",
    "        try:\n",
    "            num1 = float(input(\"enter the 1st number :\"))\n",
    "            num2 = float(input(\"enter the 2nd number :\"))\n",
    "    \n",
    "            return num1, num2\n",
    "        #cheking for non numeric error\n",
    "        except ValueError as v:\n",
    "            print(f\"Value Error !!! \\nenter numeric value {v}\")\n",
    "\n",
    "def user_choice_operation():\n",
    "    \"\"\"\n",
    "    Function to get user choice i.e. addition, substraction, multiplication, division\n",
    "    output : not printing anything but returning any of the 4 operation [+, -, *, /]\n",
    "    \"\"\"\n",
    "    # running until get a valid operation\n",
    "    while True:\n",
    "        \n",
    "        operation = input(\"enter the options you want to try addition(+), subtraction(-), multiplication(*), division(/) \\nselect any [+ - * /] : \").strip()\n",
    "        if(operation == '+'):\n",
    "            return operation\n",
    "        elif(operation == '-'):\n",
    "            return operation\n",
    "        elif(operation == '*'):\n",
    "            return operation\n",
    "        elif(operation == '/'):\n",
    "            return operation\n",
    "        else:\n",
    "            print(\"write a valid operation !!!! \\n\")\n",
    "\n",
    "\n",
    "def main():\n",
    "\n",
    "    \"\"\"\n",
    "    main function to run all the functions and get output.\n",
    "    \"\"\"\n",
    "    \n",
    "    while True:\n",
    "        #getting user input\n",
    "        num1, num2 = user_input()\n",
    "        operation = user_choice_operation() #getting operation from user\n",
    "\n",
    "        #calling each functions\n",
    "        if(operation == '+'):\n",
    "            result = addition(num1, num2)\n",
    "            print(f'the result of addition is {result}')\n",
    "        elif(operation == '-'):\n",
    "            result = subtraction(num1, num2)\n",
    "            print(f'the result of subsubtraction is {result}')\n",
    "        elif(operation == '*'):\n",
    "            result = multiplication(num1, num2)\n",
    "            print(f'the result of mulmultiplication is {result}')\n",
    "        elif(operation == '/'):\n",
    "            result = division(num1, num2)\n",
    "            print(f'the result of division is {result}')\n",
    "\n",
    "        #checking if user want to continue or not\n",
    "        try:\n",
    "            choice = input(\"\\ndo you want to try again ?? (y/n)  : \")\n",
    "            if choice != 'y':\n",
    "                break\n",
    "        except:\n",
    "            print(\"invalid input I assum its yes(y) we will start again \\n\")\n",
    "\n",
    "        \n",
    "        \n",
    "if __name__ == '__main__':\n",
    "    main()\n"
   ]
  },
  {
   "cell_type": "code",
   "execution_count": null,
   "id": "f011cf71-957a-4b27-8034-c2219c0d2269",
   "metadata": {},
   "outputs": [],
   "source": []
  }
 ],
 "metadata": {
  "kernelspec": {
   "display_name": "Python 3 (ipykernel)",
   "language": "python",
   "name": "python3"
  },
  "language_info": {
   "codemirror_mode": {
    "name": "ipython",
    "version": 3
   },
   "file_extension": ".py",
   "mimetype": "text/x-python",
   "name": "python",
   "nbconvert_exporter": "python",
   "pygments_lexer": "ipython3",
   "version": "3.13.2"
  }
 },
 "nbformat": 4,
 "nbformat_minor": 5
}
