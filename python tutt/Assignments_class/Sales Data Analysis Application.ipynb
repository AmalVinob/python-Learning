{
 "cells": [
  {
   "cell_type": "code",
   "execution_count": 4,
   "id": "c8c1d123-b18c-4392-a978-abdb8e57f126",
   "metadata": {},
   "outputs": [
    {
     "name": "stdout",
     "output_type": "stream",
     "text": [
      "{'item': 'apple', 'quantity': 3, 'price': 7}\n",
      "{'item': 'orange', 'quantity': 10, 'price': 5}\n",
      "{'item': 'grape', 'quantity': 6, 'price': 12}\n",
      "{'item': 'apple', 'quantity': 5, 'price': 7}\n",
      "\n",
      " total sales for each item : \n",
      " {'apple': 56, 'orange': 50, 'grape': 72}\n",
      "\n",
      " overall total sales : 178\n"
     ]
    }
   ],
   "source": [
    "def total_sales_amount_eachitem(sales_data):\n",
    "    \"\"\"\n",
    "    fucntion to find the  total sales for each item\n",
    "    input : sales data for each item (a dictonary)\n",
    "    output : total sales (a dictionary)\n",
    "    \"\"\"\n",
    "\n",
    "    # create an empty dict to store each item and their total.\n",
    "    items = {}\n",
    "    for each_item in sales_data:\n",
    "        item = each_item['item']\n",
    "        quantity = each_item['quantity']\n",
    "        price = each_item['price']\n",
    "        total_sales = quantity * price\n",
    "\n",
    "        # check if the item is already present or not\n",
    "        if item in items:\n",
    "            items[item] += total_sales\n",
    "        else:\n",
    "            items[item] = total_sales\n",
    "    return items\n",
    "        \n",
    "\n",
    "def overall_total_sales_amount(total_sales_amount):\n",
    "    \"\"\"\n",
    "    fucntion to find the overall total sales from the total sales of each item\n",
    "    input : total sales for each item (a dictonary)\n",
    "    output : total value (a number)\n",
    "    \"\"\"\n",
    "     \n",
    "    return(sum(total_sales_amount.values()))   # returing only sum of values from the dictionary.\n",
    "\n",
    "\n",
    "def display(total_sales_each_item, overall_sales):\n",
    "    \"\"\"\n",
    "    To display the total sales for each item and overall sales\n",
    "    input : total sales for each item and overall sales \n",
    "    output : none [not returing anything but prints values]\n",
    "    \"\"\"\n",
    "    \n",
    "    print(f\"\\n total sales for each item : \\n {total_sales_each_item}\")\n",
    "    print(f\"\\n overall total sales : {overall_sales}\")\n",
    "    \n",
    "\n",
    "def main():\n",
    "    \"\"\"\n",
    "    This function is to run/get output of all the functions\n",
    "    \"\"\"\n",
    "    \n",
    "    #creating new sales data\n",
    "    sales_data = [\n",
    "        {\"item\":\"apple\", \"quantity\":3, \"price\" : 7},\n",
    "        {\"item\":\"orange\", \"quantity\":10, \"price\" : 5},\n",
    "        {\"item\":\"grape\", \"quantity\":6, \"price\" : 12},\n",
    "        {\"item\":\"apple\", \"quantity\":5, \"price\" : 7}\n",
    "    ]\n",
    "\n",
    "    #check for empty data\n",
    "    if not sales_data:\n",
    "        print(\"error!!!! the data is empty\")\n",
    "\n",
    "    #to print each item of sales data\n",
    "    [print(each) for each in sales_data]\n",
    "    total_sales = total_sales_amount_eachitem(sales_data)\n",
    "    overll = overall_total_sales_amount(total_sales)\n",
    "\n",
    "    display(total_sales, overll)\n",
    "\n",
    "#calling main function\n",
    "main()"
   ]
  },
  {
   "cell_type": "code",
   "execution_count": 12,
   "id": "eaca355a-84f7-41fb-beec-21887313d382",
   "metadata": {},
   "outputs": [
    {
     "name": "stdout",
     "output_type": "stream",
     "text": [
      "{'apple': 56, 'orange': 50, 'grape': 72}\n"
     ]
    },
    {
     "data": {
      "text/plain": [
       "178"
      ]
     },
     "execution_count": 12,
     "metadata": {},
     "output_type": "execute_result"
    }
   ],
   "source": [
    "# sales_data = [\n",
    "#         {\"item\":\"apple\", \"quantity\":3, \"price\" : 7},\n",
    "#         {\"item\":\"orange\", \"quantity\":10, \"price\" : 5},\n",
    "#         {\"item\":\"grape\", \"quantity\":6, \"price\" : 12},\n",
    "#         {\"item\":\"apple\", \"quantity\":5, \"price\" : 7}\n",
    "#     ]\n",
    "\n",
    "# items = {}\n",
    "# for each_item in sales_data:\n",
    "#     item = each_item['item']\n",
    "#     quantity = each_item['quantity']\n",
    "#     price = each_item['price']\n",
    "#     total_sales = quantity * price\n",
    "\n",
    "#     if item in items:\n",
    "#         items[item] += total_sales\n",
    "#     else:\n",
    "#         items[item] = total_sales\n",
    "# print(items)\n",
    "# sum(items.values())"
   ]
  },
  {
   "cell_type": "code",
   "execution_count": null,
   "id": "7f2127b2-109d-4288-ac84-ff84ead3fbd8",
   "metadata": {},
   "outputs": [],
   "source": []
  }
 ],
 "metadata": {
  "kernelspec": {
   "display_name": "Python 3 (ipykernel)",
   "language": "python",
   "name": "python3"
  },
  "language_info": {
   "codemirror_mode": {
    "name": "ipython",
    "version": 3
   },
   "file_extension": ".py",
   "mimetype": "text/x-python",
   "name": "python",
   "nbconvert_exporter": "python",
   "pygments_lexer": "ipython3",
   "version": "3.13.2"
  }
 },
 "nbformat": 4,
 "nbformat_minor": 5
}
