{
 "cells": [
  {
   "cell_type": "code",
   "execution_count": 22,
   "id": "682f425d-4c52-4cdf-ae5f-3498f219551b",
   "metadata": {},
   "outputs": [
    {
     "name": "stdin",
     "output_type": "stream",
     "text": [
      "enter a string [eg: 'hello'] :  hello\n"
     ]
    },
    {
     "name": "stdout",
     "output_type": "stream",
     "text": [
      "No : of vovels : 2\n",
      "No : of consonent : 3\n",
      "reversed of string : olleh\n"
     ]
    },
    {
     "name": "stdin",
     "output_type": "stream",
     "text": [
      "\n",
      "do you want to try again ??? (y/n) :  y\n",
      "enter a string [eg: 'hello'] :  AniMal123\n"
     ]
    },
    {
     "name": "stdout",
     "output_type": "stream",
     "text": [
      "No : of vovels : 3\n",
      "No : of consonent : 3\n",
      "reversed of string : 321laMinA\n"
     ]
    },
    {
     "name": "stdin",
     "output_type": "stream",
     "text": [
      "\n",
      "do you want to try again ??? (y/n) :  n\n"
     ]
    },
    {
     "name": "stdout",
     "output_type": "stream",
     "text": [
      "thank you\n"
     ]
    }
   ],
   "source": [
    "def count_vovels(string):\n",
    "    \"\"\"\n",
    "    Function to count the number of Vovels\n",
    "    \"\"\"\n",
    "\n",
    "    vovels = 'aeiouAEIOU' #a string contain all the vovels (case sensitive)\n",
    "    count = 0 \n",
    "    for word in string:\n",
    "        if word in vovels:\n",
    "            count +=1  #counting vovels\n",
    "    return count\n",
    "\n",
    "def count_consonants(string):\n",
    "    consonants= 'bcdfghjklmnpqrstvwxyzBCDFGHJKLMNPQRSRVWXYZ' #a string contain all the consonents (case sensitive)\n",
    "    count = 0\n",
    "    for word in string:\n",
    "        if word in consonants:\n",
    "            count +=1   #counting consonants\n",
    "    return count\n",
    "\n",
    "def reverse_string(string):\n",
    "    string_rev = string[::-1]\n",
    "    return string_rev\n",
    "\n",
    "\n",
    "def user_input():\n",
    "    \"\"\"\n",
    "    function to get user input (a string)\n",
    "    \"\"\"\n",
    "    while True:\n",
    "        string = input(\"enter a string [eg: 'hello'] : \").strip()\n",
    "        if not string:\n",
    "            print(\"string cannot be empty!!! enter again !!!\")\n",
    "        else:\n",
    "            return string\n",
    "\n",
    "\n",
    "def main():\n",
    "    \"\"\"\n",
    "    main function to run all the functions and get output\n",
    "    output : count of vovel, count of consonent, reversed string\n",
    "    \"\"\"\n",
    "    while True:\n",
    "        string = user_input()  # takes input from user\n",
    "        vovel_count = count_vovels(string)  # count vovels\n",
    "        consonant_count = count_consonants(string)  # count consonent\n",
    "        string_reverse = reverse_string(string)   #reverse the string\n",
    "        \n",
    "        #checking if the string contain no vovels or consonents\n",
    "        if vovel_count == 0 and consonant_count == 0:\n",
    "            print(\"no vovel or no consonent found in input string\")\n",
    "        else:\n",
    "            #printing all the output\n",
    "            print(f\"No : of vovels : {vovel_count}\")\n",
    "            print(f\"No : of consonent : {consonant_count}\")\n",
    "            print(f\"reversed of string : {string_reverse}\")\n",
    "\n",
    "\n",
    "            # user choice to try agian or not\n",
    "        continue_choice = input(\"\\ndo you want to try again ??? (y/n) : \")\n",
    "        if continue_choice != 'y':  #any thing other than y will break the loop and go out\n",
    "            print(\"thank you\")\n",
    "            break\n",
    "\n",
    "\n",
    "#run the application\n",
    "if __name__ == '__main__':\n",
    "    main()\n",
    "    \n"
   ]
  },
  {
   "cell_type": "code",
   "execution_count": null,
   "id": "51d01746-3009-45a1-bb75-334e10602592",
   "metadata": {},
   "outputs": [],
   "source": []
  }
 ],
 "metadata": {
  "kernelspec": {
   "display_name": "Python 3 (ipykernel)",
   "language": "python",
   "name": "python3"
  },
  "language_info": {
   "codemirror_mode": {
    "name": "ipython",
    "version": 3
   },
   "file_extension": ".py",
   "mimetype": "text/x-python",
   "name": "python",
   "nbconvert_exporter": "python",
   "pygments_lexer": "ipython3",
   "version": "3.13.2"
  }
 },
 "nbformat": 4,
 "nbformat_minor": 5
}
