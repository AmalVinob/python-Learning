{
 "cells": [
  {
   "cell_type": "code",
   "execution_count": 10,
   "id": "d12df8ea-3ae1-40cc-8f54-abe46c53623a",
   "metadata": {},
   "outputs": [
    {
     "name": "stdout",
     "output_type": "stream",
     "text": [
      "\n",
      "\n",
      " options \n",
      "\n",
      "1. Deposit \n",
      "\n",
      "2. Withdraw \n",
      "\n",
      "3. Balance \n",
      "\n",
      "4. Exit \n",
      "\n"
     ]
    },
    {
     "name": "stdin",
     "output_type": "stream",
     "text": [
      "enter your choice (1-4) : 1\n",
      "Enter the amount you want to deposit :  500\n"
     ]
    },
    {
     "name": "stdout",
     "output_type": "stream",
     "text": [
      "deposit was successfull\n",
      "Deposit : 500.0. New Balance : 500.0\n",
      "\n",
      "\n",
      " options \n",
      "\n",
      "1. Deposit \n",
      "\n",
      "2. Withdraw \n",
      "\n",
      "3. Balance \n",
      "\n",
      "4. Exit \n",
      "\n"
     ]
    },
    {
     "name": "stdin",
     "output_type": "stream",
     "text": [
      "enter your choice (1-4) : 2\n",
      "Enter the amount you want to withdraw :  100\n"
     ]
    },
    {
     "name": "stdout",
     "output_type": "stream",
     "text": [
      "withdrawal was successfull\n",
      "withdrew : 100.0. New Balance : 400.0\n",
      "\n",
      "\n",
      " options \n",
      "\n",
      "1. Deposit \n",
      "\n",
      "2. Withdraw \n",
      "\n",
      "3. Balance \n",
      "\n",
      "4. Exit \n",
      "\n"
     ]
    },
    {
     "name": "stdin",
     "output_type": "stream",
     "text": [
      "enter your choice (1-4) : 3\n"
     ]
    },
    {
     "name": "stdout",
     "output_type": "stream",
     "text": [
      "Available balance : $400.0\n",
      "\n",
      "\n",
      " options \n",
      "\n",
      "1. Deposit \n",
      "\n",
      "2. Withdraw \n",
      "\n",
      "3. Balance \n",
      "\n",
      "4. Exit \n",
      "\n"
     ]
    },
    {
     "name": "stdin",
     "output_type": "stream",
     "text": [
      "enter your choice (1-4) : 1\n",
      "Enter the amount you want to deposit :  -1\n"
     ]
    },
    {
     "name": "stdout",
     "output_type": "stream",
     "text": [
      "Deposit amount must be positive !!! \n",
      "\n",
      "\n",
      " options \n",
      "\n",
      "1. Deposit \n",
      "\n",
      "2. Withdraw \n",
      "\n",
      "3. Balance \n",
      "\n",
      "4. Exit \n",
      "\n"
     ]
    },
    {
     "name": "stdin",
     "output_type": "stream",
     "text": [
      "enter your choice (1-4) : 2\n",
      "Enter the amount you want to withdraw :  sdfsf\n"
     ]
    },
    {
     "name": "stdout",
     "output_type": "stream",
     "text": [
      "value error !!!! For invalid input type \n",
      "could not convert string to float: 'sdfsf'\n",
      "\n",
      "\n",
      " options \n",
      "\n",
      "1. Deposit \n",
      "\n",
      "2. Withdraw \n",
      "\n",
      "3. Balance \n",
      "\n",
      "4. Exit \n",
      "\n"
     ]
    },
    {
     "name": "stdin",
     "output_type": "stream",
     "text": [
      "enter your choice (1-4) : 4\n"
     ]
    }
   ],
   "source": [
    "class BankAccount:\n",
    "\n",
    "    \"\"\"\n",
    "    This is a Bank account class which have certain functions like :- deposit, witdraw, check balance\n",
    "    \"\"\"\n",
    "    def __init__(self):\n",
    "        \"\"\"\n",
    "        instante var balance {private var}\n",
    "        \"\"\"\n",
    "        self.balance = 0.0\n",
    "\n",
    "    def deposit(self, amount: float)->None:\n",
    "        \"\"\"\n",
    "        deposite Function which takes amount as input and adds to the balance and updates it.\n",
    "        input : amount -> a float number\n",
    "        output : None  (updates the balance)\n",
    "        \"\"\"\n",
    "        try:\n",
    "            amount = float(amount)\n",
    "            if amount <=0:\n",
    "                #checking if the entered amount is positive or not\n",
    "                print(\"Deposit amount must be positive !!! \")\n",
    "            else:\n",
    "                # updating balance\n",
    "                self.balance += amount\n",
    "    \n",
    "                print(f\"deposit was successfull\")\n",
    "                print(f\"Deposit : {amount}. New Balance : {self.balance}\")\n",
    "                \n",
    "        except ValueError as v:\n",
    "            print(f\"value error for invalid input typw {v}\")\n",
    "            # raise v\n",
    "\n",
    "    def withdraw(self, amount: float)->None:\n",
    "        \"\"\"\n",
    "        witdraw Function which takes amount as input and substracts from the balance and updates it.\n",
    "        input : amount -> a float number\n",
    "        output : None  (updates the balance)\n",
    "        \"\"\"\n",
    "        try:\n",
    "            amount = float(amount)\n",
    "            if amount <=0:\n",
    "                #checking if the entered amount is positive or not\n",
    "                print(\"widrwal amount must be positive !!! \")\n",
    "                \n",
    "            else:\n",
    "                #checking the amount is greater than balance\n",
    "                if amount >= self.balance:\n",
    "                    print(f\"Insufficent Fund available balance : ${self.balance}\")\n",
    "                else:\n",
    "                    # updating balance\n",
    "                    self.balance -= amount\n",
    "                    print(f\"withdrawal was successfull\")\n",
    "                    print(f\"withdrew : {amount}. New Balance : {self.balance}\")\n",
    "                  \n",
    "        except ValueError as v:\n",
    "            print(f\"value error !!!! For invalid input type \\n{v}\")\n",
    "            # raise v\n",
    "\n",
    "    def check_balance(self)->None:\n",
    "\n",
    "        \"\"\"\n",
    "        Balance checking function.\n",
    "        input : amount -> None\n",
    "        output : Prints the balance\n",
    "        \"\"\"\n",
    "        print(f\"Available balance : ${self.balance}\")\n",
    "\n",
    "\n",
    "            \n",
    "def main():\n",
    "\n",
    "    \"\"\"\n",
    "    main function which used to create instance of class and call the function\n",
    "    main function creates the body of the output.\n",
    "    \"\"\"\n",
    "    bankaccount = BankAccount()\n",
    "\n",
    "    while True:\n",
    "        print(\"\\n\\n options \\n\")\n",
    "        print(\"1. Deposit \\n\")\n",
    "        print(\"2. Withdraw \\n\")\n",
    "        print(\"3. Balance \\n\")\n",
    "        print(\"4. Exit \\n\")\n",
    "\n",
    "        choice = input(\"enter your choice (1-4) :\").strip()\n",
    "        if choice == '1':\n",
    "            amount = input(\"Enter the amount you want to deposit : \").strip()\n",
    "            bankaccount.deposit(amount)\n",
    "        elif choice == '2':\n",
    "            amount = input(\"Enter the amount you want to withdraw : \").strip()\n",
    "            bankaccount.withdraw(amount)\n",
    "        elif choice == '3':\n",
    "            bankaccount.check_balance()\n",
    "        elif choice == '4':\n",
    "            break\n",
    "        else:\n",
    "            print(\"enter a valid number !!!!\")\n",
    "\n",
    "main()\n",
    "        "
   ]
  },
  {
   "cell_type": "code",
   "execution_count": null,
   "id": "1ea08176-9fba-480c-9c37-8998e2a51ad2",
   "metadata": {},
   "outputs": [],
   "source": []
  }
 ],
 "metadata": {
  "kernelspec": {
   "display_name": "Python 3 (ipykernel)",
   "language": "python",
   "name": "python3"
  },
  "language_info": {
   "codemirror_mode": {
    "name": "ipython",
    "version": 3
   },
   "file_extension": ".py",
   "mimetype": "text/x-python",
   "name": "python",
   "nbconvert_exporter": "python",
   "pygments_lexer": "ipython3",
   "version": "3.13.2"
  }
 },
 "nbformat": 4,
 "nbformat_minor": 5
}
